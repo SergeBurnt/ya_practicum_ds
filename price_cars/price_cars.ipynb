{
  "cells": [
    {
      "cell_type": "markdown",
      "metadata": {
        "id": "wn4nZ2ymbX9j"
      },
      "source": [
        "# Определение стоимости автомобилей\n",
        "\n",
        "## Описание проекта\n",
        "Сервис по продаже автомобилей с пробегом «Не бит, не крашен» разрабатывает приложение, чтобы привлечь новых клиентов. В нём можно будет узнать рыночную стоимость своего автомобиля.\n",
        "\n",
        "Постройте модель, которая умеет её определять. В вашем распоряжении данные о технических характеристиках, комплектации и ценах других автомобилей.\n",
        "Критерии, которые важны заказчику:\n",
        "- качество предсказания;\n",
        "- время обучения модели;\n",
        "- время предсказания модели.\n",
        "\n",
        "## Основные шаги:\n",
        "1. Загрузите данные, путь к файлу: /datasets/autos.csv.\n",
        "2. Изучите данные. Заполните пропущенные значения и обработайте аномалии в столбцах. Если среди признаков имеются неинформативные, удалите их.\n",
        "3. Подготовьте выборки для обучения моделей.\n",
        "4. Обучите разные модели, одна из которых — LightGBM, как минимум одна — не бустинг. Для каждой модели попробуйте разные гиперпараметры.\n",
        "5. Проанализируйте время обучения, время предсказания и качество моделей.\n",
        "6. Опираясь на критерии заказчика, выберете лучшую модель, проверьте её качество на тестовой выборке.\n",
        "\n",
        "## Описание данных\n",
        "#### Признаки\n",
        "- DateCrawled — дата скачивания анкеты из базы\n",
        "- VehicleType — тип автомобильного кузова\n",
        "- RegistrationYear — год регистрации автомобиля\n",
        "- Gearbox — тип коробки передач\n",
        "- Power — мощность (л. с.)\n",
        "- Model — модель автомобиля\n",
        "- Kilometer — пробег (км)\n",
        "- RegistrationMonth — месяц регистрации автомобиля\n",
        "- FuelType — тип топлива\n",
        "- Brand — марка автомобиля\n",
        "- Repaired — была машина в ремонте или нет\n",
        "- DateCreated — дата создания анкеты\n",
        "- NumberOfPictures — количество фотографий автомобиля\n",
        "- PostalCode — почтовый индекс владельца анкеты (пользователя)\n",
        "- LastSeen — дата последней активности пользователя\n",
        "\n",
        "####Целевой признак\n",
        "Price — цена (евро)"
      ]
    },
    {
      "cell_type": "code",
      "execution_count": null,
      "metadata": {
        "id": "XpRdnEA7bH6b"
      },
      "outputs": [],
      "source": [
        "import pandas as pd\n",
        "import numpy as np\n",
        "import seaborn as sns\n",
        "import matplotlib.pyplot as plt\n",
        "import time\n",
        "from sklearn.model_selection import train_test_split\n",
        "from sklearn.ensemble import RandomForestRegressor\n",
        "from lightgbm import LGBMRegressor\n",
        "from catboost import CatBoostRegressor\n",
        "from sklearn.metrics import mean_squared_error\n",
        "from sklearn.model_selection import RandomizedSearchCV\n",
        "from sklearn.preprocessing import (\n",
        "    OneHotEncoder,\n",
        "    OrdinalEncoder,\n",
        "    StandardScaler\n",
        ")\n",
        "\n",
        "import warnings\n",
        "warnings.filterwarnings('ignore')\n",
        "plt.style.use('dark_background')\n",
        "plt.rcParams['figure.figsize'] = [6, 3]"
      ]
    },
    {
      "cell_type": "markdown",
      "metadata": {
        "id": "lXIwzUP8bAzf"
      },
          {
      "cell_type": "code",
      "execution_count": null,
      "metadata": {
        "id": "Iy1dKRT_bRQB"
      },
      "outputs": [],
      "source": [
        "try:\n",
        "  df = pd.read_csv('/content/autos.csv')\n",
        "except:\n",
        "  df = pd.read_csv('/datasets/autos.csv')"
      ]
    },
    {
      "cell_type": "code",
      "execution_count": null,
      "metadata": {
        "colab": {
          "base_uri": "https://localhost:8080/",
          "height": 443
        },
        "id": "OxCpsTCUbUrT",
        "outputId": "a3a09fb5-1bca-4bb6-8117-edd8d57624f5"
      },
      "outputs": [
        {
          "data": {
            "text/html": [
              "<div>\n",
              "<style scoped>\n",
              "    .dataframe tbody tr th:only-of-type {\n",
              "        vertical-align: middle;\n",
              "    }\n",
              "\n",
              "    .dataframe tbody tr th {\n",
              "        vertical-align: top;\n",
              "    }\n",
              "\n",
              "    .dataframe thead th {\n",
              "        text-align: right;\n",
              "    }\n",
              "</style>\n",
              "<table border=\"1\" class=\"dataframe\">\n",
              "  <thead>\n",
              "    <tr style=\"text-align: right;\">\n",
              "      <th></th>\n",
              "      <th>DateCrawled</th>\n",
              "      <th>Price</th>\n",
              "      <th>VehicleType</th>\n",
              "      <th>RegistrationYear</th>\n",
              "      <th>Gearbox</th>\n",
              "      <th>Power</th>\n",
              "      <th>Model</th>\n",
              "      <th>Kilometer</th>\n",
              "      <th>RegistrationMonth</th>\n",
              "      <th>FuelType</th>\n",
              "      <th>Brand</th>\n",
              "      <th>Repaired</th>\n",
              "      <th>DateCreated</th>\n",
              "      <th>NumberOfPictures</th>\n",
              "      <th>PostalCode</th>\n",
              "      <th>LastSeen</th>\n",
              "    </tr>\n",
              "  </thead>\n",
              "  <tbody>\n",
              "    <tr>\n",
              "      <th>0</th>\n",
              "      <td>2016-03-24 11:52:17</td>\n",
              "      <td>480</td>\n",
              "      <td>NaN</td>\n",
              "      <td>1993</td>\n",
              "      <td>manual</td>\n",
              "      <td>0</td>\n",
              "      <td>golf</td>\n",
              "      <td>150000</td>\n",
              "      <td>0</td>\n",
              "      <td>petrol</td>\n",
              "      <td>volkswagen</td>\n",
              "      <td>NaN</td>\n",
              "      <td>2016-03-24 00:00:00</td>\n",
              "      <td>0</td>\n",
              "      <td>70435</td>\n",
              "      <td>2016-04-07 03:16:57</td>\n",
              "    </tr>\n",
              "    <tr>\n",
              "      <th>1</th>\n",
              "      <td>2016-03-24 10:58:45</td>\n",
              "      <td>18300</td>\n",
              "      <td>coupe</td>\n",
              "      <td>2011</td>\n",
              "      <td>manual</td>\n",
              "      <td>190</td>\n",
              "      <td>NaN</td>\n",
              "      <td>125000</td>\n",
              "      <td>5</td>\n",
              "      <td>gasoline</td>\n",
              "      <td>audi</td>\n",
              "      <td>yes</td>\n",
              "      <td>2016-03-24 00:00:00</td>\n",
              "      <td>0</td>\n",
              "      <td>66954</td>\n",
              "      <td>2016-04-07 01:46:50</td>\n",
              "    </tr>\n",
              "    <tr>\n",
              "      <th>2</th>\n",
              "      <td>2016-03-14 12:52:21</td>\n",
              "      <td>9800</td>\n",
              "      <td>suv</td>\n",
              "      <td>2004</td>\n",
              "      <td>auto</td>\n",
              "      <td>163</td>\n",
              "      <td>grand</td>\n",
              "      <td>125000</td>\n",
              "      <td>8</td>\n",
              "      <td>gasoline</td>\n",
              "      <td>jeep</td>\n",
              "      <td>NaN</td>\n",
              "      <td>2016-03-14 00:00:00</td>\n",
              "      <td>0</td>\n",
              "      <td>90480</td>\n",
              "      <td>2016-04-05 12:47:46</td>\n",
              "    </tr>\n",
              "    <tr>\n",
              "      <th>3</th>\n",
              "      <td>2016-03-17 16:54:04</td>\n",
              "      <td>1500</td>\n",
              "      <td>small</td>\n",
              "      <td>2001</td>\n",
              "      <td>manual</td>\n",
              "      <td>75</td>\n",
              "      <td>golf</td>\n",
              "      <td>150000</td>\n",
              "      <td>6</td>\n",
              "      <td>petrol</td>\n",
              "      <td>volkswagen</td>\n",
              "      <td>no</td>\n",
              "      <td>2016-03-17 00:00:00</td>\n",
              "      <td>0</td>\n",
              "      <td>91074</td>\n",
              "      <td>2016-03-17 17:40:17</td>\n",
              "    </tr>\n",
              "    <tr>\n",
              "      <th>4</th>\n",
              "      <td>2016-03-31 17:25:20</td>\n",
              "      <td>3600</td>\n",
              "      <td>small</td>\n",
              "      <td>2008</td>\n",
              "      <td>manual</td>\n",
              "      <td>69</td>\n",
              "      <td>fabia</td>\n",
              "      <td>90000</td>\n",
              "      <td>7</td>\n",
              "      <td>gasoline</td>\n",
              "      <td>skoda</td>\n",
              "      <td>no</td>\n",
              "      <td>2016-03-31 00:00:00</td>\n",
              "      <td>0</td>\n",
              "      <td>60437</td>\n",
              "      <td>2016-04-06 10:17:21</td>\n",
              "    </tr>\n",
              "  </tbody>\n",
              "</table>\n",
              "</div>"
            ],
            "text/plain": [
              "           DateCrawled  Price VehicleType  RegistrationYear Gearbox  Power  \\\n",
              "0  2016-03-24 11:52:17    480         NaN              1993  manual      0   \n",
              "1  2016-03-24 10:58:45  18300       coupe              2011  manual    190   \n",
              "2  2016-03-14 12:52:21   9800         suv              2004    auto    163   \n",
              "3  2016-03-17 16:54:04   1500       small              2001  manual     75   \n",
              "4  2016-03-31 17:25:20   3600       small              2008  manual     69   \n",
              "\n",
              "   Model  Kilometer  RegistrationMonth  FuelType       Brand Repaired  \\\n",
              "0   golf     150000                  0    petrol  volkswagen      NaN   \n",
              "1    NaN     125000                  5  gasoline        audi      yes   \n",
              "2  grand     125000                  8  gasoline        jeep      NaN   \n",
              "3   golf     150000                  6    petrol  volkswagen       no   \n",
              "4  fabia      90000                  7  gasoline       skoda       no   \n",
              "\n",
              "           DateCreated  NumberOfPictures  PostalCode             LastSeen  \n",
              "0  2016-03-24 00:00:00                 0       70435  2016-04-07 03:16:57  \n",
              "1  2016-03-24 00:00:00                 0       66954  2016-04-07 01:46:50  \n",
              "2  2016-03-14 00:00:00                 0       90480  2016-04-05 12:47:46  \n",
              "3  2016-03-17 00:00:00                 0       91074  2016-03-17 17:40:17  \n",
              "4  2016-03-31 00:00:00                 0       60437  2016-04-06 10:17:21  "
            ]
          },
          "execution_count": 5,
          "metadata": {},
          "output_type": "execute_result"
        }
      ],
      "source": [
        "df.head()"
      ]
    },
    {
      "cell_type": "code",
      "execution_count": null,
      "metadata": {
        "colab": {
          "base_uri": "https://localhost:8080/"
        },
        "id": "_N47QhUCdrT8",
        "outputId": "1e0f00ea-eaf2-42c8-8871-28cc88cff2a8"
      },
      "outputs": [
        {
          "name": "stdout",
          "output_type": "stream",
          "text": [
            "<class 'pandas.core.frame.DataFrame'>\n",
            "RangeIndex: 354369 entries, 0 to 354368\n",
            "Data columns (total 16 columns):\n",
            " #   Column             Non-Null Count   Dtype \n",
            "---  ------             --------------   ----- \n",
            " 0   DateCrawled        354369 non-null  object\n",
            " 1   Price              354369 non-null  int64 \n",
            " 2   VehicleType        316879 non-null  object\n",
            " 3   RegistrationYear   354369 non-null  int64 \n",
            " 4   Gearbox            334536 non-null  object\n",
            " 5   Power              354369 non-null  int64 \n",
            " 6   Model              334664 non-null  object\n",
            " 7   Kilometer          354369 non-null  int64 \n",
            " 8   RegistrationMonth  354369 non-null  int64 \n",
            " 9   FuelType           321474 non-null  object\n",
            " 10  Brand              354369 non-null  object\n",
            " 11  Repaired           283215 non-null  object\n",
            " 12  DateCreated        354369 non-null  object\n",
            " 13  NumberOfPictures   354369 non-null  int64 \n",
            " 14  PostalCode         354369 non-null  int64 \n",
            " 15  LastSeen           354369 non-null  object\n",
            "dtypes: int64(7), object(9)\n",
            "memory usage: 43.3+ MB\n"
          ]
        }
      ],
      "source": [
        "df.info()"
      ]
    },
    {
      "cell_type": "markdown",
      "metadata": {
        "id": "RehsH1EBe2B6"
      },
      "source": [
        "# Предобработка"
      ]
    },
    {
      "cell_type": "code",
      "execution_count": null,
      "metadata": {
        "id": "jytIyr0kqVcu"
      },
      "outputs": [],
      "source": [
        "start_df = len(df)"
      ]
    },
    {
      "cell_type": "markdown",
      "source": [
        "Удалим столбцы, не влияющие на стоимость автомобиля"
      ],
      "metadata": {
        "id": "cN-a1lNdb148"
      }
    },
    {
      "cell_type": "code",
      "execution_count": null,
      "metadata": {
        "id": "Dgwh2HgAetED"
      },
      "outputs": [],
      "source": [
        "df = df.drop(['DateCrawled', 'DateCreated', 'NumberOfPictures', 'PostalCode', 'LastSeen', 'RegistrationMonth'], axis=1)"
      ]
    },
    {
      "cell_type": "code",
      "execution_count": null,
      "metadata": {
        "colab": {
          "base_uri": "https://localhost:8080/",
          "height": 206
        },
        "id": "KV6KHytEfKsY",
        "outputId": "3e3a8da7-a021-46ff-d0e8-ccd625d1f561"
      },
      "outputs": [
        {
          "data": {
            "text/html": [
              "<div>\n",
              "<style scoped>\n",
              "    .dataframe tbody tr th:only-of-type {\n",
              "        vertical-align: middle;\n",
              "    }\n",
              "\n",
              "    .dataframe tbody tr th {\n",
              "        vertical-align: top;\n",
              "    }\n",
              "\n",
              "    .dataframe thead th {\n",
              "        text-align: right;\n",
              "    }\n",
              "</style>\n",
              "<table border=\"1\" class=\"dataframe\">\n",
              "  <thead>\n",
              "    <tr style=\"text-align: right;\">\n",
              "      <th></th>\n",
              "      <th>Price</th>\n",
              "      <th>VehicleType</th>\n",
              "      <th>RegistrationYear</th>\n",
              "      <th>Gearbox</th>\n",
              "      <th>Power</th>\n",
              "      <th>Model</th>\n",
              "      <th>Kilometer</th>\n",
              "      <th>FuelType</th>\n",
              "      <th>Brand</th>\n",
              "      <th>Repaired</th>\n",
              "    </tr>\n",
              "  </thead>\n",
              "  <tbody>\n",
              "    <tr>\n",
              "      <th>0</th>\n",
              "      <td>480</td>\n",
              "      <td>NaN</td>\n",
              "      <td>1993</td>\n",
              "      <td>manual</td>\n",
              "      <td>0</td>\n",
              "      <td>golf</td>\n",
              "      <td>150000</td>\n",
              "      <td>petrol</td>\n",
              "      <td>volkswagen</td>\n",
              "      <td>NaN</td>\n",
              "    </tr>\n",
              "    <tr>\n",
              "      <th>1</th>\n",
              "      <td>18300</td>\n",
              "      <td>coupe</td>\n",
              "      <td>2011</td>\n",
              "      <td>manual</td>\n",
              "      <td>190</td>\n",
              "      <td>NaN</td>\n",
              "      <td>125000</td>\n",
              "      <td>gasoline</td>\n",
              "      <td>audi</td>\n",
              "      <td>yes</td>\n",
              "    </tr>\n",
              "    <tr>\n",
              "      <th>2</th>\n",
              "      <td>9800</td>\n",
              "      <td>suv</td>\n",
              "      <td>2004</td>\n",
              "      <td>auto</td>\n",
              "      <td>163</td>\n",
              "      <td>grand</td>\n",
              "      <td>125000</td>\n",
              "      <td>gasoline</td>\n",
              "      <td>jeep</td>\n",
              "      <td>NaN</td>\n",
              "    </tr>\n",
              "    <tr>\n",
              "      <th>3</th>\n",
              "      <td>1500</td>\n",
              "      <td>small</td>\n",
              "      <td>2001</td>\n",
              "      <td>manual</td>\n",
              "      <td>75</td>\n",
              "      <td>golf</td>\n",
              "      <td>150000</td>\n",
              "      <td>petrol</td>\n",
              "      <td>volkswagen</td>\n",
              "      <td>no</td>\n",
              "    </tr>\n",
              "    <tr>\n",
              "      <th>4</th>\n",
              "      <td>3600</td>\n",
              "      <td>small</td>\n",
              "      <td>2008</td>\n",
              "      <td>manual</td>\n",
              "      <td>69</td>\n",
              "      <td>fabia</td>\n",
              "      <td>90000</td>\n",
              "      <td>gasoline</td>\n",
              "      <td>skoda</td>\n",
              "      <td>no</td>\n",
              "    </tr>\n",
              "  </tbody>\n",
              "</table>\n",
              "</div>"
            ],
            "text/plain": [
              "   Price VehicleType  RegistrationYear Gearbox  Power  Model  Kilometer  \\\n",
              "0    480         NaN              1993  manual      0   golf     150000   \n",
              "1  18300       coupe              2011  manual    190    NaN     125000   \n",
              "2   9800         suv              2004    auto    163  grand     125000   \n",
              "3   1500       small              2001  manual     75   golf     150000   \n",
              "4   3600       small              2008  manual     69  fabia      90000   \n",
              "\n",
              "   FuelType       Brand Repaired  \n",
              "0    petrol  volkswagen      NaN  \n",
              "1  gasoline        audi      yes  \n",
              "2  gasoline        jeep      NaN  \n",
              "3    petrol  volkswagen       no  \n",
              "4  gasoline       skoda       no  "
            ]
          },
          "execution_count": 9,
          "metadata": {},
          "output_type": "execute_result"
        }
      ],
      "source": [
        "df.head()"
      ]
    },
    {
      "cell_type": "code",
      "execution_count": null,
      "metadata": {
        "colab": {
          "base_uri": "https://localhost:8080/"
        },
        "id": "9HQcVmBDftxj",
        "outputId": "767a3831-0e57-4cc2-bb32-0977ee709850"
      },
      "outputs": [
        {
          "data": {
            "text/plain": [
              "Price                   0\n",
              "VehicleType         37490\n",
              "RegistrationYear        0\n",
              "Gearbox             19833\n",
              "Power                   0\n",
              "Model               19705\n",
              "Kilometer               0\n",
              "FuelType            32895\n",
              "Brand                   0\n",
              "Repaired            71154\n",
              "dtype: int64"
            ]
          },
          "execution_count": 10,
          "metadata": {},
          "output_type": "execute_result"
        }
      ],
      "source": [
        "df.isna().sum()"
      ]
    },
    {
      "cell_type": "code",
      "execution_count": null,
      "metadata": {
        "colab": {
          "base_uri": "https://localhost:8080/"
        },
        "id": "VwGPs2d8f5SE",
        "outputId": "35261395-ed23-4f08-af19-b75c896703d6"
      },
      "outputs": [
        {
          "data": {
            "text/plain": [
              "array(['manual', 'auto', nan], dtype=object)"
            ]
          },
          "execution_count": 11,
          "metadata": {},
          "output_type": "execute_result"
        }
      ],
      "source": [
        "df['Gearbox'].unique()"
      ]
    },
    {
      "cell_type": "code",
      "execution_count": null,
      "metadata": {
        "colab": {
          "base_uri": "https://localhost:8080/"
        },
        "id": "89LycBsfg03B",
        "outputId": "f3115941-48e5-442e-beed-9119efb3ae70"
      },
      "outputs": [
        {
          "data": {
            "text/plain": [
              "array(['golf', nan, 'grand', 'fabia', '3er', '2_reihe', 'other', 'c_max',\n",
              "       '3_reihe', 'passat', 'navara', 'ka', 'polo', 'twingo', 'a_klasse',\n",
              "       'scirocco', '5er', 'meriva', 'arosa', 'c4', 'civic', 'transporter',\n",
              "       'punto', 'e_klasse', 'clio', 'kadett', 'kangoo', 'corsa', 'one',\n",
              "       'fortwo', '1er', 'b_klasse', 'signum', 'astra', 'a8', 'jetta',\n",
              "       'fiesta', 'c_klasse', 'micra', 'vito', 'sprinter', '156', 'escort',\n",
              "       'forester', 'xc_reihe', 'scenic', 'a4', 'a1', 'insignia', 'combo',\n",
              "       'focus', 'tt', 'a6', 'jazz', 'omega', 'slk', '7er', '80', '147',\n",
              "       '100', 'z_reihe', 'sportage', 'sorento', 'v40', 'ibiza', 'mustang',\n",
              "       'eos', 'touran', 'getz', 'a3', 'almera', 'megane', 'lupo', 'r19',\n",
              "       'zafira', 'caddy', 'mondeo', 'cordoba', 'colt', 'impreza',\n",
              "       'vectra', 'berlingo', 'tiguan', 'i_reihe', 'espace', 'sharan',\n",
              "       '6_reihe', 'panda', 'up', 'seicento', 'ceed', '5_reihe', 'yeti',\n",
              "       'octavia', 'mii', 'rx_reihe', '6er', 'modus', 'fox', 'matiz',\n",
              "       'beetle', 'c1', 'rio', 'touareg', 'logan', 'spider', 'cuore',\n",
              "       's_max', 'a2', 'galaxy', 'c3', 'viano', 's_klasse', '1_reihe',\n",
              "       'avensis', 'roomster', 'sl', 'kaefer', 'santa', 'cooper', 'leon',\n",
              "       '4_reihe', 'a5', '500', 'laguna', 'ptcruiser', 'clk', 'primera',\n",
              "       'x_reihe', 'exeo', '159', 'transit', 'juke', 'qashqai', 'carisma',\n",
              "       'accord', 'corolla', 'lanos', 'phaeton', 'verso', 'swift', 'rav',\n",
              "       'picanto', 'boxster', 'kalos', 'superb', 'stilo', 'alhambra',\n",
              "       'mx_reihe', 'roadster', 'ypsilon', 'cayenne', 'galant', 'justy',\n",
              "       '90', 'sirion', 'crossfire', 'agila', 'duster', 'cr_reihe', 'v50',\n",
              "       'c_reihe', 'v_klasse', 'm_klasse', 'yaris', 'c5', 'aygo', 'cc',\n",
              "       'carnival', 'fusion', '911', 'bora', 'forfour', 'm_reihe', 'cl',\n",
              "       'tigra', '300c', 'spark', 'v70', 'kuga', 'x_type', 'ducato',\n",
              "       's_type', 'x_trail', 'toledo', 'altea', 'voyager', 'calibra',\n",
              "       'bravo', 'antara', 'tucson', 'citigo', 'jimny', 'wrangler',\n",
              "       'lybra', 'q7', 'lancer', 'captiva', 'c2', 'discovery',\n",
              "       'freelander', 'sandero', 'note', '900', 'cherokee', 'clubman',\n",
              "       'samara', 'defender', '601', 'cx_reihe', 'legacy', 'pajero',\n",
              "       'auris', 'niva', 's60', 'nubira', 'vivaro', 'g_klasse', 'lodgy',\n",
              "       '850', 'range_rover', 'q3', 'serie_2', 'glk', 'charade', 'croma',\n",
              "       'outlander', 'doblo', 'musa', 'move', '9000', 'v60', '145', 'aveo',\n",
              "       '200', 'b_max', 'range_rover_sport', 'terios', 'rangerover', 'q5',\n",
              "       'range_rover_evoque', 'materia', 'delta', 'gl', 'kalina', 'amarok',\n",
              "       'elefantino', 'i3', 'kappa', 'serie_3', 'serie_1'], dtype=object)"
            ]
          },
          "execution_count": 12,
          "metadata": {},
          "output_type": "execute_result"
        }
      ],
      "source": [
        "df['Model'].unique()"
      ]
    },
    {
      "cell_type": "code",
      "execution_count": null,
      "metadata": {
        "colab": {
          "base_uri": "https://localhost:8080/"
        },
        "id": "Qp6d_alEg7Te",
        "outputId": "e36897cb-1db9-45fa-abf7-a4954d079c96"
      },
      "outputs": [
        {
          "data": {
            "text/plain": [
              "array(['petrol', 'gasoline', nan, 'lpg', 'other', 'hybrid', 'cng',\n",
              "       'electric'], dtype=object)"
            ]
          },
          "execution_count": 13,
          "metadata": {},
          "output_type": "execute_result"
        }
      ],
      "source": [
        "df['FuelType'].unique()"
      ]
    },
    {
      "cell_type": "code",
      "execution_count": null,
      "metadata": {
        "id": "eVDkM8I7bAzj"
      },
      "outputs": [],
      "source": [
        "df['FuelType'] = df['FuelType'].replace({'cng': 'lpg',\n",
        "                                         'gasoline': 'petrol'\n",
        "                                        })"
      ]
    },
    {
      "cell_type": "code",
      "execution_count": null,
      "metadata": {
        "id": "gIo0ajWgbAzk",
        "outputId": "2e377e59-a6a3-47ab-fc8d-b2535821cc2d"
      },
      "outputs": [
        {
          "data": {
            "text/plain": [
              "array(['petrol', nan, 'lpg', 'other', 'hybrid', 'electric'], dtype=object)"
            ]
          },
          "execution_count": 15,
          "metadata": {},
          "output_type": "execute_result"
        }
      ],
      "source": [
        "df['FuelType'].unique()"
      ]
    },
    {
      "cell_type": "code",
      "execution_count": null,
      "metadata": {
        "colab": {
          "base_uri": "https://localhost:8080/"
        },
        "id": "oR8s7M7-hASx",
        "outputId": "7a3a77d4-b3a7-4643-88fe-3c8737cf40cf"
      },
      "outputs": [
        {
          "data": {
            "text/plain": [
              "array([nan, 'yes', 'no'], dtype=object)"
            ]
          },
          "execution_count": 16,
          "metadata": {},
          "output_type": "execute_result"
        }
      ],
      "source": [
        "df['Repaired'].unique()"
      ]
    },
    {
      "cell_type": "code",
      "execution_count": null,
      "metadata": {
        "id": "p3zv2kIuhFza"
      },
      "outputs": [],
      "source": [
        "unknown_cols = ['VehicleType', 'Gearbox', 'Model', 'FuelType', 'Repaired']"
      ]
    },
    {
      "cell_type": "markdown",
      "source": [
        "Признаки с пропусками категориальные, заполним костылем в виде 'unknown'"
      ],
      "metadata": {
        "id": "40sSr4U1b8Ot"
      }
    },
    {
      "cell_type": "code",
      "execution_count": null,
      "metadata": {
        "id": "kxdZ00x_hPem"
      },
      "outputs": [],
      "source": [
        "df[unknown_cols] = df[unknown_cols].fillna('unknown')"
      ]
    },
    {
      "cell_type": "code",
      "execution_count": null,
      "metadata": {
        "colab": {
          "base_uri": "https://localhost:8080/"
        },
        "id": "kj4SYTjhh6S6",
        "outputId": "935f8e8d-71a1-4f18-8d99-554f4ff68e5d"
      },
      "outputs": [
        {
          "data": {
            "text/plain": [
              "Price               0\n",
              "VehicleType         0\n",
              "RegistrationYear    0\n",
              "Gearbox             0\n",
              "Power               0\n",
              "Model               0\n",
              "Kilometer           0\n",
              "FuelType            0\n",
              "Brand               0\n",
              "Repaired            0\n",
              "dtype: int64"
            ]
          },
          "execution_count": 19,
          "metadata": {},
          "output_type": "execute_result"
        }
      ],
      "source": [
        "df.isna().sum()"
      ]
    },
    {
      "cell_type": "code",
      "execution_count": null,
      "metadata": {
        "colab": {
          "base_uri": "https://localhost:8080/",
          "height": 206
        },
        "id": "Xl1bKfGDjq8B",
        "outputId": "a28e9af2-b104-4a6d-a875-36e336bc306a"
      },
      "outputs": [
        {
          "data": {
            "text/html": [
              "<div>\n",
              "<style scoped>\n",
              "    .dataframe tbody tr th:only-of-type {\n",
              "        vertical-align: middle;\n",
              "    }\n",
              "\n",
              "    .dataframe tbody tr th {\n",
              "        vertical-align: top;\n",
              "    }\n",
              "\n",
              "    .dataframe thead th {\n",
              "        text-align: right;\n",
              "    }\n",
              "</style>\n",
              "<table border=\"1\" class=\"dataframe\">\n",
              "  <thead>\n",
              "    <tr style=\"text-align: right;\">\n",
              "      <th></th>\n",
              "      <th>Price</th>\n",
              "      <th>VehicleType</th>\n",
              "      <th>RegistrationYear</th>\n",
              "      <th>Gearbox</th>\n",
              "      <th>Power</th>\n",
              "      <th>Model</th>\n",
              "      <th>Kilometer</th>\n",
              "      <th>FuelType</th>\n",
              "      <th>Brand</th>\n",
              "      <th>Repaired</th>\n",
              "    </tr>\n",
              "  </thead>\n",
              "  <tbody>\n",
              "    <tr>\n",
              "      <th>0</th>\n",
              "      <td>480</td>\n",
              "      <td>unknown</td>\n",
              "      <td>1993</td>\n",
              "      <td>manual</td>\n",
              "      <td>0</td>\n",
              "      <td>golf</td>\n",
              "      <td>150000</td>\n",
              "      <td>petrol</td>\n",
              "      <td>volkswagen</td>\n",
              "      <td>unknown</td>\n",
              "    </tr>\n",
              "    <tr>\n",
              "      <th>1</th>\n",
              "      <td>18300</td>\n",
              "      <td>coupe</td>\n",
              "      <td>2011</td>\n",
              "      <td>manual</td>\n",
              "      <td>190</td>\n",
              "      <td>unknown</td>\n",
              "      <td>125000</td>\n",
              "      <td>petrol</td>\n",
              "      <td>audi</td>\n",
              "      <td>yes</td>\n",
              "    </tr>\n",
              "    <tr>\n",
              "      <th>2</th>\n",
              "      <td>9800</td>\n",
              "      <td>suv</td>\n",
              "      <td>2004</td>\n",
              "      <td>auto</td>\n",
              "      <td>163</td>\n",
              "      <td>grand</td>\n",
              "      <td>125000</td>\n",
              "      <td>petrol</td>\n",
              "      <td>jeep</td>\n",
              "      <td>unknown</td>\n",
              "    </tr>\n",
              "    <tr>\n",
              "      <th>3</th>\n",
              "      <td>1500</td>\n",
              "      <td>small</td>\n",
              "      <td>2001</td>\n",
              "      <td>manual</td>\n",
              "      <td>75</td>\n",
              "      <td>golf</td>\n",
              "      <td>150000</td>\n",
              "      <td>petrol</td>\n",
              "      <td>volkswagen</td>\n",
              "      <td>no</td>\n",
              "    </tr>\n",
              "    <tr>\n",
              "      <th>4</th>\n",
              "      <td>3600</td>\n",
              "      <td>small</td>\n",
              "      <td>2008</td>\n",
              "      <td>manual</td>\n",
              "      <td>69</td>\n",
              "      <td>fabia</td>\n",
              "      <td>90000</td>\n",
              "      <td>petrol</td>\n",
              "      <td>skoda</td>\n",
              "      <td>no</td>\n",
              "    </tr>\n",
              "  </tbody>\n",
              "</table>\n",
              "</div>"
            ],
            "text/plain": [
              "   Price VehicleType  RegistrationYear Gearbox  Power    Model  Kilometer  \\\n",
              "0    480     unknown              1993  manual      0     golf     150000   \n",
              "1  18300       coupe              2011  manual    190  unknown     125000   \n",
              "2   9800         suv              2004    auto    163    grand     125000   \n",
              "3   1500       small              2001  manual     75     golf     150000   \n",
              "4   3600       small              2008  manual     69    fabia      90000   \n",
              "\n",
              "  FuelType       Brand Repaired  \n",
              "0   petrol  volkswagen  unknown  \n",
              "1   petrol        audi      yes  \n",
              "2   petrol        jeep  unknown  \n",
              "3   petrol  volkswagen       no  \n",
              "4   petrol       skoda       no  "
            ]
          },
          "execution_count": 20,
          "metadata": {},
          "output_type": "execute_result"
        }
      ],
      "source": [
        "df.head()"
      ]
    },
    {
      "cell_type": "code",
      "execution_count": null,
      "metadata": {
        "colab": {
          "base_uri": "https://localhost:8080/",
          "height": 291
        },
        "id": "ZE4lT-Nih-WS",
        "outputId": "8777231b-4fc7-4d39-e234-73f93f9ff618"
      },
      "outputs": [
        {
          "data": {
            "image/png": "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\n",
            "text/plain": [
              "<Figure size 432x216 with 1 Axes>"
            ]
          },
          "metadata": {},
          "output_type": "display_data"
        }
      ],
      "source": [
        "df['Price'].hist();"
      ]
    },
    {
      "cell_type": "markdown",
      "metadata": {
        "id": "biroeYW2lokc"
      },
      "source": [
        "Выбросов не наблюдается. Чем выше цена автомобиля, тем меньше их количество, выглядит логично"
      ]
    },
    {
      "cell_type": "markdown",
      "source": [
        "Посмотрим на распределение по году регистрации"
      ],
      "metadata": {
        "id": "gHzZEkbQcAIY"
      }
    },
    {
      "cell_type": "code",
      "execution_count": null,
      "metadata": {
        "colab": {
          "base_uri": "https://localhost:8080/",
          "height": 291
        },
        "id": "793IkbaDiuI3",
        "outputId": "a1762080-1d17-42f9-b077-85ff9a13733b"
      },
      "outputs": [
        {
          "data": {
            "image/png": "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\n",
            "text/plain": [
              "<Figure size 432x216 with 1 Axes>"
            ]
          },
          "metadata": {},
          "output_type": "display_data"
        }
      ],
      "source": [
        "df['RegistrationYear'].hist();"
      ]
    },
    {
      "cell_type": "code",
      "execution_count": null,
      "metadata": {
        "colab": {
          "base_uri": "https://localhost:8080/"
        },
        "id": "YcD5bSQNi0sh",
        "outputId": "3fc9aabb-365a-48db-efe0-c894174d6ce5"
      },
      "outputs": [
        {
          "data": {
            "text/plain": [
              "array([1993, 2011, 2004, 2001, 2008, 1995, 1980, 2014, 1998, 2005, 1910,\n",
              "       2016, 2007, 2009, 2002, 2018, 1997, 1990, 2017, 1981, 2003, 1994,\n",
              "       1991, 1984, 2006, 1999, 2012, 2010, 2000, 1992, 2013, 1996, 1985,\n",
              "       1989, 2015, 1982, 1976, 1983, 1973, 1111, 1969, 1971, 1987, 1986,\n",
              "       1988, 1970, 1965, 1945, 1925, 1974, 1979, 1955, 1978, 1972, 1968,\n",
              "       1977, 1961, 1960, 1966, 1975, 1963, 1964, 5000, 1954, 1958, 1967,\n",
              "       1959, 9999, 1956, 3200, 1000, 1941, 8888, 1500, 2200, 4100, 1962,\n",
              "       1929, 1957, 1940, 3000, 2066, 1949, 2019, 1937, 1951, 1800, 1953,\n",
              "       1234, 8000, 5300, 9000, 2900, 6000, 5900, 5911, 1933, 1400, 1950,\n",
              "       4000, 1948, 1952, 1200, 8500, 1932, 1255, 3700, 3800, 4800, 1942,\n",
              "       7000, 1935, 1936, 6500, 1923, 2290, 2500, 1930, 1001, 9450, 1944,\n",
              "       1943, 1934, 1938, 1688, 2800, 1253, 1928, 1919, 5555, 5600, 1600,\n",
              "       2222, 1039, 9996, 1300, 8455, 1931, 1915, 4500, 1920, 1602, 7800,\n",
              "       9229, 1947, 1927, 7100, 8200, 1946, 7500, 3500])"
            ]
          },
          "execution_count": 23,
          "metadata": {},
          "output_type": "execute_result"
        }
      ],
      "source": [
        "df['RegistrationYear'].unique()"
      ]
    },
    {
      "cell_type": "markdown",
      "metadata": {
        "id": "5runUA1MmfvF"
      },
      "source": [
        "Думаю стоит удалить машины с годом регистрации <1900 или >2016"
      ]
    },
    {
      "cell_type": "code",
      "execution_count": null,
      "metadata": {
        "id": "SeP12q9RmHZV"
      },
      "outputs": [],
      "source": [
        "df = df.query('RegistrationYear > 1900 and RegistrationYear < 2016')"
      ]
    },
    {
      "cell_type": "code",
      "execution_count": null,
      "metadata": {
        "id": "RrG_bFD9bAzp",
        "outputId": "3c2d3694-911d-4a9a-81e3-b53107c3a32c"
      },
      "outputs": [
        {
          "data": {
            "image/png": "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\n",
            "text/plain": [
              "<Figure size 432x216 with 1 Axes>"
            ]
          },
          "metadata": {},
          "output_type": "display_data"
        }
      ],
      "source": [
        "df['RegistrationYear'].hist(bins=50);"
      ]
    },
    {
      "cell_type": "code",
      "execution_count": null,
      "metadata": {
        "scrolled": true,
        "id": "7801ccztbAzq",
        "outputId": "74c6a47e-fa0e-4dfe-8b12-8bc325a3487c"
      },
      "outputs": [
        {
          "data": {
            "image/png": "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\n",
            "text/plain": [
              "<Figure size 432x216 with 1 Axes>"
            ]
          },
          "metadata": {},
          "output_type": "display_data"
        }
      ],
      "source": [
        "df.groupby('RegistrationYear')['Price'].median().plot();"
      ]
    },
    {
      "cell_type": "code",
      "execution_count": null,
      "metadata": {
        "id": "Bb9A8Bv0bAzq"
      },
      "outputs": [],
      "source": [
        "df['price_group'] =  pd.cut(df['Price'], [float('-inf'),100,1000,3000,5000,10000,float('inf')])"
      ]
    },
    {
      "cell_type": "code",
      "execution_count": null,
      "metadata": {
        "id": "kwFX1bu5bAzr",
        "outputId": "c1d6e093-c844-4754-e5a6-9e4115476491"
      },
      "outputs": [
        {
          "data": {
            "text/html": [
              "<div>\n",
              "<style scoped>\n",
              "    .dataframe tbody tr th:only-of-type {\n",
              "        vertical-align: middle;\n",
              "    }\n",
              "\n",
              "    .dataframe tbody tr th {\n",
              "        vertical-align: top;\n",
              "    }\n",
              "\n",
              "    .dataframe thead th {\n",
              "        text-align: right;\n",
              "    }\n",
              "</style>\n",
              "<table border=\"1\" class=\"dataframe\">\n",
              "  <thead>\n",
              "    <tr style=\"text-align: right;\">\n",
              "      <th></th>\n",
              "      <th>count</th>\n",
              "      <th>median</th>\n",
              "    </tr>\n",
              "    <tr>\n",
              "      <th>price_group</th>\n",
              "      <th></th>\n",
              "      <th></th>\n",
              "    </tr>\n",
              "  </thead>\n",
              "  <tbody>\n",
              "    <tr>\n",
              "      <th>(-inf, 100.0]</th>\n",
              "      <td>12627</td>\n",
              "      <td>0</td>\n",
              "    </tr>\n",
              "    <tr>\n",
              "      <th>(100.0, 1000.0]</th>\n",
              "      <td>65925</td>\n",
              "      <td>650</td>\n",
              "    </tr>\n",
              "    <tr>\n",
              "      <th>(1000.0, 3000.0]</th>\n",
              "      <td>95712</td>\n",
              "      <td>1900</td>\n",
              "    </tr>\n",
              "    <tr>\n",
              "      <th>(3000.0, 5000.0]</th>\n",
              "      <td>49765</td>\n",
              "      <td>3990</td>\n",
              "    </tr>\n",
              "    <tr>\n",
              "      <th>(5000.0, 10000.0]</th>\n",
              "      <td>64025</td>\n",
              "      <td>7100</td>\n",
              "    </tr>\n",
              "    <tr>\n",
              "      <th>(10000.0, inf]</th>\n",
              "      <td>42120</td>\n",
              "      <td>13900</td>\n",
              "    </tr>\n",
              "  </tbody>\n",
              "</table>\n",
              "</div>"
            ],
            "text/plain": [
              "                   count  median\n",
              "price_group                     \n",
              "(-inf, 100.0]      12627       0\n",
              "(100.0, 1000.0]    65925     650\n",
              "(1000.0, 3000.0]   95712    1900\n",
              "(3000.0, 5000.0]   49765    3990\n",
              "(5000.0, 10000.0]  64025    7100\n",
              "(10000.0, inf]     42120   13900"
            ]
          },
          "execution_count": 28,
          "metadata": {},
          "output_type": "execute_result"
        }
      ],
      "source": [
        "df.groupby('price_group')['Price'].agg(['count', 'median'])"
      ]
    },
    {
      "cell_type": "code",
      "execution_count": null,
      "metadata": {
        "id": "09_63OGebAzs"
      },
      "outputs": [],
      "source": [
        "df = df.query('Price > 100')"
      ]
    },
    {
      "cell_type": "code",
      "execution_count": null,
      "metadata": {
        "id": "IhX76UzcbAzs"
      },
      "outputs": [],
      "source": [
        "df['year_group_price'] =  pd.cut(df['RegistrationYear'], [float('-inf'),1955,1985,2000,2005,2010,2013,float('inf')])"
      ]
    },
    {
      "cell_type": "code",
      "execution_count": null,
      "metadata": {
        "scrolled": false,
        "id": "6UKLPh8-bAzt",
        "outputId": "3e4143ad-8ab2-4f1c-8646-119a1d4a26bb"
      },
      "outputs": [
        {
          "data": {
            "text/html": [
              "<div>\n",
              "<style scoped>\n",
              "    .dataframe tbody tr th:only-of-type {\n",
              "        vertical-align: middle;\n",
              "    }\n",
              "\n",
              "    .dataframe tbody tr th {\n",
              "        vertical-align: top;\n",
              "    }\n",
              "\n",
              "    .dataframe thead th {\n",
              "        text-align: right;\n",
              "    }\n",
              "</style>\n",
              "<table border=\"1\" class=\"dataframe\">\n",
              "  <thead>\n",
              "    <tr style=\"text-align: right;\">\n",
              "      <th></th>\n",
              "      <th>count</th>\n",
              "      <th>median</th>\n",
              "    </tr>\n",
              "    <tr>\n",
              "      <th>year_group_price</th>\n",
              "      <th></th>\n",
              "      <th></th>\n",
              "    </tr>\n",
              "  </thead>\n",
              "  <tbody>\n",
              "    <tr>\n",
              "      <th>(-inf, 1955.0]</th>\n",
              "      <td>170</td>\n",
              "      <td>7500</td>\n",
              "    </tr>\n",
              "    <tr>\n",
              "      <th>(1955.0, 1985.0]</th>\n",
              "      <td>5270</td>\n",
              "      <td>4999</td>\n",
              "    </tr>\n",
              "    <tr>\n",
              "      <th>(1985.0, 2000.0]</th>\n",
              "      <td>112289</td>\n",
              "      <td>1100</td>\n",
              "    </tr>\n",
              "    <tr>\n",
              "      <th>(2000.0, 2005.0]</th>\n",
              "      <td>98307</td>\n",
              "      <td>2850</td>\n",
              "    </tr>\n",
              "    <tr>\n",
              "      <th>(2005.0, 2010.0]</th>\n",
              "      <td>76862</td>\n",
              "      <td>6999</td>\n",
              "    </tr>\n",
              "    <tr>\n",
              "      <th>(2010.0, 2013.0]</th>\n",
              "      <td>20994</td>\n",
              "      <td>11850</td>\n",
              "    </tr>\n",
              "    <tr>\n",
              "      <th>(2013.0, inf]</th>\n",
              "      <td>3655</td>\n",
              "      <td>13800</td>\n",
              "    </tr>\n",
              "  </tbody>\n",
              "</table>\n",
              "</div>"
            ],
            "text/plain": [
              "                   count  median\n",
              "year_group_price                \n",
              "(-inf, 1955.0]       170    7500\n",
              "(1955.0, 1985.0]    5270    4999\n",
              "(1985.0, 2000.0]  112289    1100\n",
              "(2000.0, 2005.0]   98307    2850\n",
              "(2005.0, 2010.0]   76862    6999\n",
              "(2010.0, 2013.0]   20994   11850\n",
              "(2013.0, inf]       3655   13800"
            ]
          },
          "execution_count": 31,
          "metadata": {},
          "output_type": "execute_result"
        }
      ],
      "source": [
        "df.groupby('year_group_price')['Price'].agg(['count', 'median'])"
      ]
    },
    {
      "cell_type": "code",
      "execution_count": null,
      "metadata": {
        "id": "c8F3a_LmbAzt"
      },
      "outputs": [],
      "source": [
        "def year_group(year):\n",
        "    if year <= 1955:\n",
        "        return 'very_retro'\n",
        "    if 1955 < year <= 1985:\n",
        "        return 'retro'\n",
        "    if 1985 < year <= 2000:\n",
        "        return 'very_old'\n",
        "    if 2000 < year <= 2005:\n",
        "        return 'old'\n",
        "    if 2005 < year <= 2010:\n",
        "        return 'b/u'\n",
        "    if 2010 < year <= 2013:\n",
        "        return 'used'\n",
        "    return 'new'"
      ]
    },
    {
      "cell_type": "markdown",
      "source": [
        "Присвоим категорию в зависимости от года выпуска"
      ],
      "metadata": {
        "id": "XHEcagswcGP2"
      }
    },
    {
      "cell_type": "code",
      "execution_count": null,
      "metadata": {
        "id": "eH06fWXgbAzu"
      },
      "outputs": [],
      "source": [
        "df['year_group'] = df['RegistrationYear'].apply(year_group)"
      ]
    },
    {
      "cell_type": "code",
      "execution_count": null,
      "metadata": {
        "id": "JlC_f1qMbAzu"
      },
      "outputs": [],
      "source": [
        "df = df.drop(['RegistrationYear', 'year_group_price'], axis=1)"
      ]
    },
    {
      "cell_type": "markdown",
      "source": [
        "Посмотрим на распределение мощности"
      ],
      "metadata": {
        "id": "N3hG1HmecJMI"
      }
    },
    {
      "cell_type": "code",
      "execution_count": null,
      "metadata": {
        "colab": {
          "base_uri": "https://localhost:8080/",
          "height": 291
        },
        "id": "t4tMuFhmm_wG",
        "outputId": "24477322-86c7-4613-b4da-fddac64a0d4b"
      },
      "outputs": [
        {
          "data": {
            "image/png": "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\n",
            "text/plain": [
              "<Figure size 432x216 with 1 Axes>"
            ]
          },
          "metadata": {},
          "output_type": "display_data"
        }
      ],
      "source": [
        "df['Power'].hist();"
      ]
    },
    {
      "cell_type": "code",
      "execution_count": null,
      "metadata": {
        "colab": {
          "base_uri": "https://localhost:8080/"
        },
        "id": "LMEjO2AtnIb_",
        "outputId": "5370b232-1bdf-44fb-97c4-53421472cf9e"
      },
      "outputs": [
        {
          "data": {
            "text/plain": [
              "161"
            ]
          },
          "execution_count": 36,
          "metadata": {},
          "output_type": "execute_result"
        }
      ],
      "source": [
        "(df['Power'] > 1500).sum()"
      ]
    },
    {
      "cell_type": "markdown",
      "metadata": {
        "id": "MyEqYyw4n7Kl"
      },
      "source": [
        "Автомобили с мощностью двигателя >1500 л.с. немного, эти выбросы можно удалить"
      ]
    },
    {
      "cell_type": "code",
      "execution_count": null,
      "metadata": {
        "id": "sdeRojmmngU-"
      },
      "outputs": [],
      "source": [
        "df = df.query('Power < 1500')"
      ]
    },
    {
      "cell_type": "code",
      "execution_count": null,
      "metadata": {
        "colab": {
          "base_uri": "https://localhost:8080/",
          "height": 291
        },
        "id": "VH16B8a7oSH2",
        "outputId": "8ceab7a9-cae5-4165-f47d-5f973499ce76",
        "scrolled": true
      },
      "outputs": [
        {
          "data": {
            "image/png": "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\n",
            "text/plain": [
              "<Figure size 432x216 with 1 Axes>"
            ]
          },
          "metadata": {},
          "output_type": "display_data"
        }
      ],
      "source": [
        "df['Power'].hist();"
      ]
    },
    {
      "cell_type": "code",
      "execution_count": null,
      "metadata": {
        "id": "dCiZrBo3bAzx"
      },
      "outputs": [],
      "source": [
        "df['power_group'] =  pd.cut(df['Power'], [float('-inf'),10,100,200,300,500,1000,float('inf')])"
      ]
    },
    {
      "cell_type": "code",
      "execution_count": null,
      "metadata": {
        "scrolled": true,
        "id": "RJ06aI3gbAzx",
        "outputId": "55d105f8-f9ea-431e-8616-ab6cd52025db"
      },
      "outputs": [
        {
          "data": {
            "text/html": [
              "<div>\n",
              "<style scoped>\n",
              "    .dataframe tbody tr th:only-of-type {\n",
              "        vertical-align: middle;\n",
              "    }\n",
              "\n",
              "    .dataframe tbody tr th {\n",
              "        vertical-align: top;\n",
              "    }\n",
              "\n",
              "    .dataframe thead th {\n",
              "        text-align: right;\n",
              "    }\n",
              "</style>\n",
              "<table border=\"1\" class=\"dataframe\">\n",
              "  <thead>\n",
              "    <tr style=\"text-align: right;\">\n",
              "      <th></th>\n",
              "      <th>count</th>\n",
              "      <th>median</th>\n",
              "    </tr>\n",
              "    <tr>\n",
              "      <th>power_group</th>\n",
              "      <th></th>\n",
              "      <th></th>\n",
              "    </tr>\n",
              "  </thead>\n",
              "  <tbody>\n",
              "    <tr>\n",
              "      <th>(-inf, 10.0]</th>\n",
              "      <td>28925</td>\n",
              "      <td>0</td>\n",
              "    </tr>\n",
              "    <tr>\n",
              "      <th>(10.0, 100.0]</th>\n",
              "      <td>103245</td>\n",
              "      <td>75</td>\n",
              "    </tr>\n",
              "    <tr>\n",
              "      <th>(100.0, 200.0]</th>\n",
              "      <td>163767</td>\n",
              "      <td>135</td>\n",
              "    </tr>\n",
              "    <tr>\n",
              "      <th>(200.0, 300.0]</th>\n",
              "      <td>18399</td>\n",
              "      <td>231</td>\n",
              "    </tr>\n",
              "    <tr>\n",
              "      <th>(300.0, 500.0]</th>\n",
              "      <td>2844</td>\n",
              "      <td>333</td>\n",
              "    </tr>\n",
              "    <tr>\n",
              "      <th>(500.0, 1000.0]</th>\n",
              "      <td>121</td>\n",
              "      <td>600</td>\n",
              "    </tr>\n",
              "    <tr>\n",
              "      <th>(1000.0, inf]</th>\n",
              "      <td>81</td>\n",
              "      <td>1200</td>\n",
              "    </tr>\n",
              "  </tbody>\n",
              "</table>\n",
              "</div>"
            ],
            "text/plain": [
              "                  count  median\n",
              "power_group                    \n",
              "(-inf, 10.0]      28925       0\n",
              "(10.0, 100.0]    103245      75\n",
              "(100.0, 200.0]   163767     135\n",
              "(200.0, 300.0]    18399     231\n",
              "(300.0, 500.0]     2844     333\n",
              "(500.0, 1000.0]     121     600\n",
              "(1000.0, inf]        81    1200"
            ]
          },
          "execution_count": 40,
          "metadata": {},
          "output_type": "execute_result"
        }
      ],
      "source": [
        "df.groupby('power_group')['Power'].agg(['count', 'median'])"
      ]
    },
    {
      "cell_type": "code",
      "execution_count": null,
      "metadata": {
        "id": "y632V-d_bAzy"
      },
      "outputs": [],
      "source": [
        "df = df.query('Power > 10')"
      ]
    },
    {
      "cell_type": "markdown",
      "source": [
        "Посмотрим на пробег"
      ],
      "metadata": {
        "id": "cc8K0bDdcOdf"
      }
    },
    {
      "cell_type": "code",
      "execution_count": null,
      "metadata": {
        "colab": {
          "base_uri": "https://localhost:8080/",
          "height": 291
        },
        "id": "meZ7WhWcoU3n",
        "outputId": "b037638f-dc0c-4088-e8ed-b35032e0199b"
      },
      "outputs": [
        {
          "data": {
            "image/png": "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\n",
            "text/plain": [
              "<Figure size 432x216 with 1 Axes>"
            ]
          },
          "metadata": {},
          "output_type": "display_data"
        }
      ],
      "source": [
        "df['Kilometer'].hist();"
      ]
    },
    {
      "cell_type": "code",
      "execution_count": null,
      "metadata": {
        "colab": {
          "base_uri": "https://localhost:8080/"
        },
        "id": "rBmSjXA2o2eN",
        "outputId": "d87ce51d-d036-4a79-fc3c-fbe430900777"
      },
      "outputs": [
        {
          "data": {
            "text/plain": [
              "150000"
            ]
          },
          "execution_count": 43,
          "metadata": {},
          "output_type": "execute_result"
        }
      ],
      "source": [
        "df['Kilometer'].max()"
      ]
    },
    {
      "cell_type": "markdown",
      "metadata": {
        "id": "3Rhu61gFot4-"
      },
      "source": [
        "Максимальный пробег 150000км - выбросов нет"
      ]
    },
    {
      "cell_type": "markdown",
      "source": [
        "Объём df после предобработки"
      ],
      "metadata": {
        "id": "uRsNJJeTcSlv"
      }
    },
    {
      "cell_type": "code",
      "execution_count": null,
      "metadata": {
        "colab": {
          "base_uri": "https://localhost:8080/"
        },
        "id": "5t8G87o4ow_1",
        "outputId": "6edf5e05-3fc9-4663-bba6-092ea46660bf"
      },
      "outputs": [
        {
          "data": {
            "text/plain": [
              "0.8140017890955473"
            ]
          },
          "execution_count": 44,
          "metadata": {},
          "output_type": "execute_result"
        }
      ],
      "source": [
        "len(df) / start_df"
      ]
    },
    {
      "cell_type": "markdown",
      "metadata": {
        "id": "fqFy498Yrqb4"
      },
      "source": [
        "## Разделение выборок"
      ]
    },
    {
      "cell_type": "code",
      "execution_count": null,
      "metadata": {
        "id": "Un7vvQrRbAz3"
      },
      "outputs": [],
      "source": [
        "df = df.drop(['price_group', 'power_group'], axis=1)"
      ]
    },
    {
      "cell_type": "code",
      "execution_count": null,
      "metadata": {
        "id": "ehiLJqLgrlo5"
      },
      "outputs": [],
      "source": [
        "features = df.drop(['Price'], axis=1)\n",
        "target = df['Price']\n",
        "\n",
        "features_train, features_test, target_train, target_test = train_test_split(features, target, test_size=0.4, random_state=42)\n",
        "features_valid, features_test, target_valid, target_test = train_test_split(features_test, target_test, test_size=0.5, random_state=42)"
      ]
    },
    {
      "cell_type": "code",
      "execution_count": null,
      "metadata": {
        "colab": {
          "base_uri": "https://localhost:8080/"
        },
        "id": "qc5pMf5dsCXJ",
        "outputId": "0ff58a45-fde2-4554-cc45-98ac9da459ca"
      },
      "outputs": [
        {
          "data": {
            "text/plain": [
              "((173074, 9), (173074,))"
            ]
          },
          "execution_count": 51,
          "metadata": {},
          "output_type": "execute_result"
        }
      ],
      "source": [
        "features_train.shape, target_train.shape"
      ]
    },
    {
      "cell_type": "code",
      "execution_count": null,
      "metadata": {
        "colab": {
          "base_uri": "https://localhost:8080/"
        },
        "id": "GpthBDoDsYgV",
        "outputId": "e028e1fe-5d15-42af-d67b-75683185b3a8"
      },
      "outputs": [
        {
          "data": {
            "text/plain": [
              "((57692, 9), (57692,))"
            ]
          },
          "execution_count": 52,
          "metadata": {},
          "output_type": "execute_result"
        }
      ],
      "source": [
        "features_test.shape, target_test.shape"
      ]
    },
    {
      "cell_type": "code",
      "execution_count": null,
      "metadata": {
        "colab": {
          "base_uri": "https://localhost:8080/"
        },
        "id": "TapflheIn-i6",
        "outputId": "47f78f20-94dd-4817-874a-11fcad2ac4d4"
      },
      "outputs": [
        {
          "data": {
            "text/plain": [
              "((57691, 9), (57691,))"
            ]
          },
          "execution_count": 53,
          "metadata": {},
          "output_type": "execute_result"
        }
      ],
      "source": [
        "features_valid.shape, target_valid.shape"
      ]
    },
    {
      "cell_type": "code",
      "execution_count": null,
      "metadata": {
        "scrolled": true,
        "id": "mLs8k4kBbAz6",
        "outputId": "9f228537-f010-4f92-daa6-8f517eb795fd"
      },
      "outputs": [
        {
          "data": {
            "text/html": [
              "<div>\n",
              "<style scoped>\n",
              "    .dataframe tbody tr th:only-of-type {\n",
              "        vertical-align: middle;\n",
              "    }\n",
              "\n",
              "    .dataframe tbody tr th {\n",
              "        vertical-align: top;\n",
              "    }\n",
              "\n",
              "    .dataframe thead th {\n",
              "        text-align: right;\n",
              "    }\n",
              "</style>\n",
              "<table border=\"1\" class=\"dataframe\">\n",
              "  <thead>\n",
              "    <tr style=\"text-align: right;\">\n",
              "      <th></th>\n",
              "      <th>Price</th>\n",
              "      <th>VehicleType</th>\n",
              "      <th>Gearbox</th>\n",
              "      <th>Power</th>\n",
              "      <th>Model</th>\n",
              "      <th>Kilometer</th>\n",
              "      <th>FuelType</th>\n",
              "      <th>Brand</th>\n",
              "      <th>Repaired</th>\n",
              "      <th>year_group</th>\n",
              "    </tr>\n",
              "  </thead>\n",
              "  <tbody>\n",
              "    <tr>\n",
              "      <th>1</th>\n",
              "      <td>18300</td>\n",
              "      <td>coupe</td>\n",
              "      <td>manual</td>\n",
              "      <td>190</td>\n",
              "      <td>unknown</td>\n",
              "      <td>125000</td>\n",
              "      <td>petrol</td>\n",
              "      <td>audi</td>\n",
              "      <td>yes</td>\n",
              "      <td>used</td>\n",
              "    </tr>\n",
              "    <tr>\n",
              "      <th>2</th>\n",
              "      <td>9800</td>\n",
              "      <td>suv</td>\n",
              "      <td>auto</td>\n",
              "      <td>163</td>\n",
              "      <td>grand</td>\n",
              "      <td>125000</td>\n",
              "      <td>petrol</td>\n",
              "      <td>jeep</td>\n",
              "      <td>unknown</td>\n",
              "      <td>old</td>\n",
              "    </tr>\n",
              "    <tr>\n",
              "      <th>3</th>\n",
              "      <td>1500</td>\n",
              "      <td>small</td>\n",
              "      <td>manual</td>\n",
              "      <td>75</td>\n",
              "      <td>golf</td>\n",
              "      <td>150000</td>\n",
              "      <td>petrol</td>\n",
              "      <td>volkswagen</td>\n",
              "      <td>no</td>\n",
              "      <td>old</td>\n",
              "    </tr>\n",
              "    <tr>\n",
              "      <th>4</th>\n",
              "      <td>3600</td>\n",
              "      <td>small</td>\n",
              "      <td>manual</td>\n",
              "      <td>69</td>\n",
              "      <td>fabia</td>\n",
              "      <td>90000</td>\n",
              "      <td>petrol</td>\n",
              "      <td>skoda</td>\n",
              "      <td>no</td>\n",
              "      <td>b/u</td>\n",
              "    </tr>\n",
              "    <tr>\n",
              "      <th>5</th>\n",
              "      <td>650</td>\n",
              "      <td>sedan</td>\n",
              "      <td>manual</td>\n",
              "      <td>102</td>\n",
              "      <td>3er</td>\n",
              "      <td>150000</td>\n",
              "      <td>petrol</td>\n",
              "      <td>bmw</td>\n",
              "      <td>yes</td>\n",
              "      <td>very_old</td>\n",
              "    </tr>\n",
              "  </tbody>\n",
              "</table>\n",
              "</div>"
            ],
            "text/plain": [
              "   Price VehicleType Gearbox  Power    Model  Kilometer FuelType       Brand  \\\n",
              "1  18300       coupe  manual    190  unknown     125000   petrol        audi   \n",
              "2   9800         suv    auto    163    grand     125000   petrol        jeep   \n",
              "3   1500       small  manual     75     golf     150000   petrol  volkswagen   \n",
              "4   3600       small  manual     69    fabia      90000   petrol       skoda   \n",
              "5    650       sedan  manual    102      3er     150000   petrol         bmw   \n",
              "\n",
              "  Repaired year_group  \n",
              "1      yes       used  \n",
              "2  unknown        old  \n",
              "3       no        old  \n",
              "4       no        b/u  \n",
              "5      yes   very_old  "
            ]
          },
          "execution_count": 54,
          "metadata": {},
          "output_type": "execute_result"
        }
      ],
      "source": [
        "df.head()"
      ]
    },
    {
      "cell_type": "code",
      "execution_count": null,
      "metadata": {
        "id": "jmstVXSPbAz6"
      },
      "outputs": [],
      "source": [
        "cat_features = ['VehicleType', 'Gearbox', 'Model', 'FuelType', 'Brand', 'Repaired', 'year_group']"
      ]
    },
    {
      "cell_type": "code",
      "execution_count": null,
      "metadata": {
        "id": "rZUveh2wbAz6"
      },
      "outputs": [],
      "source": [
        "features_train_oe = features_train.copy()\n",
        "features_valid_oe = features_valid.copy()\n",
        "features_test_oe =  features_test.copy()"
      ]
    },
    {
      "cell_type": "markdown",
      "source": [
        "Преобразуем категориальные фичи"
      ],
      "metadata": {
        "id": "GrUg9s1scWTl"
      }
    },
    {
      "cell_type": "code",
      "execution_count": null,
      "metadata": {
        "id": "QL5sITFubAz7"
      },
      "outputs": [],
      "source": [
        "encoder = OrdinalEncoder()\n",
        "encoder.fit(features_train[cat_features])\n",
        "features_train_oe[cat_features] = encoder.transform(features_train[cat_features])"
      ]
    },
    {
      "cell_type": "code",
      "execution_count": null,
      "metadata": {
        "id": "eeL3AaSNbAz7"
      },
      "outputs": [],
      "source": [
        "features_valid_oe[cat_features] = encoder.transform(features_valid_oe[cat_features])\n",
        "features_test_oe[cat_features] = encoder.transform(features_test_oe[cat_features])"
      ]
    },
    {
      "cell_type": "markdown",
      "metadata": {
        "id": "bXH365O2JdBQ"
      },
      "source": [
        "# Обучени моделей"
      ]
    },
    {
      "cell_type": "markdown",
      "metadata": {
        "id": "MLRwHM5HJi9K"
      },
      "source": [
        "## RandomForest"
      ]
    },
    {
      "cell_type": "code",
      "execution_count": null,
      "metadata": {
        "id": "UZF6TCLqJ9kR"
      },
      "outputs": [],
      "source": [
        "model_rf = RandomForestRegressor()"
      ]
    },
    {
      "cell_type": "code",
      "execution_count": null,
      "metadata": {
        "id": "pm5SidIZKEFR"
      },
      "outputs": [],
      "source": [
        "rf_grid = {'n_estimators': range(10, 200, 50),\n",
        "           'max_depth': range(1, 10, 2)\n",
        "           }"
      ]
    },
    {
      "cell_type": "code",
      "execution_count": null,
      "metadata": {
        "id": "JomKhO4WM7bG"
      },
      "outputs": [],
      "source": [
        "rf_model = RandomizedSearchCV(model_rf,\n",
        "                              param_distributions=rf_grid,\n",
        "                              n_iter=5,\n",
        "                              scoring='neg_mean_squared_error',\n",
        "                              random_state=42)"
      ]
    },
    {
      "cell_type": "code",
      "execution_count": null,
      "metadata": {
        "id": "_4vhCuAXOMai"
      },
      "outputs": [],
      "source": [
        "start_time = time.time()\n",
        "rf_model.fit(features_train_oe, target_train)\n",
        "end_time = time.time()\n",
        "time_fit_rf = end_time - start_time"
      ]
    },
    {
      "cell_type": "markdown",
      "source": [
        "Время обучения"
      ],
      "metadata": {
        "id": "3EZjKUeFca9R"
      }
    },
    {
      "cell_type": "code",
      "execution_count": null,
      "metadata": {
        "colab": {
          "base_uri": "https://localhost:8080/"
        },
        "id": "pZEW9ZxSOdie",
        "outputId": "82bf5b50-3c63-4af1-f944-c4457ae38908"
      },
      "outputs": [
        {
          "data": {
            "text/plain": [
              "144.4877049922943"
            ]
          },
          "execution_count": 63,
          "metadata": {},
          "output_type": "execute_result"
        }
      ],
      "source": [
        "time_fit_rf"
      ]
    },
    {
      "cell_type": "code",
      "execution_count": null,
      "metadata": {
        "colab": {
          "base_uri": "https://localhost:8080/"
        },
        "id": "SGDaIUvZPGER",
        "outputId": "a590fdd0-165e-4af7-d5da-c2fb839d90ae"
      },
      "outputs": [
        {
          "data": {
            "text/plain": [
              "{'n_estimators': 60, 'max_depth': 9}"
            ]
          },
          "execution_count": 64,
          "metadata": {},
          "output_type": "execute_result"
        }
      ],
      "source": [
        "rf_params = rf_model.best_params_\n",
        "rf_params"
      ]
    },
    {
      "cell_type": "markdown",
      "source": [
        "Расчет RMSE на train"
      ],
      "metadata": {
        "id": "925sKM5Ucfgd"
      }
    },
    {
      "cell_type": "code",
      "execution_count": null,
      "metadata": {
        "colab": {
          "base_uri": "https://localhost:8080/"
        },
        "id": "RwX8pWq-P1Iu",
        "outputId": "07bf0ee6-6a14-4074-f8a6-d0b1126a69e9"
      },
      "outputs": [
        {
          "data": {
            "text/plain": [
              "2070.0375336485795"
            ]
          },
          "execution_count": 65,
          "metadata": {},
          "output_type": "execute_result"
        }
      ],
      "source": [
        "rf_rmse = (-rf_model.best_score_) ** 0.5\n",
        "rf_rmse"
      ]
    },
    {
      "cell_type": "markdown",
      "metadata": {
        "id": "w01obhPLokxz"
      },
      "source": [
        "### Расчет параметров лучшей модели RandomForest"
      ]
    },
    {
      "cell_type": "code",
      "execution_count": null,
      "metadata": {
        "id": "_KocC-jJotVZ"
      },
      "outputs": [],
      "source": [
        "best_rf_model = RandomForestRegressor(**rf_params)"
      ]
    },
    {
      "cell_type": "code",
      "execution_count": null,
      "metadata": {
        "id": "AxrKi-TFo0sa"
      },
      "outputs": [],
      "source": [
        "start_time = time.time()\n",
        "best_rf_model.fit(features_train_oe, target_train)\n",
        "end_time = time.time()\n",
        "time_fit_best_rf = end_time - start_time"
      ]
    },
    {
      "cell_type": "code",
      "execution_count": null,
      "metadata": {
        "id": "nH4tW_r5pDtY"
      },
      "outputs": [],
      "source": [
        "start_time = time.time()\n",
        "predict_best_rf = best_rf_model.predict(features_valid_oe)\n",
        "end_time = time.time()\n",
        "time_pred_best_rf = end_time - start_time"
      ]
    },
    {
      "cell_type": "markdown",
      "source": [
        "Расчет RMSE на валидационной выборке"
      ],
      "metadata": {
        "id": "dsCb9D21cirJ"
      }
    },
    {
      "cell_type": "code",
      "execution_count": null,
      "metadata": {
        "id": "owLYJal2qy6a"
      },
      "outputs": [],
      "source": [
        "rmse_best_rf = mean_squared_error(target_valid, predict_best_rf)**0.5"
      ]
    },
    {
      "cell_type": "code",
      "execution_count": null,
      "metadata": {
        "colab": {
          "base_uri": "https://localhost:8080/"
        },
        "id": "Wl8D_Tpqoedx",
        "outputId": "f7ae90af-8d5d-4a16-f770-efbab6402e97"
      },
      "outputs": [
        {
          "name": "stdout",
          "output_type": "stream",
          "text": [
            "Valid RMSE = 2056.06\n",
            "Time Fit: 9.94\n",
            "Time Predict: 0.24\n"
          ]
        }
      ],
      "source": [
        "print('Valid RMSE = {:.2f}'.format(rmse_best_rf))\n",
        "print('Time Fit: {:.2f}'.format(time_fit_best_rf))\n",
        "print('Time Predict: {:.2f}'.format(time_pred_best_rf))"
      ]
    },
    {
      "cell_type": "markdown",
      "metadata": {
        "id": "C93aiYqTSwkj"
      },
      "source": [
        "## LightGBM"
      ]
    },
    {
      "cell_type": "code",
      "execution_count": null,
      "metadata": {
        "id": "aLXPku2CS5fI"
      },
      "outputs": [],
      "source": [
        "model = LGBMRegressor()"
      ]
    },
    {
      "cell_type": "code",
      "execution_count": null,
      "metadata": {
        "id": "vNbbp1SSS7sW"
      },
      "outputs": [],
      "source": [
        "parameters = {\n",
        "    'boosting_type' : ['gbdt'],\n",
        "    'n_estimators' : range(10, 300, 20),\n",
        "    'max_depth' : range(1, 20, 2),\n",
        "    'verbose' : [-1],\n",
        "    'force_col_wise': [True],\n",
        "    'num_leaves' : [30, 130, 200],\n",
        "    }"
      ]
    },
    {
      "cell_type": "code",
      "execution_count": null,
      "metadata": {
        "id": "MLojbKIuTGC-"
      },
      "outputs": [],
      "source": [
        "grid_cv = RandomizedSearchCV(estimator=model,\n",
        "                             param_distributions=parameters,\n",
        "                             n_iter=5,\n",
        "                             scoring='neg_mean_squared_error',\n",
        "                             random_state=42)"
      ]
    },
    {
      "cell_type": "code",
      "execution_count": null,
      "metadata": {
        "id": "IShnuPRoTUIf"
      },
      "outputs": [],
      "source": [
        "start_time = time.time()\n",
        "grid_cv.fit(features_train_oe, target_train)\n",
        "end_time = time.time()\n",
        "time_fit_lgbm = end_time - start_time"
      ]
    },
    {
      "cell_type": "markdown",
      "source": [
        "Время обучения"
      ],
      "metadata": {
        "id": "Lv00aetIcl2K"
      }
    },
    {
      "cell_type": "code",
      "execution_count": null,
      "metadata": {
        "colab": {
          "base_uri": "https://localhost:8080/"
        },
        "id": "c5l2wUY1TzZF",
        "outputId": "0162c8f9-3d40-4e00-b198-ec0c9deedadb"
      },
      "outputs": [
        {
          "data": {
            "text/plain": [
              "5069.1798622608185"
            ]
          },
          "execution_count": 75,
          "metadata": {},
          "output_type": "execute_result"
        }
      ],
      "source": [
        "time_fit_lgbm"
      ]
    },
    {
      "cell_type": "code",
      "execution_count": null,
      "metadata": {
        "colab": {
          "base_uri": "https://localhost:8080/"
        },
        "id": "A0W7y7y0T-Pi",
        "outputId": "fcda3f80-a8f7-4466-b229-8b0a8d2dd01b"
      },
      "outputs": [
        {
          "data": {
            "text/plain": [
              "{'verbose': -1,\n",
              " 'num_leaves': 130,\n",
              " 'n_estimators': 70,\n",
              " 'max_depth': 19,\n",
              " 'force_col_wise': True,\n",
              " 'boosting_type': 'gbdt'}"
            ]
          },
          "execution_count": 76,
          "metadata": {},
          "output_type": "execute_result"
        }
      ],
      "source": [
        "lgbm_params = grid_cv.best_params_\n",
        "lgbm_params"
      ]
    },
    {
      "cell_type": "code",
      "execution_count": null,
      "metadata": {
        "colab": {
          "base_uri": "https://localhost:8080/"
        },
        "id": "Dq57jR2jT-Pj",
        "outputId": "7f22c959-421a-4763-a256-a242c04114be"
      },
      "outputs": [
        {
          "data": {
            "text/plain": [
              "1769.8760729675341"
            ]
          },
          "execution_count": 77,
          "metadata": {},
          "output_type": "execute_result"
        }
      ],
      "source": [
        "lgbm_rmse = (-grid_cv.best_score_) ** 0.5\n",
        "lgbm_rmse"
      ]
    },
    {
      "cell_type": "markdown",
      "metadata": {
        "id": "8bsVhaKXpwHY"
      },
      "source": [
        "### Расчет параметров лучшей модели LightGBM"
      ]
    },
    {
      "cell_type": "code",
      "execution_count": null,
      "metadata": {
        "id": "g4wgdWEEp5rl"
      },
      "outputs": [],
      "source": [
        "start_time = time.time()\n",
        "model_best_lgbm = LGBMRegressor(**lgbm_params)\n",
        "model_best_lgbm.fit(features_train_oe, target_train)\n",
        "end_time = time.time()\n",
        "time_fit_best_lgbm = end_time - start_time"
      ]
    },
    {
      "cell_type": "code",
      "execution_count": null,
      "metadata": {
        "id": "0Fz_iw86qXAU"
      },
      "outputs": [],
      "source": [
        "start_time = time.time()\n",
        "predict_best_lgbm = model_best_lgbm.predict(features_valid_oe)\n",
        "end_time = time.time()\n",
        "time_pred_best_lgbm = end_time - start_time"
      ]
    },
    {
      "cell_type": "markdown",
      "source": [
        "RMSE на валидационной выборке"
      ],
      "metadata": {
        "id": "lzGufLdxcrfN"
      }
    },
    {
      "cell_type": "code",
      "execution_count": null,
      "metadata": {
        "id": "lXAZz5Uhqg1k"
      },
      "outputs": [],
      "source": [
        "rmse_best_lgbm = mean_squared_error(target_valid, predict_best_lgbm)**0.5"
      ]
    },
    {
      "cell_type": "code",
      "execution_count": null,
      "metadata": {
        "colab": {
          "base_uri": "https://localhost:8080/"
        },
        "id": "yRMu1kcsqd9I",
        "outputId": "4e7f4991-4e63-42d7-fccd-aae646b2fda1"
      },
      "outputs": [
        {
          "name": "stdout",
          "output_type": "stream",
          "text": [
            "Valid RMSE = 1748.54\n",
            "Time Fit: 369.13\n",
            "Time Predict: 0.44\n"
          ]
        }
      ],
      "source": [
        "print('Valid RMSE = {:.2f}'.format(rmse_best_lgbm))\n",
        "print('Time Fit: {:.2f}'.format(time_fit_best_lgbm))\n",
        "print('Time Predict: {:.2f}'.format(time_pred_best_lgbm))"
      ]
    },
    {
      "cell_type": "markdown",
      "metadata": {
        "id": "OhfIB7e_UknT"
      },
      "source": [
        "## Catboost"
      ]
    },
    {
      "cell_type": "markdown",
      "metadata": {
        "id": "97gtuIv8bplj"
      },
      "source": [
        "Разделим выборку на обучающую, валидационную и тестовую"
      ]
    },
    {
      "cell_type": "code",
      "execution_count": null,
      "metadata": {
        "id": "Ti4cmzO4W96W"
      },
      "outputs": [],
      "source": [
        "train, test = train_test_split(df, train_size=0.6, random_state=42)"
      ]
    },
    {
      "cell_type": "code",
      "execution_count": null,
      "metadata": {
        "id": "P_BHnRJnXCph"
      },
      "outputs": [],
      "source": [
        "test, val = train_test_split(test, train_size=0.5, random_state=42)"
      ]
    },
    {
      "cell_type": "code",
      "execution_count": null,
      "metadata": {
        "id": "dGi-6ui0T9tH"
      },
      "outputs": [],
      "source": [
        "X = ['VehicleType', 'Gearbox', 'Power', 'Model', 'Kilometer', 'FuelType', 'Brand', 'Repaired', 'year_group']\n",
        "\n",
        "cat_features = ['VehicleType', 'Gearbox', 'Model', 'FuelType', 'Brand', 'Repaired', 'year_group']\n",
        "\n",
        "y = ['Price']"
      ]
    },
    {
      "cell_type": "code",
      "execution_count": null,
      "metadata": {
        "id": "9wKAOzVoVkLg"
      },
      "outputs": [],
      "source": [
        "parameters = {'cat_features': cat_features,\n",
        "              'eval_metric': 'RMSE',\n",
        "              'verbose': 100,\n",
        "              'learning_rate': 0.4,\n",
        "              'random_seed': 42}"
      ]
    },
    {
      "cell_type": "code",
      "execution_count": null,
      "metadata": {
        "id": "8uAbjNk5Vu0z"
      },
      "outputs": [],
      "source": [
        "model = CatBoostRegressor(**parameters)"
      ]
    },
    {
      "cell_type": "code",
      "execution_count": null,
      "metadata": {
        "colab": {
          "base_uri": "https://localhost:8080/"
        },
        "id": "UfN3SsjqVw8S",
        "outputId": "332a808e-636b-4ab0-91a8-27ac4e74ce3c"
      },
      "outputs": [
        {
          "name": "stdout",
          "output_type": "stream",
          "text": [
            "0:\tlearn: 3480.0514531\ttest: 3467.4596723\tbest: 3467.4596723 (0)\ttotal: 334ms\tremaining: 5m 33s\n",
            "100:\tlearn: 1781.1874469\ttest: 1796.5891726\tbest: 1796.5891726 (100)\ttotal: 23.8s\tremaining: 3m 32s\n",
            "200:\tlearn: 1716.6772372\ttest: 1757.1424740\tbest: 1757.0787887 (199)\ttotal: 46.9s\tremaining: 3m 6s\n",
            "300:\tlearn: 1681.1139424\ttest: 1740.0890490\tbest: 1740.0890490 (300)\ttotal: 1m 11s\tremaining: 2m 45s\n",
            "400:\tlearn: 1652.0212264\ttest: 1726.5017869\tbest: 1726.4087378 (396)\ttotal: 1m 35s\tremaining: 2m 22s\n",
            "500:\tlearn: 1630.3498690\ttest: 1717.2634735\tbest: 1717.2634735 (500)\ttotal: 2m\tremaining: 1m 59s\n",
            "600:\tlearn: 1612.2723565\ttest: 1711.5512692\tbest: 1711.2478988 (593)\ttotal: 2m 24s\tremaining: 1m 35s\n",
            "700:\tlearn: 1594.6284091\ttest: 1705.7485826\tbest: 1705.7175189 (699)\ttotal: 2m 49s\tremaining: 1m 12s\n",
            "800:\tlearn: 1581.4967108\ttest: 1701.9688704\tbest: 1701.8356718 (793)\ttotal: 3m 13s\tremaining: 48s\n",
            "900:\tlearn: 1568.4932733\ttest: 1700.1356348\tbest: 1699.9210966 (894)\ttotal: 3m 36s\tremaining: 23.8s\n",
            "999:\tlearn: 1558.1970784\ttest: 1698.1600802\tbest: 1698.0770339 (997)\ttotal: 4m 1s\tremaining: 0us\n",
            "\n",
            "bestTest = 1698.077034\n",
            "bestIteration = 997\n",
            "\n",
            "Shrink model to first 998 iterations.\n"
          ]
        }
      ],
      "source": [
        "start_time = time.time()\n",
        "model.fit(train[X], train[y], eval_set=(val[X], val[y]))\n",
        "end_time = time.time()\n",
        "time_fit_catboost = end_time - start_time"
      ]
    },
    {
      "cell_type": "markdown",
      "source": [
        "Время обучения"
      ],
      "metadata": {
        "id": "YQUI0aRLcvBI"
      }
    },
    {
      "cell_type": "code",
      "execution_count": null,
      "metadata": {
        "colab": {
          "base_uri": "https://localhost:8080/"
        },
        "id": "0vDNcAIlX7eK",
        "outputId": "4a73a588-202e-4418-d7c5-b3196504545b"
      },
      "outputs": [
        {
          "data": {
            "text/plain": [
              "246.55052208900452"
            ]
          },
          "execution_count": 88,
          "metadata": {},
          "output_type": "execute_result"
        }
      ],
      "source": [
        "time_fit_catboost"
      ]
    },
    {
      "cell_type": "code",
      "execution_count": null,
      "metadata": {
        "colab": {
          "base_uri": "https://localhost:8080/"
        },
        "id": "7AU21jkciol8",
        "outputId": "b96ff3a2-7f2e-4f4b-c38b-14a82ab38d58"
      },
      "outputs": [
        {
          "data": {
            "text/plain": [
              "1698.0770338564057"
            ]
          },
          "execution_count": 89,
          "metadata": {},
          "output_type": "execute_result"
        }
      ],
      "source": [
        "rmse_best_catboost = model.best_score_['validation']['RMSE']\n",
        "rmse_best_catboost"
      ]
    },
    {
      "cell_type": "code",
      "execution_count": null,
      "metadata": {
        "id": "_GZkPxNLbA0I"
      },
      "outputs": [],
      "source": [
        "start_time = time.time()\n",
        "model.predict(val[X])\n",
        "end_time = time.time()\n",
        "time_pred_catboost = end_time - start_time"
      ]
    },
    {
      "cell_type": "markdown",
      "metadata": {
        "id": "o0-ovnDLt5a9"
      },
      "source": [
        "# Анализ моделей"
      ]
    },
    {
      "cell_type": "code",
      "execution_count": null,
      "metadata": {
        "colab": {
          "base_uri": "https://localhost:8080/",
          "height": 143
        },
        "id": "e_4W3fiSt8dH",
        "outputId": "28310ebc-5fed-4e82-9315-90be2932bd82",
        "scrolled": true
      },
      "outputs": [
        {
          "data": {
            "text/html": [
              "<div>\n",
              "<style scoped>\n",
              "    .dataframe tbody tr th:only-of-type {\n",
              "        vertical-align: middle;\n",
              "    }\n",
              "\n",
              "    .dataframe tbody tr th {\n",
              "        vertical-align: top;\n",
              "    }\n",
              "\n",
              "    .dataframe thead th {\n",
              "        text-align: right;\n",
              "    }\n",
              "</style>\n",
              "<table border=\"1\" class=\"dataframe\">\n",
              "  <thead>\n",
              "    <tr style=\"text-align: right;\">\n",
              "      <th></th>\n",
              "      <th>Model</th>\n",
              "      <th>Train_Time, sec</th>\n",
              "      <th>Pred_Time, sec</th>\n",
              "      <th>Valid_RMSE</th>\n",
              "    </tr>\n",
              "  </thead>\n",
              "  <tbody>\n",
              "    <tr>\n",
              "      <th>0</th>\n",
              "      <td>RandomForest_best</td>\n",
              "      <td>9.943835</td>\n",
              "      <td>0.237627</td>\n",
              "      <td>2056.059988</td>\n",
              "    </tr>\n",
              "    <tr>\n",
              "      <th>1</th>\n",
              "      <td>LGBMRegressor_best</td>\n",
              "      <td>369.125047</td>\n",
              "      <td>0.437587</td>\n",
              "      <td>1748.538463</td>\n",
              "    </tr>\n",
              "    <tr>\n",
              "      <th>2</th>\n",
              "      <td>Catboost_best</td>\n",
              "      <td>246.550522</td>\n",
              "      <td>0.887395</td>\n",
              "      <td>1698.077034</td>\n",
              "    </tr>\n",
              "  </tbody>\n",
              "</table>\n",
              "</div>"
            ],
            "text/plain": [
              "                Model  Train_Time, sec  Pred_Time, sec   Valid_RMSE\n",
              "0   RandomForest_best         9.943835        0.237627  2056.059988\n",
              "1  LGBMRegressor_best       369.125047        0.437587  1748.538463\n",
              "2       Catboost_best       246.550522        0.887395  1698.077034"
            ]
          },
          "metadata": {},
          "output_type": "display_data"
        }
      ],
      "source": [
        "results = {'Model' : ['RandomForest_best', 'LGBMRegressor_best', 'Catboost_best'],\n",
        "           'Train_Time, sec': pd.Series([time_fit_best_rf, time_fit_best_lgbm, time_fit_catboost]),\n",
        "           'Pred_Time, sec': pd.Series([time_pred_best_rf, time_pred_best_lgbm, time_pred_catboost]),\n",
        "           'Valid_RMSE': pd.Series([rmse_best_rf, rmse_best_lgbm, rmse_best_catboost]),\n",
        "          }\n",
        "display(pd.DataFrame(results))"
      ]
    },
    {
      "cell_type": "markdown",
      "metadata": {
        "id": "y7LWEXoAnyt4"
      },
      "source": [
        "## Результат на тестовой выборке"
      ]
    },
    {
      "cell_type": "code",
      "execution_count": null,
      "metadata": {
        "colab": {
          "base_uri": "https://localhost:8080/"
        },
        "id": "A1tkb4Qcj5Be",
        "outputId": "0db15564-eb6b-4cc5-f6bb-7db2e3ce7f16"
      },
      "outputs": [
        {
          "data": {
            "text/plain": [
              "1694.5747838199568"
            ]
          },
          "execution_count": 96,
          "metadata": {},
          "output_type": "execute_result"
        }
      ],
      "source": [
        "predict_catboost_test = model.predict(test[X])\n",
        "rmse_catboost_test = mean_squared_error(test[y], predict_catboost_test)**0.5\n",
        "rmse_catboost_test"
      ]
    },
    {
      "cell_type": "code",
      "execution_count": null,
      "metadata": {
        "id": "co2aA2VpbA0M"
      },
      "outputs": [],
      "source": [
        "feature_importances = pd.DataFrame(data={'Attribute': features_train_oe.columns,\n",
        "                                         'Importance': model.feature_importances_\n",
        "                                        })\n",
        "feature_importances = feature_importances.sort_values(by='Importance', ascending=False)"
      ]
    },
    {
      "cell_type": "code",
      "execution_count": null,
      "metadata": {
        "id": "jzIJMfpxbA0N",
        "outputId": "d3eefb0e-9176-47e9-d982-10d5ee0b1971"
      },
      "outputs": [
        {
          "data": {
            "image/png": "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\n",
            "text/plain": [
              "<Figure size 432x216 with 1 Axes>"
            ]
          },
          "metadata": {},
          "output_type": "display_data"
        }
      ],
      "source": [
        "plt.bar(x=feature_importances['Attribute'], height=feature_importances['Importance']);\n",
        "plt.title('Важность признаков', size=20);\n",
        "plt.xticks(rotation='vertical');"
      ]
    },
    {
      "cell_type": "markdown",
      "metadata": {
        "id": "MtnNWNzCpzVM"
      },
      "source": [
        "Лучшая модель Catboost показала RMSE на тестовой выборке 1695."
      ]
    },
    {
      "cell_type": "code",
      "execution_count": null,
      "metadata": {
        "id": "uKmkGt-6bA0O"
      },
      "outputs": [],
      "source": []
    }
  ],
  "metadata": {
    "ExecuteTimeLog": [
      {
        "duration": 422,
        "start_time": "2023-04-16T20:15:42.222Z"
      },
      {
        "duration": 2459,
        "start_time": "2023-04-16T20:15:42.647Z"
      },
      {
        "duration": 8364,
        "start_time": "2023-04-16T20:15:45.108Z"
      },
      {
        "duration": 1161,
        "start_time": "2023-04-16T20:15:53.474Z"
      },
      {
        "duration": 3,
        "start_time": "2023-04-16T20:15:54.638Z"
      },
      {
        "duration": 20,
        "start_time": "2023-04-16T20:15:54.642Z"
      },
      {
        "duration": 13,
        "start_time": "2023-04-16T20:15:54.664Z"
      },
      {
        "duration": 10,
        "start_time": "2023-04-16T20:15:54.679Z"
      },
      {
        "duration": 4,
        "start_time": "2023-04-16T20:15:54.691Z"
      },
      {
        "duration": 14,
        "start_time": "2023-04-16T20:15:54.696Z"
      },
      {
        "duration": 6,
        "start_time": "2023-04-16T20:15:54.711Z"
      },
      {
        "duration": 5,
        "start_time": "2023-04-16T20:15:54.719Z"
      },
      {
        "duration": 5,
        "start_time": "2023-04-16T20:15:54.725Z"
      },
      {
        "duration": 5,
        "start_time": "2023-04-16T20:15:54.734Z"
      },
      {
        "duration": 50,
        "start_time": "2023-04-16T20:15:54.740Z"
      },
      {
        "duration": 3,
        "start_time": "2023-04-16T20:15:54.792Z"
      },
      {
        "duration": 7,
        "start_time": "2023-04-16T20:15:54.797Z"
      },
      {
        "duration": 17,
        "start_time": "2023-04-16T20:15:54.805Z"
      },
      {
        "duration": 38,
        "start_time": "2023-04-16T20:15:54.823Z"
      },
      {
        "duration": 161,
        "start_time": "2023-04-16T20:15:54.862Z"
      },
      {
        "duration": 136,
        "start_time": "2023-04-16T20:15:55.025Z"
      },
      {
        "duration": 5,
        "start_time": "2023-04-16T20:15:55.162Z"
      },
      {
        "duration": 22,
        "start_time": "2023-04-16T20:15:55.169Z"
      },
      {
        "duration": 200,
        "start_time": "2023-04-16T20:15:55.193Z"
      },
      {
        "duration": 219,
        "start_time": "2023-04-16T20:15:55.395Z"
      },
      {
        "duration": 5,
        "start_time": "2023-04-16T20:15:55.615Z"
      },
      {
        "duration": 7,
        "start_time": "2023-04-16T20:15:55.622Z"
      },
      {
        "duration": 150,
        "start_time": "2023-04-16T20:15:55.631Z"
      },
      {
        "duration": 158,
        "start_time": "2023-04-16T20:15:55.789Z"
      },
      {
        "duration": 5,
        "start_time": "2023-04-16T20:15:55.949Z"
      },
      {
        "duration": 8,
        "start_time": "2023-04-16T20:15:55.956Z"
      },
      {
        "duration": 32,
        "start_time": "2023-04-16T20:15:55.966Z"
      },
      {
        "duration": 3,
        "start_time": "2023-04-16T20:15:56.000Z"
      },
      {
        "duration": 12,
        "start_time": "2023-04-16T20:15:56.005Z"
      },
      {
        "duration": 5,
        "start_time": "2023-04-16T20:15:56.019Z"
      },
      {
        "duration": 12,
        "start_time": "2023-04-16T20:15:56.026Z"
      },
      {
        "duration": 5,
        "start_time": "2023-04-16T20:15:56.041Z"
      },
      {
        "duration": 42,
        "start_time": "2023-04-16T20:15:56.048Z"
      },
      {
        "duration": 4,
        "start_time": "2023-04-16T20:15:56.092Z"
      },
      {
        "duration": 5,
        "start_time": "2023-04-16T20:16:13.521Z"
      },
      {
        "duration": 4,
        "start_time": "2023-04-16T20:16:15.706Z"
      },
      {
        "duration": 3,
        "start_time": "2023-04-16T20:16:15.894Z"
      },
      {
        "duration": 3,
        "start_time": "2023-04-16T20:16:16.113Z"
      },
      {
        "duration": 4,
        "start_time": "2023-04-16T20:16:16.263Z"
      },
      {
        "duration": 4595,
        "start_time": "2023-04-16T20:16:16.449Z"
      },
      {
        "duration": 18,
        "start_time": "2023-04-16T20:17:35.114Z"
      },
      {
        "duration": 121,
        "start_time": "2023-04-16T20:17:41.945Z"
      },
      {
        "duration": 13,
        "start_time": "2023-04-16T20:17:54.623Z"
      },
      {
        "duration": 3,
        "start_time": "2023-04-16T20:17:59.218Z"
      },
      {
        "duration": 416,
        "start_time": "2023-04-17T15:53:34.448Z"
      },
      {
        "duration": 1631,
        "start_time": "2023-04-17T15:53:41.036Z"
      },
      {
        "duration": 3392,
        "start_time": "2023-04-17T15:53:45.593Z"
      },
      {
        "duration": 21,
        "start_time": "2023-04-17T15:53:49.823Z"
      },
      {
        "duration": 122,
        "start_time": "2023-04-17T15:53:54.656Z"
      },
      {
        "duration": 3,
        "start_time": "2023-04-17T15:53:58.619Z"
      },
      {
        "duration": 26,
        "start_time": "2023-04-17T15:54:00.594Z"
      },
      {
        "duration": 12,
        "start_time": "2023-04-17T15:54:04.241Z"
      },
      {
        "duration": 107,
        "start_time": "2023-04-17T15:54:06.789Z"
      },
      {
        "duration": 20,
        "start_time": "2023-04-17T15:54:09.302Z"
      },
      {
        "duration": 34,
        "start_time": "2023-04-17T15:54:09.941Z"
      },
      {
        "duration": 27,
        "start_time": "2023-04-17T15:54:13.805Z"
      },
      {
        "duration": 21,
        "start_time": "2023-04-17T15:54:14.455Z"
      },
      {
        "duration": 3,
        "start_time": "2023-04-17T15:54:14.942Z"
      },
      {
        "duration": 122,
        "start_time": "2023-04-17T15:54:16.495Z"
      },
      {
        "duration": 12,
        "start_time": "2023-04-17T15:58:37.097Z"
      },
      {
        "duration": 15,
        "start_time": "2023-04-17T15:58:52.303Z"
      },
      {
        "duration": 25,
        "start_time": "2023-04-17T15:58:59.721Z"
      },
      {
        "duration": 36,
        "start_time": "2023-04-17T15:59:41.103Z"
      },
      {
        "duration": 21,
        "start_time": "2023-04-17T15:59:42.785Z"
      },
      {
        "duration": 72,
        "start_time": "2023-04-17T16:00:04.436Z"
      },
      {
        "duration": 13,
        "start_time": "2023-04-17T16:00:06.950Z"
      },
      {
        "duration": 185,
        "start_time": "2023-04-17T16:00:20.926Z"
      },
      {
        "duration": 19,
        "start_time": "2023-04-17T16:01:16.422Z"
      },
      {
        "duration": 21,
        "start_time": "2023-04-17T16:04:04.217Z"
      },
      {
        "duration": 19,
        "start_time": "2023-04-17T16:04:41.505Z"
      },
      {
        "duration": 151,
        "start_time": "2023-04-17T16:06:24.994Z"
      },
      {
        "duration": 8,
        "start_time": "2023-04-17T16:06:25.383Z"
      },
      {
        "duration": 34,
        "start_time": "2023-04-17T16:06:29.548Z"
      },
      {
        "duration": 43,
        "start_time": "2023-04-17T16:06:37.179Z"
      },
      {
        "duration": 171,
        "start_time": "2023-04-17T16:07:42.448Z"
      },
      {
        "duration": 214,
        "start_time": "2023-04-17T16:07:50.799Z"
      },
      {
        "duration": 15,
        "start_time": "2023-04-17T16:16:47.387Z"
      },
      {
        "duration": 15,
        "start_time": "2023-04-17T16:16:56.576Z"
      },
      {
        "duration": 30,
        "start_time": "2023-04-17T16:17:00.011Z"
      },
      {
        "duration": 21,
        "start_time": "2023-04-17T16:17:06.137Z"
      },
      {
        "duration": 15,
        "start_time": "2023-04-17T16:17:14.830Z"
      },
      {
        "duration": 14,
        "start_time": "2023-04-17T16:17:18.969Z"
      },
      {
        "duration": 29,
        "start_time": "2023-04-17T16:18:47.066Z"
      },
      {
        "duration": 125,
        "start_time": "2023-04-17T16:19:26.810Z"
      },
      {
        "duration": 21,
        "start_time": "2023-04-17T16:19:34.207Z"
      },
      {
        "duration": 17,
        "start_time": "2023-04-17T16:20:20.989Z"
      },
      {
        "duration": 21,
        "start_time": "2023-04-17T16:20:23.041Z"
      },
      {
        "duration": 16,
        "start_time": "2023-04-17T16:20:39.115Z"
      },
      {
        "duration": 22,
        "start_time": "2023-04-17T16:20:40.216Z"
      },
      {
        "duration": 30,
        "start_time": "2023-04-17T16:26:20.933Z"
      },
      {
        "duration": 203,
        "start_time": "2023-04-17T16:26:51.647Z"
      },
      {
        "duration": 165,
        "start_time": "2023-04-17T16:27:31.458Z"
      },
      {
        "duration": 5,
        "start_time": "2023-04-17T16:27:35.023Z"
      },
      {
        "duration": 36,
        "start_time": "2023-04-17T16:27:37.734Z"
      },
      {
        "duration": 140,
        "start_time": "2023-04-17T16:27:38.773Z"
      },
      {
        "duration": 13,
        "start_time": "2023-04-17T16:28:45.625Z"
      },
      {
        "duration": 38,
        "start_time": "2023-04-17T16:28:57.807Z"
      },
      {
        "duration": 13,
        "start_time": "2023-04-17T16:29:05.115Z"
      },
      {
        "duration": 20,
        "start_time": "2023-04-17T16:29:05.330Z"
      },
      {
        "duration": 14,
        "start_time": "2023-04-17T16:29:13.354Z"
      },
      {
        "duration": 19,
        "start_time": "2023-04-17T16:29:13.616Z"
      },
      {
        "duration": 34,
        "start_time": "2023-04-17T16:38:43.106Z"
      },
      {
        "duration": 147,
        "start_time": "2023-04-17T16:38:59.081Z"
      },
      {
        "duration": 5,
        "start_time": "2023-04-17T16:39:02.211Z"
      },
      {
        "duration": 4,
        "start_time": "2023-04-17T16:39:03.831Z"
      },
      {
        "duration": 14,
        "start_time": "2023-04-17T16:44:21.413Z"
      },
      {
        "duration": 29,
        "start_time": "2023-04-17T16:44:27.613Z"
      },
      {
        "duration": 13,
        "start_time": "2023-04-17T16:45:22.107Z"
      },
      {
        "duration": 21,
        "start_time": "2023-04-17T16:45:22.301Z"
      },
      {
        "duration": 13,
        "start_time": "2023-04-17T16:45:30.014Z"
      },
      {
        "duration": 22,
        "start_time": "2023-04-17T16:45:30.214Z"
      },
      {
        "duration": 12,
        "start_time": "2023-04-17T16:46:27.211Z"
      },
      {
        "duration": 19,
        "start_time": "2023-04-17T16:46:27.636Z"
      },
      {
        "duration": 13,
        "start_time": "2023-04-17T16:46:38.930Z"
      },
      {
        "duration": 21,
        "start_time": "2023-04-17T16:46:40.103Z"
      },
      {
        "duration": 34,
        "start_time": "2023-04-17T16:48:02.577Z"
      },
      {
        "duration": 13,
        "start_time": "2023-04-17T16:51:17.010Z"
      },
      {
        "duration": 28,
        "start_time": "2023-04-17T16:51:17.281Z"
      },
      {
        "duration": 14,
        "start_time": "2023-04-17T16:51:33.508Z"
      },
      {
        "duration": 26,
        "start_time": "2023-04-17T16:51:33.978Z"
      },
      {
        "duration": 14,
        "start_time": "2023-04-17T16:51:37.470Z"
      },
      {
        "duration": 19,
        "start_time": "2023-04-17T16:51:37.646Z"
      },
      {
        "duration": 13,
        "start_time": "2023-04-17T16:52:55.021Z"
      },
      {
        "duration": 19,
        "start_time": "2023-04-17T16:52:55.196Z"
      },
      {
        "duration": 1421,
        "start_time": "2023-04-17T16:53:54.345Z"
      },
      {
        "duration": 872,
        "start_time": "2023-04-17T16:53:57.387Z"
      },
      {
        "duration": 23,
        "start_time": "2023-04-17T16:53:58.415Z"
      },
      {
        "duration": 124,
        "start_time": "2023-04-17T16:53:59.279Z"
      },
      {
        "duration": 4,
        "start_time": "2023-04-17T16:54:01.805Z"
      },
      {
        "duration": 29,
        "start_time": "2023-04-17T16:54:04.584Z"
      },
      {
        "duration": 12,
        "start_time": "2023-04-17T16:54:05.850Z"
      },
      {
        "duration": 74,
        "start_time": "2023-04-17T16:54:08.700Z"
      },
      {
        "duration": 1461,
        "start_time": "2023-04-17T16:54:42.211Z"
      },
      {
        "duration": 862,
        "start_time": "2023-04-17T16:54:45.151Z"
      },
      {
        "duration": 18,
        "start_time": "2023-04-17T16:54:46.015Z"
      },
      {
        "duration": 124,
        "start_time": "2023-04-17T16:54:49.528Z"
      },
      {
        "duration": 2,
        "start_time": "2023-04-17T16:54:52.592Z"
      },
      {
        "duration": 25,
        "start_time": "2023-04-17T16:54:52.891Z"
      },
      {
        "duration": 11,
        "start_time": "2023-04-17T16:54:53.688Z"
      },
      {
        "duration": 86,
        "start_time": "2023-04-17T16:54:54.050Z"
      },
      {
        "duration": 22,
        "start_time": "2023-04-17T16:55:04.701Z"
      },
      {
        "duration": 24,
        "start_time": "2023-04-17T16:55:05.401Z"
      },
      {
        "duration": 21,
        "start_time": "2023-04-17T16:55:09.101Z"
      },
      {
        "duration": 46,
        "start_time": "2023-04-17T16:55:10.588Z"
      },
      {
        "duration": 22,
        "start_time": "2023-04-17T16:55:11.794Z"
      },
      {
        "duration": 22,
        "start_time": "2023-04-17T16:55:17.491Z"
      },
      {
        "duration": 3,
        "start_time": "2023-04-17T16:55:20.119Z"
      },
      {
        "duration": 125,
        "start_time": "2023-04-17T16:55:26.080Z"
      },
      {
        "duration": 79,
        "start_time": "2023-04-17T16:55:28.642Z"
      },
      {
        "duration": 13,
        "start_time": "2023-04-17T16:55:29.031Z"
      },
      {
        "duration": 177,
        "start_time": "2023-04-17T16:55:39.085Z"
      },
      {
        "duration": 140,
        "start_time": "2023-04-17T16:55:42.317Z"
      },
      {
        "duration": 6,
        "start_time": "2023-04-17T16:55:44.302Z"
      },
      {
        "duration": 36,
        "start_time": "2023-04-17T16:55:50.751Z"
      },
      {
        "duration": 192,
        "start_time": "2023-04-17T16:55:51.689Z"
      },
      {
        "duration": 34,
        "start_time": "2023-04-17T16:55:57.535Z"
      },
      {
        "duration": 226,
        "start_time": "2023-04-17T16:56:03.680Z"
      },
      {
        "duration": 15,
        "start_time": "2023-04-17T16:56:14.435Z"
      },
      {
        "duration": 23,
        "start_time": "2023-04-17T16:56:15.036Z"
      },
      {
        "duration": 41,
        "start_time": "2023-04-17T16:56:27.207Z"
      },
      {
        "duration": 15,
        "start_time": "2023-04-17T16:56:30.910Z"
      },
      {
        "duration": 30,
        "start_time": "2023-04-17T16:56:31.370Z"
      },
      {
        "duration": 155,
        "start_time": "2023-04-17T16:57:09.016Z"
      },
      {
        "duration": 6,
        "start_time": "2023-04-17T16:57:09.441Z"
      },
      {
        "duration": 41,
        "start_time": "2023-04-17T16:57:18.511Z"
      },
      {
        "duration": 151,
        "start_time": "2023-04-17T16:57:22.308Z"
      },
      {
        "duration": 14,
        "start_time": "2023-04-17T16:57:25.552Z"
      },
      {
        "duration": 30,
        "start_time": "2023-04-17T16:57:25.802Z"
      },
      {
        "duration": 30,
        "start_time": "2023-04-17T17:00:24.485Z"
      },
      {
        "duration": 150,
        "start_time": "2023-04-17T17:00:24.705Z"
      },
      {
        "duration": 5,
        "start_time": "2023-04-17T17:00:27.532Z"
      },
      {
        "duration": 5,
        "start_time": "2023-04-17T17:00:29.349Z"
      },
      {
        "duration": 120,
        "start_time": "2023-04-17T17:09:17.284Z"
      },
      {
        "duration": 111,
        "start_time": "2023-04-17T17:09:28.906Z"
      },
      {
        "duration": 4,
        "start_time": "2023-04-17T17:09:34.121Z"
      },
      {
        "duration": 5,
        "start_time": "2023-04-17T17:09:35.110Z"
      },
      {
        "duration": 5,
        "start_time": "2023-04-17T17:09:35.424Z"
      },
      {
        "duration": 3,
        "start_time": "2023-04-17T17:09:42.889Z"
      },
      {
        "duration": 4,
        "start_time": "2023-04-17T17:09:43.742Z"
      },
      {
        "duration": 4,
        "start_time": "2023-04-17T17:09:44.338Z"
      },
      {
        "duration": 3203,
        "start_time": "2023-04-17T17:09:45.727Z"
      },
      {
        "duration": 0,
        "start_time": "2023-04-17T17:09:48.932Z"
      },
      {
        "duration": 3,
        "start_time": "2023-04-17T17:16:57.789Z"
      },
      {
        "duration": 3,
        "start_time": "2023-04-17T17:16:58.649Z"
      },
      {
        "duration": 3,
        "start_time": "2023-04-17T17:16:59.421Z"
      },
      {
        "duration": 1765,
        "start_time": "2023-04-17T17:17:02.617Z"
      },
      {
        "duration": 2,
        "start_time": "2023-04-17T17:18:36.370Z"
      },
      {
        "duration": 4,
        "start_time": "2023-04-17T17:18:37.017Z"
      },
      {
        "duration": 4,
        "start_time": "2023-04-17T17:18:38.556Z"
      },
      {
        "duration": 3,
        "start_time": "2023-04-17T17:18:39.134Z"
      },
      {
        "duration": 1721,
        "start_time": "2023-04-17T17:18:40.787Z"
      },
      {
        "duration": 4,
        "start_time": "2023-04-17T17:24:06.688Z"
      },
      {
        "duration": 20,
        "start_time": "2023-04-17T17:24:22.549Z"
      },
      {
        "duration": 4,
        "start_time": "2023-04-17T17:24:29.123Z"
      },
      {
        "duration": 3,
        "start_time": "2023-04-17T17:24:33.938Z"
      },
      {
        "duration": 5,
        "start_time": "2023-04-17T17:24:35.076Z"
      },
      {
        "duration": 4,
        "start_time": "2023-04-17T17:24:35.520Z"
      },
      {
        "duration": 1741,
        "start_time": "2023-04-17T17:24:36.421Z"
      },
      {
        "duration": 3,
        "start_time": "2023-04-17T17:24:54.838Z"
      },
      {
        "duration": 3,
        "start_time": "2023-04-17T17:24:55.085Z"
      },
      {
        "duration": 3,
        "start_time": "2023-04-17T17:24:55.823Z"
      },
      {
        "duration": 3,
        "start_time": "2023-04-17T17:24:56.536Z"
      },
      {
        "duration": 24,
        "start_time": "2023-04-17T18:50:48.702Z"
      },
      {
        "duration": 8,
        "start_time": "2023-04-17T18:51:56.794Z"
      },
      {
        "duration": 22,
        "start_time": "2023-04-17T18:52:29.757Z"
      },
      {
        "duration": 18,
        "start_time": "2023-04-17T18:52:50.251Z"
      },
      {
        "duration": 18,
        "start_time": "2023-04-17T18:54:09.822Z"
      },
      {
        "duration": 17,
        "start_time": "2023-04-17T18:54:27.405Z"
      },
      {
        "duration": 12,
        "start_time": "2023-04-17T18:55:01.840Z"
      },
      {
        "duration": 51,
        "start_time": "2023-04-18T15:59:02.168Z"
      },
      {
        "duration": 1639,
        "start_time": "2023-04-18T15:59:13.560Z"
      },
      {
        "duration": 1463,
        "start_time": "2023-04-18T15:59:25.536Z"
      },
      {
        "duration": 2996,
        "start_time": "2023-04-18T15:59:27.845Z"
      },
      {
        "duration": 21,
        "start_time": "2023-04-18T15:59:30.844Z"
      },
      {
        "duration": 223,
        "start_time": "2023-04-18T15:59:30.867Z"
      },
      {
        "duration": 3,
        "start_time": "2023-04-18T15:59:39.296Z"
      },
      {
        "duration": 25,
        "start_time": "2023-04-18T15:59:40.127Z"
      },
      {
        "duration": 11,
        "start_time": "2023-04-18T15:59:42.173Z"
      },
      {
        "duration": 82,
        "start_time": "2023-04-18T15:59:48.934Z"
      },
      {
        "duration": 20,
        "start_time": "2023-04-18T15:59:51.151Z"
      },
      {
        "duration": 23,
        "start_time": "2023-04-18T15:59:51.515Z"
      },
      {
        "duration": 22,
        "start_time": "2023-04-18T15:59:51.872Z"
      },
      {
        "duration": 47,
        "start_time": "2023-04-18T15:59:53.633Z"
      },
      {
        "duration": 22,
        "start_time": "2023-04-18T15:59:53.836Z"
      },
      {
        "duration": 20,
        "start_time": "2023-04-18T15:59:54.031Z"
      },
      {
        "duration": 2,
        "start_time": "2023-04-18T15:59:55.335Z"
      },
      {
        "duration": 127,
        "start_time": "2023-04-18T15:59:55.569Z"
      },
      {
        "duration": 79,
        "start_time": "2023-04-18T15:59:57.158Z"
      },
      {
        "duration": 11,
        "start_time": "2023-04-18T15:59:57.427Z"
      },
      {
        "duration": 154,
        "start_time": "2023-04-18T15:59:58.664Z"
      },
      {
        "duration": 164,
        "start_time": "2023-04-18T16:00:00.743Z"
      },
      {
        "duration": 6,
        "start_time": "2023-04-18T16:00:01.023Z"
      },
      {
        "duration": 36,
        "start_time": "2023-04-18T16:00:02.651Z"
      },
      {
        "duration": 180,
        "start_time": "2023-04-18T16:00:02.949Z"
      },
      {
        "duration": 228,
        "start_time": "2023-04-18T16:00:04.453Z"
      },
      {
        "duration": 25,
        "start_time": "2023-04-18T16:00:04.683Z"
      },
      {
        "duration": 33,
        "start_time": "2023-04-18T16:00:04.830Z"
      },
      {
        "duration": 32,
        "start_time": "2023-04-18T16:00:06.323Z"
      },
      {
        "duration": 14,
        "start_time": "2023-04-18T16:00:07.031Z"
      },
      {
        "duration": 29,
        "start_time": "2023-04-18T16:00:07.342Z"
      },
      {
        "duration": 144,
        "start_time": "2023-04-18T16:00:18.339Z"
      },
      {
        "duration": 6,
        "start_time": "2023-04-18T16:00:19.727Z"
      },
      {
        "duration": 30,
        "start_time": "2023-04-18T16:00:20.673Z"
      },
      {
        "duration": 127,
        "start_time": "2023-04-18T16:00:22.131Z"
      },
      {
        "duration": 14,
        "start_time": "2023-04-18T16:00:22.342Z"
      },
      {
        "duration": 28,
        "start_time": "2023-04-18T16:00:22.535Z"
      },
      {
        "duration": 30,
        "start_time": "2023-04-18T16:00:24.156Z"
      },
      {
        "duration": 126,
        "start_time": "2023-04-18T16:00:24.431Z"
      },
      {
        "duration": 5,
        "start_time": "2023-04-18T16:00:24.743Z"
      },
      {
        "duration": 4,
        "start_time": "2023-04-18T16:00:26.423Z"
      },
      {
        "duration": 3,
        "start_time": "2023-04-18T16:00:27.750Z"
      },
      {
        "duration": 2,
        "start_time": "2023-04-18T16:00:27.932Z"
      },
      {
        "duration": 5,
        "start_time": "2023-04-18T16:00:28.135Z"
      },
      {
        "duration": 2,
        "start_time": "2023-04-18T16:00:29.427Z"
      },
      {
        "duration": 121,
        "start_time": "2023-04-18T16:00:30.961Z"
      },
      {
        "duration": 4,
        "start_time": "2023-04-18T16:00:31.317Z"
      },
      {
        "duration": 4,
        "start_time": "2023-04-18T16:00:31.607Z"
      },
      {
        "duration": 4,
        "start_time": "2023-04-18T16:00:32.441Z"
      },
      {
        "duration": 16,
        "start_time": "2023-04-18T16:00:33.027Z"
      },
      {
        "duration": 11,
        "start_time": "2023-04-18T16:00:33.519Z"
      },
      {
        "duration": 17,
        "start_time": "2023-04-18T16:00:33.871Z"
      },
      {
        "duration": 43,
        "start_time": "2023-04-18T16:01:58.637Z"
      },
      {
        "duration": 24,
        "start_time": "2023-04-18T16:02:03.415Z"
      },
      {
        "duration": 16,
        "start_time": "2023-04-18T16:02:04.932Z"
      },
      {
        "duration": 11,
        "start_time": "2023-04-18T16:02:06.164Z"
      },
      {
        "duration": 132,
        "start_time": "2023-04-18T16:02:20.580Z"
      },
      {
        "duration": 47,
        "start_time": "2023-04-18T16:02:46.854Z"
      },
      {
        "duration": 580,
        "start_time": "2023-04-18T16:02:57.823Z"
      },
      {
        "duration": 2611,
        "start_time": "2023-04-18T16:02:58.405Z"
      },
      {
        "duration": 1424,
        "start_time": "2023-04-18T16:03:01.018Z"
      },
      {
        "duration": 831,
        "start_time": "2023-04-18T16:03:02.444Z"
      },
      {
        "duration": 17,
        "start_time": "2023-04-18T16:03:03.277Z"
      },
      {
        "duration": 146,
        "start_time": "2023-04-18T16:03:03.295Z"
      },
      {
        "duration": 3,
        "start_time": "2023-04-18T16:03:03.443Z"
      },
      {
        "duration": 32,
        "start_time": "2023-04-18T16:03:03.447Z"
      },
      {
        "duration": 28,
        "start_time": "2023-04-18T16:03:03.481Z"
      },
      {
        "duration": 91,
        "start_time": "2023-04-18T16:03:03.511Z"
      },
      {
        "duration": 23,
        "start_time": "2023-04-18T16:03:03.604Z"
      },
      {
        "duration": 42,
        "start_time": "2023-04-18T16:03:03.629Z"
      },
      {
        "duration": 29,
        "start_time": "2023-04-18T16:03:03.673Z"
      },
      {
        "duration": 48,
        "start_time": "2023-04-18T16:03:03.707Z"
      },
      {
        "duration": 39,
        "start_time": "2023-04-18T16:03:03.756Z"
      },
      {
        "duration": 26,
        "start_time": "2023-04-18T16:03:03.798Z"
      },
      {
        "duration": 5,
        "start_time": "2023-04-18T16:03:03.826Z"
      },
      {
        "duration": 135,
        "start_time": "2023-04-18T16:03:03.832Z"
      },
      {
        "duration": 96,
        "start_time": "2023-04-18T16:03:03.969Z"
      },
      {
        "duration": 14,
        "start_time": "2023-04-18T16:03:04.067Z"
      },
      {
        "duration": 178,
        "start_time": "2023-04-18T16:03:04.082Z"
      },
      {
        "duration": 148,
        "start_time": "2023-04-18T16:03:04.262Z"
      },
      {
        "duration": 6,
        "start_time": "2023-04-18T16:03:04.412Z"
      },
      {
        "duration": 49,
        "start_time": "2023-04-18T16:03:04.419Z"
      },
      {
        "duration": 181,
        "start_time": "2023-04-18T16:03:04.470Z"
      },
      {
        "duration": 236,
        "start_time": "2023-04-18T16:03:04.653Z"
      },
      {
        "duration": 15,
        "start_time": "2023-04-18T16:03:04.890Z"
      },
      {
        "duration": 32,
        "start_time": "2023-04-18T16:03:04.907Z"
      },
      {
        "duration": 48,
        "start_time": "2023-04-18T16:03:04.940Z"
      },
      {
        "duration": 14,
        "start_time": "2023-04-18T16:03:04.989Z"
      },
      {
        "duration": 29,
        "start_time": "2023-04-18T16:03:05.005Z"
      },
      {
        "duration": 168,
        "start_time": "2023-04-18T16:03:05.036Z"
      },
      {
        "duration": 5,
        "start_time": "2023-04-18T16:03:05.206Z"
      },
      {
        "duration": 42,
        "start_time": "2023-04-18T16:03:05.212Z"
      },
      {
        "duration": 141,
        "start_time": "2023-04-18T16:03:05.256Z"
      },
      {
        "duration": 14,
        "start_time": "2023-04-18T16:03:05.398Z"
      },
      {
        "duration": 27,
        "start_time": "2023-04-18T16:03:05.414Z"
      },
      {
        "duration": 30,
        "start_time": "2023-04-18T16:03:05.460Z"
      },
      {
        "duration": 165,
        "start_time": "2023-04-18T16:03:05.491Z"
      },
      {
        "duration": 6,
        "start_time": "2023-04-18T16:03:05.658Z"
      },
      {
        "duration": 6,
        "start_time": "2023-04-18T16:03:05.668Z"
      },
      {
        "duration": 9,
        "start_time": "2023-04-18T16:03:05.676Z"
      },
      {
        "duration": 18,
        "start_time": "2023-04-18T16:03:05.686Z"
      },
      {
        "duration": 20,
        "start_time": "2023-04-18T16:03:05.706Z"
      },
      {
        "duration": 30,
        "start_time": "2023-04-18T16:03:05.728Z"
      },
      {
        "duration": 1482,
        "start_time": "2023-04-18T16:03:37.839Z"
      },
      {
        "duration": 852,
        "start_time": "2023-04-18T16:03:39.323Z"
      },
      {
        "duration": 17,
        "start_time": "2023-04-18T16:03:40.176Z"
      },
      {
        "duration": 148,
        "start_time": "2023-04-18T16:03:40.196Z"
      },
      {
        "duration": 3,
        "start_time": "2023-04-18T16:03:40.346Z"
      },
      {
        "duration": 35,
        "start_time": "2023-04-18T16:03:40.358Z"
      },
      {
        "duration": 35,
        "start_time": "2023-04-18T16:03:40.395Z"
      },
      {
        "duration": 98,
        "start_time": "2023-04-18T16:03:40.432Z"
      },
      {
        "duration": 29,
        "start_time": "2023-04-18T16:03:40.532Z"
      },
      {
        "duration": 29,
        "start_time": "2023-04-18T16:03:40.563Z"
      },
      {
        "duration": 28,
        "start_time": "2023-04-18T16:03:40.594Z"
      },
      {
        "duration": 64,
        "start_time": "2023-04-18T16:03:40.624Z"
      },
      {
        "duration": 20,
        "start_time": "2023-04-18T16:03:40.689Z"
      },
      {
        "duration": 32,
        "start_time": "2023-04-18T16:03:40.710Z"
      },
      {
        "duration": 6,
        "start_time": "2023-04-18T16:03:40.743Z"
      },
      {
        "duration": 127,
        "start_time": "2023-04-18T16:03:40.750Z"
      },
      {
        "duration": 78,
        "start_time": "2023-04-18T16:03:41.023Z"
      },
      {
        "duration": 10,
        "start_time": "2023-04-18T16:03:41.166Z"
      },
      {
        "duration": 148,
        "start_time": "2023-04-18T16:03:41.332Z"
      },
      {
        "duration": 124,
        "start_time": "2023-04-18T16:03:42.007Z"
      },
      {
        "duration": 6,
        "start_time": "2023-04-18T16:03:42.133Z"
      },
      {
        "duration": 41,
        "start_time": "2023-04-18T16:03:42.469Z"
      },
      {
        "duration": 165,
        "start_time": "2023-04-18T16:03:42.632Z"
      },
      {
        "duration": 134,
        "start_time": "2023-04-18T16:03:43.141Z"
      },
      {
        "duration": 14,
        "start_time": "2023-04-18T16:03:43.277Z"
      },
      {
        "duration": 31,
        "start_time": "2023-04-18T16:03:43.431Z"
      },
      {
        "duration": 32,
        "start_time": "2023-04-18T16:03:43.750Z"
      },
      {
        "duration": 13,
        "start_time": "2023-04-18T16:03:44.130Z"
      },
      {
        "duration": 27,
        "start_time": "2023-04-18T16:03:44.319Z"
      },
      {
        "duration": 217,
        "start_time": "2023-04-18T16:03:45.265Z"
      },
      {
        "duration": 4,
        "start_time": "2023-04-18T16:03:45.484Z"
      },
      {
        "duration": 34,
        "start_time": "2023-04-18T16:03:46.120Z"
      },
      {
        "duration": 126,
        "start_time": "2023-04-18T16:03:46.641Z"
      },
      {
        "duration": 14,
        "start_time": "2023-04-18T16:03:46.843Z"
      },
      {
        "duration": 28,
        "start_time": "2023-04-18T16:03:47.048Z"
      },
      {
        "duration": 29,
        "start_time": "2023-04-18T16:03:47.707Z"
      },
      {
        "duration": 127,
        "start_time": "2023-04-18T16:03:47.875Z"
      },
      {
        "duration": 5,
        "start_time": "2023-04-18T16:03:48.046Z"
      },
      {
        "duration": 4,
        "start_time": "2023-04-18T16:03:48.410Z"
      },
      {
        "duration": 2,
        "start_time": "2023-04-18T16:03:49.115Z"
      },
      {
        "duration": 2,
        "start_time": "2023-04-18T16:03:49.264Z"
      },
      {
        "duration": 2,
        "start_time": "2023-04-18T16:03:49.468Z"
      },
      {
        "duration": 2,
        "start_time": "2023-04-18T16:03:50.407Z"
      },
      {
        "duration": 15,
        "start_time": "2023-04-18T16:03:51.441Z"
      },
      {
        "duration": 97,
        "start_time": "2023-04-18T16:03:53.739Z"
      },
      {
        "duration": 4,
        "start_time": "2023-04-18T16:03:54.034Z"
      },
      {
        "duration": 3,
        "start_time": "2023-04-18T16:03:54.679Z"
      },
      {
        "duration": 4,
        "start_time": "2023-04-18T16:03:55.054Z"
      },
      {
        "duration": 13,
        "start_time": "2023-04-18T16:03:59.032Z"
      },
      {
        "duration": 11,
        "start_time": "2023-04-18T16:03:59.931Z"
      },
      {
        "duration": 13,
        "start_time": "2023-04-18T16:04:05.918Z"
      },
      {
        "duration": 4,
        "start_time": "2023-04-18T16:15:08.737Z"
      },
      {
        "duration": 13,
        "start_time": "2023-04-18T16:15:43.935Z"
      },
      {
        "duration": 30,
        "start_time": "2023-04-18T16:15:46.739Z"
      },
      {
        "duration": 18,
        "start_time": "2023-04-18T16:15:50.429Z"
      },
      {
        "duration": 86,
        "start_time": "2023-04-18T16:16:38.222Z"
      },
      {
        "duration": 12,
        "start_time": "2023-04-18T16:16:46.941Z"
      },
      {
        "duration": 89,
        "start_time": "2023-04-18T16:17:16.332Z"
      },
      {
        "duration": 38,
        "start_time": "2023-04-18T16:17:32.011Z"
      },
      {
        "duration": 11,
        "start_time": "2023-04-18T16:21:39.354Z"
      },
      {
        "duration": 1585,
        "start_time": "2023-04-18T16:22:43.722Z"
      },
      {
        "duration": 1572,
        "start_time": "2023-04-18T16:22:45.309Z"
      },
      {
        "duration": 15,
        "start_time": "2023-04-18T16:22:46.883Z"
      },
      {
        "duration": 130,
        "start_time": "2023-04-18T16:22:46.900Z"
      },
      {
        "duration": 3,
        "start_time": "2023-04-18T16:22:47.032Z"
      },
      {
        "duration": 43,
        "start_time": "2023-04-18T16:22:47.036Z"
      },
      {
        "duration": 31,
        "start_time": "2023-04-18T16:22:47.080Z"
      },
      {
        "duration": 109,
        "start_time": "2023-04-18T16:22:47.113Z"
      },
      {
        "duration": 40,
        "start_time": "2023-04-18T16:22:47.224Z"
      },
      {
        "duration": 34,
        "start_time": "2023-04-18T16:22:47.266Z"
      },
      {
        "duration": 20,
        "start_time": "2023-04-18T16:22:47.514Z"
      },
      {
        "duration": 43,
        "start_time": "2023-04-18T16:22:47.785Z"
      },
      {
        "duration": 23,
        "start_time": "2023-04-18T16:22:48.249Z"
      },
      {
        "duration": 21,
        "start_time": "2023-04-18T16:22:48.826Z"
      },
      {
        "duration": 3,
        "start_time": "2023-04-18T16:22:49.152Z"
      },
      {
        "duration": 125,
        "start_time": "2023-04-18T16:22:49.614Z"
      },
      {
        "duration": 96,
        "start_time": "2023-04-18T16:22:50.187Z"
      },
      {
        "duration": 11,
        "start_time": "2023-04-18T16:22:50.334Z"
      },
      {
        "duration": 160,
        "start_time": "2023-04-18T16:22:50.522Z"
      },
      {
        "duration": 136,
        "start_time": "2023-04-18T16:22:51.250Z"
      },
      {
        "duration": 7,
        "start_time": "2023-04-18T16:22:51.445Z"
      },
      {
        "duration": 36,
        "start_time": "2023-04-18T16:22:52.226Z"
      },
      {
        "duration": 170,
        "start_time": "2023-04-18T16:22:52.618Z"
      },
      {
        "duration": 141,
        "start_time": "2023-04-18T16:22:53.237Z"
      },
      {
        "duration": 15,
        "start_time": "2023-04-18T16:22:53.476Z"
      },
      {
        "duration": 34,
        "start_time": "2023-04-18T16:22:53.650Z"
      },
      {
        "duration": 32,
        "start_time": "2023-04-18T16:22:54.253Z"
      },
      {
        "duration": 15,
        "start_time": "2023-04-18T16:22:54.782Z"
      },
      {
        "duration": 26,
        "start_time": "2023-04-18T16:22:54.940Z"
      },
      {
        "duration": 4,
        "start_time": "2023-04-18T16:22:55.830Z"
      },
      {
        "duration": 102,
        "start_time": "2023-04-18T16:22:56.415Z"
      },
      {
        "duration": 86,
        "start_time": "2023-04-18T16:22:57.123Z"
      },
      {
        "duration": 243,
        "start_time": "2023-04-18T16:22:57.715Z"
      },
      {
        "duration": 5,
        "start_time": "2023-04-18T16:22:58.514Z"
      },
      {
        "duration": 33,
        "start_time": "2023-04-18T16:22:59.243Z"
      },
      {
        "duration": 159,
        "start_time": "2023-04-18T16:22:59.939Z"
      },
      {
        "duration": 14,
        "start_time": "2023-04-18T16:23:00.385Z"
      },
      {
        "duration": 31,
        "start_time": "2023-04-18T16:23:00.540Z"
      },
      {
        "duration": 28,
        "start_time": "2023-04-18T16:23:00.947Z"
      },
      {
        "duration": 140,
        "start_time": "2023-04-18T16:23:01.426Z"
      },
      {
        "duration": 5,
        "start_time": "2023-04-18T16:23:01.584Z"
      },
      {
        "duration": 4,
        "start_time": "2023-04-18T16:23:02.178Z"
      },
      {
        "duration": 3,
        "start_time": "2023-04-18T16:23:03.079Z"
      },
      {
        "duration": 2,
        "start_time": "2023-04-18T16:23:03.223Z"
      },
      {
        "duration": 3,
        "start_time": "2023-04-18T16:23:03.422Z"
      },
      {
        "duration": 2,
        "start_time": "2023-04-18T16:23:04.149Z"
      },
      {
        "duration": 17,
        "start_time": "2023-04-18T16:23:05.879Z"
      },
      {
        "duration": 100,
        "start_time": "2023-04-18T16:23:07.048Z"
      },
      {
        "duration": 4,
        "start_time": "2023-04-18T16:23:07.485Z"
      },
      {
        "duration": 4,
        "start_time": "2023-04-18T16:23:07.822Z"
      },
      {
        "duration": 4,
        "start_time": "2023-04-18T16:23:08.486Z"
      },
      {
        "duration": 19,
        "start_time": "2023-04-18T16:23:08.813Z"
      },
      {
        "duration": 6,
        "start_time": "2023-04-18T16:23:09.346Z"
      },
      {
        "duration": 11,
        "start_time": "2023-04-18T16:23:14.036Z"
      },
      {
        "duration": 4,
        "start_time": "2023-04-18T16:26:30.927Z"
      },
      {
        "duration": 123,
        "start_time": "2023-04-18T16:28:09.850Z"
      },
      {
        "duration": 14,
        "start_time": "2023-04-18T16:28:19.623Z"
      },
      {
        "duration": 19,
        "start_time": "2023-04-18T16:28:51.203Z"
      },
      {
        "duration": 3,
        "start_time": "2023-04-18T16:29:20.618Z"
      },
      {
        "duration": 78,
        "start_time": "2023-04-18T16:29:21.150Z"
      },
      {
        "duration": 967,
        "start_time": "2023-04-18T16:30:30.043Z"
      },
      {
        "duration": 10,
        "start_time": "2023-04-18T16:31:34.822Z"
      },
      {
        "duration": 858,
        "start_time": "2023-04-18T16:32:15.818Z"
      },
      {
        "duration": 912,
        "start_time": "2023-04-18T16:33:30.872Z"
      },
      {
        "duration": 3,
        "start_time": "2023-04-18T16:34:12.567Z"
      },
      {
        "duration": 22,
        "start_time": "2023-04-18T16:34:14.979Z"
      },
      {
        "duration": 4,
        "start_time": "2023-04-18T16:34:22.611Z"
      },
      {
        "duration": 51,
        "start_time": "2023-04-18T16:34:23.122Z"
      },
      {
        "duration": 883,
        "start_time": "2023-04-18T16:34:24.826Z"
      },
      {
        "duration": 843,
        "start_time": "2023-04-18T16:35:35.453Z"
      },
      {
        "duration": 14,
        "start_time": "2023-04-18T16:37:26.419Z"
      },
      {
        "duration": 6,
        "start_time": "2023-04-18T16:41:00.119Z"
      },
      {
        "duration": 948,
        "start_time": "2023-04-18T16:41:27.614Z"
      },
      {
        "duration": 54810,
        "start_time": "2023-04-18T16:41:44.032Z"
      },
      {
        "duration": 305,
        "start_time": "2023-04-18T16:42:47.314Z"
      },
      {
        "duration": 13,
        "start_time": "2023-04-18T16:42:55.344Z"
      },
      {
        "duration": 27,
        "start_time": "2023-04-18T16:42:58.330Z"
      },
      {
        "duration": 2,
        "start_time": "2023-04-18T16:51:05.737Z"
      },
      {
        "duration": 3,
        "start_time": "2023-04-18T16:51:16.246Z"
      },
      {
        "duration": 3,
        "start_time": "2023-04-18T16:51:30.212Z"
      },
      {
        "duration": 3,
        "start_time": "2023-04-18T16:51:30.706Z"
      },
      {
        "duration": 3,
        "start_time": "2023-04-18T16:51:31.006Z"
      },
      {
        "duration": 3,
        "start_time": "2023-04-18T16:51:34.549Z"
      },
      {
        "duration": 3,
        "start_time": "2023-04-18T16:51:37.212Z"
      },
      {
        "duration": 22,
        "start_time": "2023-04-18T16:53:10.613Z"
      },
      {
        "duration": 1689,
        "start_time": "2023-04-18T16:53:25.144Z"
      },
      {
        "duration": 3140,
        "start_time": "2023-04-18T16:53:26.835Z"
      },
      {
        "duration": 23,
        "start_time": "2023-04-18T16:53:29.979Z"
      },
      {
        "duration": 191,
        "start_time": "2023-04-18T16:53:30.005Z"
      },
      {
        "duration": 4,
        "start_time": "2023-04-18T16:53:30.198Z"
      },
      {
        "duration": 71,
        "start_time": "2023-04-18T16:53:30.204Z"
      },
      {
        "duration": 44,
        "start_time": "2023-04-18T16:53:30.277Z"
      },
      {
        "duration": 141,
        "start_time": "2023-04-18T16:53:30.322Z"
      },
      {
        "duration": 21,
        "start_time": "2023-04-18T16:53:30.464Z"
      },
      {
        "duration": 55,
        "start_time": "2023-04-18T16:53:30.488Z"
      },
      {
        "duration": 79,
        "start_time": "2023-04-18T16:53:30.545Z"
      },
      {
        "duration": 65,
        "start_time": "2023-04-18T16:53:30.626Z"
      },
      {
        "duration": 22,
        "start_time": "2023-04-18T16:53:30.695Z"
      },
      {
        "duration": 36,
        "start_time": "2023-04-18T16:53:30.720Z"
      },
      {
        "duration": 30,
        "start_time": "2023-04-18T16:53:30.758Z"
      },
      {
        "duration": 172,
        "start_time": "2023-04-18T16:53:30.790Z"
      },
      {
        "duration": 104,
        "start_time": "2023-04-18T16:53:30.964Z"
      },
      {
        "duration": 53,
        "start_time": "2023-04-18T16:53:31.070Z"
      },
      {
        "duration": 205,
        "start_time": "2023-04-18T16:53:31.126Z"
      },
      {
        "duration": 156,
        "start_time": "2023-04-18T16:53:31.333Z"
      },
      {
        "duration": 8,
        "start_time": "2023-04-18T16:53:31.492Z"
      },
      {
        "duration": 48,
        "start_time": "2023-04-18T16:53:31.502Z"
      },
      {
        "duration": 182,
        "start_time": "2023-04-18T16:53:31.565Z"
      },
      {
        "duration": 239,
        "start_time": "2023-04-18T16:53:31.749Z"
      },
      {
        "duration": 26,
        "start_time": "2023-04-18T16:53:31.991Z"
      },
      {
        "duration": 44,
        "start_time": "2023-04-18T16:53:32.019Z"
      },
      {
        "duration": 33,
        "start_time": "2023-04-18T16:53:32.065Z"
      },
      {
        "duration": 14,
        "start_time": "2023-04-18T16:53:32.100Z"
      },
      {
        "duration": 44,
        "start_time": "2023-04-18T16:53:32.116Z"
      },
      {
        "duration": 4,
        "start_time": "2023-04-18T16:53:32.162Z"
      },
      {
        "duration": 125,
        "start_time": "2023-04-18T16:53:32.169Z"
      },
      {
        "duration": 116,
        "start_time": "2023-04-18T16:53:32.298Z"
      },
      {
        "duration": 170,
        "start_time": "2023-04-18T16:53:32.419Z"
      },
      {
        "duration": 7,
        "start_time": "2023-04-18T16:53:32.611Z"
      },
      {
        "duration": 48,
        "start_time": "2023-04-18T16:53:32.910Z"
      },
      {
        "duration": 163,
        "start_time": "2023-04-18T16:53:33.738Z"
      },
      {
        "duration": 13,
        "start_time": "2023-04-18T16:53:33.903Z"
      },
      {
        "duration": 37,
        "start_time": "2023-04-18T16:53:34.050Z"
      },
      {
        "duration": 26,
        "start_time": "2023-04-18T16:53:34.397Z"
      },
      {
        "duration": 162,
        "start_time": "2023-04-18T16:53:34.530Z"
      },
      {
        "duration": 5,
        "start_time": "2023-04-18T16:53:34.710Z"
      },
      {
        "duration": 4,
        "start_time": "2023-04-18T16:53:35.310Z"
      },
      {
        "duration": 3,
        "start_time": "2023-04-18T16:53:36.445Z"
      },
      {
        "duration": 3,
        "start_time": "2023-04-18T16:53:36.644Z"
      },
      {
        "duration": 3,
        "start_time": "2023-04-18T16:53:36.870Z"
      },
      {
        "duration": 2,
        "start_time": "2023-04-18T16:53:37.742Z"
      },
      {
        "duration": 21,
        "start_time": "2023-04-18T16:53:38.537Z"
      },
      {
        "duration": 111,
        "start_time": "2023-04-18T16:53:39.358Z"
      },
      {
        "duration": 5,
        "start_time": "2023-04-18T16:53:39.622Z"
      },
      {
        "duration": 4,
        "start_time": "2023-04-18T16:53:40.542Z"
      },
      {
        "duration": 5,
        "start_time": "2023-04-18T16:53:41.058Z"
      },
      {
        "duration": 11,
        "start_time": "2023-04-18T16:53:41.712Z"
      },
      {
        "duration": 71,
        "start_time": "2023-04-18T16:53:45.799Z"
      },
      {
        "duration": 21,
        "start_time": "2023-04-18T16:55:16.650Z"
      },
      {
        "duration": 17,
        "start_time": "2023-04-18T16:55:20.832Z"
      },
      {
        "duration": 722,
        "start_time": "2023-04-18T16:56:20.315Z"
      },
      {
        "duration": 645,
        "start_time": "2023-04-18T16:56:35.706Z"
      },
      {
        "duration": 561,
        "start_time": "2023-04-18T16:57:44.425Z"
      },
      {
        "duration": 1632,
        "start_time": "2023-04-18T16:58:07.303Z"
      },
      {
        "duration": 970,
        "start_time": "2023-04-18T16:58:08.937Z"
      },
      {
        "duration": 24,
        "start_time": "2023-04-18T16:58:09.909Z"
      },
      {
        "duration": 309,
        "start_time": "2023-04-18T16:58:09.936Z"
      },
      {
        "duration": 12,
        "start_time": "2023-04-18T16:58:10.248Z"
      },
      {
        "duration": 32,
        "start_time": "2023-04-18T16:58:10.263Z"
      },
      {
        "duration": 20,
        "start_time": "2023-04-18T16:58:10.297Z"
      },
      {
        "duration": 106,
        "start_time": "2023-04-18T16:58:10.319Z"
      },
      {
        "duration": 34,
        "start_time": "2023-04-18T16:58:10.427Z"
      },
      {
        "duration": 27,
        "start_time": "2023-04-18T16:58:10.463Z"
      },
      {
        "duration": 24,
        "start_time": "2023-04-18T16:58:10.492Z"
      },
      {
        "duration": 95,
        "start_time": "2023-04-18T16:58:10.517Z"
      },
      {
        "duration": 31,
        "start_time": "2023-04-18T16:58:10.615Z"
      },
      {
        "duration": 29,
        "start_time": "2023-04-18T16:58:10.660Z"
      },
      {
        "duration": 7,
        "start_time": "2023-04-18T16:58:10.691Z"
      },
      {
        "duration": 233,
        "start_time": "2023-04-18T16:58:10.700Z"
      },
      {
        "duration": 188,
        "start_time": "2023-04-18T16:58:10.936Z"
      },
      {
        "duration": 32,
        "start_time": "2023-04-18T16:58:11.127Z"
      },
      {
        "duration": 211,
        "start_time": "2023-04-18T16:58:11.162Z"
      },
      {
        "duration": 174,
        "start_time": "2023-04-18T16:58:11.376Z"
      },
      {
        "duration": 7,
        "start_time": "2023-04-18T16:58:11.559Z"
      },
      {
        "duration": 38,
        "start_time": "2023-04-18T16:58:11.644Z"
      },
      {
        "duration": 182,
        "start_time": "2023-04-18T16:58:11.802Z"
      },
      {
        "duration": 229,
        "start_time": "2023-04-18T16:58:12.302Z"
      },
      {
        "duration": 28,
        "start_time": "2023-04-18T16:58:12.534Z"
      },
      {
        "duration": 34,
        "start_time": "2023-04-18T16:58:12.607Z"
      },
      {
        "duration": 52,
        "start_time": "2023-04-18T16:58:12.918Z"
      },
      {
        "duration": 20,
        "start_time": "2023-04-18T16:58:13.416Z"
      },
      {
        "duration": 41,
        "start_time": "2023-04-18T16:58:13.540Z"
      },
      {
        "duration": 5,
        "start_time": "2023-04-18T16:58:13.910Z"
      },
      {
        "duration": 107,
        "start_time": "2023-04-18T16:58:14.346Z"
      },
      {
        "duration": 99,
        "start_time": "2023-04-18T16:58:14.502Z"
      },
      {
        "duration": 171,
        "start_time": "2023-04-18T16:58:14.617Z"
      },
      {
        "duration": 10,
        "start_time": "2023-04-18T16:58:14.791Z"
      },
      {
        "duration": 48,
        "start_time": "2023-04-18T16:58:15.510Z"
      },
      {
        "duration": 178,
        "start_time": "2023-04-18T16:58:16.210Z"
      },
      {
        "duration": 18,
        "start_time": "2023-04-18T16:58:16.390Z"
      },
      {
        "duration": 37,
        "start_time": "2023-04-18T16:58:16.616Z"
      },
      {
        "duration": 34,
        "start_time": "2023-04-18T16:58:16.914Z"
      },
      {
        "duration": 163,
        "start_time": "2023-04-18T16:58:17.053Z"
      },
      {
        "duration": 5,
        "start_time": "2023-04-18T16:58:17.219Z"
      },
      {
        "duration": 5,
        "start_time": "2023-04-18T16:58:17.443Z"
      },
      {
        "duration": 3,
        "start_time": "2023-04-18T16:58:18.007Z"
      },
      {
        "duration": 2,
        "start_time": "2023-04-18T16:58:18.212Z"
      },
      {
        "duration": 3,
        "start_time": "2023-04-18T16:58:18.414Z"
      },
      {
        "duration": 3,
        "start_time": "2023-04-18T16:58:18.718Z"
      },
      {
        "duration": 21,
        "start_time": "2023-04-18T16:58:19.428Z"
      },
      {
        "duration": 117,
        "start_time": "2023-04-18T16:58:19.610Z"
      },
      {
        "duration": 6,
        "start_time": "2023-04-18T16:58:19.811Z"
      },
      {
        "duration": 5,
        "start_time": "2023-04-18T16:58:20.102Z"
      },
      {
        "duration": 5,
        "start_time": "2023-04-18T16:58:20.707Z"
      },
      {
        "duration": 19,
        "start_time": "2023-04-18T16:58:21.411Z"
      },
      {
        "duration": 82,
        "start_time": "2023-04-18T16:58:23.998Z"
      },
      {
        "duration": 52,
        "start_time": "2023-04-18T16:58:25.036Z"
      },
      {
        "duration": 3,
        "start_time": "2023-04-18T17:00:08.310Z"
      },
      {
        "duration": 675,
        "start_time": "2023-04-18T17:00:29.653Z"
      },
      {
        "duration": 122,
        "start_time": "2023-04-18T17:00:47.907Z"
      },
      {
        "duration": 1527,
        "start_time": "2023-04-18T17:01:02.670Z"
      },
      {
        "duration": 964,
        "start_time": "2023-04-18T17:01:04.199Z"
      },
      {
        "duration": 20,
        "start_time": "2023-04-18T17:01:05.165Z"
      },
      {
        "duration": 181,
        "start_time": "2023-04-18T17:01:05.189Z"
      },
      {
        "duration": 4,
        "start_time": "2023-04-18T17:01:05.372Z"
      },
      {
        "duration": 38,
        "start_time": "2023-04-18T17:01:05.378Z"
      },
      {
        "duration": 13,
        "start_time": "2023-04-18T17:01:05.418Z"
      },
      {
        "duration": 107,
        "start_time": "2023-04-18T17:01:05.433Z"
      },
      {
        "duration": 30,
        "start_time": "2023-04-18T17:01:05.542Z"
      },
      {
        "duration": 30,
        "start_time": "2023-04-18T17:01:05.576Z"
      },
      {
        "duration": 31,
        "start_time": "2023-04-18T17:01:05.608Z"
      },
      {
        "duration": 78,
        "start_time": "2023-04-18T17:01:05.642Z"
      },
      {
        "duration": 21,
        "start_time": "2023-04-18T17:01:05.722Z"
      },
      {
        "duration": 40,
        "start_time": "2023-04-18T17:01:05.760Z"
      },
      {
        "duration": 23,
        "start_time": "2023-04-18T17:01:05.803Z"
      },
      {
        "duration": 161,
        "start_time": "2023-04-18T17:01:05.829Z"
      },
      {
        "duration": 87,
        "start_time": "2023-04-18T17:01:06.089Z"
      },
      {
        "duration": 15,
        "start_time": "2023-04-18T17:01:06.212Z"
      },
      {
        "duration": 177,
        "start_time": "2023-04-18T17:01:06.366Z"
      },
      {
        "duration": 142,
        "start_time": "2023-04-18T17:01:06.994Z"
      },
      {
        "duration": 7,
        "start_time": "2023-04-18T17:01:07.138Z"
      },
      {
        "duration": 38,
        "start_time": "2023-04-18T17:01:07.404Z"
      },
      {
        "duration": 183,
        "start_time": "2023-04-18T17:01:07.530Z"
      },
      {
        "duration": 146,
        "start_time": "2023-04-18T17:01:08.016Z"
      },
      {
        "duration": 17,
        "start_time": "2023-04-18T17:01:08.165Z"
      },
      {
        "duration": 35,
        "start_time": "2023-04-18T17:01:08.309Z"
      },
      {
        "duration": 35,
        "start_time": "2023-04-18T17:01:08.613Z"
      },
      {
        "duration": 15,
        "start_time": "2023-04-18T17:01:08.906Z"
      },
      {
        "duration": 29,
        "start_time": "2023-04-18T17:01:09.090Z"
      },
      {
        "duration": 4,
        "start_time": "2023-04-18T17:01:09.406Z"
      },
      {
        "duration": 197,
        "start_time": "2023-04-18T17:01:09.517Z"
      },
      {
        "duration": 117,
        "start_time": "2023-04-18T17:01:09.717Z"
      },
      {
        "duration": 288,
        "start_time": "2023-04-18T17:01:09.837Z"
      },
      {
        "duration": 5,
        "start_time": "2023-04-18T17:01:10.127Z"
      },
      {
        "duration": 33,
        "start_time": "2023-04-18T17:01:10.246Z"
      },
      {
        "duration": 146,
        "start_time": "2023-04-18T17:01:10.795Z"
      },
      {
        "duration": 23,
        "start_time": "2023-04-18T17:01:10.943Z"
      },
      {
        "duration": 28,
        "start_time": "2023-04-18T17:01:11.044Z"
      },
      {
        "duration": 28,
        "start_time": "2023-04-18T17:01:11.344Z"
      },
      {
        "duration": 144,
        "start_time": "2023-04-18T17:01:11.522Z"
      },
      {
        "duration": 6,
        "start_time": "2023-04-18T17:01:11.693Z"
      },
      {
        "duration": 4,
        "start_time": "2023-04-18T17:01:12.045Z"
      },
      {
        "duration": 4,
        "start_time": "2023-04-18T17:01:12.767Z"
      },
      {
        "duration": 3,
        "start_time": "2023-04-18T17:01:12.918Z"
      },
      {
        "duration": 3,
        "start_time": "2023-04-18T17:01:13.044Z"
      },
      {
        "duration": 3,
        "start_time": "2023-04-18T17:01:13.334Z"
      },
      {
        "duration": 24,
        "start_time": "2023-04-18T17:01:13.708Z"
      },
      {
        "duration": 114,
        "start_time": "2023-04-18T17:01:13.906Z"
      },
      {
        "duration": 4,
        "start_time": "2023-04-18T17:01:14.094Z"
      },
      {
        "duration": 5,
        "start_time": "2023-04-18T17:01:14.232Z"
      },
      {
        "duration": 6,
        "start_time": "2023-04-18T17:01:14.423Z"
      },
      {
        "duration": 11,
        "start_time": "2023-04-18T17:01:14.968Z"
      },
      {
        "duration": 3,
        "start_time": "2023-04-18T17:01:15.353Z"
      },
      {
        "duration": 684,
        "start_time": "2023-04-18T17:01:16.518Z"
      },
      {
        "duration": 123,
        "start_time": "2023-04-18T17:01:18.210Z"
      },
      {
        "duration": 371,
        "start_time": "2023-04-18T17:01:34.011Z"
      },
      {
        "duration": 15,
        "start_time": "2023-04-18T17:01:41.698Z"
      },
      {
        "duration": 6,
        "start_time": "2023-04-18T17:04:26.935Z"
      },
      {
        "duration": 3,
        "start_time": "2023-04-18T17:04:56.610Z"
      },
      {
        "duration": 3,
        "start_time": "2023-04-18T17:05:04.270Z"
      },
      {
        "duration": 3,
        "start_time": "2023-04-18T17:05:08.464Z"
      },
      {
        "duration": 630,
        "start_time": "2023-04-18T17:08:13.406Z"
      },
      {
        "duration": 2334,
        "start_time": "2023-04-18T17:08:14.039Z"
      },
      {
        "duration": 1504,
        "start_time": "2023-04-18T17:08:16.375Z"
      },
      {
        "duration": 1036,
        "start_time": "2023-04-18T17:08:17.881Z"
      },
      {
        "duration": 18,
        "start_time": "2023-04-18T17:08:18.919Z"
      },
      {
        "duration": 161,
        "start_time": "2023-04-18T17:08:18.939Z"
      },
      {
        "duration": 3,
        "start_time": "2023-04-18T17:08:19.103Z"
      },
      {
        "duration": 43,
        "start_time": "2023-04-18T17:08:19.109Z"
      },
      {
        "duration": 43,
        "start_time": "2023-04-18T17:08:19.154Z"
      },
      {
        "duration": 163,
        "start_time": "2023-04-18T17:08:19.199Z"
      },
      {
        "duration": 26,
        "start_time": "2023-04-18T17:08:19.365Z"
      },
      {
        "duration": 33,
        "start_time": "2023-04-18T17:08:19.393Z"
      },
      {
        "duration": 33,
        "start_time": "2023-04-18T17:08:19.428Z"
      },
      {
        "duration": 44,
        "start_time": "2023-04-18T17:08:19.465Z"
      },
      {
        "duration": 22,
        "start_time": "2023-04-18T17:08:19.510Z"
      },
      {
        "duration": 47,
        "start_time": "2023-04-18T17:08:19.534Z"
      },
      {
        "duration": 5,
        "start_time": "2023-04-18T17:08:19.583Z"
      },
      {
        "duration": 210,
        "start_time": "2023-04-18T17:08:19.590Z"
      },
      {
        "duration": 124,
        "start_time": "2023-04-18T17:08:19.806Z"
      },
      {
        "duration": 14,
        "start_time": "2023-04-18T17:08:19.932Z"
      },
      {
        "duration": 175,
        "start_time": "2023-04-18T17:08:19.959Z"
      },
      {
        "duration": 159,
        "start_time": "2023-04-18T17:08:20.136Z"
      },
      {
        "duration": 8,
        "start_time": "2023-04-18T17:08:20.297Z"
      },
      {
        "duration": 63,
        "start_time": "2023-04-18T17:08:20.308Z"
      },
      {
        "duration": 203,
        "start_time": "2023-04-18T17:08:20.373Z"
      },
      {
        "duration": 240,
        "start_time": "2023-04-18T17:08:20.578Z"
      },
      {
        "duration": 16,
        "start_time": "2023-04-18T17:08:20.820Z"
      },
      {
        "duration": 43,
        "start_time": "2023-04-18T17:08:20.837Z"
      },
      {
        "duration": 36,
        "start_time": "2023-04-18T17:08:20.882Z"
      },
      {
        "duration": 15,
        "start_time": "2023-04-18T17:08:20.920Z"
      },
      {
        "duration": 50,
        "start_time": "2023-04-18T17:08:20.936Z"
      },
      {
        "duration": 4,
        "start_time": "2023-04-18T17:08:20.987Z"
      },
      {
        "duration": 125,
        "start_time": "2023-04-18T17:08:20.993Z"
      },
      {
        "duration": 96,
        "start_time": "2023-04-18T17:08:21.119Z"
      },
      {
        "duration": 174,
        "start_time": "2023-04-18T17:08:21.217Z"
      },
      {
        "duration": 5,
        "start_time": "2023-04-18T17:08:21.393Z"
      },
      {
        "duration": 63,
        "start_time": "2023-04-18T17:08:21.400Z"
      },
      {
        "duration": 166,
        "start_time": "2023-04-18T17:08:21.465Z"
      },
      {
        "duration": 27,
        "start_time": "2023-04-18T17:08:21.633Z"
      },
      {
        "duration": 40,
        "start_time": "2023-04-18T17:08:21.662Z"
      },
      {
        "duration": 52,
        "start_time": "2023-04-18T17:08:21.709Z"
      },
      {
        "duration": 155,
        "start_time": "2023-04-18T17:08:21.764Z"
      },
      {
        "duration": 6,
        "start_time": "2023-04-18T17:08:21.921Z"
      },
      {
        "duration": 7,
        "start_time": "2023-04-18T17:08:21.929Z"
      },
      {
        "duration": 22,
        "start_time": "2023-04-18T17:08:21.938Z"
      },
      {
        "duration": 7,
        "start_time": "2023-04-18T17:08:21.962Z"
      },
      {
        "duration": 4,
        "start_time": "2023-04-18T17:08:21.971Z"
      },
      {
        "duration": 4,
        "start_time": "2023-04-18T17:08:21.977Z"
      },
      {
        "duration": 20,
        "start_time": "2023-04-18T17:08:21.982Z"
      },
      {
        "duration": 133,
        "start_time": "2023-04-18T17:08:22.004Z"
      },
      {
        "duration": 4,
        "start_time": "2023-04-18T17:08:22.139Z"
      },
      {
        "duration": 17,
        "start_time": "2023-04-18T17:08:22.145Z"
      },
      {
        "duration": 15,
        "start_time": "2023-04-18T17:08:22.164Z"
      },
      {
        "duration": 20,
        "start_time": "2023-04-18T17:08:22.181Z"
      },
      {
        "duration": 4,
        "start_time": "2023-04-18T17:08:22.204Z"
      },
      {
        "duration": 242,
        "start_time": "2023-04-18T17:08:22.210Z"
      },
      {
        "duration": 315,
        "start_time": "2023-04-18T17:08:51.737Z"
      },
      {
        "duration": 10,
        "start_time": "2023-04-18T17:10:03.920Z"
      },
      {
        "duration": 662,
        "start_time": "2023-04-18T17:10:07.218Z"
      },
      {
        "duration": 361,
        "start_time": "2023-04-18T17:10:09.118Z"
      },
      {
        "duration": 30,
        "start_time": "2023-04-18T17:10:22.272Z"
      },
      {
        "duration": 6,
        "start_time": "2023-04-18T17:10:47.075Z"
      },
      {
        "duration": 3,
        "start_time": "2023-04-18T17:10:50.265Z"
      },
      {
        "duration": 3,
        "start_time": "2023-04-18T17:10:51.480Z"
      },
      {
        "duration": 3,
        "start_time": "2023-04-18T17:10:52.318Z"
      },
      {
        "duration": 925,
        "start_time": "2023-04-18T17:10:55.218Z"
      },
      {
        "duration": 1686,
        "start_time": "2023-04-18T17:13:46.422Z"
      },
      {
        "duration": 3,
        "start_time": "2023-04-18T17:14:24.410Z"
      },
      {
        "duration": 4,
        "start_time": "2023-04-18T17:14:24.981Z"
      },
      {
        "duration": 3,
        "start_time": "2023-04-18T17:14:27.022Z"
      },
      {
        "duration": 201663,
        "start_time": "2023-04-18T17:14:27.322Z"
      },
      {
        "duration": 0,
        "start_time": "2023-04-18T17:17:48.987Z"
      },
      {
        "duration": 3,
        "start_time": "2023-04-18T17:17:51.527Z"
      },
      {
        "duration": 3,
        "start_time": "2023-04-18T17:17:53.434Z"
      },
      {
        "duration": 2519,
        "start_time": "2023-04-18T17:17:54.683Z"
      },
      {
        "duration": 3,
        "start_time": "2023-04-18T17:18:24.722Z"
      },
      {
        "duration": 3,
        "start_time": "2023-04-18T17:18:25.084Z"
      },
      {
        "duration": 2,
        "start_time": "2023-04-18T17:18:25.477Z"
      },
      {
        "duration": 978,
        "start_time": "2023-04-18T17:18:26.322Z"
      },
      {
        "duration": 2,
        "start_time": "2023-04-18T17:19:28.653Z"
      },
      {
        "duration": 3,
        "start_time": "2023-04-18T17:19:29.215Z"
      },
      {
        "duration": 6,
        "start_time": "2023-04-18T17:19:31.026Z"
      },
      {
        "duration": 1193943,
        "start_time": "2023-04-18T17:19:35.434Z"
      },
      {
        "duration": 80,
        "start_time": "2023-04-18T17:39:29.380Z"
      },
      {
        "duration": 5,
        "start_time": "2023-04-18T17:39:29.462Z"
      },
      {
        "duration": 5,
        "start_time": "2023-04-18T17:39:29.469Z"
      },
      {
        "duration": 9,
        "start_time": "2023-04-18T17:44:26.084Z"
      },
      {
        "duration": 11,
        "start_time": "2023-04-18T17:44:41.008Z"
      },
      {
        "duration": 10,
        "start_time": "2023-04-18T17:45:35.948Z"
      },
      {
        "duration": 92450,
        "start_time": "2023-04-18T17:45:40.420Z"
      },
      {
        "duration": 2294,
        "start_time": "2023-04-18T17:47:12.872Z"
      },
      {
        "duration": 4,
        "start_time": "2023-04-18T17:47:15.168Z"
      },
      {
        "duration": 10,
        "start_time": "2023-04-18T17:47:15.175Z"
      },
      {
        "duration": 11,
        "start_time": "2023-04-18T17:47:53.440Z"
      },
      {
        "duration": 2125,
        "start_time": "2023-04-18T17:48:25.150Z"
      },
      {
        "duration": 4,
        "start_time": "2023-04-18T17:48:28.727Z"
      },
      {
        "duration": 4,
        "start_time": "2023-04-18T17:48:28.910Z"
      },
      {
        "duration": 58,
        "start_time": "2023-04-18T17:48:34.410Z"
      },
      {
        "duration": 25,
        "start_time": "2023-04-18T17:48:35.806Z"
      },
      {
        "duration": 6,
        "start_time": "2023-04-18T17:48:36.209Z"
      },
      {
        "duration": 2,
        "start_time": "2023-04-18T17:48:36.751Z"
      },
      {
        "duration": 3,
        "start_time": "2023-04-18T17:48:37.118Z"
      },
      {
        "duration": 16,
        "start_time": "2023-04-18T17:48:38.076Z"
      },
      {
        "duration": 4,
        "start_time": "2023-04-18T17:49:18.918Z"
      },
      {
        "duration": 3,
        "start_time": "2023-04-18T17:49:20.019Z"
      },
      {
        "duration": 3,
        "start_time": "2023-04-18T17:49:20.715Z"
      },
      {
        "duration": 229022,
        "start_time": "2023-04-18T17:49:21.707Z"
      },
      {
        "duration": 3,
        "start_time": "2023-04-18T17:53:15.110Z"
      },
      {
        "duration": 4,
        "start_time": "2023-04-18T17:53:21.835Z"
      },
      {
        "duration": 10,
        "start_time": "2023-04-18T17:53:29.594Z"
      },
      {
        "duration": 700,
        "start_time": "2023-04-18T17:53:35.209Z"
      },
      {
        "duration": 16,
        "start_time": "2023-04-18T17:55:07.341Z"
      },
      {
        "duration": 2080,
        "start_time": "2023-04-18T17:55:22.102Z"
      },
      {
        "duration": 4,
        "start_time": "2023-04-18T17:55:55.980Z"
      },
      {
        "duration": 5,
        "start_time": "2023-04-18T17:57:45.141Z"
      },
      {
        "duration": 135,
        "start_time": "2023-04-18T17:58:02.938Z"
      },
      {
        "duration": 128,
        "start_time": "2023-04-18T17:58:10.405Z"
      },
      {
        "duration": 4,
        "start_time": "2023-04-18T18:00:12.436Z"
      },
      {
        "duration": 126,
        "start_time": "2023-04-18T18:00:13.207Z"
      },
      {
        "duration": 149,
        "start_time": "2023-04-18T18:00:24.210Z"
      },
      {
        "duration": 129,
        "start_time": "2023-04-18T18:03:06.998Z"
      },
      {
        "duration": 144,
        "start_time": "2023-04-18T18:03:10.276Z"
      },
      {
        "duration": 3,
        "start_time": "2023-04-18T18:08:35.913Z"
      },
      {
        "duration": 3,
        "start_time": "2023-04-18T18:08:37.325Z"
      },
      {
        "duration": 3,
        "start_time": "2023-04-18T18:08:44.629Z"
      },
      {
        "duration": 157198,
        "start_time": "2023-04-18T18:08:59.204Z"
      },
      {
        "duration": 3,
        "start_time": "2023-04-18T18:11:36.404Z"
      },
      {
        "duration": 8,
        "start_time": "2023-04-18T18:11:36.409Z"
      },
      {
        "duration": 7,
        "start_time": "2023-04-18T18:11:36.420Z"
      },
      {
        "duration": 5,
        "start_time": "2023-04-18T18:11:36.428Z"
      },
      {
        "duration": 10866,
        "start_time": "2023-04-18T18:11:36.434Z"
      },
      {
        "duration": 270,
        "start_time": "2023-04-18T18:11:47.302Z"
      },
      {
        "duration": 4,
        "start_time": "2023-04-18T18:11:47.574Z"
      },
      {
        "duration": 25,
        "start_time": "2023-04-18T18:11:47.580Z"
      },
      {
        "duration": 10,
        "start_time": "2023-04-18T18:23:05.517Z"
      },
      {
        "duration": 600,
        "start_time": "2023-04-18T18:26:44.020Z"
      },
      {
        "duration": 2177,
        "start_time": "2023-04-18T18:26:44.622Z"
      },
      {
        "duration": 1409,
        "start_time": "2023-04-18T18:26:46.801Z"
      },
      {
        "duration": 877,
        "start_time": "2023-04-18T18:26:48.212Z"
      },
      {
        "duration": 19,
        "start_time": "2023-04-18T18:26:49.091Z"
      },
      {
        "duration": 149,
        "start_time": "2023-04-18T18:26:49.112Z"
      },
      {
        "duration": 22,
        "start_time": "2023-04-18T18:26:49.263Z"
      },
      {
        "duration": 30,
        "start_time": "2023-04-18T18:26:49.286Z"
      },
      {
        "duration": 14,
        "start_time": "2023-04-18T18:26:49.317Z"
      },
      {
        "duration": 87,
        "start_time": "2023-04-18T18:26:49.333Z"
      },
      {
        "duration": 21,
        "start_time": "2023-04-18T18:26:49.422Z"
      },
      {
        "duration": 49,
        "start_time": "2023-04-18T18:26:49.445Z"
      },
      {
        "duration": 22,
        "start_time": "2023-04-18T18:26:49.496Z"
      },
      {
        "duration": 67,
        "start_time": "2023-04-18T18:26:49.522Z"
      },
      {
        "duration": 21,
        "start_time": "2023-04-18T18:26:49.591Z"
      },
      {
        "duration": 23,
        "start_time": "2023-04-18T18:26:49.613Z"
      },
      {
        "duration": 26,
        "start_time": "2023-04-18T18:26:49.638Z"
      },
      {
        "duration": 139,
        "start_time": "2023-04-18T18:26:49.666Z"
      },
      {
        "duration": 90,
        "start_time": "2023-04-18T18:26:49.807Z"
      },
      {
        "duration": 21,
        "start_time": "2023-04-18T18:26:49.899Z"
      },
      {
        "duration": 184,
        "start_time": "2023-04-18T18:26:49.922Z"
      },
      {
        "duration": 140,
        "start_time": "2023-04-18T18:26:50.107Z"
      },
      {
        "duration": 6,
        "start_time": "2023-04-18T18:26:50.249Z"
      },
      {
        "duration": 53,
        "start_time": "2023-04-18T18:26:50.258Z"
      },
      {
        "duration": 190,
        "start_time": "2023-04-18T18:26:50.313Z"
      },
      {
        "duration": 236,
        "start_time": "2023-04-18T18:26:50.505Z"
      },
      {
        "duration": 24,
        "start_time": "2023-04-18T18:26:50.742Z"
      },
      {
        "duration": 35,
        "start_time": "2023-04-18T18:26:50.767Z"
      },
      {
        "duration": 56,
        "start_time": "2023-04-18T18:26:50.803Z"
      },
      {
        "duration": 14,
        "start_time": "2023-04-18T18:26:50.861Z"
      },
      {
        "duration": 35,
        "start_time": "2023-04-18T18:26:50.877Z"
      },
      {
        "duration": 4,
        "start_time": "2023-04-18T18:26:50.914Z"
      },
      {
        "duration": 123,
        "start_time": "2023-04-18T18:26:50.919Z"
      },
      {
        "duration": 95,
        "start_time": "2023-04-18T18:26:51.044Z"
      },
      {
        "duration": 156,
        "start_time": "2023-04-18T18:26:51.141Z"
      },
      {
        "duration": 5,
        "start_time": "2023-04-18T18:26:51.299Z"
      },
      {
        "duration": 37,
        "start_time": "2023-04-18T18:26:51.305Z"
      },
      {
        "duration": 164,
        "start_time": "2023-04-18T18:26:51.344Z"
      },
      {
        "duration": 14,
        "start_time": "2023-04-18T18:26:51.510Z"
      },
      {
        "duration": 45,
        "start_time": "2023-04-18T18:26:51.526Z"
      },
      {
        "duration": 29,
        "start_time": "2023-04-18T18:26:51.577Z"
      },
      {
        "duration": 164,
        "start_time": "2023-04-18T18:26:51.608Z"
      },
      {
        "duration": 4,
        "start_time": "2023-04-18T18:26:51.774Z"
      },
      {
        "duration": 17,
        "start_time": "2023-04-18T18:26:51.780Z"
      },
      {
        "duration": 14,
        "start_time": "2023-04-18T18:26:51.799Z"
      },
      {
        "duration": 5,
        "start_time": "2023-04-18T18:26:51.815Z"
      },
      {
        "duration": 9,
        "start_time": "2023-04-18T18:26:51.822Z"
      },
      {
        "duration": 9,
        "start_time": "2023-04-18T18:26:51.832Z"
      },
      {
        "duration": 27,
        "start_time": "2023-04-18T18:26:51.843Z"
      },
      {
        "duration": 107,
        "start_time": "2023-04-18T18:26:51.872Z"
      },
      {
        "duration": 4,
        "start_time": "2023-04-18T18:26:51.981Z"
      },
      {
        "duration": 6,
        "start_time": "2023-04-18T18:26:51.987Z"
      },
      {
        "duration": 5,
        "start_time": "2023-04-18T18:26:51.994Z"
      },
      {
        "duration": 14,
        "start_time": "2023-04-18T18:26:52.001Z"
      },
      {
        "duration": 4,
        "start_time": "2023-04-18T18:26:52.017Z"
      },
      {
        "duration": 62,
        "start_time": "2023-04-18T18:26:52.023Z"
      },
      {
        "duration": 698,
        "start_time": "2023-04-18T18:26:52.086Z"
      },
      {
        "duration": 392,
        "start_time": "2023-04-18T18:26:52.786Z"
      },
      {
        "duration": 3,
        "start_time": "2023-04-18T18:26:53.179Z"
      },
      {
        "duration": 4,
        "start_time": "2023-04-18T18:26:53.184Z"
      },
      {
        "duration": 5,
        "start_time": "2023-04-18T18:26:53.189Z"
      },
      {
        "duration": 160534,
        "start_time": "2023-04-18T18:26:53.196Z"
      },
      {
        "duration": 4,
        "start_time": "2023-04-18T18:29:33.731Z"
      },
      {
        "duration": 9,
        "start_time": "2023-04-18T18:29:33.736Z"
      },
      {
        "duration": 15,
        "start_time": "2023-04-18T18:29:33.747Z"
      },
      {
        "duration": 6,
        "start_time": "2023-04-18T18:29:33.765Z"
      },
      {
        "duration": 10678,
        "start_time": "2023-04-18T18:29:33.773Z"
      },
      {
        "duration": 272,
        "start_time": "2023-04-18T18:29:44.452Z"
      },
      {
        "duration": 3,
        "start_time": "2023-04-18T18:29:44.726Z"
      },
      {
        "duration": 5,
        "start_time": "2023-04-18T18:29:44.731Z"
      },
      {
        "duration": 5,
        "start_time": "2023-04-18T18:29:44.737Z"
      },
      {
        "duration": 15,
        "start_time": "2023-04-18T18:29:44.746Z"
      },
      {
        "duration": 5,
        "start_time": "2023-04-18T18:29:44.763Z"
      },
      {
        "duration": 2335644,
        "start_time": "2023-04-18T18:29:44.769Z"
      },
      {
        "duration": 0,
        "start_time": "2023-04-18T19:08:40.416Z"
      },
      {
        "duration": 0,
        "start_time": "2023-04-18T19:08:40.417Z"
      },
      {
        "duration": 0,
        "start_time": "2023-04-18T19:08:40.418Z"
      },
      {
        "duration": 0,
        "start_time": "2023-04-18T19:08:40.420Z"
      },
      {
        "duration": 0,
        "start_time": "2023-04-18T19:08:40.421Z"
      },
      {
        "duration": 0,
        "start_time": "2023-04-18T19:08:40.423Z"
      },
      {
        "duration": 0,
        "start_time": "2023-04-18T19:08:40.424Z"
      },
      {
        "duration": 0,
        "start_time": "2023-04-18T19:08:40.426Z"
      },
      {
        "duration": 0,
        "start_time": "2023-04-18T19:08:40.427Z"
      },
      {
        "duration": 0,
        "start_time": "2023-04-18T19:08:40.428Z"
      },
      {
        "duration": 0,
        "start_time": "2023-04-18T19:08:40.429Z"
      },
      {
        "duration": 0,
        "start_time": "2023-04-18T19:08:40.431Z"
      },
      {
        "duration": 0,
        "start_time": "2023-04-18T19:08:40.459Z"
      },
      {
        "duration": 0,
        "start_time": "2023-04-18T19:08:40.460Z"
      },
      {
        "duration": 0,
        "start_time": "2023-04-18T19:08:40.462Z"
      },
      {
        "duration": 0,
        "start_time": "2023-04-18T19:08:40.463Z"
      },
      {
        "duration": 0,
        "start_time": "2023-04-18T19:08:40.464Z"
      },
      {
        "duration": 0,
        "start_time": "2023-04-18T19:08:40.465Z"
      },
      {
        "duration": 0,
        "start_time": "2023-04-18T19:08:40.466Z"
      },
      {
        "duration": 0,
        "start_time": "2023-04-18T19:08:40.467Z"
      },
      {
        "duration": 6783,
        "start_time": "2023-04-18T19:09:05.503Z"
      },
      {
        "duration": 4,
        "start_time": "2023-04-18T19:09:20.003Z"
      },
      {
        "duration": 3,
        "start_time": "2023-04-18T19:09:20.330Z"
      },
      {
        "duration": 0,
        "start_time": "2023-04-18T19:09:45.590Z"
      },
      {
        "duration": 0,
        "start_time": "2023-04-18T19:09:45.592Z"
      },
      {
        "duration": 3,
        "start_time": "2023-04-18T19:09:49.015Z"
      },
      {
        "duration": 476860,
        "start_time": "2023-04-18T19:09:49.830Z"
      },
      {
        "duration": 646,
        "start_time": "2023-04-18T19:21:18.204Z"
      },
      {
        "duration": 2414,
        "start_time": "2023-04-18T19:21:18.853Z"
      },
      {
        "duration": 1580,
        "start_time": "2023-04-18T19:21:21.273Z"
      },
      {
        "duration": 981,
        "start_time": "2023-04-18T19:21:22.855Z"
      },
      {
        "duration": 31,
        "start_time": "2023-04-18T19:21:23.838Z"
      },
      {
        "duration": 158,
        "start_time": "2023-04-18T19:21:23.871Z"
      },
      {
        "duration": 3,
        "start_time": "2023-04-18T19:21:24.030Z"
      },
      {
        "duration": 59,
        "start_time": "2023-04-18T19:21:24.036Z"
      },
      {
        "duration": 17,
        "start_time": "2023-04-18T19:21:24.097Z"
      },
      {
        "duration": 107,
        "start_time": "2023-04-18T19:21:24.117Z"
      },
      {
        "duration": 25,
        "start_time": "2023-04-18T19:21:24.226Z"
      },
      {
        "duration": 31,
        "start_time": "2023-04-18T19:21:24.262Z"
      },
      {
        "duration": 23,
        "start_time": "2023-04-18T19:21:24.294Z"
      },
      {
        "duration": 70,
        "start_time": "2023-04-18T19:21:24.322Z"
      },
      {
        "duration": 23,
        "start_time": "2023-04-18T19:21:24.394Z"
      },
      {
        "duration": 24,
        "start_time": "2023-04-18T19:21:24.418Z"
      },
      {
        "duration": 8,
        "start_time": "2023-04-18T19:21:24.459Z"
      },
      {
        "duration": 134,
        "start_time": "2023-04-18T19:21:24.475Z"
      },
      {
        "duration": 99,
        "start_time": "2023-04-18T19:21:24.611Z"
      },
      {
        "duration": 11,
        "start_time": "2023-04-18T19:21:24.712Z"
      },
      {
        "duration": 203,
        "start_time": "2023-04-18T19:21:24.725Z"
      },
      {
        "duration": 160,
        "start_time": "2023-04-18T19:21:24.930Z"
      },
      {
        "duration": 6,
        "start_time": "2023-04-18T19:21:25.092Z"
      },
      {
        "duration": 71,
        "start_time": "2023-04-18T19:21:25.101Z"
      },
      {
        "duration": 199,
        "start_time": "2023-04-18T19:21:25.178Z"
      },
      {
        "duration": 229,
        "start_time": "2023-04-18T19:21:25.379Z"
      },
      {
        "duration": 17,
        "start_time": "2023-04-18T19:21:25.611Z"
      },
      {
        "duration": 55,
        "start_time": "2023-04-18T19:21:25.630Z"
      },
      {
        "duration": 34,
        "start_time": "2023-04-18T19:21:25.687Z"
      },
      {
        "duration": 15,
        "start_time": "2023-04-18T19:21:25.723Z"
      },
      {
        "duration": 45,
        "start_time": "2023-04-18T19:21:25.740Z"
      },
      {
        "duration": 4,
        "start_time": "2023-04-18T19:21:25.787Z"
      },
      {
        "duration": 132,
        "start_time": "2023-04-18T19:21:25.793Z"
      },
      {
        "duration": 88,
        "start_time": "2023-04-18T19:21:25.928Z"
      },
      {
        "duration": 179,
        "start_time": "2023-04-18T19:21:26.018Z"
      },
      {
        "duration": 6,
        "start_time": "2023-04-18T19:21:26.200Z"
      },
      {
        "duration": 73,
        "start_time": "2023-04-18T19:21:26.208Z"
      },
      {
        "duration": 147,
        "start_time": "2023-04-18T19:21:26.283Z"
      },
      {
        "duration": 13,
        "start_time": "2023-04-18T19:21:26.432Z"
      },
      {
        "duration": 37,
        "start_time": "2023-04-18T19:21:26.447Z"
      },
      {
        "duration": 27,
        "start_time": "2023-04-18T19:21:26.488Z"
      },
      {
        "duration": 168,
        "start_time": "2023-04-18T19:21:26.517Z"
      },
      {
        "duration": 5,
        "start_time": "2023-04-18T19:21:26.687Z"
      },
      {
        "duration": 5,
        "start_time": "2023-04-18T19:21:26.693Z"
      },
      {
        "duration": 4,
        "start_time": "2023-04-18T19:21:26.700Z"
      },
      {
        "duration": 3,
        "start_time": "2023-04-18T19:21:26.706Z"
      },
      {
        "duration": 4,
        "start_time": "2023-04-18T19:21:26.711Z"
      },
      {
        "duration": 4,
        "start_time": "2023-04-18T19:21:26.717Z"
      },
      {
        "duration": 47,
        "start_time": "2023-04-18T19:21:26.723Z"
      },
      {
        "duration": 113,
        "start_time": "2023-04-18T19:21:26.772Z"
      },
      {
        "duration": 4,
        "start_time": "2023-04-18T19:21:26.887Z"
      },
      {
        "duration": 9,
        "start_time": "2023-04-18T19:21:26.893Z"
      },
      {
        "duration": 8,
        "start_time": "2023-04-18T19:21:26.904Z"
      },
      {
        "duration": 25,
        "start_time": "2023-04-18T19:21:26.913Z"
      },
      {
        "duration": 5,
        "start_time": "2023-04-18T19:21:26.940Z"
      },
      {
        "duration": 40,
        "start_time": "2023-04-18T19:21:26.947Z"
      },
      {
        "duration": 709,
        "start_time": "2023-04-18T19:21:26.989Z"
      },
      {
        "duration": 403,
        "start_time": "2023-04-18T19:21:27.700Z"
      },
      {
        "duration": 2,
        "start_time": "2023-04-18T19:21:28.105Z"
      },
      {
        "duration": 12,
        "start_time": "2023-04-18T19:21:28.109Z"
      },
      {
        "duration": 11,
        "start_time": "2023-04-18T19:21:28.123Z"
      },
      {
        "duration": 169592,
        "start_time": "2023-04-18T19:21:28.136Z"
      },
      {
        "duration": 3,
        "start_time": "2023-04-18T19:24:17.730Z"
      },
      {
        "duration": 11,
        "start_time": "2023-04-18T19:24:17.735Z"
      },
      {
        "duration": 17,
        "start_time": "2023-04-18T19:24:17.748Z"
      },
      {
        "duration": 4,
        "start_time": "2023-04-18T19:24:17.768Z"
      },
      {
        "duration": 10995,
        "start_time": "2023-04-18T19:24:17.777Z"
      },
      {
        "duration": 263,
        "start_time": "2023-04-18T19:24:28.774Z"
      },
      {
        "duration": 4,
        "start_time": "2023-04-18T19:24:29.039Z"
      },
      {
        "duration": 15,
        "start_time": "2023-04-18T19:24:29.044Z"
      },
      {
        "duration": 13,
        "start_time": "2023-04-18T19:24:29.060Z"
      },
      {
        "duration": 4,
        "start_time": "2023-04-18T19:24:29.075Z"
      },
      {
        "duration": 5,
        "start_time": "2023-04-18T19:24:29.080Z"
      },
      {
        "duration": 1706808,
        "start_time": "2023-04-18T19:24:29.086Z"
      },
      {
        "duration": 0,
        "start_time": "2023-04-18T19:52:55.896Z"
      },
      {
        "duration": 0,
        "start_time": "2023-04-18T19:52:55.897Z"
      },
      {
        "duration": 0,
        "start_time": "2023-04-18T19:52:55.898Z"
      },
      {
        "duration": 0,
        "start_time": "2023-04-18T19:52:55.899Z"
      },
      {
        "duration": 0,
        "start_time": "2023-04-18T19:52:55.900Z"
      },
      {
        "duration": 1,
        "start_time": "2023-04-18T19:52:55.901Z"
      },
      {
        "duration": 0,
        "start_time": "2023-04-18T19:52:55.902Z"
      },
      {
        "duration": 0,
        "start_time": "2023-04-18T19:52:55.903Z"
      },
      {
        "duration": 0,
        "start_time": "2023-04-18T19:52:55.904Z"
      },
      {
        "duration": 0,
        "start_time": "2023-04-18T19:52:55.905Z"
      },
      {
        "duration": 0,
        "start_time": "2023-04-18T19:52:55.906Z"
      },
      {
        "duration": 0,
        "start_time": "2023-04-18T19:52:55.908Z"
      },
      {
        "duration": 0,
        "start_time": "2023-04-18T19:52:55.908Z"
      },
      {
        "duration": 0,
        "start_time": "2023-04-18T19:52:55.909Z"
      },
      {
        "duration": 0,
        "start_time": "2023-04-18T19:52:55.910Z"
      },
      {
        "duration": 0,
        "start_time": "2023-04-18T19:52:55.911Z"
      },
      {
        "duration": 0,
        "start_time": "2023-04-18T19:52:55.912Z"
      },
      {
        "duration": 0,
        "start_time": "2023-04-18T19:52:55.913Z"
      },
      {
        "duration": 0,
        "start_time": "2023-04-18T19:52:55.914Z"
      },
      {
        "duration": 0,
        "start_time": "2023-04-18T19:52:55.915Z"
      },
      {
        "duration": 60,
        "start_time": "2023-04-18T19:53:01.086Z"
      },
      {
        "duration": 25,
        "start_time": "2023-04-18T19:53:01.794Z"
      },
      {
        "duration": 3,
        "start_time": "2023-04-18T19:53:02.585Z"
      },
      {
        "duration": 3,
        "start_time": "2023-04-18T19:53:04.886Z"
      },
      {
        "duration": 3,
        "start_time": "2023-04-18T19:53:05.342Z"
      },
      {
        "duration": 595,
        "start_time": "2023-04-19T16:15:24.401Z"
      },
      {
        "duration": 2438,
        "start_time": "2023-04-19T16:15:24.998Z"
      },
      {
        "duration": 1748,
        "start_time": "2023-04-19T16:15:27.445Z"
      },
      {
        "duration": 1150,
        "start_time": "2023-04-19T16:15:29.196Z"
      },
      {
        "duration": 19,
        "start_time": "2023-04-19T16:15:30.347Z"
      },
      {
        "duration": 163,
        "start_time": "2023-04-19T16:15:30.368Z"
      },
      {
        "duration": 7,
        "start_time": "2023-04-19T16:15:30.533Z"
      },
      {
        "duration": 67,
        "start_time": "2023-04-19T16:15:30.544Z"
      },
      {
        "duration": 56,
        "start_time": "2023-04-19T16:15:30.613Z"
      },
      {
        "duration": 187,
        "start_time": "2023-04-19T16:15:30.673Z"
      },
      {
        "duration": 41,
        "start_time": "2023-04-19T16:15:30.862Z"
      },
      {
        "duration": 63,
        "start_time": "2023-04-19T16:15:30.905Z"
      },
      {
        "duration": 48,
        "start_time": "2023-04-19T16:15:30.969Z"
      },
      {
        "duration": 83,
        "start_time": "2023-04-19T16:15:31.018Z"
      },
      {
        "duration": 20,
        "start_time": "2023-04-19T16:15:31.103Z"
      },
      {
        "duration": 75,
        "start_time": "2023-04-19T16:15:31.125Z"
      },
      {
        "duration": 37,
        "start_time": "2023-04-19T16:15:31.201Z"
      },
      {
        "duration": 156,
        "start_time": "2023-04-19T16:15:31.240Z"
      },
      {
        "duration": 87,
        "start_time": "2023-04-19T16:15:31.398Z"
      },
      {
        "duration": 33,
        "start_time": "2023-04-19T16:15:31.487Z"
      },
      {
        "duration": 195,
        "start_time": "2023-04-19T16:15:31.522Z"
      },
      {
        "duration": 133,
        "start_time": "2023-04-19T16:15:31.719Z"
      },
      {
        "duration": 5,
        "start_time": "2023-04-19T16:15:31.854Z"
      },
      {
        "duration": 58,
        "start_time": "2023-04-19T16:15:31.860Z"
      },
      {
        "duration": 211,
        "start_time": "2023-04-19T16:15:31.920Z"
      },
      {
        "duration": 224,
        "start_time": "2023-04-19T16:15:32.133Z"
      },
      {
        "duration": 33,
        "start_time": "2023-04-19T16:15:32.359Z"
      },
      {
        "duration": 32,
        "start_time": "2023-04-19T16:15:32.397Z"
      },
      {
        "duration": 38,
        "start_time": "2023-04-19T16:15:32.431Z"
      },
      {
        "duration": 15,
        "start_time": "2023-04-19T16:15:32.470Z"
      },
      {
        "duration": 26,
        "start_time": "2023-04-19T16:15:32.486Z"
      },
      {
        "duration": 26,
        "start_time": "2023-04-19T16:15:32.513Z"
      },
      {
        "duration": 127,
        "start_time": "2023-04-19T16:15:32.542Z"
      },
      {
        "duration": 96,
        "start_time": "2023-04-19T16:15:32.671Z"
      },
      {
        "duration": 151,
        "start_time": "2023-04-19T16:15:32.769Z"
      },
      {
        "duration": 17,
        "start_time": "2023-04-19T16:15:32.922Z"
      },
      {
        "duration": 36,
        "start_time": "2023-04-19T16:15:32.941Z"
      },
      {
        "duration": 128,
        "start_time": "2023-04-19T16:15:32.979Z"
      },
      {
        "duration": 29,
        "start_time": "2023-04-19T16:15:33.109Z"
      },
      {
        "duration": 24,
        "start_time": "2023-04-19T16:15:33.143Z"
      },
      {
        "duration": 27,
        "start_time": "2023-04-19T16:15:33.169Z"
      },
      {
        "duration": 150,
        "start_time": "2023-04-19T16:15:33.198Z"
      },
      {
        "duration": 5,
        "start_time": "2023-04-19T16:15:33.350Z"
      },
      {
        "duration": 11,
        "start_time": "2023-04-19T16:15:33.356Z"
      },
      {
        "duration": 5,
        "start_time": "2023-04-19T16:15:33.368Z"
      },
      {
        "duration": 7,
        "start_time": "2023-04-19T16:15:33.374Z"
      },
      {
        "duration": 7,
        "start_time": "2023-04-19T16:15:33.382Z"
      },
      {
        "duration": 6,
        "start_time": "2023-04-19T16:15:33.390Z"
      },
      {
        "duration": 23,
        "start_time": "2023-04-19T16:15:33.398Z"
      },
      {
        "duration": 116,
        "start_time": "2023-04-19T16:15:33.422Z"
      },
      {
        "duration": 9,
        "start_time": "2023-04-19T16:15:33.539Z"
      },
      {
        "duration": 14,
        "start_time": "2023-04-19T16:15:33.550Z"
      },
      {
        "duration": 7,
        "start_time": "2023-04-19T16:15:33.566Z"
      },
      {
        "duration": 16,
        "start_time": "2023-04-19T16:15:33.575Z"
      },
      {
        "duration": 7,
        "start_time": "2023-04-19T16:15:33.592Z"
      },
      {
        "duration": 26,
        "start_time": "2023-04-19T16:15:33.601Z"
      },
      {
        "duration": 645,
        "start_time": "2023-04-19T16:15:33.629Z"
      },
      {
        "duration": 360,
        "start_time": "2023-04-19T16:15:34.275Z"
      },
      {
        "duration": 5,
        "start_time": "2023-04-19T16:15:34.640Z"
      },
      {
        "duration": 50,
        "start_time": "2023-04-19T16:15:34.649Z"
      },
      {
        "duration": 56,
        "start_time": "2023-04-19T16:15:34.701Z"
      },
      {
        "duration": 144534,
        "start_time": "2023-04-19T16:15:34.758Z"
      },
      {
        "duration": 3,
        "start_time": "2023-04-19T16:17:59.294Z"
      },
      {
        "duration": 7,
        "start_time": "2023-04-19T16:17:59.299Z"
      },
      {
        "duration": 10,
        "start_time": "2023-04-19T16:17:59.308Z"
      },
      {
        "duration": 5,
        "start_time": "2023-04-19T16:17:59.319Z"
      },
      {
        "duration": 9952,
        "start_time": "2023-04-19T16:17:59.326Z"
      },
      {
        "duration": 240,
        "start_time": "2023-04-19T16:18:09.279Z"
      },
      {
        "duration": 4,
        "start_time": "2023-04-19T16:18:09.520Z"
      },
      {
        "duration": 11,
        "start_time": "2023-04-19T16:18:09.525Z"
      },
      {
        "duration": 9,
        "start_time": "2023-04-19T16:18:09.542Z"
      },
      {
        "duration": 8,
        "start_time": "2023-04-19T16:18:09.553Z"
      },
      {
        "duration": 5,
        "start_time": "2023-04-19T16:18:09.563Z"
      },
      {
        "duration": 5069196,
        "start_time": "2023-04-19T16:18:09.569Z"
      },
      {
        "duration": 8,
        "start_time": "2023-04-19T17:42:38.766Z"
      },
      {
        "duration": 18,
        "start_time": "2023-04-19T17:42:38.779Z"
      },
      {
        "duration": 9,
        "start_time": "2023-04-19T17:42:38.798Z"
      },
      {
        "duration": 369132,
        "start_time": "2023-04-19T17:42:38.809Z"
      },
      {
        "duration": 441,
        "start_time": "2023-04-19T17:48:47.943Z"
      },
      {
        "duration": 10,
        "start_time": "2023-04-19T17:48:48.438Z"
      },
      {
        "duration": 27,
        "start_time": "2023-04-19T17:48:48.453Z"
      },
      {
        "duration": 73,
        "start_time": "2023-04-19T17:48:48.485Z"
      },
      {
        "duration": 28,
        "start_time": "2023-04-19T17:48:48.562Z"
      },
      {
        "duration": 3,
        "start_time": "2023-04-19T17:48:48.592Z"
      },
      {
        "duration": 8,
        "start_time": "2023-04-19T17:48:48.596Z"
      },
      {
        "duration": 4,
        "start_time": "2023-04-19T17:48:48.606Z"
      },
      {
        "duration": 246557,
        "start_time": "2023-04-19T17:48:48.612Z"
      },
      {
        "duration": 5,
        "start_time": "2023-04-19T17:52:55.172Z"
      },
      {
        "duration": 13,
        "start_time": "2023-04-19T17:52:55.179Z"
      },
      {
        "duration": 894,
        "start_time": "2023-04-19T17:52:55.193Z"
      },
      {
        "duration": 10,
        "start_time": "2023-04-19T17:52:56.089Z"
      },
      {
        "duration": 437,
        "start_time": "2023-04-19T17:52:56.101Z"
      },
      {
        "duration": 5,
        "start_time": "2023-04-19T17:52:56.539Z"
      },
      {
        "duration": 175,
        "start_time": "2023-04-19T17:52:56.546Z"
      },
      {
        "duration": 3762,
        "start_time": "2023-04-19T17:56:54.297Z"
      },
      {
        "duration": 789,
        "start_time": "2023-04-19T17:57:33.070Z"
      },
      {
        "duration": 4,
        "start_time": "2023-04-19T17:57:59.024Z"
      },
      {
        "duration": 156,
        "start_time": "2023-04-19T17:58:00.207Z"
      }
    ],
    "colab": {
      "provenance": []
    },
    "kernelspec": {
      "display_name": "Python 3 (ipykernel)",
      "language": "python",
      "name": "python3"
    },
    "language_info": {
      "codemirror_mode": {
        "name": "ipython",
        "version": 3
      },
      "file_extension": ".py",
      "mimetype": "text/x-python",
      "name": "python",
      "nbconvert_exporter": "python",
      "pygments_lexer": "ipython3",
      "version": "3.9.5"
    },
    "toc": {
      "base_numbering": 1,
      "nav_menu": {},
      "number_sections": true,
      "sideBar": true,
      "skip_h1_title": true,
      "title_cell": "Table of Contents",
      "title_sidebar": "Contents",
      "toc_cell": false,
      "toc_position": {},
      "toc_section_display": true,
      "toc_window_display": false
    }
  },
  "nbformat": 4,
  "nbformat_minor": 0
}
