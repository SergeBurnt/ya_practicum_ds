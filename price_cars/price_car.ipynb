{
 "cells": [
  {
   "cell_type": "markdown",
   "id": "13e53812",
   "metadata": {},
   "source": [
    "# Определение стоимости автомобилей\n",
    "\n",
    "## Описание проекта\n",
    "Сервис по продаже автомобилей с пробегом разрабатывает приложение, чтобы привлечь новых клиентов. В нём можно будет узнать рыночную стоимость своего автомобиля. Постройте модель, которая умеет её определять. В вашем распоряжении данные о технических характеристиках, комплектации и ценах других автомобилей.\n",
    "\n",
    "\n",
    "## Описание данных\n",
    "#### Признаки\n",
    "- DateCrawled — дата скачивания анкеты из базы\n",
    "- VehicleType — тип автомобильного кузова\n",
    "- RegistrationYear — год регистрации автомобиля\n",
    "- Gearbox — тип коробки передач\n",
    "- Power — мощность (л. с.)\n",
    "- Model — модель автомобиля\n",
    "- Kilometer — пробег (км)\n",
    "- RegistrationMonth — месяц регистрации автомобиля\n",
    "- FuelType — тип топлива\n",
    "- Brand — марка автомобиля\n",
    "- Repaired — была машина в ремонте или нет\n",
    "- DateCreated — дата создания анкеты\n",
    "- NumberOfPictures — количество фотографий автомобиля\n",
    "- PostalCode — почтовый индекс владельца анкеты (пользователя)\n",
    "- LastSeen — дата последней активности пользователя\n",
    "\n",
    "#### Целевой признак\n",
    "Price — цена (евро)"
   ]
  },
  {
   "cell_type": "code",
   "execution_count": 1,
   "id": "6b4cadd6",
   "metadata": {},
   "outputs": [],
   "source": [
    "import pandas as pd\n",
    "import numpy as np\n",
    "import matplotlib as mlp\n",
    "import warnings\n",
    "import matplotlib.pyplot as plt\n",
    "import seaborn as sns\n",
    "\n",
    "from sklearn.model_selection import train_test_split, GridSearchCV\n",
    "from sklearn.metrics import mean_absolute_error, mean_absolute_percentage_error, mean_squared_error\n",
    "from sklearn.pipeline import Pipeline\n",
    "from sklearn.compose import ColumnTransformer\n",
    "from sklearn.preprocessing import OneHotEncoder, OrdinalEncoder, StandardScaler\n",
    "from sklearn.impute import SimpleImputer\n",
    "from sklearn.linear_model import Lasso\n",
    "from sklearn.neighbors import KNeighborsRegressor\n",
    "from sklearn.ensemble import RandomForestRegressor\n",
    "from catboost import CatBoostRegressor\n",
    "\n",
    "\n",
    "warnings.filterwarnings('ignore')\n",
    "\n",
    "\n",
    "mlp.rcParams['lines.linewidth'] = 3\n",
    "mlp.rcParams['xtick.major.size'] = 10\n",
    "mlp.rcParams['xtick.major.width'] = 3\n",
    "mlp.rcParams['xtick.labelsize'] = 10\n",
    "mlp.rcParams['xtick.color'] = '#FF5533'\n",
    "\n",
    "mlp.rcParams['ytick.major.size'] = 10\n",
    "mlp.rcParams['ytick.major.width'] = 3\n",
    "mlp.rcParams['ytick.labelsize'] = 10\n",
    "mlp.rcParams['ytick.color'] = '#FF5533'\n",
    "\n",
    "mlp.rcParams['axes.labelsize'] = 15\n",
    "mlp.rcParams['axes.titlesize'] = 15\n",
    "mlp.rcParams['axes.titlecolor'] = '#00B050'\n",
    "mlp.rcParams['axes.labelcolor'] = '#00B050'"
   ]
  },
  {
   "cell_type": "code",
   "execution_count": 2,
   "id": "90b7fe59",
   "metadata": {},
   "outputs": [
    {
     "data": {
      "text/html": [
       "<div>\n",
       "<style scoped>\n",
       "    .dataframe tbody tr th:only-of-type {\n",
       "        vertical-align: middle;\n",
       "    }\n",
       "\n",
       "    .dataframe tbody tr th {\n",
       "        vertical-align: top;\n",
       "    }\n",
       "\n",
       "    .dataframe thead th {\n",
       "        text-align: right;\n",
       "    }\n",
       "</style>\n",
       "<table border=\"1\" class=\"dataframe\">\n",
       "  <thead>\n",
       "    <tr style=\"text-align: right;\">\n",
       "      <th></th>\n",
       "      <th>DateCrawled</th>\n",
       "      <th>Price</th>\n",
       "      <th>VehicleType</th>\n",
       "      <th>RegistrationYear</th>\n",
       "      <th>Gearbox</th>\n",
       "      <th>Power</th>\n",
       "      <th>Model</th>\n",
       "      <th>Kilometer</th>\n",
       "      <th>RegistrationMonth</th>\n",
       "      <th>FuelType</th>\n",
       "      <th>Brand</th>\n",
       "      <th>Repaired</th>\n",
       "      <th>DateCreated</th>\n",
       "      <th>NumberOfPictures</th>\n",
       "      <th>PostalCode</th>\n",
       "      <th>LastSeen</th>\n",
       "    </tr>\n",
       "  </thead>\n",
       "  <tbody>\n",
       "    <tr>\n",
       "      <th>0</th>\n",
       "      <td>2016-03-24 11:52:17</td>\n",
       "      <td>480</td>\n",
       "      <td>NaN</td>\n",
       "      <td>1993</td>\n",
       "      <td>manual</td>\n",
       "      <td>0</td>\n",
       "      <td>golf</td>\n",
       "      <td>150000</td>\n",
       "      <td>0</td>\n",
       "      <td>petrol</td>\n",
       "      <td>volkswagen</td>\n",
       "      <td>NaN</td>\n",
       "      <td>2016-03-24 00:00:00</td>\n",
       "      <td>0</td>\n",
       "      <td>70435</td>\n",
       "      <td>2016-04-07 03:16:57</td>\n",
       "    </tr>\n",
       "    <tr>\n",
       "      <th>1</th>\n",
       "      <td>2016-03-24 10:58:45</td>\n",
       "      <td>18300</td>\n",
       "      <td>coupe</td>\n",
       "      <td>2011</td>\n",
       "      <td>manual</td>\n",
       "      <td>190</td>\n",
       "      <td>NaN</td>\n",
       "      <td>125000</td>\n",
       "      <td>5</td>\n",
       "      <td>gasoline</td>\n",
       "      <td>audi</td>\n",
       "      <td>yes</td>\n",
       "      <td>2016-03-24 00:00:00</td>\n",
       "      <td>0</td>\n",
       "      <td>66954</td>\n",
       "      <td>2016-04-07 01:46:50</td>\n",
       "    </tr>\n",
       "    <tr>\n",
       "      <th>2</th>\n",
       "      <td>2016-03-14 12:52:21</td>\n",
       "      <td>9800</td>\n",
       "      <td>suv</td>\n",
       "      <td>2004</td>\n",
       "      <td>auto</td>\n",
       "      <td>163</td>\n",
       "      <td>grand</td>\n",
       "      <td>125000</td>\n",
       "      <td>8</td>\n",
       "      <td>gasoline</td>\n",
       "      <td>jeep</td>\n",
       "      <td>NaN</td>\n",
       "      <td>2016-03-14 00:00:00</td>\n",
       "      <td>0</td>\n",
       "      <td>90480</td>\n",
       "      <td>2016-04-05 12:47:46</td>\n",
       "    </tr>\n",
       "    <tr>\n",
       "      <th>3</th>\n",
       "      <td>2016-03-17 16:54:04</td>\n",
       "      <td>1500</td>\n",
       "      <td>small</td>\n",
       "      <td>2001</td>\n",
       "      <td>manual</td>\n",
       "      <td>75</td>\n",
       "      <td>golf</td>\n",
       "      <td>150000</td>\n",
       "      <td>6</td>\n",
       "      <td>petrol</td>\n",
       "      <td>volkswagen</td>\n",
       "      <td>no</td>\n",
       "      <td>2016-03-17 00:00:00</td>\n",
       "      <td>0</td>\n",
       "      <td>91074</td>\n",
       "      <td>2016-03-17 17:40:17</td>\n",
       "    </tr>\n",
       "    <tr>\n",
       "      <th>4</th>\n",
       "      <td>2016-03-31 17:25:20</td>\n",
       "      <td>3600</td>\n",
       "      <td>small</td>\n",
       "      <td>2008</td>\n",
       "      <td>manual</td>\n",
       "      <td>69</td>\n",
       "      <td>fabia</td>\n",
       "      <td>90000</td>\n",
       "      <td>7</td>\n",
       "      <td>gasoline</td>\n",
       "      <td>skoda</td>\n",
       "      <td>no</td>\n",
       "      <td>2016-03-31 00:00:00</td>\n",
       "      <td>0</td>\n",
       "      <td>60437</td>\n",
       "      <td>2016-04-06 10:17:21</td>\n",
       "    </tr>\n",
       "  </tbody>\n",
       "</table>\n",
       "</div>"
      ],
      "text/plain": [
       "           DateCrawled  Price VehicleType  RegistrationYear Gearbox  Power  \\\n",
       "0  2016-03-24 11:52:17    480         NaN              1993  manual      0   \n",
       "1  2016-03-24 10:58:45  18300       coupe              2011  manual    190   \n",
       "2  2016-03-14 12:52:21   9800         suv              2004    auto    163   \n",
       "3  2016-03-17 16:54:04   1500       small              2001  manual     75   \n",
       "4  2016-03-31 17:25:20   3600       small              2008  manual     69   \n",
       "\n",
       "   Model  Kilometer  RegistrationMonth  FuelType       Brand Repaired  \\\n",
       "0   golf     150000                  0    petrol  volkswagen      NaN   \n",
       "1    NaN     125000                  5  gasoline        audi      yes   \n",
       "2  grand     125000                  8  gasoline        jeep      NaN   \n",
       "3   golf     150000                  6    petrol  volkswagen       no   \n",
       "4  fabia      90000                  7  gasoline       skoda       no   \n",
       "\n",
       "           DateCreated  NumberOfPictures  PostalCode             LastSeen  \n",
       "0  2016-03-24 00:00:00                 0       70435  2016-04-07 03:16:57  \n",
       "1  2016-03-24 00:00:00                 0       66954  2016-04-07 01:46:50  \n",
       "2  2016-03-14 00:00:00                 0       90480  2016-04-05 12:47:46  \n",
       "3  2016-03-17 00:00:00                 0       91074  2016-03-17 17:40:17  \n",
       "4  2016-03-31 00:00:00                 0       60437  2016-04-06 10:17:21  "
      ]
     },
     "execution_count": 2,
     "metadata": {},
     "output_type": "execute_result"
    }
   ],
   "source": [
    "df = pd.read_csv('autos.csv')\n",
    "df.head()"
   ]
  },
  {
   "cell_type": "code",
   "execution_count": 3,
   "id": "3e9005aa",
   "metadata": {},
   "outputs": [
    {
     "data": {
      "text/plain": [
       "354369"
      ]
     },
     "execution_count": 3,
     "metadata": {},
     "output_type": "execute_result"
    }
   ],
   "source": [
    "star_len_df = len(df)\n",
    "star_len_df"
   ]
  },
  {
   "cell_type": "code",
   "execution_count": 4,
   "id": "97f49267",
   "metadata": {},
   "outputs": [
    {
     "data": {
      "text/plain": [
       "DateCrawled              0\n",
       "Price                    0\n",
       "VehicleType          37490\n",
       "RegistrationYear         0\n",
       "Gearbox              19833\n",
       "Power                    0\n",
       "Model                19705\n",
       "Kilometer                0\n",
       "RegistrationMonth        0\n",
       "FuelType             32895\n",
       "Brand                    0\n",
       "Repaired             71154\n",
       "DateCreated              0\n",
       "NumberOfPictures         0\n",
       "PostalCode               0\n",
       "LastSeen                 0\n",
       "dtype: int64"
      ]
     },
     "execution_count": 4,
     "metadata": {},
     "output_type": "execute_result"
    }
   ],
   "source": [
    "df.isna().sum()"
   ]
  },
  {
   "cell_type": "code",
   "execution_count": 5,
   "id": "ac34a591",
   "metadata": {},
   "outputs": [
    {
     "name": "stdout",
     "output_type": "stream",
     "text": [
      "<class 'pandas.core.frame.DataFrame'>\n",
      "RangeIndex: 354369 entries, 0 to 354368\n",
      "Data columns (total 16 columns):\n",
      " #   Column             Non-Null Count   Dtype \n",
      "---  ------             --------------   ----- \n",
      " 0   DateCrawled        354369 non-null  object\n",
      " 1   Price              354369 non-null  int64 \n",
      " 2   VehicleType        316879 non-null  object\n",
      " 3   RegistrationYear   354369 non-null  int64 \n",
      " 4   Gearbox            334536 non-null  object\n",
      " 5   Power              354369 non-null  int64 \n",
      " 6   Model              334664 non-null  object\n",
      " 7   Kilometer          354369 non-null  int64 \n",
      " 8   RegistrationMonth  354369 non-null  int64 \n",
      " 9   FuelType           321474 non-null  object\n",
      " 10  Brand              354369 non-null  object\n",
      " 11  Repaired           283215 non-null  object\n",
      " 12  DateCreated        354369 non-null  object\n",
      " 13  NumberOfPictures   354369 non-null  int64 \n",
      " 14  PostalCode         354369 non-null  int64 \n",
      " 15  LastSeen           354369 non-null  object\n",
      "dtypes: int64(7), object(9)\n",
      "memory usage: 43.3+ MB\n"
     ]
    }
   ],
   "source": [
    "df.info()"
   ]
  },
  {
   "cell_type": "code",
   "execution_count": 6,
   "id": "b6a7b1fa",
   "metadata": {},
   "outputs": [
    {
     "data": {
      "text/html": [
       "<div>\n",
       "<style scoped>\n",
       "    .dataframe tbody tr th:only-of-type {\n",
       "        vertical-align: middle;\n",
       "    }\n",
       "\n",
       "    .dataframe tbody tr th {\n",
       "        vertical-align: top;\n",
       "    }\n",
       "\n",
       "    .dataframe thead th {\n",
       "        text-align: right;\n",
       "    }\n",
       "</style>\n",
       "<table border=\"1\" class=\"dataframe\">\n",
       "  <thead>\n",
       "    <tr style=\"text-align: right;\">\n",
       "      <th></th>\n",
       "      <th>Price</th>\n",
       "      <th>RegistrationYear</th>\n",
       "      <th>Power</th>\n",
       "      <th>Kilometer</th>\n",
       "      <th>RegistrationMonth</th>\n",
       "      <th>NumberOfPictures</th>\n",
       "      <th>PostalCode</th>\n",
       "    </tr>\n",
       "  </thead>\n",
       "  <tbody>\n",
       "    <tr>\n",
       "      <th>count</th>\n",
       "      <td>354369.000000</td>\n",
       "      <td>354369.000000</td>\n",
       "      <td>354369.000000</td>\n",
       "      <td>354369.000000</td>\n",
       "      <td>354369.000000</td>\n",
       "      <td>354369.0</td>\n",
       "      <td>354369.000000</td>\n",
       "    </tr>\n",
       "    <tr>\n",
       "      <th>mean</th>\n",
       "      <td>4416.656776</td>\n",
       "      <td>2004.234448</td>\n",
       "      <td>110.094337</td>\n",
       "      <td>128211.172535</td>\n",
       "      <td>5.714645</td>\n",
       "      <td>0.0</td>\n",
       "      <td>50508.689087</td>\n",
       "    </tr>\n",
       "    <tr>\n",
       "      <th>std</th>\n",
       "      <td>4514.158514</td>\n",
       "      <td>90.227958</td>\n",
       "      <td>189.850405</td>\n",
       "      <td>37905.341530</td>\n",
       "      <td>3.726421</td>\n",
       "      <td>0.0</td>\n",
       "      <td>25783.096248</td>\n",
       "    </tr>\n",
       "    <tr>\n",
       "      <th>min</th>\n",
       "      <td>0.000000</td>\n",
       "      <td>1000.000000</td>\n",
       "      <td>0.000000</td>\n",
       "      <td>5000.000000</td>\n",
       "      <td>0.000000</td>\n",
       "      <td>0.0</td>\n",
       "      <td>1067.000000</td>\n",
       "    </tr>\n",
       "    <tr>\n",
       "      <th>25%</th>\n",
       "      <td>1050.000000</td>\n",
       "      <td>1999.000000</td>\n",
       "      <td>69.000000</td>\n",
       "      <td>125000.000000</td>\n",
       "      <td>3.000000</td>\n",
       "      <td>0.0</td>\n",
       "      <td>30165.000000</td>\n",
       "    </tr>\n",
       "    <tr>\n",
       "      <th>50%</th>\n",
       "      <td>2700.000000</td>\n",
       "      <td>2003.000000</td>\n",
       "      <td>105.000000</td>\n",
       "      <td>150000.000000</td>\n",
       "      <td>6.000000</td>\n",
       "      <td>0.0</td>\n",
       "      <td>49413.000000</td>\n",
       "    </tr>\n",
       "    <tr>\n",
       "      <th>75%</th>\n",
       "      <td>6400.000000</td>\n",
       "      <td>2008.000000</td>\n",
       "      <td>143.000000</td>\n",
       "      <td>150000.000000</td>\n",
       "      <td>9.000000</td>\n",
       "      <td>0.0</td>\n",
       "      <td>71083.000000</td>\n",
       "    </tr>\n",
       "    <tr>\n",
       "      <th>max</th>\n",
       "      <td>20000.000000</td>\n",
       "      <td>9999.000000</td>\n",
       "      <td>20000.000000</td>\n",
       "      <td>150000.000000</td>\n",
       "      <td>12.000000</td>\n",
       "      <td>0.0</td>\n",
       "      <td>99998.000000</td>\n",
       "    </tr>\n",
       "  </tbody>\n",
       "</table>\n",
       "</div>"
      ],
      "text/plain": [
       "               Price  RegistrationYear          Power      Kilometer  \\\n",
       "count  354369.000000     354369.000000  354369.000000  354369.000000   \n",
       "mean     4416.656776       2004.234448     110.094337  128211.172535   \n",
       "std      4514.158514         90.227958     189.850405   37905.341530   \n",
       "min         0.000000       1000.000000       0.000000    5000.000000   \n",
       "25%      1050.000000       1999.000000      69.000000  125000.000000   \n",
       "50%      2700.000000       2003.000000     105.000000  150000.000000   \n",
       "75%      6400.000000       2008.000000     143.000000  150000.000000   \n",
       "max     20000.000000       9999.000000   20000.000000  150000.000000   \n",
       "\n",
       "       RegistrationMonth  NumberOfPictures     PostalCode  \n",
       "count      354369.000000          354369.0  354369.000000  \n",
       "mean            5.714645               0.0   50508.689087  \n",
       "std             3.726421               0.0   25783.096248  \n",
       "min             0.000000               0.0    1067.000000  \n",
       "25%             3.000000               0.0   30165.000000  \n",
       "50%             6.000000               0.0   49413.000000  \n",
       "75%             9.000000               0.0   71083.000000  \n",
       "max            12.000000               0.0   99998.000000  "
      ]
     },
     "execution_count": 6,
     "metadata": {},
     "output_type": "execute_result"
    }
   ],
   "source": [
    "df.describe()"
   ]
  },
  {
   "cell_type": "code",
   "execution_count": 7,
   "id": "fb53c303",
   "metadata": {},
   "outputs": [
    {
     "data": {
      "text/html": [
       "<div>\n",
       "<style scoped>\n",
       "    .dataframe tbody tr th:only-of-type {\n",
       "        vertical-align: middle;\n",
       "    }\n",
       "\n",
       "    .dataframe tbody tr th {\n",
       "        vertical-align: top;\n",
       "    }\n",
       "\n",
       "    .dataframe thead th {\n",
       "        text-align: right;\n",
       "    }\n",
       "</style>\n",
       "<table border=\"1\" class=\"dataframe\">\n",
       "  <thead>\n",
       "    <tr style=\"text-align: right;\">\n",
       "      <th></th>\n",
       "      <th>DateCrawled</th>\n",
       "      <th>VehicleType</th>\n",
       "      <th>Gearbox</th>\n",
       "      <th>Model</th>\n",
       "      <th>FuelType</th>\n",
       "      <th>Brand</th>\n",
       "      <th>Repaired</th>\n",
       "      <th>DateCreated</th>\n",
       "      <th>LastSeen</th>\n",
       "    </tr>\n",
       "  </thead>\n",
       "  <tbody>\n",
       "    <tr>\n",
       "      <th>count</th>\n",
       "      <td>354369</td>\n",
       "      <td>316879</td>\n",
       "      <td>334536</td>\n",
       "      <td>334664</td>\n",
       "      <td>321474</td>\n",
       "      <td>354369</td>\n",
       "      <td>283215</td>\n",
       "      <td>354369</td>\n",
       "      <td>354369</td>\n",
       "    </tr>\n",
       "    <tr>\n",
       "      <th>unique</th>\n",
       "      <td>271174</td>\n",
       "      <td>8</td>\n",
       "      <td>2</td>\n",
       "      <td>250</td>\n",
       "      <td>7</td>\n",
       "      <td>40</td>\n",
       "      <td>2</td>\n",
       "      <td>109</td>\n",
       "      <td>179150</td>\n",
       "    </tr>\n",
       "    <tr>\n",
       "      <th>top</th>\n",
       "      <td>2016-03-24 14:49:47</td>\n",
       "      <td>sedan</td>\n",
       "      <td>manual</td>\n",
       "      <td>golf</td>\n",
       "      <td>petrol</td>\n",
       "      <td>volkswagen</td>\n",
       "      <td>no</td>\n",
       "      <td>2016-04-03 00:00:00</td>\n",
       "      <td>2016-04-06 13:45:54</td>\n",
       "    </tr>\n",
       "    <tr>\n",
       "      <th>freq</th>\n",
       "      <td>7</td>\n",
       "      <td>91457</td>\n",
       "      <td>268251</td>\n",
       "      <td>29232</td>\n",
       "      <td>216352</td>\n",
       "      <td>77013</td>\n",
       "      <td>247161</td>\n",
       "      <td>13719</td>\n",
       "      <td>17</td>\n",
       "    </tr>\n",
       "  </tbody>\n",
       "</table>\n",
       "</div>"
      ],
      "text/plain": [
       "                DateCrawled VehicleType Gearbox   Model FuelType       Brand  \\\n",
       "count                354369      316879  334536  334664   321474      354369   \n",
       "unique               271174           8       2     250        7          40   \n",
       "top     2016-03-24 14:49:47       sedan  manual    golf   petrol  volkswagen   \n",
       "freq                      7       91457  268251   29232   216352       77013   \n",
       "\n",
       "       Repaired          DateCreated             LastSeen  \n",
       "count    283215               354369               354369  \n",
       "unique        2                  109               179150  \n",
       "top          no  2016-04-03 00:00:00  2016-04-06 13:45:54  \n",
       "freq     247161                13719                   17  "
      ]
     },
     "execution_count": 7,
     "metadata": {},
     "output_type": "execute_result"
    }
   ],
   "source": [
    "df.describe(include='object')"
   ]
  },
  {
   "cell_type": "markdown",
   "id": "fbff1ea0",
   "metadata": {},
   "source": [
    "### Baseline Catboost"
   ]
  },
  {
   "cell_type": "code",
   "execution_count": 8,
   "id": "029020e5",
   "metadata": {},
   "outputs": [],
   "source": [
    "df_to_cat = df.copy()\n",
    "df_to_cat = df_to_cat.drop(['DateCreated', 'LastSeen', 'DateCrawled'], axis=1).fillna('Nan')\n",
    "X = df_to_cat.drop('Price', axis=1)\n",
    "y = df_to_cat['Price']\n",
    "\n",
    "X_train, X_test, y_train, y_test = train_test_split(X, y, test_size=0.6, shuffle=True, random_state=42)\n",
    "X_val, X_test, y_val, y_test = train_test_split(X_test, y_test, test_size=0.5, shuffle=True, random_state=42)\n",
    "\n",
    "cat_features = df_to_cat.select_dtypes(include='object').columns.to_list()"
   ]
  },
  {
   "cell_type": "code",
   "execution_count": 9,
   "id": "af4bb005",
   "metadata": {},
   "outputs": [],
   "source": [
    "params = {'learning_rate': 0.4,\n",
    "          'cat_features': cat_features,\n",
    "          'verbose': 100,\n",
    "         }"
   ]
  },
  {
   "cell_type": "code",
   "execution_count": 10,
   "id": "9cde0954",
   "metadata": {},
   "outputs": [],
   "source": [
    "model = CatBoostRegressor(**params)"
   ]
  },
  {
   "cell_type": "code",
   "execution_count": 11,
   "id": "150b4191",
   "metadata": {},
   "outputs": [
    {
     "name": "stdout",
     "output_type": "stream",
     "text": [
      "0:\tlearn: 3456.2215821\ttest: 3449.7206826\tbest: 3449.7206826 (0)\ttotal: 273ms\tremaining: 4m 32s\n",
      "100:\tlearn: 1746.0551891\ttest: 1814.9414673\tbest: 1814.9414673 (100)\ttotal: 10.8s\tremaining: 1m 36s\n",
      "200:\tlearn: 1667.5716430\ttest: 1780.1455995\tbest: 1780.1455995 (200)\ttotal: 20.7s\tremaining: 1m 22s\n",
      "300:\tlearn: 1620.1920808\ttest: 1767.7882368\tbest: 1767.7882368 (300)\ttotal: 31.3s\tremaining: 1m 12s\n",
      "400:\tlearn: 1585.0056763\ttest: 1760.0663121\tbest: 1759.9651198 (395)\ttotal: 42.2s\tremaining: 1m 3s\n",
      "500:\tlearn: 1556.1519430\ttest: 1755.8057074\tbest: 1755.8057074 (500)\ttotal: 52.6s\tremaining: 52.3s\n",
      "600:\tlearn: 1532.6672312\ttest: 1754.4791480\tbest: 1754.3662068 (595)\ttotal: 1m 3s\tremaining: 42.1s\n",
      "700:\tlearn: 1511.1593982\ttest: 1752.1474917\tbest: 1752.1474917 (700)\ttotal: 1m 13s\tremaining: 31.5s\n",
      "800:\tlearn: 1490.3969699\ttest: 1748.8629416\tbest: 1748.5319647 (793)\ttotal: 1m 24s\tremaining: 20.9s\n",
      "900:\tlearn: 1471.3642631\ttest: 1746.7276289\tbest: 1746.5886155 (895)\ttotal: 1m 34s\tremaining: 10.4s\n",
      "999:\tlearn: 1455.5574862\ttest: 1746.6750468\tbest: 1745.9517007 (926)\ttotal: 1m 44s\tremaining: 0us\n",
      "\n",
      "bestTest = 1745.951701\n",
      "bestIteration = 926\n",
      "\n",
      "Shrink model to first 927 iterations.\n"
     ]
    },
    {
     "data": {
      "text/plain": [
       "<catboost.core.CatBoostRegressor at 0x29e3a6e33d0>"
      ]
     },
     "execution_count": 11,
     "metadata": {},
     "output_type": "execute_result"
    }
   ],
   "source": [
    "model.fit(X_train, y_train, eval_set=(X_val, y_val))"
   ]
  },
  {
   "cell_type": "code",
   "execution_count": 12,
   "id": "ea172b6c",
   "metadata": {},
   "outputs": [
    {
     "name": "stdout",
     "output_type": "stream",
     "text": [
      "MAE Catboost без обработки фичей: 1070.9\n",
      "RMSE Catboost без обработки фичей: 1781.7\n"
     ]
    }
   ],
   "source": [
    "mae_catbst_raw = mean_absolute_error(y_test, model.predict(X_test))\n",
    "rmse_catbst_raw = (mean_squared_error(y_test, model.predict(X_test))) ** 0.5\n",
    "\n",
    "print(f'MAE Catboost без обработки фичей: {mae_catbst_raw:.1f}')\n",
    "print(f'RMSE Catboost без обработки фичей: {rmse_catbst_raw:.1f}')"
   ]
  },
  {
   "cell_type": "code",
   "execution_count": 13,
   "id": "0be2819b",
   "metadata": {},
   "outputs": [
    {
     "data": {
      "image/png": "[encoded data removed]",
      "text/plain": [
       "<Figure size 640x480 with 1 Axes>"
      ]
     },
     "metadata": {},
     "output_type": "display_data"
    }
   ],
   "source": [
    "fi_df = pd.DataFrame({'features_names': X.columns,\n",
    "                      'features_importance': pd.Series(model.feature_importances_).sort_values(ascending=False)\n",
    "                     })\n",
    "\n",
    "plt.bar(x=fi_df['features_names'],\n",
    "        height=fi_df['features_importance'],\n",
    "       )\n",
    "plt.title('Features importance')\n",
    "plt.xticks(rotation=90)\n",
    "plt.xlabel('features_names')\n",
    "plt.grid()\n",
    "plt.show()"
   ]
  },
  {
   "cell_type": "markdown",
   "id": "b18d8df8",
   "metadata": {},
   "source": [
    "# EDA"
   ]
  },
  {
   "cell_type": "markdown",
   "id": "ad15c9c1",
   "metadata": {},
   "source": [
    "**Цена автомобиля**"
   ]
  },
  {
   "cell_type": "code",
   "execution_count": 14,
   "id": "2903d85d",
   "metadata": {},
   "outputs": [
    {
     "data": {
      "image/png": "[encoded data removed]",
      "text/plain": [
       "<Figure size 640x480 with 1 Axes>"
      ]
     },
     "metadata": {},
     "output_type": "display_data"
    }
   ],
   "source": [
    "df['Price'].hist(bins=50, edgecolor='black')\n",
    "plt.title('Цены авто')\n",
    "plt.xlabel('Цена')\n",
    "plt.ylabel('Количество автомобилей')\n",
    "plt.show()"
   ]
  },
  {
   "cell_type": "markdown",
   "id": "7a3fcd65",
   "metadata": {},
   "source": [
    "Выбросы отсутствуют, есть как дешевые машины, так и дорогие"
   ]
  },
  {
   "cell_type": "markdown",
   "id": "a58d8ca0",
   "metadata": {},
   "source": [
    "**Тип кузова**"
   ]
  },
  {
   "cell_type": "code",
   "execution_count": 15,
   "id": "783e765d",
   "metadata": {},
   "outputs": [
    {
     "data": {
      "text/plain": [
       "array(['Nan', 'coupe', 'suv', 'small', 'sedan', 'convertible', 'bus',\n",
       "       'wagon', 'other'], dtype=object)"
      ]
     },
     "execution_count": 15,
     "metadata": {},
     "output_type": "execute_result"
    }
   ],
   "source": [
    "df['VehicleType'] = df['VehicleType'].fillna('Nan')\n",
    "df['VehicleType'].unique()"
   ]
  },
  {
   "cell_type": "code",
   "execution_count": 16,
   "id": "88e4ac44",
   "metadata": {},
   "outputs": [
    {
     "data": {
      "image/png": "[encoded data removed]",
      "text/plain": [
       "<Figure size 640x480 with 1 Axes>"
      ]
     },
     "metadata": {},
     "output_type": "display_data"
    }
   ],
   "source": [
    "plt.bar(x=df['VehicleType'].value_counts().index,\n",
    "        height=df['VehicleType'].value_counts(),\n",
    "        edgecolor='black'\n",
    "       )\n",
    "\n",
    "plt.xlabel('Категория')\n",
    "plt.ylabel('Количество авто')\n",
    "plt.title('Распределение по типу кузова')\n",
    "plt.xticks(rotation=30)\n",
    "plt.grid()\n",
    "plt.show()"
   ]
  },
  {
   "cell_type": "code",
   "execution_count": 17,
   "id": "013ad005",
   "metadata": {},
   "outputs": [],
   "source": [
    "# Nan заменим на моду\n",
    "df['VehicleType'] = df['VehicleType'].replace('Nan', df['VehicleType'].value_counts().index[0])"
   ]
  },
  {
   "cell_type": "markdown",
   "id": "d48a6b6b",
   "metadata": {},
   "source": [
    "**Код регистрации**"
   ]
  },
  {
   "cell_type": "code",
   "execution_count": 18,
   "id": "3225eca4",
   "metadata": {},
   "outputs": [
    {
     "data": {
      "text/plain": [
       "array([1993, 2011, 2004, 2001, 2008, 1995, 1980, 2014, 1998, 2005, 1910,\n",
       "       2016, 2007, 2009, 2002, 2018, 1997, 1990, 2017, 1981, 2003, 1994,\n",
       "       1991, 1984, 2006, 1999, 2012, 2010, 2000, 1992, 2013, 1996, 1985,\n",
       "       1989, 2015, 1982, 1976, 1983, 1973, 1111, 1969, 1971, 1987, 1986,\n",
       "       1988, 1970, 1965, 1945, 1925, 1974, 1979, 1955, 1978, 1972, 1968,\n",
       "       1977, 1961, 1960, 1966, 1975, 1963, 1964, 5000, 1954, 1958, 1967,\n",
       "       1959, 9999, 1956, 3200, 1000, 1941, 8888, 1500, 2200, 4100, 1962,\n",
       "       1929, 1957, 1940, 3000, 2066, 1949, 2019, 1937, 1951, 1800, 1953,\n",
       "       1234, 8000, 5300, 9000, 2900, 6000, 5900, 5911, 1933, 1400, 1950,\n",
       "       4000, 1948, 1952, 1200, 8500, 1932, 1255, 3700, 3800, 4800, 1942,\n",
       "       7000, 1935, 1936, 6500, 1923, 2290, 2500, 1930, 1001, 9450, 1944,\n",
       "       1943, 1934, 1938, 1688, 2800, 1253, 1928, 1919, 5555, 5600, 1600,\n",
       "       2222, 1039, 9996, 1300, 8455, 1931, 1915, 4500, 1920, 1602, 7800,\n",
       "       9229, 1947, 1927, 7100, 8200, 1946, 7500, 3500], dtype=int64)"
      ]
     },
     "execution_count": 18,
     "metadata": {},
     "output_type": "execute_result"
    }
   ],
   "source": [
    "df['RegistrationYear'].unique()"
   ]
  },
  {
   "cell_type": "code",
   "execution_count": 19,
   "id": "0bcad87c",
   "metadata": {},
   "outputs": [],
   "source": [
    "# машины с годом регистрации меньше 1900 или больше 2024 года - странность, удалим\n",
    "df = df.query('RegistrationYear > 1900 and RegistrationYear < 2024')"
   ]
  },
  {
   "cell_type": "code",
   "execution_count": 20,
   "id": "04a0320c",
   "metadata": {},
   "outputs": [
    {
     "data": {
      "image/png": "[encoded data removed]",
      "text/plain": [
       "<Figure size 640x480 with 1 Axes>"
      ]
     },
     "metadata": {},
     "output_type": "display_data"
    }
   ],
   "source": [
    "df['RegistrationYear'].hist(bins=80, edgecolor='black')\n",
    "plt.title('Цены авто')\n",
    "plt.xlabel('Цена')\n",
    "plt.ylabel('Количество автомобилей')\n",
    "plt.show()"
   ]
  },
  {
   "cell_type": "markdown",
   "id": "9b9a3436",
   "metadata": {},
   "source": [
    "**Тип коробки передач**"
   ]
  },
  {
   "cell_type": "code",
   "execution_count": 21,
   "id": "3f545bc3",
   "metadata": {},
   "outputs": [
    {
     "data": {
      "text/plain": [
       "array(['manual', 'auto', 'Unknow'], dtype=object)"
      ]
     },
     "execution_count": 21,
     "metadata": {},
     "output_type": "execute_result"
    }
   ],
   "source": [
    "df['Gearbox'] = df['Gearbox'].fillna('Unknow')\n",
    "df['Gearbox'].unique()"
   ]
  },
  {
   "cell_type": "code",
   "execution_count": 22,
   "id": "2ec3b8d7",
   "metadata": {},
   "outputs": [
    {
     "data": {
      "image/png": "[encoded data removed]",
      "text/plain": [
       "<Figure size 640x480 with 1 Axes>"
      ]
     },
     "metadata": {},
     "output_type": "display_data"
    }
   ],
   "source": [
    "plt.bar(x=df['Gearbox'].value_counts().index,\n",
    "        height=df['Gearbox'].value_counts(),\n",
    "        edgecolor='black'\n",
    "       )\n",
    "\n",
    "plt.xlabel('Категория')\n",
    "plt.ylabel('Количество авто')\n",
    "plt.title('Распределение по типу коробки передач')\n",
    "plt.grid()\n",
    "plt.show()"
   ]
  },
  {
   "cell_type": "markdown",
   "id": "09c628b6",
   "metadata": {},
   "source": [
    "**Мощность**"
   ]
  },
  {
   "cell_type": "code",
   "execution_count": 23,
   "id": "9f952dad",
   "metadata": {},
   "outputs": [
    {
     "data": {
      "text/plain": [
       "118"
      ]
     },
     "execution_count": 23,
     "metadata": {},
     "output_type": "execute_result"
    }
   ],
   "source": [
    "df[df['Power'] > 2000]['Power'].count()"
   ]
  },
  {
   "cell_type": "code",
   "execution_count": 24,
   "id": "4b80554d",
   "metadata": {},
   "outputs": [],
   "source": [
    "df = df.query('Power < 2000')"
   ]
  },
  {
   "cell_type": "code",
   "execution_count": 25,
   "id": "15cc342c",
   "metadata": {},
   "outputs": [
    {
     "data": {
      "image/png": "[encoded data removed]",
      "text/plain": [
       "<Figure size 640x480 with 1 Axes>"
      ]
     },
     "metadata": {},
     "output_type": "display_data"
    }
   ],
   "source": [
    "df['Power'].hist(bins=50, edgecolor='black')\n",
    "plt.title('Мощность авто')\n",
    "plt.xlabel('Мощность')\n",
    "plt.ylabel('Количество автомобилей')\n",
    "plt.show()"
   ]
  },
  {
   "cell_type": "code",
   "execution_count": 26,
   "id": "36afc058",
   "metadata": {},
   "outputs": [
    {
     "data": {
      "text/plain": [
       "3369"
      ]
     },
     "execution_count": 26,
     "metadata": {},
     "output_type": "execute_result"
    }
   ],
   "source": [
    "df.query('Power > 300')['Power'].count()"
   ]
  },
  {
   "cell_type": "code",
   "execution_count": 27,
   "id": "12a62a32",
   "metadata": {},
   "outputs": [
    {
     "data": {
      "text/plain": [
       "40098"
      ]
     },
     "execution_count": 27,
     "metadata": {},
     "output_type": "execute_result"
    }
   ],
   "source": [
    "df.query('Power == 0')['Power'].count()"
   ]
  },
  {
   "cell_type": "code",
   "execution_count": 28,
   "id": "c24547cb",
   "metadata": {},
   "outputs": [],
   "source": [
    "# много авто с мощностью 0, удалим\n",
    "\n",
    "df = df.query('Power > 0')"
   ]
  },
  {
   "cell_type": "markdown",
   "id": "70f2ecbc",
   "metadata": {},
   "source": [
    "**Модель**"
   ]
  },
  {
   "cell_type": "code",
   "execution_count": 29,
   "id": "cd84046f",
   "metadata": {},
   "outputs": [
    {
     "data": {
      "text/html": [
       "<div>\n",
       "<style scoped>\n",
       "    .dataframe tbody tr th:only-of-type {\n",
       "        vertical-align: middle;\n",
       "    }\n",
       "\n",
       "    .dataframe tbody tr th {\n",
       "        vertical-align: top;\n",
       "    }\n",
       "\n",
       "    .dataframe thead th {\n",
       "        text-align: right;\n",
       "    }\n",
       "</style>\n",
       "<table border=\"1\" class=\"dataframe\">\n",
       "  <thead>\n",
       "    <tr style=\"text-align: right;\">\n",
       "      <th></th>\n",
       "      <th>Brand</th>\n",
       "      <th>Model</th>\n",
       "      <th>Count</th>\n",
       "    </tr>\n",
       "  </thead>\n",
       "  <tbody>\n",
       "    <tr>\n",
       "      <th>2</th>\n",
       "      <td>alfa_romeo</td>\n",
       "      <td>156</td>\n",
       "      <td>571</td>\n",
       "    </tr>\n",
       "    <tr>\n",
       "      <th>13</th>\n",
       "      <td>audi</td>\n",
       "      <td>a4</td>\n",
       "      <td>9169</td>\n",
       "    </tr>\n",
       "    <tr>\n",
       "      <th>23</th>\n",
       "      <td>bmw</td>\n",
       "      <td>3er</td>\n",
       "      <td>18223</td>\n",
       "    </tr>\n",
       "    <tr>\n",
       "      <th>35</th>\n",
       "      <td>chevrolet</td>\n",
       "      <td>other</td>\n",
       "      <td>821</td>\n",
       "    </tr>\n",
       "    <tr>\n",
       "      <th>40</th>\n",
       "      <td>chrysler</td>\n",
       "      <td>other</td>\n",
       "      <td>334</td>\n",
       "    </tr>\n",
       "    <tr>\n",
       "      <th>49</th>\n",
       "      <td>citroen</td>\n",
       "      <td>other</td>\n",
       "      <td>1562</td>\n",
       "    </tr>\n",
       "    <tr>\n",
       "      <th>52</th>\n",
       "      <td>dacia</td>\n",
       "      <td>logan</td>\n",
       "      <td>289</td>\n",
       "    </tr>\n",
       "    <tr>\n",
       "      <th>57</th>\n",
       "      <td>daewoo</td>\n",
       "      <td>matiz</td>\n",
       "      <td>120</td>\n",
       "    </tr>\n",
       "    <tr>\n",
       "      <th>61</th>\n",
       "      <td>daihatsu</td>\n",
       "      <td>cuore</td>\n",
       "      <td>297</td>\n",
       "    </tr>\n",
       "    <tr>\n",
       "      <th>74</th>\n",
       "      <td>fiat</td>\n",
       "      <td>punto</td>\n",
       "      <td>2827</td>\n",
       "    </tr>\n",
       "  </tbody>\n",
       "</table>\n",
       "</div>"
      ],
      "text/plain": [
       "         Brand  Model  Count\n",
       "2   alfa_romeo    156    571\n",
       "13        audi     a4   9169\n",
       "23         bmw    3er  18223\n",
       "35   chevrolet  other    821\n",
       "40    chrysler  other    334\n",
       "49     citroen  other   1562\n",
       "52       dacia  logan    289\n",
       "57      daewoo  matiz    120\n",
       "61    daihatsu  cuore    297\n",
       "74        fiat  punto   2827"
      ]
     },
     "execution_count": 29,
     "metadata": {},
     "output_type": "execute_result"
    }
   ],
   "source": [
    "grouped = df.groupby(['Brand', 'Model']).size().reset_index(name='Count')\n",
    "popular_models = grouped.loc[grouped.groupby('Brand')['Count'].idxmax()]\n",
    "popular_models.head(10)"
   ]
  },
  {
   "cell_type": "code",
   "execution_count": 30,
   "id": "90f670ec",
   "metadata": {},
   "outputs": [
    {
     "data": {
      "text/html": [
       "<div>\n",
       "<style scoped>\n",
       "    .dataframe tbody tr th:only-of-type {\n",
       "        vertical-align: middle;\n",
       "    }\n",
       "\n",
       "    .dataframe tbody tr th {\n",
       "        vertical-align: top;\n",
       "    }\n",
       "\n",
       "    .dataframe thead th {\n",
       "        text-align: right;\n",
       "    }\n",
       "</style>\n",
       "<table border=\"1\" class=\"dataframe\">\n",
       "  <thead>\n",
       "    <tr style=\"text-align: right;\">\n",
       "      <th></th>\n",
       "      <th>DateCrawled</th>\n",
       "      <th>Price</th>\n",
       "      <th>VehicleType</th>\n",
       "      <th>RegistrationYear</th>\n",
       "      <th>Gearbox</th>\n",
       "      <th>Power</th>\n",
       "      <th>Model_x</th>\n",
       "      <th>Kilometer</th>\n",
       "      <th>RegistrationMonth</th>\n",
       "      <th>FuelType</th>\n",
       "      <th>Brand</th>\n",
       "      <th>Repaired</th>\n",
       "      <th>DateCreated</th>\n",
       "      <th>NumberOfPictures</th>\n",
       "      <th>PostalCode</th>\n",
       "      <th>LastSeen</th>\n",
       "      <th>Model_y</th>\n",
       "    </tr>\n",
       "  </thead>\n",
       "  <tbody>\n",
       "    <tr>\n",
       "      <th>0</th>\n",
       "      <td>2016-03-24 10:58:45</td>\n",
       "      <td>18300</td>\n",
       "      <td>coupe</td>\n",
       "      <td>2011</td>\n",
       "      <td>manual</td>\n",
       "      <td>190</td>\n",
       "      <td>NaN</td>\n",
       "      <td>125000</td>\n",
       "      <td>5</td>\n",
       "      <td>gasoline</td>\n",
       "      <td>audi</td>\n",
       "      <td>yes</td>\n",
       "      <td>2016-03-24 00:00:00</td>\n",
       "      <td>0</td>\n",
       "      <td>66954</td>\n",
       "      <td>2016-04-07 01:46:50</td>\n",
       "      <td>a4</td>\n",
       "    </tr>\n",
       "    <tr>\n",
       "      <th>1</th>\n",
       "      <td>2016-03-14 12:52:21</td>\n",
       "      <td>9800</td>\n",
       "      <td>suv</td>\n",
       "      <td>2004</td>\n",
       "      <td>auto</td>\n",
       "      <td>163</td>\n",
       "      <td>grand</td>\n",
       "      <td>125000</td>\n",
       "      <td>8</td>\n",
       "      <td>gasoline</td>\n",
       "      <td>jeep</td>\n",
       "      <td>NaN</td>\n",
       "      <td>2016-03-14 00:00:00</td>\n",
       "      <td>0</td>\n",
       "      <td>90480</td>\n",
       "      <td>2016-04-05 12:47:46</td>\n",
       "      <td>grand</td>\n",
       "    </tr>\n",
       "    <tr>\n",
       "      <th>2</th>\n",
       "      <td>2016-03-17 16:54:04</td>\n",
       "      <td>1500</td>\n",
       "      <td>small</td>\n",
       "      <td>2001</td>\n",
       "      <td>manual</td>\n",
       "      <td>75</td>\n",
       "      <td>golf</td>\n",
       "      <td>150000</td>\n",
       "      <td>6</td>\n",
       "      <td>petrol</td>\n",
       "      <td>volkswagen</td>\n",
       "      <td>no</td>\n",
       "      <td>2016-03-17 00:00:00</td>\n",
       "      <td>0</td>\n",
       "      <td>91074</td>\n",
       "      <td>2016-03-17 17:40:17</td>\n",
       "      <td>golf</td>\n",
       "    </tr>\n",
       "    <tr>\n",
       "      <th>3</th>\n",
       "      <td>2016-03-31 17:25:20</td>\n",
       "      <td>3600</td>\n",
       "      <td>small</td>\n",
       "      <td>2008</td>\n",
       "      <td>manual</td>\n",
       "      <td>69</td>\n",
       "      <td>fabia</td>\n",
       "      <td>90000</td>\n",
       "      <td>7</td>\n",
       "      <td>gasoline</td>\n",
       "      <td>skoda</td>\n",
       "      <td>no</td>\n",
       "      <td>2016-03-31 00:00:00</td>\n",
       "      <td>0</td>\n",
       "      <td>60437</td>\n",
       "      <td>2016-04-06 10:17:21</td>\n",
       "      <td>octavia</td>\n",
       "    </tr>\n",
       "    <tr>\n",
       "      <th>4</th>\n",
       "      <td>2016-04-04 17:36:23</td>\n",
       "      <td>650</td>\n",
       "      <td>sedan</td>\n",
       "      <td>1995</td>\n",
       "      <td>manual</td>\n",
       "      <td>102</td>\n",
       "      <td>3er</td>\n",
       "      <td>150000</td>\n",
       "      <td>10</td>\n",
       "      <td>petrol</td>\n",
       "      <td>bmw</td>\n",
       "      <td>yes</td>\n",
       "      <td>2016-04-04 00:00:00</td>\n",
       "      <td>0</td>\n",
       "      <td>33775</td>\n",
       "      <td>2016-04-06 19:17:07</td>\n",
       "      <td>3er</td>\n",
       "    </tr>\n",
       "  </tbody>\n",
       "</table>\n",
       "</div>"
      ],
      "text/plain": [
       "           DateCrawled  Price VehicleType  RegistrationYear Gearbox  Power  \\\n",
       "0  2016-03-24 10:58:45  18300       coupe              2011  manual    190   \n",
       "1  2016-03-14 12:52:21   9800         suv              2004    auto    163   \n",
       "2  2016-03-17 16:54:04   1500       small              2001  manual     75   \n",
       "3  2016-03-31 17:25:20   3600       small              2008  manual     69   \n",
       "4  2016-04-04 17:36:23    650       sedan              1995  manual    102   \n",
       "\n",
       "  Model_x  Kilometer  RegistrationMonth  FuelType       Brand Repaired  \\\n",
       "0     NaN     125000                  5  gasoline        audi      yes   \n",
       "1   grand     125000                  8  gasoline        jeep      NaN   \n",
       "2    golf     150000                  6    petrol  volkswagen       no   \n",
       "3   fabia      90000                  7  gasoline       skoda       no   \n",
       "4     3er     150000                 10    petrol         bmw      yes   \n",
       "\n",
       "           DateCreated  NumberOfPictures  PostalCode             LastSeen  \\\n",
       "0  2016-03-24 00:00:00                 0       66954  2016-04-07 01:46:50   \n",
       "1  2016-03-14 00:00:00                 0       90480  2016-04-05 12:47:46   \n",
       "2  2016-03-17 00:00:00                 0       91074  2016-03-17 17:40:17   \n",
       "3  2016-03-31 00:00:00                 0       60437  2016-04-06 10:17:21   \n",
       "4  2016-04-04 00:00:00                 0       33775  2016-04-06 19:17:07   \n",
       "\n",
       "   Model_y  \n",
       "0       a4  \n",
       "1    grand  \n",
       "2     golf  \n",
       "3  octavia  \n",
       "4      3er  "
      ]
     },
     "execution_count": 30,
     "metadata": {},
     "output_type": "execute_result"
    }
   ],
   "source": [
    "df = df.merge(popular_models[['Model', 'Brand']], how='left', on='Brand')\n",
    "df.head()"
   ]
  },
  {
   "cell_type": "code",
   "execution_count": 31,
   "id": "f3802f48",
   "metadata": {},
   "outputs": [
    {
     "data": {
      "text/html": [
       "<div>\n",
       "<style scoped>\n",
       "    .dataframe tbody tr th:only-of-type {\n",
       "        vertical-align: middle;\n",
       "    }\n",
       "\n",
       "    .dataframe tbody tr th {\n",
       "        vertical-align: top;\n",
       "    }\n",
       "\n",
       "    .dataframe thead th {\n",
       "        text-align: right;\n",
       "    }\n",
       "</style>\n",
       "<table border=\"1\" class=\"dataframe\">\n",
       "  <thead>\n",
       "    <tr style=\"text-align: right;\">\n",
       "      <th></th>\n",
       "      <th>DateCrawled</th>\n",
       "      <th>Price</th>\n",
       "      <th>VehicleType</th>\n",
       "      <th>RegistrationYear</th>\n",
       "      <th>Gearbox</th>\n",
       "      <th>Power</th>\n",
       "      <th>Model</th>\n",
       "      <th>Kilometer</th>\n",
       "      <th>RegistrationMonth</th>\n",
       "      <th>FuelType</th>\n",
       "      <th>Brand</th>\n",
       "      <th>Repaired</th>\n",
       "      <th>DateCreated</th>\n",
       "      <th>NumberOfPictures</th>\n",
       "      <th>PostalCode</th>\n",
       "      <th>LastSeen</th>\n",
       "    </tr>\n",
       "  </thead>\n",
       "  <tbody>\n",
       "    <tr>\n",
       "      <th>0</th>\n",
       "      <td>2016-03-24 10:58:45</td>\n",
       "      <td>18300</td>\n",
       "      <td>coupe</td>\n",
       "      <td>2011</td>\n",
       "      <td>manual</td>\n",
       "      <td>190</td>\n",
       "      <td>a4</td>\n",
       "      <td>125000</td>\n",
       "      <td>5</td>\n",
       "      <td>gasoline</td>\n",
       "      <td>audi</td>\n",
       "      <td>yes</td>\n",
       "      <td>2016-03-24 00:00:00</td>\n",
       "      <td>0</td>\n",
       "      <td>66954</td>\n",
       "      <td>2016-04-07 01:46:50</td>\n",
       "    </tr>\n",
       "    <tr>\n",
       "      <th>1</th>\n",
       "      <td>2016-03-14 12:52:21</td>\n",
       "      <td>9800</td>\n",
       "      <td>suv</td>\n",
       "      <td>2004</td>\n",
       "      <td>auto</td>\n",
       "      <td>163</td>\n",
       "      <td>grand</td>\n",
       "      <td>125000</td>\n",
       "      <td>8</td>\n",
       "      <td>gasoline</td>\n",
       "      <td>jeep</td>\n",
       "      <td>NaN</td>\n",
       "      <td>2016-03-14 00:00:00</td>\n",
       "      <td>0</td>\n",
       "      <td>90480</td>\n",
       "      <td>2016-04-05 12:47:46</td>\n",
       "    </tr>\n",
       "    <tr>\n",
       "      <th>2</th>\n",
       "      <td>2016-03-17 16:54:04</td>\n",
       "      <td>1500</td>\n",
       "      <td>small</td>\n",
       "      <td>2001</td>\n",
       "      <td>manual</td>\n",
       "      <td>75</td>\n",
       "      <td>golf</td>\n",
       "      <td>150000</td>\n",
       "      <td>6</td>\n",
       "      <td>petrol</td>\n",
       "      <td>volkswagen</td>\n",
       "      <td>no</td>\n",
       "      <td>2016-03-17 00:00:00</td>\n",
       "      <td>0</td>\n",
       "      <td>91074</td>\n",
       "      <td>2016-03-17 17:40:17</td>\n",
       "    </tr>\n",
       "    <tr>\n",
       "      <th>3</th>\n",
       "      <td>2016-03-31 17:25:20</td>\n",
       "      <td>3600</td>\n",
       "      <td>small</td>\n",
       "      <td>2008</td>\n",
       "      <td>manual</td>\n",
       "      <td>69</td>\n",
       "      <td>fabia</td>\n",
       "      <td>90000</td>\n",
       "      <td>7</td>\n",
       "      <td>gasoline</td>\n",
       "      <td>skoda</td>\n",
       "      <td>no</td>\n",
       "      <td>2016-03-31 00:00:00</td>\n",
       "      <td>0</td>\n",
       "      <td>60437</td>\n",
       "      <td>2016-04-06 10:17:21</td>\n",
       "    </tr>\n",
       "    <tr>\n",
       "      <th>4</th>\n",
       "      <td>2016-04-04 17:36:23</td>\n",
       "      <td>650</td>\n",
       "      <td>sedan</td>\n",
       "      <td>1995</td>\n",
       "      <td>manual</td>\n",
       "      <td>102</td>\n",
       "      <td>3er</td>\n",
       "      <td>150000</td>\n",
       "      <td>10</td>\n",
       "      <td>petrol</td>\n",
       "      <td>bmw</td>\n",
       "      <td>yes</td>\n",
       "      <td>2016-04-04 00:00:00</td>\n",
       "      <td>0</td>\n",
       "      <td>33775</td>\n",
       "      <td>2016-04-06 19:17:07</td>\n",
       "    </tr>\n",
       "  </tbody>\n",
       "</table>\n",
       "</div>"
      ],
      "text/plain": [
       "           DateCrawled  Price VehicleType  RegistrationYear Gearbox  Power  \\\n",
       "0  2016-03-24 10:58:45  18300       coupe              2011  manual    190   \n",
       "1  2016-03-14 12:52:21   9800         suv              2004    auto    163   \n",
       "2  2016-03-17 16:54:04   1500       small              2001  manual     75   \n",
       "3  2016-03-31 17:25:20   3600       small              2008  manual     69   \n",
       "4  2016-04-04 17:36:23    650       sedan              1995  manual    102   \n",
       "\n",
       "   Model  Kilometer  RegistrationMonth  FuelType       Brand Repaired  \\\n",
       "0     a4     125000                  5  gasoline        audi      yes   \n",
       "1  grand     125000                  8  gasoline        jeep      NaN   \n",
       "2   golf     150000                  6    petrol  volkswagen       no   \n",
       "3  fabia      90000                  7  gasoline       skoda       no   \n",
       "4    3er     150000                 10    petrol         bmw      yes   \n",
       "\n",
       "           DateCreated  NumberOfPictures  PostalCode             LastSeen  \n",
       "0  2016-03-24 00:00:00                 0       66954  2016-04-07 01:46:50  \n",
       "1  2016-03-14 00:00:00                 0       90480  2016-04-05 12:47:46  \n",
       "2  2016-03-17 00:00:00                 0       91074  2016-03-17 17:40:17  \n",
       "3  2016-03-31 00:00:00                 0       60437  2016-04-06 10:17:21  \n",
       "4  2016-04-04 00:00:00                 0       33775  2016-04-06 19:17:07  "
      ]
     },
     "execution_count": 31,
     "metadata": {},
     "output_type": "execute_result"
    }
   ],
   "source": [
    "# Пропуски в Model заполним самой популярной моделью внутри конкретного бренда авто\n",
    "\n",
    "df['Model_x'] = df['Model_x'].fillna(df['Model_y'])\n",
    "df = df.drop('Model_y', axis=1).rename(columns={'Model_x': 'Model'})\n",
    "df.head()"
   ]
  },
  {
   "cell_type": "code",
   "execution_count": 32,
   "id": "490da2ad",
   "metadata": {},
   "outputs": [],
   "source": [
    "# Остальные пропуски в Model заполним other_model,\n",
    "# так как авто не относятся ни к одному из представленных брендов (sonstige_autos)\n",
    "\n",
    "df['Model'] = df['Model'].fillna('other_model')"
   ]
  },
  {
   "cell_type": "markdown",
   "id": "002efb1c",
   "metadata": {},
   "source": [
    "**Пробег**"
   ]
  },
  {
   "cell_type": "code",
   "execution_count": 33,
   "id": "136c0ea9",
   "metadata": {},
   "outputs": [
    {
     "data": {
      "image/png": "[encoded data removed]",
      "text/plain": [
       "<Figure size 640x480 with 1 Axes>"
      ]
     },
     "metadata": {},
     "output_type": "display_data"
    }
   ],
   "source": [
    "df['Kilometer'].hist(bins=8, edgecolor='black')\n",
    "plt.title('Пробег авто')\n",
    "plt.xlabel('Пробег')\n",
    "plt.ylabel('Количество автомобилей')\n",
    "plt.show()"
   ]
  },
  {
   "cell_type": "markdown",
   "id": "de454ad5",
   "metadata": {},
   "source": [
    "**Мясец регистрации**"
   ]
  },
  {
   "cell_type": "code",
   "execution_count": 34,
   "id": "9c4d958b",
   "metadata": {},
   "outputs": [],
   "source": [
    "df['RegistrationMonth'] = df['RegistrationMonth'].astype(str)"
   ]
  },
  {
   "cell_type": "markdown",
   "id": "43a075c9",
   "metadata": {},
   "source": [
    "**FuelType**"
   ]
  },
  {
   "cell_type": "code",
   "execution_count": 35,
   "id": "b03709af",
   "metadata": {},
   "outputs": [
    {
     "data": {
      "text/html": [
       "<div>\n",
       "<style scoped>\n",
       "    .dataframe tbody tr th:only-of-type {\n",
       "        vertical-align: middle;\n",
       "    }\n",
       "\n",
       "    .dataframe tbody tr th {\n",
       "        vertical-align: top;\n",
       "    }\n",
       "\n",
       "    .dataframe thead th {\n",
       "        text-align: right;\n",
       "    }\n",
       "</style>\n",
       "<table border=\"1\" class=\"dataframe\">\n",
       "  <thead>\n",
       "    <tr style=\"text-align: right;\">\n",
       "      <th></th>\n",
       "      <th>Model</th>\n",
       "      <th>FuelType</th>\n",
       "      <th>Count_auto</th>\n",
       "    </tr>\n",
       "  </thead>\n",
       "  <tbody>\n",
       "    <tr>\n",
       "      <th>2</th>\n",
       "      <td>100</td>\n",
       "      <td>petrol</td>\n",
       "      <td>341</td>\n",
       "    </tr>\n",
       "    <tr>\n",
       "      <th>3</th>\n",
       "      <td>145</td>\n",
       "      <td>petrol</td>\n",
       "      <td>37</td>\n",
       "    </tr>\n",
       "    <tr>\n",
       "      <th>6</th>\n",
       "      <td>147</td>\n",
       "      <td>petrol</td>\n",
       "      <td>369</td>\n",
       "    </tr>\n",
       "    <tr>\n",
       "      <th>9</th>\n",
       "      <td>156</td>\n",
       "      <td>petrol</td>\n",
       "      <td>372</td>\n",
       "    </tr>\n",
       "    <tr>\n",
       "      <th>10</th>\n",
       "      <td>159</td>\n",
       "      <td>gasoline</td>\n",
       "      <td>136</td>\n",
       "    </tr>\n",
       "    <tr>\n",
       "      <th>14</th>\n",
       "      <td>1_reihe</td>\n",
       "      <td>petrol</td>\n",
       "      <td>1034</td>\n",
       "    </tr>\n",
       "    <tr>\n",
       "      <th>17</th>\n",
       "      <td>1er</td>\n",
       "      <td>petrol</td>\n",
       "      <td>1703</td>\n",
       "    </tr>\n",
       "    <tr>\n",
       "      <th>18</th>\n",
       "      <td>200</td>\n",
       "      <td>petrol</td>\n",
       "      <td>15</td>\n",
       "    </tr>\n",
       "    <tr>\n",
       "      <th>22</th>\n",
       "      <td>2_reihe</td>\n",
       "      <td>petrol</td>\n",
       "      <td>4072</td>\n",
       "    </tr>\n",
       "    <tr>\n",
       "      <th>23</th>\n",
       "      <td>300c</td>\n",
       "      <td>gasoline</td>\n",
       "      <td>76</td>\n",
       "    </tr>\n",
       "  </tbody>\n",
       "</table>\n",
       "</div>"
      ],
      "text/plain": [
       "      Model  FuelType  Count_auto\n",
       "2       100    petrol         341\n",
       "3       145    petrol          37\n",
       "6       147    petrol         369\n",
       "9       156    petrol         372\n",
       "10      159  gasoline         136\n",
       "14  1_reihe    petrol        1034\n",
       "17      1er    petrol        1703\n",
       "18      200    petrol          15\n",
       "22  2_reihe    petrol        4072\n",
       "23     300c  gasoline          76"
      ]
     },
     "execution_count": 35,
     "metadata": {},
     "output_type": "execute_result"
    }
   ],
   "source": [
    "# пропуски заполним самым популярным значением для данной модели авто\n",
    "\n",
    "grouped = df.groupby(['Model','FuelType']).size().reset_index(name='Count_auto')\n",
    "idx = grouped.groupby('Model')['Count_auto'].idxmax()\n",
    "top_models = grouped.loc[idx]\n",
    "top_models.head(10)"
   ]
  },
  {
   "cell_type": "code",
   "execution_count": 36,
   "id": "0693426a",
   "metadata": {},
   "outputs": [
    {
     "data": {
      "text/html": [
       "<div>\n",
       "<style scoped>\n",
       "    .dataframe tbody tr th:only-of-type {\n",
       "        vertical-align: middle;\n",
       "    }\n",
       "\n",
       "    .dataframe tbody tr th {\n",
       "        vertical-align: top;\n",
       "    }\n",
       "\n",
       "    .dataframe thead th {\n",
       "        text-align: right;\n",
       "    }\n",
       "</style>\n",
       "<table border=\"1\" class=\"dataframe\">\n",
       "  <thead>\n",
       "    <tr style=\"text-align: right;\">\n",
       "      <th></th>\n",
       "      <th>DateCrawled</th>\n",
       "      <th>Price</th>\n",
       "      <th>VehicleType</th>\n",
       "      <th>RegistrationYear</th>\n",
       "      <th>Gearbox</th>\n",
       "      <th>Power</th>\n",
       "      <th>Model</th>\n",
       "      <th>Kilometer</th>\n",
       "      <th>RegistrationMonth</th>\n",
       "      <th>FuelType</th>\n",
       "      <th>Brand</th>\n",
       "      <th>Repaired</th>\n",
       "      <th>DateCreated</th>\n",
       "      <th>NumberOfPictures</th>\n",
       "      <th>PostalCode</th>\n",
       "      <th>LastSeen</th>\n",
       "    </tr>\n",
       "  </thead>\n",
       "  <tbody>\n",
       "    <tr>\n",
       "      <th>0</th>\n",
       "      <td>2016-03-24 10:58:45</td>\n",
       "      <td>18300</td>\n",
       "      <td>coupe</td>\n",
       "      <td>2011</td>\n",
       "      <td>manual</td>\n",
       "      <td>190</td>\n",
       "      <td>a4</td>\n",
       "      <td>125000</td>\n",
       "      <td>5</td>\n",
       "      <td>gasoline</td>\n",
       "      <td>audi</td>\n",
       "      <td>yes</td>\n",
       "      <td>2016-03-24 00:00:00</td>\n",
       "      <td>0</td>\n",
       "      <td>66954</td>\n",
       "      <td>2016-04-07 01:46:50</td>\n",
       "    </tr>\n",
       "    <tr>\n",
       "      <th>1</th>\n",
       "      <td>2016-03-14 12:52:21</td>\n",
       "      <td>9800</td>\n",
       "      <td>suv</td>\n",
       "      <td>2004</td>\n",
       "      <td>auto</td>\n",
       "      <td>163</td>\n",
       "      <td>grand</td>\n",
       "      <td>125000</td>\n",
       "      <td>8</td>\n",
       "      <td>gasoline</td>\n",
       "      <td>jeep</td>\n",
       "      <td>NaN</td>\n",
       "      <td>2016-03-14 00:00:00</td>\n",
       "      <td>0</td>\n",
       "      <td>90480</td>\n",
       "      <td>2016-04-05 12:47:46</td>\n",
       "    </tr>\n",
       "    <tr>\n",
       "      <th>2</th>\n",
       "      <td>2016-03-17 16:54:04</td>\n",
       "      <td>1500</td>\n",
       "      <td>small</td>\n",
       "      <td>2001</td>\n",
       "      <td>manual</td>\n",
       "      <td>75</td>\n",
       "      <td>golf</td>\n",
       "      <td>150000</td>\n",
       "      <td>6</td>\n",
       "      <td>petrol</td>\n",
       "      <td>volkswagen</td>\n",
       "      <td>no</td>\n",
       "      <td>2016-03-17 00:00:00</td>\n",
       "      <td>0</td>\n",
       "      <td>91074</td>\n",
       "      <td>2016-03-17 17:40:17</td>\n",
       "    </tr>\n",
       "    <tr>\n",
       "      <th>3</th>\n",
       "      <td>2016-03-31 17:25:20</td>\n",
       "      <td>3600</td>\n",
       "      <td>small</td>\n",
       "      <td>2008</td>\n",
       "      <td>manual</td>\n",
       "      <td>69</td>\n",
       "      <td>fabia</td>\n",
       "      <td>90000</td>\n",
       "      <td>7</td>\n",
       "      <td>gasoline</td>\n",
       "      <td>skoda</td>\n",
       "      <td>no</td>\n",
       "      <td>2016-03-31 00:00:00</td>\n",
       "      <td>0</td>\n",
       "      <td>60437</td>\n",
       "      <td>2016-04-06 10:17:21</td>\n",
       "    </tr>\n",
       "    <tr>\n",
       "      <th>4</th>\n",
       "      <td>2016-04-04 17:36:23</td>\n",
       "      <td>650</td>\n",
       "      <td>sedan</td>\n",
       "      <td>1995</td>\n",
       "      <td>manual</td>\n",
       "      <td>102</td>\n",
       "      <td>3er</td>\n",
       "      <td>150000</td>\n",
       "      <td>10</td>\n",
       "      <td>petrol</td>\n",
       "      <td>bmw</td>\n",
       "      <td>yes</td>\n",
       "      <td>2016-04-04 00:00:00</td>\n",
       "      <td>0</td>\n",
       "      <td>33775</td>\n",
       "      <td>2016-04-06 19:17:07</td>\n",
       "    </tr>\n",
       "  </tbody>\n",
       "</table>\n",
       "</div>"
      ],
      "text/plain": [
       "           DateCrawled  Price VehicleType  RegistrationYear Gearbox  Power  \\\n",
       "0  2016-03-24 10:58:45  18300       coupe              2011  manual    190   \n",
       "1  2016-03-14 12:52:21   9800         suv              2004    auto    163   \n",
       "2  2016-03-17 16:54:04   1500       small              2001  manual     75   \n",
       "3  2016-03-31 17:25:20   3600       small              2008  manual     69   \n",
       "4  2016-04-04 17:36:23    650       sedan              1995  manual    102   \n",
       "\n",
       "   Model  Kilometer RegistrationMonth  FuelType       Brand Repaired  \\\n",
       "0     a4     125000                 5  gasoline        audi      yes   \n",
       "1  grand     125000                 8  gasoline        jeep      NaN   \n",
       "2   golf     150000                 6    petrol  volkswagen       no   \n",
       "3  fabia      90000                 7  gasoline       skoda       no   \n",
       "4    3er     150000                10    petrol         bmw      yes   \n",
       "\n",
       "           DateCreated  NumberOfPictures  PostalCode             LastSeen  \n",
       "0  2016-03-24 00:00:00                 0       66954  2016-04-07 01:46:50  \n",
       "1  2016-03-14 00:00:00                 0       90480  2016-04-05 12:47:46  \n",
       "2  2016-03-17 00:00:00                 0       91074  2016-03-17 17:40:17  \n",
       "3  2016-03-31 00:00:00                 0       60437  2016-04-06 10:17:21  \n",
       "4  2016-04-04 00:00:00                 0       33775  2016-04-06 19:17:07  "
      ]
     },
     "execution_count": 36,
     "metadata": {},
     "output_type": "execute_result"
    }
   ],
   "source": [
    "df = df.merge(top_models[['Model', 'FuelType']], how='left', on='Model')\n",
    "df['FuelType_x'] = df['FuelType_x'].fillna('FuelType_y')\n",
    "df = df.drop('FuelType_y', axis=1).rename(columns={'FuelType_x': 'FuelType'})\n",
    "df.head()"
   ]
  },
  {
   "cell_type": "markdown",
   "id": "f83acbf2",
   "metadata": {},
   "source": [
    "**Brand**"
   ]
  },
  {
   "cell_type": "code",
   "execution_count": 37,
   "id": "b66e7cc6",
   "metadata": {},
   "outputs": [
    {
     "data": {
      "text/plain": [
       "array(['audi', 'jeep', 'volkswagen', 'skoda', 'bmw', 'peugeot', 'ford',\n",
       "       'mazda', 'nissan', 'renault', 'mercedes_benz', 'opel', 'seat',\n",
       "       'citroen', 'honda', 'fiat', 'mini', 'smart', 'hyundai',\n",
       "       'sonstige_autos', 'alfa_romeo', 'subaru', 'volvo', 'mitsubishi',\n",
       "       'kia', 'suzuki', 'lancia', 'toyota', 'chevrolet', 'dacia',\n",
       "       'daihatsu', 'saab', 'chrysler', 'jaguar', 'daewoo', 'rover',\n",
       "       'porsche', 'trabant', 'land_rover', 'lada'], dtype=object)"
      ]
     },
     "execution_count": 37,
     "metadata": {},
     "output_type": "execute_result"
    }
   ],
   "source": [
    "df['Brand'].unique()"
   ]
  },
  {
   "cell_type": "code",
   "execution_count": 38,
   "id": "449de618",
   "metadata": {},
   "outputs": [
    {
     "data": {
      "image/png": "[encoded data removed]",
      "text/plain": [
       "<Figure size 640x480 with 1 Axes>"
      ]
     },
     "metadata": {},
     "output_type": "display_data"
    }
   ],
   "source": [
    "plt.bar(x=df['Brand'].value_counts().index,\n",
    "        height=df['Brand'].value_counts(),\n",
    "        edgecolor='black'\n",
    "       )\n",
    "\n",
    "plt.xlabel('Категория')\n",
    "plt.ylabel('Количество авто')\n",
    "plt.title('Распределение по автомобильным брендам')\n",
    "plt.xticks(rotation=90)\n",
    "plt.grid()\n",
    "plt.show()"
   ]
  },
  {
   "cell_type": "markdown",
   "id": "583870d6",
   "metadata": {},
   "source": [
    "**Repaired**"
   ]
  },
  {
   "cell_type": "code",
   "execution_count": 39,
   "id": "067f7e92",
   "metadata": {},
   "outputs": [
    {
     "data": {
      "text/plain": [
       "array(['yes', 'Unknow', 'no'], dtype=object)"
      ]
     },
     "execution_count": 39,
     "metadata": {},
     "output_type": "execute_result"
    }
   ],
   "source": [
    "df['Repaired'] = df['Repaired'].fillna('Unknow')\n",
    "df['Repaired'].unique()"
   ]
  },
  {
   "cell_type": "code",
   "execution_count": 40,
   "id": "4c7903d1",
   "metadata": {},
   "outputs": [
    {
     "data": {
      "image/png": "[encoded data removed]",
      "text/plain": [
       "<Figure size 640x480 with 1 Axes>"
      ]
     },
     "metadata": {},
     "output_type": "display_data"
    }
   ],
   "source": [
    "plt.bar(x=df['Repaired'].value_counts().index,\n",
    "        height=df['Repaired'].value_counts(),\n",
    "        edgecolor='black'\n",
    "       )\n",
    "\n",
    "plt.xlabel('Категория')\n",
    "plt.ylabel('Количество авто')\n",
    "plt.title('Была ли машина в ремонте')\n",
    "plt.grid()\n",
    "plt.show()"
   ]
  },
  {
   "cell_type": "markdown",
   "id": "9e0f5234",
   "metadata": {},
   "source": [
    "**NumberOfPictures**"
   ]
  },
  {
   "cell_type": "code",
   "execution_count": 41,
   "id": "b90d071f",
   "metadata": {},
   "outputs": [
    {
     "data": {
      "text/plain": [
       "array([0], dtype=int64)"
      ]
     },
     "execution_count": 41,
     "metadata": {},
     "output_type": "execute_result"
    }
   ],
   "source": [
    "# можно удалить этот признак, он у всех объектов одинаковый\n",
    "df['NumberOfPictures'].unique()"
   ]
  },
  {
   "cell_type": "code",
   "execution_count": 42,
   "id": "9035834b",
   "metadata": {},
   "outputs": [],
   "source": [
    "df = df.drop('NumberOfPictures', axis=1)"
   ]
  },
  {
   "cell_type": "markdown",
   "id": "e2e11808",
   "metadata": {},
   "source": [
    "**DateCreated and LastSeen**"
   ]
  },
  {
   "cell_type": "code",
   "execution_count": 43,
   "id": "e5b3a615",
   "metadata": {},
   "outputs": [
    {
     "data": {
      "text/html": [
       "<div>\n",
       "<style scoped>\n",
       "    .dataframe tbody tr th:only-of-type {\n",
       "        vertical-align: middle;\n",
       "    }\n",
       "\n",
       "    .dataframe tbody tr th {\n",
       "        vertical-align: top;\n",
       "    }\n",
       "\n",
       "    .dataframe thead th {\n",
       "        text-align: right;\n",
       "    }\n",
       "</style>\n",
       "<table border=\"1\" class=\"dataframe\">\n",
       "  <thead>\n",
       "    <tr style=\"text-align: right;\">\n",
       "      <th></th>\n",
       "      <th>DateCrawled</th>\n",
       "      <th>Price</th>\n",
       "      <th>VehicleType</th>\n",
       "      <th>RegistrationYear</th>\n",
       "      <th>Gearbox</th>\n",
       "      <th>Power</th>\n",
       "      <th>Model</th>\n",
       "      <th>Kilometer</th>\n",
       "      <th>RegistrationMonth</th>\n",
       "      <th>FuelType</th>\n",
       "      <th>Brand</th>\n",
       "      <th>Repaired</th>\n",
       "      <th>DateCreated</th>\n",
       "      <th>PostalCode</th>\n",
       "      <th>LastSeen</th>\n",
       "    </tr>\n",
       "  </thead>\n",
       "  <tbody>\n",
       "    <tr>\n",
       "      <th>0</th>\n",
       "      <td>2016-03-24 10:58:45</td>\n",
       "      <td>18300</td>\n",
       "      <td>coupe</td>\n",
       "      <td>2011</td>\n",
       "      <td>manual</td>\n",
       "      <td>190</td>\n",
       "      <td>a4</td>\n",
       "      <td>125000</td>\n",
       "      <td>5</td>\n",
       "      <td>gasoline</td>\n",
       "      <td>audi</td>\n",
       "      <td>yes</td>\n",
       "      <td>2016-03-24 00:00:00</td>\n",
       "      <td>66954</td>\n",
       "      <td>2016-04-07 01:46:50</td>\n",
       "    </tr>\n",
       "    <tr>\n",
       "      <th>1</th>\n",
       "      <td>2016-03-14 12:52:21</td>\n",
       "      <td>9800</td>\n",
       "      <td>suv</td>\n",
       "      <td>2004</td>\n",
       "      <td>auto</td>\n",
       "      <td>163</td>\n",
       "      <td>grand</td>\n",
       "      <td>125000</td>\n",
       "      <td>8</td>\n",
       "      <td>gasoline</td>\n",
       "      <td>jeep</td>\n",
       "      <td>Unknow</td>\n",
       "      <td>2016-03-14 00:00:00</td>\n",
       "      <td>90480</td>\n",
       "      <td>2016-04-05 12:47:46</td>\n",
       "    </tr>\n",
       "    <tr>\n",
       "      <th>2</th>\n",
       "      <td>2016-03-17 16:54:04</td>\n",
       "      <td>1500</td>\n",
       "      <td>small</td>\n",
       "      <td>2001</td>\n",
       "      <td>manual</td>\n",
       "      <td>75</td>\n",
       "      <td>golf</td>\n",
       "      <td>150000</td>\n",
       "      <td>6</td>\n",
       "      <td>petrol</td>\n",
       "      <td>volkswagen</td>\n",
       "      <td>no</td>\n",
       "      <td>2016-03-17 00:00:00</td>\n",
       "      <td>91074</td>\n",
       "      <td>2016-03-17 17:40:17</td>\n",
       "    </tr>\n",
       "    <tr>\n",
       "      <th>3</th>\n",
       "      <td>2016-03-31 17:25:20</td>\n",
       "      <td>3600</td>\n",
       "      <td>small</td>\n",
       "      <td>2008</td>\n",
       "      <td>manual</td>\n",
       "      <td>69</td>\n",
       "      <td>fabia</td>\n",
       "      <td>90000</td>\n",
       "      <td>7</td>\n",
       "      <td>gasoline</td>\n",
       "      <td>skoda</td>\n",
       "      <td>no</td>\n",
       "      <td>2016-03-31 00:00:00</td>\n",
       "      <td>60437</td>\n",
       "      <td>2016-04-06 10:17:21</td>\n",
       "    </tr>\n",
       "    <tr>\n",
       "      <th>4</th>\n",
       "      <td>2016-04-04 17:36:23</td>\n",
       "      <td>650</td>\n",
       "      <td>sedan</td>\n",
       "      <td>1995</td>\n",
       "      <td>manual</td>\n",
       "      <td>102</td>\n",
       "      <td>3er</td>\n",
       "      <td>150000</td>\n",
       "      <td>10</td>\n",
       "      <td>petrol</td>\n",
       "      <td>bmw</td>\n",
       "      <td>yes</td>\n",
       "      <td>2016-04-04 00:00:00</td>\n",
       "      <td>33775</td>\n",
       "      <td>2016-04-06 19:17:07</td>\n",
       "    </tr>\n",
       "  </tbody>\n",
       "</table>\n",
       "</div>"
      ],
      "text/plain": [
       "           DateCrawled  Price VehicleType  RegistrationYear Gearbox  Power  \\\n",
       "0  2016-03-24 10:58:45  18300       coupe              2011  manual    190   \n",
       "1  2016-03-14 12:52:21   9800         suv              2004    auto    163   \n",
       "2  2016-03-17 16:54:04   1500       small              2001  manual     75   \n",
       "3  2016-03-31 17:25:20   3600       small              2008  manual     69   \n",
       "4  2016-04-04 17:36:23    650       sedan              1995  manual    102   \n",
       "\n",
       "   Model  Kilometer RegistrationMonth  FuelType       Brand Repaired  \\\n",
       "0     a4     125000                 5  gasoline        audi      yes   \n",
       "1  grand     125000                 8  gasoline        jeep   Unknow   \n",
       "2   golf     150000                 6    petrol  volkswagen       no   \n",
       "3  fabia      90000                 7  gasoline       skoda       no   \n",
       "4    3er     150000                10    petrol         bmw      yes   \n",
       "\n",
       "           DateCreated  PostalCode             LastSeen  \n",
       "0  2016-03-24 00:00:00       66954  2016-04-07 01:46:50  \n",
       "1  2016-03-14 00:00:00       90480  2016-04-05 12:47:46  \n",
       "2  2016-03-17 00:00:00       91074  2016-03-17 17:40:17  \n",
       "3  2016-03-31 00:00:00       60437  2016-04-06 10:17:21  \n",
       "4  2016-04-04 00:00:00       33775  2016-04-06 19:17:07  "
      ]
     },
     "execution_count": 43,
     "metadata": {},
     "output_type": "execute_result"
    }
   ],
   "source": [
    "df.head()"
   ]
  },
  {
   "cell_type": "code",
   "execution_count": 44,
   "id": "080cf5ec",
   "metadata": {},
   "outputs": [
    {
     "data": {
      "text/html": [
       "<div>\n",
       "<style scoped>\n",
       "    .dataframe tbody tr th:only-of-type {\n",
       "        vertical-align: middle;\n",
       "    }\n",
       "\n",
       "    .dataframe tbody tr th {\n",
       "        vertical-align: top;\n",
       "    }\n",
       "\n",
       "    .dataframe thead th {\n",
       "        text-align: right;\n",
       "    }\n",
       "</style>\n",
       "<table border=\"1\" class=\"dataframe\">\n",
       "  <thead>\n",
       "    <tr style=\"text-align: right;\">\n",
       "      <th></th>\n",
       "      <th>Price</th>\n",
       "      <th>VehicleType</th>\n",
       "      <th>RegistrationYear</th>\n",
       "      <th>Gearbox</th>\n",
       "      <th>Power</th>\n",
       "      <th>Model</th>\n",
       "      <th>Kilometer</th>\n",
       "      <th>RegistrationMonth</th>\n",
       "      <th>FuelType</th>\n",
       "      <th>Brand</th>\n",
       "      <th>Repaired</th>\n",
       "      <th>PostalCode</th>\n",
       "      <th>Days_announcement</th>\n",
       "      <th>Days_last_seen</th>\n",
       "    </tr>\n",
       "  </thead>\n",
       "  <tbody>\n",
       "    <tr>\n",
       "      <th>0</th>\n",
       "      <td>18300</td>\n",
       "      <td>coupe</td>\n",
       "      <td>2011</td>\n",
       "      <td>manual</td>\n",
       "      <td>190</td>\n",
       "      <td>a4</td>\n",
       "      <td>125000</td>\n",
       "      <td>5</td>\n",
       "      <td>gasoline</td>\n",
       "      <td>audi</td>\n",
       "      <td>yes</td>\n",
       "      <td>66954</td>\n",
       "      <td>0</td>\n",
       "      <td>13</td>\n",
       "    </tr>\n",
       "    <tr>\n",
       "      <th>1</th>\n",
       "      <td>9800</td>\n",
       "      <td>suv</td>\n",
       "      <td>2004</td>\n",
       "      <td>auto</td>\n",
       "      <td>163</td>\n",
       "      <td>grand</td>\n",
       "      <td>125000</td>\n",
       "      <td>8</td>\n",
       "      <td>gasoline</td>\n",
       "      <td>jeep</td>\n",
       "      <td>Unknow</td>\n",
       "      <td>90480</td>\n",
       "      <td>0</td>\n",
       "      <td>21</td>\n",
       "    </tr>\n",
       "    <tr>\n",
       "      <th>2</th>\n",
       "      <td>1500</td>\n",
       "      <td>small</td>\n",
       "      <td>2001</td>\n",
       "      <td>manual</td>\n",
       "      <td>75</td>\n",
       "      <td>golf</td>\n",
       "      <td>150000</td>\n",
       "      <td>6</td>\n",
       "      <td>petrol</td>\n",
       "      <td>volkswagen</td>\n",
       "      <td>no</td>\n",
       "      <td>91074</td>\n",
       "      <td>0</td>\n",
       "      <td>0</td>\n",
       "    </tr>\n",
       "    <tr>\n",
       "      <th>3</th>\n",
       "      <td>3600</td>\n",
       "      <td>small</td>\n",
       "      <td>2008</td>\n",
       "      <td>manual</td>\n",
       "      <td>69</td>\n",
       "      <td>fabia</td>\n",
       "      <td>90000</td>\n",
       "      <td>7</td>\n",
       "      <td>gasoline</td>\n",
       "      <td>skoda</td>\n",
       "      <td>no</td>\n",
       "      <td>60437</td>\n",
       "      <td>0</td>\n",
       "      <td>5</td>\n",
       "    </tr>\n",
       "    <tr>\n",
       "      <th>4</th>\n",
       "      <td>650</td>\n",
       "      <td>sedan</td>\n",
       "      <td>1995</td>\n",
       "      <td>manual</td>\n",
       "      <td>102</td>\n",
       "      <td>3er</td>\n",
       "      <td>150000</td>\n",
       "      <td>10</td>\n",
       "      <td>petrol</td>\n",
       "      <td>bmw</td>\n",
       "      <td>yes</td>\n",
       "      <td>33775</td>\n",
       "      <td>0</td>\n",
       "      <td>2</td>\n",
       "    </tr>\n",
       "  </tbody>\n",
       "</table>\n",
       "</div>"
      ],
      "text/plain": [
       "   Price VehicleType  RegistrationYear Gearbox  Power  Model  Kilometer  \\\n",
       "0  18300       coupe              2011  manual    190     a4     125000   \n",
       "1   9800         suv              2004    auto    163  grand     125000   \n",
       "2   1500       small              2001  manual     75   golf     150000   \n",
       "3   3600       small              2008  manual     69  fabia      90000   \n",
       "4    650       sedan              1995  manual    102    3er     150000   \n",
       "\n",
       "  RegistrationMonth  FuelType       Brand Repaired  PostalCode  \\\n",
       "0                 5  gasoline        audi      yes       66954   \n",
       "1                 8  gasoline        jeep   Unknow       90480   \n",
       "2                 6    petrol  volkswagen       no       91074   \n",
       "3                 7  gasoline       skoda       no       60437   \n",
       "4                10    petrol         bmw      yes       33775   \n",
       "\n",
       "   Days_announcement  Days_last_seen  \n",
       "0                  0              13  \n",
       "1                  0              21  \n",
       "2                  0               0  \n",
       "3                  0               5  \n",
       "4                  0               2  "
      ]
     },
     "execution_count": 44,
     "metadata": {},
     "output_type": "execute_result"
    }
   ],
   "source": [
    "# создадим новые фичи - время с последнего посещения и сколько дней размещено объявление\n",
    "\n",
    "df['DateCrawled'] = pd.to_datetime(df['DateCrawled'])\n",
    "df['DateCreated'] = pd.to_datetime(df['DateCreated'])\n",
    "df['LastSeen'] = pd.to_datetime(df['LastSeen'])\n",
    "\n",
    "df['Days_announcement'] = (df['DateCrawled'] - df['DateCreated']).dt.days\n",
    "df['Days_last_seen'] = (df['LastSeen'] - df['DateCrawled']).dt.days\n",
    "\n",
    "df = df.drop(['DateCrawled', 'DateCreated', 'LastSeen'], axis=1)\n",
    "df.head()"
   ]
  },
  {
   "cell_type": "markdown",
   "id": "62af1b05",
   "metadata": {},
   "source": [
    "**PostalCode**"
   ]
  },
  {
   "cell_type": "code",
   "execution_count": 45,
   "id": "a6b10d79",
   "metadata": {},
   "outputs": [
    {
     "data": {
      "text/html": [
       "<div>\n",
       "<style scoped>\n",
       "    .dataframe tbody tr th:only-of-type {\n",
       "        vertical-align: middle;\n",
       "    }\n",
       "\n",
       "    .dataframe tbody tr th {\n",
       "        vertical-align: top;\n",
       "    }\n",
       "\n",
       "    .dataframe thead th {\n",
       "        text-align: right;\n",
       "    }\n",
       "</style>\n",
       "<table border=\"1\" class=\"dataframe\">\n",
       "  <thead>\n",
       "    <tr style=\"text-align: right;\">\n",
       "      <th></th>\n",
       "      <th>PostalCode</th>\n",
       "      <th>country_code</th>\n",
       "    </tr>\n",
       "  </thead>\n",
       "  <tbody>\n",
       "    <tr>\n",
       "      <th>0</th>\n",
       "      <td>1945</td>\n",
       "      <td>DE</td>\n",
       "    </tr>\n",
       "    <tr>\n",
       "      <th>9</th>\n",
       "      <td>1968</td>\n",
       "      <td>DE</td>\n",
       "    </tr>\n",
       "    <tr>\n",
       "      <th>12</th>\n",
       "      <td>1979</td>\n",
       "      <td>DE</td>\n",
       "    </tr>\n",
       "    <tr>\n",
       "      <th>13</th>\n",
       "      <td>1983</td>\n",
       "      <td>DE</td>\n",
       "    </tr>\n",
       "    <tr>\n",
       "      <th>15</th>\n",
       "      <td>1987</td>\n",
       "      <td>DE</td>\n",
       "    </tr>\n",
       "  </tbody>\n",
       "</table>\n",
       "</div>"
      ],
      "text/plain": [
       "    PostalCode country_code\n",
       "0         1945           DE\n",
       "9         1968           DE\n",
       "12        1979           DE\n",
       "13        1983           DE\n",
       "15        1987           DE"
      ]
     },
     "execution_count": 45,
     "metadata": {},
     "output_type": "execute_result"
    }
   ],
   "source": [
    "de = pd.read_json('zipcodes.json')\n",
    "de = de[['zipcode', 'country_code']].rename(columns={'zipcode': 'PostalCode'}).drop_duplicates()\n",
    "de.head()"
   ]
  },
  {
   "cell_type": "code",
   "execution_count": 46,
   "id": "f2247603",
   "metadata": {},
   "outputs": [
    {
     "data": {
      "text/html": [
       "<div>\n",
       "<style scoped>\n",
       "    .dataframe tbody tr th:only-of-type {\n",
       "        vertical-align: middle;\n",
       "    }\n",
       "\n",
       "    .dataframe tbody tr th {\n",
       "        vertical-align: top;\n",
       "    }\n",
       "\n",
       "    .dataframe thead th {\n",
       "        text-align: right;\n",
       "    }\n",
       "</style>\n",
       "<table border=\"1\" class=\"dataframe\">\n",
       "  <thead>\n",
       "    <tr style=\"text-align: right;\">\n",
       "      <th></th>\n",
       "      <th>Price</th>\n",
       "      <th>VehicleType</th>\n",
       "      <th>RegistrationYear</th>\n",
       "      <th>Gearbox</th>\n",
       "      <th>Power</th>\n",
       "      <th>Model</th>\n",
       "      <th>Kilometer</th>\n",
       "      <th>RegistrationMonth</th>\n",
       "      <th>FuelType</th>\n",
       "      <th>Brand</th>\n",
       "      <th>Repaired</th>\n",
       "      <th>PostalCode</th>\n",
       "      <th>Days_announcement</th>\n",
       "      <th>Days_last_seen</th>\n",
       "      <th>country_code</th>\n",
       "    </tr>\n",
       "  </thead>\n",
       "  <tbody>\n",
       "    <tr>\n",
       "      <th>0</th>\n",
       "      <td>18300</td>\n",
       "      <td>coupe</td>\n",
       "      <td>2011</td>\n",
       "      <td>manual</td>\n",
       "      <td>190</td>\n",
       "      <td>a4</td>\n",
       "      <td>125000</td>\n",
       "      <td>5</td>\n",
       "      <td>gasoline</td>\n",
       "      <td>audi</td>\n",
       "      <td>yes</td>\n",
       "      <td>66954</td>\n",
       "      <td>0</td>\n",
       "      <td>13</td>\n",
       "      <td>DE</td>\n",
       "    </tr>\n",
       "    <tr>\n",
       "      <th>1</th>\n",
       "      <td>9800</td>\n",
       "      <td>suv</td>\n",
       "      <td>2004</td>\n",
       "      <td>auto</td>\n",
       "      <td>163</td>\n",
       "      <td>grand</td>\n",
       "      <td>125000</td>\n",
       "      <td>8</td>\n",
       "      <td>gasoline</td>\n",
       "      <td>jeep</td>\n",
       "      <td>Unknow</td>\n",
       "      <td>90480</td>\n",
       "      <td>0</td>\n",
       "      <td>21</td>\n",
       "      <td>DE</td>\n",
       "    </tr>\n",
       "    <tr>\n",
       "      <th>2</th>\n",
       "      <td>1500</td>\n",
       "      <td>small</td>\n",
       "      <td>2001</td>\n",
       "      <td>manual</td>\n",
       "      <td>75</td>\n",
       "      <td>golf</td>\n",
       "      <td>150000</td>\n",
       "      <td>6</td>\n",
       "      <td>petrol</td>\n",
       "      <td>volkswagen</td>\n",
       "      <td>no</td>\n",
       "      <td>91074</td>\n",
       "      <td>0</td>\n",
       "      <td>0</td>\n",
       "      <td>DE</td>\n",
       "    </tr>\n",
       "    <tr>\n",
       "      <th>3</th>\n",
       "      <td>3600</td>\n",
       "      <td>small</td>\n",
       "      <td>2008</td>\n",
       "      <td>manual</td>\n",
       "      <td>69</td>\n",
       "      <td>fabia</td>\n",
       "      <td>90000</td>\n",
       "      <td>7</td>\n",
       "      <td>gasoline</td>\n",
       "      <td>skoda</td>\n",
       "      <td>no</td>\n",
       "      <td>60437</td>\n",
       "      <td>0</td>\n",
       "      <td>5</td>\n",
       "      <td>DE</td>\n",
       "    </tr>\n",
       "    <tr>\n",
       "      <th>4</th>\n",
       "      <td>650</td>\n",
       "      <td>sedan</td>\n",
       "      <td>1995</td>\n",
       "      <td>manual</td>\n",
       "      <td>102</td>\n",
       "      <td>3er</td>\n",
       "      <td>150000</td>\n",
       "      <td>10</td>\n",
       "      <td>petrol</td>\n",
       "      <td>bmw</td>\n",
       "      <td>yes</td>\n",
       "      <td>33775</td>\n",
       "      <td>0</td>\n",
       "      <td>2</td>\n",
       "      <td>DE</td>\n",
       "    </tr>\n",
       "  </tbody>\n",
       "</table>\n",
       "</div>"
      ],
      "text/plain": [
       "   Price VehicleType  RegistrationYear Gearbox  Power  Model  Kilometer  \\\n",
       "0  18300       coupe              2011  manual    190     a4     125000   \n",
       "1   9800         suv              2004    auto    163  grand     125000   \n",
       "2   1500       small              2001  manual     75   golf     150000   \n",
       "3   3600       small              2008  manual     69  fabia      90000   \n",
       "4    650       sedan              1995  manual    102    3er     150000   \n",
       "\n",
       "  RegistrationMonth  FuelType       Brand Repaired  PostalCode  \\\n",
       "0                 5  gasoline        audi      yes       66954   \n",
       "1                 8  gasoline        jeep   Unknow       90480   \n",
       "2                 6    petrol  volkswagen       no       91074   \n",
       "3                 7  gasoline       skoda       no       60437   \n",
       "4                10    petrol         bmw      yes       33775   \n",
       "\n",
       "   Days_announcement  Days_last_seen country_code  \n",
       "0                  0              13           DE  \n",
       "1                  0              21           DE  \n",
       "2                  0               0           DE  \n",
       "3                  0               5           DE  \n",
       "4                  0               2           DE  "
      ]
     },
     "execution_count": 46,
     "metadata": {},
     "output_type": "execute_result"
    }
   ],
   "source": [
    "df = df.merge(de, on='PostalCode', how='left')\n",
    "df.head()"
   ]
  },
  {
   "cell_type": "code",
   "execution_count": 47,
   "id": "c17a7554",
   "metadata": {},
   "outputs": [
    {
     "data": {
      "text/plain": [
       "114"
      ]
     },
     "execution_count": 47,
     "metadata": {},
     "output_type": "execute_result"
    }
   ],
   "source": [
    "df['country_code'].isna().sum()"
   ]
  },
  {
   "cell_type": "code",
   "execution_count": 48,
   "id": "99077b7a",
   "metadata": {},
   "outputs": [
    {
     "data": {
      "text/html": [
       "<div>\n",
       "<style scoped>\n",
       "    .dataframe tbody tr th:only-of-type {\n",
       "        vertical-align: middle;\n",
       "    }\n",
       "\n",
       "    .dataframe tbody tr th {\n",
       "        vertical-align: top;\n",
       "    }\n",
       "\n",
       "    .dataframe thead th {\n",
       "        text-align: right;\n",
       "    }\n",
       "</style>\n",
       "<table border=\"1\" class=\"dataframe\">\n",
       "  <thead>\n",
       "    <tr style=\"text-align: right;\">\n",
       "      <th></th>\n",
       "      <th>Price</th>\n",
       "      <th>VehicleType</th>\n",
       "      <th>RegistrationYear</th>\n",
       "      <th>Gearbox</th>\n",
       "      <th>Power</th>\n",
       "      <th>Model</th>\n",
       "      <th>Kilometer</th>\n",
       "      <th>RegistrationMonth</th>\n",
       "      <th>FuelType</th>\n",
       "      <th>Brand</th>\n",
       "      <th>Repaired</th>\n",
       "      <th>Days_announcement</th>\n",
       "      <th>Days_last_seen</th>\n",
       "    </tr>\n",
       "  </thead>\n",
       "  <tbody>\n",
       "    <tr>\n",
       "      <th>0</th>\n",
       "      <td>18300</td>\n",
       "      <td>coupe</td>\n",
       "      <td>2011</td>\n",
       "      <td>manual</td>\n",
       "      <td>190</td>\n",
       "      <td>a4</td>\n",
       "      <td>125000</td>\n",
       "      <td>5</td>\n",
       "      <td>gasoline</td>\n",
       "      <td>audi</td>\n",
       "      <td>yes</td>\n",
       "      <td>0</td>\n",
       "      <td>13</td>\n",
       "    </tr>\n",
       "    <tr>\n",
       "      <th>1</th>\n",
       "      <td>9800</td>\n",
       "      <td>suv</td>\n",
       "      <td>2004</td>\n",
       "      <td>auto</td>\n",
       "      <td>163</td>\n",
       "      <td>grand</td>\n",
       "      <td>125000</td>\n",
       "      <td>8</td>\n",
       "      <td>gasoline</td>\n",
       "      <td>jeep</td>\n",
       "      <td>Unknow</td>\n",
       "      <td>0</td>\n",
       "      <td>21</td>\n",
       "    </tr>\n",
       "    <tr>\n",
       "      <th>2</th>\n",
       "      <td>1500</td>\n",
       "      <td>small</td>\n",
       "      <td>2001</td>\n",
       "      <td>manual</td>\n",
       "      <td>75</td>\n",
       "      <td>golf</td>\n",
       "      <td>150000</td>\n",
       "      <td>6</td>\n",
       "      <td>petrol</td>\n",
       "      <td>volkswagen</td>\n",
       "      <td>no</td>\n",
       "      <td>0</td>\n",
       "      <td>0</td>\n",
       "    </tr>\n",
       "    <tr>\n",
       "      <th>3</th>\n",
       "      <td>3600</td>\n",
       "      <td>small</td>\n",
       "      <td>2008</td>\n",
       "      <td>manual</td>\n",
       "      <td>69</td>\n",
       "      <td>fabia</td>\n",
       "      <td>90000</td>\n",
       "      <td>7</td>\n",
       "      <td>gasoline</td>\n",
       "      <td>skoda</td>\n",
       "      <td>no</td>\n",
       "      <td>0</td>\n",
       "      <td>5</td>\n",
       "    </tr>\n",
       "    <tr>\n",
       "      <th>4</th>\n",
       "      <td>650</td>\n",
       "      <td>sedan</td>\n",
       "      <td>1995</td>\n",
       "      <td>manual</td>\n",
       "      <td>102</td>\n",
       "      <td>3er</td>\n",
       "      <td>150000</td>\n",
       "      <td>10</td>\n",
       "      <td>petrol</td>\n",
       "      <td>bmw</td>\n",
       "      <td>yes</td>\n",
       "      <td>0</td>\n",
       "      <td>2</td>\n",
       "    </tr>\n",
       "  </tbody>\n",
       "</table>\n",
       "</div>"
      ],
      "text/plain": [
       "   Price VehicleType  RegistrationYear Gearbox  Power  Model  Kilometer  \\\n",
       "0  18300       coupe              2011  manual    190     a4     125000   \n",
       "1   9800         suv              2004    auto    163  grand     125000   \n",
       "2   1500       small              2001  manual     75   golf     150000   \n",
       "3   3600       small              2008  manual     69  fabia      90000   \n",
       "4    650       sedan              1995  manual    102    3er     150000   \n",
       "\n",
       "  RegistrationMonth  FuelType       Brand Repaired  Days_announcement  \\\n",
       "0                 5  gasoline        audi      yes                  0   \n",
       "1                 8  gasoline        jeep   Unknow                  0   \n",
       "2                 6    petrol  volkswagen       no                  0   \n",
       "3                 7  gasoline       skoda       no                  0   \n",
       "4                10    petrol         bmw      yes                  0   \n",
       "\n",
       "   Days_last_seen  \n",
       "0              13  \n",
       "1              21  \n",
       "2               0  \n",
       "3               5  \n",
       "4               2  "
      ]
     },
     "execution_count": 48,
     "metadata": {},
     "output_type": "execute_result"
    }
   ],
   "source": [
    "# Во всех объявлениях почтовый индекс - Германия, удалим константный признак\n",
    "df = df.drop(['PostalCode', 'country_code'], axis=1)\n",
    "df.head()"
   ]
  },
  {
   "cell_type": "markdown",
   "id": "064aca97",
   "metadata": {},
   "source": [
    "# Кодирование признаков"
   ]
  },
  {
   "cell_type": "code",
   "execution_count": 49,
   "id": "ec88c88d",
   "metadata": {},
   "outputs": [
    {
     "data": {
      "image/png": "[encoded data removed]",
      "text/plain": [
       "<Figure size 640x480 with 2 Axes>"
      ]
     },
     "metadata": {},
     "output_type": "display_data"
    }
   ],
   "source": [
    "numeric_col = df.select_dtypes(exclude='object').columns.to_list()\n",
    "\n",
    "sns.heatmap(df[numeric_col].corr(),\n",
    "            xticklabels=numeric_col,\n",
    "            yticklabels=numeric_col,\n",
    "            cmap='coolwarm',\n",
    "            vmin=0,\n",
    "            vmax=1,\n",
    "            annot=True)\n",
    "\n",
    "plt.show()"
   ]
  },
  {
   "cell_type": "markdown",
   "id": "8dc82136",
   "metadata": {},
   "source": [
    "Сильной линейной зависмости между признаками нет. Проблемы мультиколлинеарности не дожно быть."
   ]
  },
  {
   "cell_type": "code",
   "execution_count": 50,
   "id": "d85bad72",
   "metadata": {},
   "outputs": [],
   "source": [
    "X = df.drop('Price', axis=1)\n",
    "y = df['Price']\n",
    "\n",
    "X_train, X_test, y_train, y_test = train_test_split(X, y, test_size=0.2, shuffle=True, random_state=42)"
   ]
  },
  {
   "cell_type": "code",
   "execution_count": 51,
   "id": "c2404534",
   "metadata": {},
   "outputs": [
    {
     "data": {
      "text/plain": [
       "(['RegistrationYear',\n",
       "  'Power',\n",
       "  'Kilometer',\n",
       "  'Days_announcement',\n",
       "  'Days_last_seen'],\n",
       " ['VehicleType',\n",
       "  'Gearbox',\n",
       "  'Model',\n",
       "  'RegistrationMonth',\n",
       "  'FuelType',\n",
       "  'Brand',\n",
       "  'Repaired'])"
      ]
     },
     "execution_count": 51,
     "metadata": {},
     "output_type": "execute_result"
    }
   ],
   "source": [
    "numeric_features = X_train.select_dtypes(exclude='object').columns.to_list()\n",
    "cat_features = X_train.select_dtypes(include='object').columns.to_list()\n",
    "numeric_features, cat_features"
   ]
  },
  {
   "cell_type": "code",
   "execution_count": 52,
   "id": "a7f90b2b",
   "metadata": {},
   "outputs": [],
   "source": [
    "ohe_features = [x for x in cat_features if df[x].nunique() < 5]\n",
    "ordinal_features = [x for x in cat_features if df[x].nunique() >= 5]"
   ]
  },
  {
   "cell_type": "code",
   "execution_count": 53,
   "id": "0695c286",
   "metadata": {},
   "outputs": [],
   "source": [
    "scaler_transformer = Pipeline(steps=[\n",
    "                                ('scaler', StandardScaler())\n",
    "                               ])\n",
    "\n",
    "one_hot_transformer = Pipeline(steps=[\n",
    "                                ('onehot', OneHotEncoder())\n",
    "                               ])\n",
    "\n",
    "ordinal_transformer = Pipeline(steps=[\n",
    "                                ('ordinal', OrdinalEncoder(handle_unknown='use_encoded_value',\n",
    "                                                           unknown_value=-1)\n",
    "                                                           )\n",
    "                               ])"
   ]
  },
  {
   "cell_type": "code",
   "execution_count": 54,
   "id": "7892863f",
   "metadata": {},
   "outputs": [],
   "source": [
    "preprocessor = ColumnTransformer(transformers=[\n",
    "                                                ('num', scaler_transformer, numeric_features),\n",
    "                                                ('one_hot', one_hot_transformer, ohe_features),\n",
    "                                                ('ordinal', ordinal_transformer, ordinal_features)\n",
    "                                ])"
   ]
  },
  {
   "cell_type": "markdown",
   "id": "cd09c4ae",
   "metadata": {},
   "source": [
    "# Lasso"
   ]
  },
  {
   "cell_type": "code",
   "execution_count": 55,
   "id": "6b4a5fcb",
   "metadata": {},
   "outputs": [],
   "source": [
    "pipe_lasso = Pipeline(steps=[\n",
    "                        ('preprocessor', preprocessor),\n",
    "                        ('lasso', Lasso())\n",
    "                    ])"
   ]
  },
  {
   "cell_type": "code",
   "execution_count": 56,
   "id": "d1193f31",
   "metadata": {},
   "outputs": [],
   "source": [
    "param_grid_lasso = {'lasso__alpha': [0.001, 0.01, 0.1]}"
   ]
  },
  {
   "cell_type": "code",
   "execution_count": 57,
   "id": "a5e918ef",
   "metadata": {},
   "outputs": [
    {
     "data": {
      "text/plain": [
       "GridSearchCV(cv=5,\n",
       "             estimator=Pipeline(steps=[('preprocessor',\n",
       "                                        ColumnTransformer(transformers=[('num',\n",
       "                                                                         Pipeline(steps=[('scaler',\n",
       "                                                                                          StandardScaler())]),\n",
       "                                                                         ['RegistrationYear',\n",
       "                                                                          'Power',\n",
       "                                                                          'Kilometer',\n",
       "                                                                          'Days_announcement',\n",
       "                                                                          'Days_last_seen']),\n",
       "                                                                        ('one_hot',\n",
       "                                                                         Pipeline(steps=[('onehot',\n",
       "                                                                                          OneHotEncoder())]),\n",
       "                                                                         ['Gearbox',\n",
       "                                                                          'Repaired']),\n",
       "                                                                        ('ordinal',\n",
       "                                                                         Pipeline(steps=[('ordinal',\n",
       "                                                                                          OrdinalEncoder(handle_unknown='use_encoded_value',\n",
       "                                                                                                         unknown_value=-1))]),\n",
       "                                                                         ['VehicleType',\n",
       "                                                                          'Model',\n",
       "                                                                          'RegistrationMonth',\n",
       "                                                                          'FuelType',\n",
       "                                                                          'Brand'])])),\n",
       "                                       ('lasso', Lasso())]),\n",
       "             param_grid={'lasso__alpha': [0.001, 0.01, 0.1]},\n",
       "             scoring='neg_mean_absolute_error')"
      ]
     },
     "execution_count": 57,
     "metadata": {},
     "output_type": "execute_result"
    }
   ],
   "source": [
    "grid_search_lasso = GridSearchCV(pipe_lasso,\n",
    "                                 param_grid=param_grid_lasso,\n",
    "                                 cv=5,\n",
    "                                 scoring='neg_mean_absolute_error'\n",
    "                                )\n",
    "\n",
    "grid_search_lasso.fit(X_train, y_train)"
   ]
  },
  {
   "cell_type": "code",
   "execution_count": 58,
   "id": "a46f2cc4",
   "metadata": {},
   "outputs": [
    {
     "name": "stdout",
     "output_type": "stream",
     "text": [
      "Лучшие параметры Lasso {'lasso__alpha': 0.1}\n"
     ]
    }
   ],
   "source": [
    "print(f'Лучшие параметры Lasso {grid_search_lasso.best_params_}')"
   ]
  },
  {
   "cell_type": "code",
   "execution_count": 59,
   "id": "af3a12a0",
   "metadata": {},
   "outputs": [
    {
     "name": "stdout",
     "output_type": "stream",
     "text": [
      "MAE на train для Lasso = 2281.1\n"
     ]
    }
   ],
   "source": [
    "best_score_lasso = np.abs(grid_search_lasso.best_score_)\n",
    "print(f'MAE на train для Lasso = {best_score_lasso:.1f}')"
   ]
  },
  {
   "cell_type": "markdown",
   "id": "c73ce853",
   "metadata": {},
   "source": [
    "# RandomForest"
   ]
  },
  {
   "cell_type": "code",
   "execution_count": 60,
   "id": "1d69dc6b",
   "metadata": {},
   "outputs": [],
   "source": [
    "pipe_rf = Pipeline(steps=[\n",
    "                        ('preprocessor', preprocessor),\n",
    "                        ('random_forest', RandomForestRegressor())\n",
    "                    ])"
   ]
  },
  {
   "cell_type": "code",
   "execution_count": 61,
   "id": "2915fda8",
   "metadata": {},
   "outputs": [],
   "source": [
    "param_grid_rf = {'random_forest__n_estimators': [50, 150, 250, 350],\n",
    "                 'random_forest__max_depth': [5, 15, 25],\n",
    "                 'random_forest__min_samples_split': [2, 5, 10]\n",
    "                }"
   ]
  },
  {
   "cell_type": "code",
   "execution_count": 62,
   "id": "d18a134e",
   "metadata": {},
   "outputs": [
    {
     "data": {
      "text/plain": [
       "GridSearchCV(cv=3,\n",
       "             estimator=Pipeline(steps=[('preprocessor',\n",
       "                                        ColumnTransformer(transformers=[('num',\n",
       "                                                                         Pipeline(steps=[('scaler',\n",
       "                                                                                          StandardScaler())]),\n",
       "                                                                         ['RegistrationYear',\n",
       "                                                                          'Power',\n",
       "                                                                          'Kilometer',\n",
       "                                                                          'Days_announcement',\n",
       "                                                                          'Days_last_seen']),\n",
       "                                                                        ('one_hot',\n",
       "                                                                         Pipeline(steps=[('onehot',\n",
       "                                                                                          OneHotEncoder())]),\n",
       "                                                                         ['Gearbox',\n",
       "                                                                          'Repaired']),\n",
       "                                                                        ('ordinal',\n",
       "                                                                         Pipeline(steps=[('ordinal',\n",
       "                                                                                          OrdinalEncoder(handle_unknown='use_encoded_value',\n",
       "                                                                                                         unknown_value=-1))]),\n",
       "                                                                         ['VehicleType',\n",
       "                                                                          'Model',\n",
       "                                                                          'RegistrationMonth',\n",
       "                                                                          'FuelType',\n",
       "                                                                          'Brand'])])),\n",
       "                                       ('random_forest',\n",
       "                                        RandomForestRegressor())]),\n",
       "             param_grid={'random_forest__max_depth': [5, 15, 25],\n",
       "                         'random_forest__min_samples_split': [2, 5, 10],\n",
       "                         'random_forest__n_estimators': [50, 150, 250, 350]},\n",
       "             scoring='neg_mean_absolute_error')"
      ]
     },
     "execution_count": 62,
     "metadata": {},
     "output_type": "execute_result"
    }
   ],
   "source": [
    "grid_search_rf = GridSearchCV(pipe_rf,\n",
    "                                param_grid=param_grid_rf,\n",
    "                                cv=3,\n",
    "                                scoring='neg_mean_absolute_error'\n",
    "                                )\n",
    "                \n",
    "grid_search_rf.fit(X_train, y_train)"
   ]
  },
  {
   "cell_type": "code",
   "execution_count": 63,
   "id": "5832943a",
   "metadata": {},
   "outputs": [
    {
     "name": "stdout",
     "output_type": "stream",
     "text": [
      "Лучшие параметры RandomForest {'random_forest__max_depth': 25, 'random_forest__min_samples_split': 2, 'random_forest__n_estimators': 350}\n"
     ]
    }
   ],
   "source": [
    "print(f'Лучшие параметры RandomForest {grid_search_rf.best_params_}')"
   ]
  },
  {
   "cell_type": "code",
   "execution_count": 64,
   "id": "e872b853",
   "metadata": {},
   "outputs": [
    {
     "name": "stdout",
     "output_type": "stream",
     "text": [
      "MAE на train для RandomForest = 1033.6\n"
     ]
    }
   ],
   "source": [
    "best_score_rf = np.abs(grid_search_rf.best_score_)\n",
    "print(f'MAE на train для RandomForest = {best_score_rf:.1f}')"
   ]
  },
  {
   "cell_type": "markdown",
   "id": "a72e7ccb",
   "metadata": {},
   "source": [
    "# KNN"
   ]
  },
  {
   "cell_type": "code",
   "execution_count": 70,
   "id": "8b30ff9a",
   "metadata": {},
   "outputs": [],
   "source": [
    "# pipe_knn = Pipeline(steps=[\n",
    "#                         ('preprocessor', preprocessor),\n",
    "#                         ('KNN', KNeighborsRegressor())\n",
    "#                     ])"
   ]
  },
  {
   "cell_type": "code",
   "execution_count": 71,
   "id": "32b6d62f",
   "metadata": {},
   "outputs": [],
   "source": [
    "# param_grid_knn = {'KNN__n_neighbors': [3, 10, 15],\n",
    "#                   'KNN__p': [1, 3, 7],\n",
    "#                   'KNN__weights': ['uniform', 'distance']\n",
    "#                  }"
   ]
  },
  {
   "cell_type": "code",
   "execution_count": 72,
   "id": "3dd03c5b",
   "metadata": {},
   "outputs": [],
   "source": [
    "# grid_search_knn = GridSearchCV(pipe_knn,\n",
    "#                                param_grid=param_grid_knn,\n",
    "#                                cv=3,\n",
    "#                                scoring='neg_mean_absolute_error'\n",
    "#                               )\n",
    "\n",
    "# grid_search_knn.fit(X_train, y_train)"
   ]
  },
  {
   "cell_type": "code",
   "execution_count": 73,
   "id": "427ebdea",
   "metadata": {},
   "outputs": [],
   "source": [
    "# print(f'Лучшие параметры KNN {grid_search_knn.best_params_}')"
   ]
  },
  {
   "cell_type": "code",
   "execution_count": 74,
   "id": "6dd43f8d",
   "metadata": {},
   "outputs": [],
   "source": [
    "# best_score_knn = np.abs(grid_search_knn.best_score_)\n",
    "# print(f'MAE на train для KNN = {best_score_knn:.1f}')"
   ]
  },
  {
   "cell_type": "markdown",
   "id": "4e3c50db",
   "metadata": {},
   "source": [
    "# CatBoost"
   ]
  },
  {
   "cell_type": "code",
   "execution_count": 75,
   "id": "c34e8795",
   "metadata": {},
   "outputs": [],
   "source": [
    "cat_features = df.select_dtypes(include='object').columns.to_list()"
   ]
  },
  {
   "cell_type": "code",
   "execution_count": 76,
   "id": "38a79f0a",
   "metadata": {},
   "outputs": [],
   "source": [
    "pipe_catboost = Pipeline(steps=[\n",
    "                        ('preprocessor', preprocessor),\n",
    "                        ('catboost', CatBoostRegressor())\n",
    "                    ])"
   ]
  },
  {
   "cell_type": "code",
   "execution_count": 77,
   "id": "6a35fd10",
   "metadata": {},
   "outputs": [],
   "source": [
    "param_grid_catboost = {'catboost__learning_rate': [0.001, 0.01, 0.1, 0.5],\n",
    "                       'catboost__depth': [1, 5, 10],\n",
    "                       'catboost__verbose': [100],\n",
    "                      }"
   ]
  },
  {
   "cell_type": "code",
   "execution_count": 78,
   "id": "ed64abbd",
   "metadata": {
    "scrolled": true
   },
   "outputs": [
    {
     "name": "stdout",
     "output_type": "stream",
     "text": [
      "0:\tlearn: 4595.3377190\ttotal: 41.2ms\tremaining: 41.1s\n",
      "100:\tlearn: 4459.5528712\ttotal: 602ms\tremaining: 5.36s\n",
      "200:\tlearn: 4343.8888467\ttotal: 1.15s\tremaining: 4.56s\n",
      "300:\tlearn: 4245.7016146\ttotal: 1.73s\tremaining: 4.02s\n",
      "400:\tlearn: 4160.8103257\ttotal: 2.27s\tremaining: 3.4s\n",
      "500:\tlearn: 4083.3690955\ttotal: 2.82s\tremaining: 2.81s\n",
      "600:\tlearn: 4012.3605095\ttotal: 3.36s\tremaining: 2.23s\n",
      "700:\tlearn: 3946.8855802\ttotal: 3.9s\tremaining: 1.67s\n",
      "800:\tlearn: 3886.4289261\ttotal: 4.44s\tremaining: 1.1s\n",
      "900:\tlearn: 3830.5972584\ttotal: 4.98s\tremaining: 547ms\n",
      "999:\tlearn: 3779.4346695\ttotal: 5.52s\tremaining: 0us\n",
      "0:\tlearn: 4601.8666487\ttotal: 7.39ms\tremaining: 7.38s\n",
      "100:\tlearn: 4467.4999518\ttotal: 545ms\tremaining: 4.85s\n",
      "200:\tlearn: 4353.1007230\ttotal: 1.08s\tremaining: 4.32s\n",
      "300:\tlearn: 4255.9212615\ttotal: 1.62s\tremaining: 3.77s\n",
      "400:\tlearn: 4170.9311502\ttotal: 2.16s\tremaining: 3.23s\n",
      "500:\tlearn: 4093.3118303\ttotal: 2.7s\tremaining: 2.69s\n",
      "600:\tlearn: 4022.1859674\ttotal: 3.25s\tremaining: 2.16s\n",
      "700:\tlearn: 3956.8098133\ttotal: 3.79s\tremaining: 1.62s\n",
      "800:\tlearn: 3896.4752351\ttotal: 4.33s\tremaining: 1.07s\n",
      "900:\tlearn: 3840.6802556\ttotal: 4.87s\tremaining: 535ms\n",
      "999:\tlearn: 3789.5166238\ttotal: 5.4s\tremaining: 0us\n",
      "0:\tlearn: 4589.6688515\ttotal: 6.13ms\tremaining: 6.12s\n",
      "100:\tlearn: 4454.3449050\ttotal: 544ms\tremaining: 4.84s\n",
      "200:\tlearn: 4339.2471968\ttotal: 1.08s\tremaining: 4.3s\n",
      "300:\tlearn: 4241.3705417\ttotal: 1.62s\tremaining: 3.77s\n",
      "400:\tlearn: 4156.3477600\ttotal: 2.16s\tremaining: 3.23s\n",
      "500:\tlearn: 4078.7492894\ttotal: 2.7s\tremaining: 2.69s\n",
      "600:\tlearn: 4007.5913617\ttotal: 3.24s\tremaining: 2.15s\n",
      "700:\tlearn: 3942.0041406\ttotal: 3.78s\tremaining: 1.61s\n",
      "800:\tlearn: 3881.5551614\ttotal: 4.33s\tremaining: 1.07s\n",
      "900:\tlearn: 3825.6384167\ttotal: 4.86s\tremaining: 534ms\n",
      "999:\tlearn: 3774.4086926\ttotal: 5.4s\tremaining: 0us\n",
      "0:\tlearn: 4582.1177039\ttotal: 16.6ms\tremaining: 16.6s\n",
      "100:\tlearn: 3772.6402827\ttotal: 555ms\tremaining: 4.94s\n",
      "200:\tlearn: 3407.6024836\ttotal: 1.09s\tremaining: 4.33s\n",
      "300:\tlearn: 3185.5089696\ttotal: 1.62s\tremaining: 3.77s\n",
      "400:\tlearn: 3026.0466536\ttotal: 2.16s\tremaining: 3.22s\n",
      "500:\tlearn: 2908.2622144\ttotal: 2.69s\tremaining: 2.68s\n",
      "600:\tlearn: 2818.5945567\ttotal: 3.21s\tremaining: 2.13s\n",
      "700:\tlearn: 2748.3886503\ttotal: 3.74s\tremaining: 1.6s\n",
      "800:\tlearn: 2692.9865741\ttotal: 4.28s\tremaining: 1.06s\n",
      "900:\tlearn: 2647.5801461\ttotal: 4.81s\tremaining: 529ms\n",
      "999:\tlearn: 2610.1274705\ttotal: 5.34s\tremaining: 0us\n",
      "0:\tlearn: 4588.8779841\ttotal: 17.2ms\tremaining: 17.2s\n",
      "100:\tlearn: 3782.8489155\ttotal: 556ms\tremaining: 4.95s\n",
      "200:\tlearn: 3418.3659039\ttotal: 1.09s\tremaining: 4.35s\n",
      "300:\tlearn: 3197.9884189\ttotal: 1.63s\tremaining: 3.79s\n",
      "400:\tlearn: 3039.7048782\ttotal: 2.19s\tremaining: 3.26s\n",
      "500:\tlearn: 2923.1510708\ttotal: 2.72s\tremaining: 2.71s\n",
      "600:\tlearn: 2834.1282729\ttotal: 3.25s\tremaining: 2.16s\n",
      "700:\tlearn: 2764.5343409\ttotal: 3.78s\tremaining: 1.61s\n",
      "800:\tlearn: 2709.7894802\ttotal: 4.31s\tremaining: 1.07s\n",
      "900:\tlearn: 2664.8809758\ttotal: 4.84s\tremaining: 532ms\n",
      "999:\tlearn: 2627.7828741\ttotal: 5.37s\tremaining: 0us\n",
      "0:\tlearn: 4576.4771058\ttotal: 18.7ms\tremaining: 18.7s\n",
      "100:\tlearn: 3767.5063015\ttotal: 561ms\tremaining: 4.99s\n",
      "200:\tlearn: 3402.3551960\ttotal: 1.1s\tremaining: 4.37s\n",
      "300:\tlearn: 3181.5701765\ttotal: 1.63s\tremaining: 3.79s\n",
      "400:\tlearn: 3022.5694118\ttotal: 2.16s\tremaining: 3.23s\n",
      "500:\tlearn: 2905.5954370\ttotal: 2.69s\tremaining: 2.68s\n",
      "600:\tlearn: 2816.2628754\ttotal: 3.22s\tremaining: 2.14s\n",
      "700:\tlearn: 2746.3084646\ttotal: 3.75s\tremaining: 1.6s\n",
      "800:\tlearn: 2691.2414404\ttotal: 4.29s\tremaining: 1.06s\n",
      "900:\tlearn: 2646.0552859\ttotal: 4.82s\tremaining: 529ms\n",
      "999:\tlearn: 2608.8097337\ttotal: 5.34s\tremaining: 0us\n",
      "0:\tlearn: 4454.5401195\ttotal: 16.7ms\tremaining: 16.6s\n",
      "100:\tlearn: 2592.9914709\ttotal: 547ms\tremaining: 4.87s\n",
      "200:\tlearn: 2417.0078291\ttotal: 1.07s\tremaining: 4.27s\n",
      "300:\tlearn: 2357.5978299\ttotal: 1.6s\tremaining: 3.71s\n",
      "400:\tlearn: 2325.7442129\ttotal: 2.13s\tremaining: 3.18s\n",
      "500:\tlearn: 2304.0828799\ttotal: 2.65s\tremaining: 2.64s\n",
      "600:\tlearn: 2287.3627886\ttotal: 3.18s\tremaining: 2.11s\n",
      "700:\tlearn: 2273.8034824\ttotal: 3.71s\tremaining: 1.58s\n",
      "800:\tlearn: 2262.5301283\ttotal: 4.25s\tremaining: 1.05s\n",
      "900:\tlearn: 2252.9827157\ttotal: 4.78s\tremaining: 526ms\n",
      "999:\tlearn: 2244.8017626\ttotal: 5.31s\tremaining: 0us\n",
      "0:\tlearn: 4463.5704929\ttotal: 17.5ms\tremaining: 17.5s\n",
      "100:\tlearn: 2611.3750323\ttotal: 548ms\tremaining: 4.88s\n",
      "200:\tlearn: 2438.9295010\ttotal: 1.07s\tremaining: 4.27s\n",
      "300:\tlearn: 2380.4273068\ttotal: 1.6s\tremaining: 3.71s\n",
      "400:\tlearn: 2348.6436370\ttotal: 2.13s\tremaining: 3.19s\n",
      "500:\tlearn: 2327.1082815\ttotal: 2.66s\tremaining: 2.65s\n",
      "600:\tlearn: 2310.5098184\ttotal: 3.19s\tremaining: 2.11s\n",
      "700:\tlearn: 2296.9804081\ttotal: 3.72s\tremaining: 1.58s\n",
      "800:\tlearn: 2285.5845906\ttotal: 4.25s\tremaining: 1.06s\n",
      "900:\tlearn: 2275.9026199\ttotal: 4.79s\tremaining: 526ms\n",
      "999:\tlearn: 2267.6189364\ttotal: 5.31s\tremaining: 0us\n",
      "0:\tlearn: 4449.1741533\ttotal: 17.5ms\tremaining: 17.5s\n",
      "100:\tlearn: 2591.5193208\ttotal: 545ms\tremaining: 4.85s\n",
      "200:\tlearn: 2417.9858185\ttotal: 1.07s\tremaining: 4.25s\n",
      "300:\tlearn: 2359.3695050\ttotal: 1.59s\tremaining: 3.7s\n",
      "400:\tlearn: 2327.5603547\ttotal: 2.12s\tremaining: 3.17s\n",
      "500:\tlearn: 2305.5338892\ttotal: 2.65s\tremaining: 2.64s\n",
      "600:\tlearn: 2288.6018705\ttotal: 3.17s\tremaining: 2.11s\n",
      "700:\tlearn: 2274.9517835\ttotal: 3.7s\tremaining: 1.58s\n",
      "800:\tlearn: 2263.6440918\ttotal: 4.24s\tremaining: 1.05s\n",
      "900:\tlearn: 2254.1286871\ttotal: 4.78s\tremaining: 525ms\n",
      "999:\tlearn: 2246.0189109\ttotal: 5.32s\tremaining: 0us\n",
      "0:\tlearn: 4005.9202372\ttotal: 17.1ms\tremaining: 17.1s\n",
      "100:\tlearn: 2340.3585603\ttotal: 546ms\tremaining: 4.86s\n",
      "200:\tlearn: 2263.3386106\ttotal: 1.07s\tremaining: 4.27s\n",
      "300:\tlearn: 2227.4771105\ttotal: 1.6s\tremaining: 3.73s\n",
      "400:\tlearn: 2208.8493399\ttotal: 2.13s\tremaining: 3.19s\n",
      "500:\tlearn: 2196.6547889\ttotal: 2.66s\tremaining: 2.65s\n",
      "600:\tlearn: 2188.2093764\ttotal: 3.19s\tremaining: 2.12s\n",
      "700:\tlearn: 2181.5401679\ttotal: 3.72s\tremaining: 1.59s\n",
      "800:\tlearn: 2176.1819601\ttotal: 4.26s\tremaining: 1.06s\n",
      "900:\tlearn: 2171.6386977\ttotal: 4.79s\tremaining: 527ms\n",
      "999:\tlearn: 2167.7538044\ttotal: 5.33s\tremaining: 0us\n",
      "0:\tlearn: 4023.5505093\ttotal: 17.4ms\tremaining: 17.4s\n",
      "100:\tlearn: 2359.6054146\ttotal: 543ms\tremaining: 4.83s\n",
      "200:\tlearn: 2283.3254181\ttotal: 1.07s\tremaining: 4.25s\n",
      "300:\tlearn: 2249.2497058\ttotal: 1.61s\tremaining: 3.74s\n",
      "400:\tlearn: 2231.3648735\ttotal: 2.14s\tremaining: 3.19s\n",
      "500:\tlearn: 2219.7240823\ttotal: 2.67s\tremaining: 2.66s\n",
      "600:\tlearn: 2211.1009096\ttotal: 3.2s\tremaining: 2.13s\n",
      "700:\tlearn: 2204.2823849\ttotal: 3.73s\tremaining: 1.59s\n",
      "800:\tlearn: 2198.6851121\ttotal: 4.27s\tremaining: 1.06s\n",
      "900:\tlearn: 2193.9114754\ttotal: 4.8s\tremaining: 528ms\n",
      "999:\tlearn: 2189.7406804\ttotal: 5.33s\tremaining: 0us\n",
      "0:\tlearn: 4001.5500863\ttotal: 16.3ms\tremaining: 16.3s\n",
      "100:\tlearn: 2340.2898515\ttotal: 544ms\tremaining: 4.84s\n",
      "200:\tlearn: 2261.4931092\ttotal: 1.07s\tremaining: 4.26s\n",
      "300:\tlearn: 2226.0848992\ttotal: 1.6s\tremaining: 3.72s\n",
      "400:\tlearn: 2207.3710145\ttotal: 2.13s\tremaining: 3.18s\n",
      "500:\tlearn: 2195.8599226\ttotal: 2.66s\tremaining: 2.65s\n",
      "600:\tlearn: 2187.7587263\ttotal: 3.19s\tremaining: 2.12s\n",
      "700:\tlearn: 2181.4422708\ttotal: 3.72s\tremaining: 1.59s\n",
      "800:\tlearn: 2176.0851678\ttotal: 4.26s\tremaining: 1.06s\n",
      "900:\tlearn: 2171.5439944\ttotal: 4.8s\tremaining: 527ms\n",
      "999:\tlearn: 2167.6561620\ttotal: 5.33s\tremaining: 0us\n",
      "0:\tlearn: 4594.0625328\ttotal: 22.1ms\tremaining: 22.1s\n",
      "100:\tlearn: 4333.4812465\ttotal: 1.01s\tremaining: 8.96s\n",
      "200:\tlearn: 4100.3225878\ttotal: 1.99s\tremaining: 7.91s\n",
      "300:\tlearn: 3892.9518373\ttotal: 2.97s\tremaining: 6.9s\n",
      "400:\tlearn: 3708.4248729\ttotal: 3.96s\tremaining: 5.92s\n",
      "500:\tlearn: 3543.5860619\ttotal: 4.97s\tremaining: 4.95s\n",
      "600:\tlearn: 3398.0167329\ttotal: 5.99s\tremaining: 3.98s\n",
      "700:\tlearn: 3268.0638097\ttotal: 7s\tremaining: 2.98s\n",
      "800:\tlearn: 3152.4943805\ttotal: 8s\tremaining: 1.99s\n",
      "900:\tlearn: 3050.8187205\ttotal: 9s\tremaining: 989ms\n",
      "999:\tlearn: 2961.0719901\ttotal: 10s\tremaining: 0us\n",
      "0:\tlearn: 4600.5188337\ttotal: 21.3ms\tremaining: 21.3s\n",
      "100:\tlearn: 4342.2321880\ttotal: 1.01s\tremaining: 8.96s\n",
      "200:\tlearn: 4109.1058957\ttotal: 1.99s\tremaining: 7.92s\n",
      "300:\tlearn: 3902.1636273\ttotal: 2.98s\tremaining: 6.93s\n",
      "400:\tlearn: 3717.6648619\ttotal: 3.98s\tremaining: 5.95s\n",
      "500:\tlearn: 3553.9880649\ttotal: 5s\tremaining: 4.98s\n",
      "600:\tlearn: 3409.0031806\ttotal: 6.04s\tremaining: 4.01s\n",
      "700:\tlearn: 3280.1402013\ttotal: 7.05s\tremaining: 3s\n"
     ]
    },
    {
     "name": "stdout",
     "output_type": "stream",
     "text": [
      "800:\tlearn: 3166.6591680\ttotal: 8.05s\tremaining: 2s\n",
      "900:\tlearn: 3064.8969937\ttotal: 9.05s\tremaining: 994ms\n",
      "999:\tlearn: 2975.5984829\ttotal: 10.1s\tremaining: 0us\n",
      "0:\tlearn: 4588.4026425\ttotal: 21.7ms\tremaining: 21.7s\n",
      "100:\tlearn: 4329.1854462\ttotal: 1.03s\tremaining: 9.22s\n",
      "200:\tlearn: 4095.4413694\ttotal: 2.02s\tremaining: 8.04s\n",
      "300:\tlearn: 3887.9096299\ttotal: 3.01s\tremaining: 6.98s\n",
      "400:\tlearn: 3703.8810411\ttotal: 3.99s\tremaining: 5.96s\n",
      "500:\tlearn: 3539.9298771\ttotal: 5s\tremaining: 4.98s\n",
      "600:\tlearn: 3393.9571562\ttotal: 6s\tremaining: 3.98s\n",
      "700:\tlearn: 3263.3853676\ttotal: 6.99s\tremaining: 2.98s\n",
      "800:\tlearn: 3148.5577894\ttotal: 7.99s\tremaining: 1.99s\n",
      "900:\tlearn: 3046.8608638\ttotal: 9.01s\tremaining: 990ms\n",
      "999:\tlearn: 2957.4859838\ttotal: 10s\tremaining: 0us\n",
      "0:\tlearn: 4569.3706116\ttotal: 21.8ms\tremaining: 21.8s\n",
      "100:\tlearn: 2950.3489027\ttotal: 1.02s\tremaining: 9.1s\n",
      "200:\tlearn: 2454.7029663\ttotal: 2.01s\tremaining: 7.99s\n",
      "300:\tlearn: 2261.2943937\ttotal: 2.99s\tremaining: 6.94s\n",
      "400:\tlearn: 2159.0150969\ttotal: 3.96s\tremaining: 5.91s\n",
      "500:\tlearn: 2093.4771788\ttotal: 4.92s\tremaining: 4.9s\n",
      "600:\tlearn: 2046.8034552\ttotal: 5.9s\tremaining: 3.91s\n",
      "700:\tlearn: 2011.1840932\ttotal: 6.87s\tremaining: 2.93s\n",
      "800:\tlearn: 1981.8013401\ttotal: 7.84s\tremaining: 1.95s\n",
      "900:\tlearn: 1957.3455025\ttotal: 8.81s\tremaining: 968ms\n",
      "999:\tlearn: 1937.1837126\ttotal: 9.78s\tremaining: 0us\n",
      "0:\tlearn: 4575.4046789\ttotal: 13.4ms\tremaining: 13.3s\n",
      "100:\tlearn: 2965.2492587\ttotal: 1s\tremaining: 8.93s\n",
      "200:\tlearn: 2471.3273604\ttotal: 1.98s\tremaining: 7.88s\n",
      "300:\tlearn: 2279.6482373\ttotal: 2.96s\tremaining: 6.88s\n",
      "400:\tlearn: 2178.6378164\ttotal: 3.93s\tremaining: 5.88s\n",
      "500:\tlearn: 2113.5811543\ttotal: 4.9s\tremaining: 4.88s\n",
      "600:\tlearn: 2067.2735547\ttotal: 5.89s\tremaining: 3.91s\n",
      "700:\tlearn: 2032.1938107\ttotal: 6.86s\tremaining: 2.93s\n",
      "800:\tlearn: 2003.3789486\ttotal: 7.84s\tremaining: 1.95s\n",
      "900:\tlearn: 1979.4314003\ttotal: 8.81s\tremaining: 968ms\n",
      "999:\tlearn: 1958.2707241\ttotal: 9.79s\tremaining: 0us\n",
      "0:\tlearn: 4563.8198798\ttotal: 22.2ms\tremaining: 22.2s\n",
      "100:\tlearn: 2947.0240343\ttotal: 1.01s\tremaining: 9.04s\n",
      "200:\tlearn: 2448.8374177\ttotal: 2s\tremaining: 7.96s\n",
      "300:\tlearn: 2258.3906824\ttotal: 2.99s\tremaining: 6.95s\n",
      "400:\tlearn: 2159.1297856\ttotal: 3.96s\tremaining: 5.92s\n",
      "500:\tlearn: 2095.5732451\ttotal: 4.93s\tremaining: 4.91s\n",
      "600:\tlearn: 2048.3033583\ttotal: 5.9s\tremaining: 3.92s\n",
      "700:\tlearn: 2013.2796525\ttotal: 6.87s\tremaining: 2.93s\n",
      "800:\tlearn: 1984.5276318\ttotal: 7.85s\tremaining: 1.95s\n",
      "900:\tlearn: 1959.8156248\ttotal: 8.84s\tremaining: 971ms\n",
      "999:\tlearn: 1938.5535916\ttotal: 9.81s\tremaining: 0us\n",
      "0:\tlearn: 4327.7116237\ttotal: 21.8ms\tremaining: 21.7s\n",
      "100:\tlearn: 1931.1830155\ttotal: 988ms\tremaining: 8.8s\n",
      "200:\tlearn: 1825.9169431\ttotal: 1.95s\tremaining: 7.75s\n",
      "300:\tlearn: 1777.2367499\ttotal: 2.92s\tremaining: 6.79s\n",
      "400:\tlearn: 1744.9166269\ttotal: 3.9s\tremaining: 5.82s\n",
      "500:\tlearn: 1719.8576167\ttotal: 4.88s\tremaining: 4.86s\n",
      "600:\tlearn: 1700.4364493\ttotal: 5.85s\tremaining: 3.88s\n",
      "700:\tlearn: 1684.0257094\ttotal: 6.83s\tremaining: 2.92s\n",
      "800:\tlearn: 1669.3228741\ttotal: 7.84s\tremaining: 1.95s\n",
      "900:\tlearn: 1655.1437722\ttotal: 8.82s\tremaining: 970ms\n",
      "999:\tlearn: 1642.8094109\ttotal: 9.8s\tremaining: 0us\n",
      "0:\tlearn: 4329.4946561\ttotal: 21.8ms\tremaining: 21.7s\n",
      "100:\tlearn: 1957.0667973\ttotal: 992ms\tremaining: 8.83s\n",
      "200:\tlearn: 1848.0481726\ttotal: 1.96s\tremaining: 7.8s\n",
      "300:\tlearn: 1795.5023921\ttotal: 2.94s\tremaining: 6.83s\n",
      "400:\tlearn: 1759.9255098\ttotal: 3.93s\tremaining: 5.88s\n",
      "500:\tlearn: 1735.4105034\ttotal: 4.9s\tremaining: 4.88s\n",
      "600:\tlearn: 1714.5233109\ttotal: 5.88s\tremaining: 3.9s\n",
      "700:\tlearn: 1696.4147825\ttotal: 6.87s\tremaining: 2.93s\n",
      "800:\tlearn: 1680.0356747\ttotal: 7.86s\tremaining: 1.95s\n",
      "900:\tlearn: 1666.4701529\ttotal: 8.85s\tremaining: 973ms\n",
      "999:\tlearn: 1654.1385448\ttotal: 9.85s\tremaining: 0us\n",
      "0:\tlearn: 4323.2531696\ttotal: 22.4ms\tremaining: 22.4s\n",
      "100:\tlearn: 1939.0708638\ttotal: 996ms\tremaining: 8.86s\n",
      "200:\tlearn: 1831.6679146\ttotal: 1.98s\tremaining: 7.86s\n",
      "300:\tlearn: 1780.7333069\ttotal: 2.96s\tremaining: 6.88s\n",
      "400:\tlearn: 1748.6145123\ttotal: 3.96s\tremaining: 5.92s\n",
      "500:\tlearn: 1723.6702465\ttotal: 4.95s\tremaining: 4.93s\n",
      "600:\tlearn: 1703.7798198\ttotal: 5.93s\tremaining: 3.94s\n",
      "700:\tlearn: 1685.4673669\ttotal: 6.91s\tremaining: 2.95s\n",
      "800:\tlearn: 1671.4725036\ttotal: 7.91s\tremaining: 1.96s\n",
      "900:\tlearn: 1657.5763657\ttotal: 8.9s\tremaining: 979ms\n",
      "999:\tlearn: 1645.0053953\ttotal: 9.87s\tremaining: 0us\n",
      "0:\tlearn: 3413.1375019\ttotal: 21.6ms\tremaining: 21.6s\n",
      "100:\tlearn: 1743.4986635\ttotal: 1.01s\tremaining: 8.99s\n",
      "200:\tlearn: 1661.8139230\ttotal: 1.98s\tremaining: 7.87s\n",
      "300:\tlearn: 1608.8891933\ttotal: 2.95s\tremaining: 6.85s\n",
      "400:\tlearn: 1574.9671076\ttotal: 3.92s\tremaining: 5.85s\n",
      "500:\tlearn: 1543.1413285\ttotal: 4.89s\tremaining: 4.87s\n",
      "600:\tlearn: 1516.8398472\ttotal: 5.86s\tremaining: 3.89s\n",
      "700:\tlearn: 1494.5643299\ttotal: 6.84s\tremaining: 2.92s\n",
      "800:\tlearn: 1476.6499100\ttotal: 7.82s\tremaining: 1.94s\n",
      "900:\tlearn: 1461.3454904\ttotal: 8.78s\tremaining: 965ms\n",
      "999:\tlearn: 1447.0870612\ttotal: 9.74s\tremaining: 0us\n",
      "0:\tlearn: 3396.1954023\ttotal: 28.4ms\tremaining: 28.3s\n",
      "100:\tlearn: 1761.5220439\ttotal: 1s\tremaining: 8.95s\n",
      "200:\tlearn: 1674.5631203\ttotal: 1.98s\tremaining: 7.88s\n",
      "300:\tlearn: 1625.2197586\ttotal: 2.97s\tremaining: 6.89s\n",
      "400:\tlearn: 1587.4552132\ttotal: 3.93s\tremaining: 5.87s\n",
      "500:\tlearn: 1556.7414376\ttotal: 4.89s\tremaining: 4.87s\n",
      "600:\tlearn: 1530.1148692\ttotal: 5.86s\tremaining: 3.89s\n",
      "700:\tlearn: 1510.0600748\ttotal: 6.82s\tremaining: 2.91s\n",
      "800:\tlearn: 1492.3796991\ttotal: 7.79s\tremaining: 1.94s\n",
      "900:\tlearn: 1476.7987608\ttotal: 8.75s\tremaining: 961ms\n",
      "999:\tlearn: 1461.7130568\ttotal: 9.71s\tremaining: 0us\n",
      "0:\tlearn: 3413.3437418\ttotal: 14.4ms\tremaining: 14.4s\n",
      "100:\tlearn: 1748.7007923\ttotal: 998ms\tremaining: 8.88s\n",
      "200:\tlearn: 1661.8255623\ttotal: 1.98s\tremaining: 7.88s\n",
      "300:\tlearn: 1609.5369812\ttotal: 2.96s\tremaining: 6.87s\n",
      "400:\tlearn: 1572.4771972\ttotal: 3.94s\tremaining: 5.88s\n",
      "500:\tlearn: 1543.5199272\ttotal: 4.91s\tremaining: 4.89s\n",
      "600:\tlearn: 1518.5323515\ttotal: 5.89s\tremaining: 3.91s\n",
      "700:\tlearn: 1496.5457952\ttotal: 6.86s\tremaining: 2.93s\n",
      "800:\tlearn: 1477.1805842\ttotal: 7.84s\tremaining: 1.95s\n",
      "900:\tlearn: 1460.0905100\ttotal: 8.81s\tremaining: 968ms\n",
      "999:\tlearn: 1442.6298900\ttotal: 9.8s\tremaining: 0us\n",
      "0:\tlearn: 4593.5983943\ttotal: 28.2ms\tremaining: 28.1s\n",
      "100:\tlearn: 4289.2831944\ttotal: 2.71s\tremaining: 24.1s\n",
      "200:\tlearn: 4018.7710112\ttotal: 5.38s\tremaining: 21.4s\n",
      "300:\tlearn: 3778.8464851\ttotal: 8.06s\tremaining: 18.7s\n",
      "400:\tlearn: 3566.8238806\ttotal: 10.7s\tremaining: 16s\n",
      "500:\tlearn: 3379.4972321\ttotal: 13.4s\tremaining: 13.4s\n",
      "600:\tlearn: 3213.8019672\ttotal: 16.1s\tremaining: 10.7s\n",
      "700:\tlearn: 3068.1337825\ttotal: 18.8s\tremaining: 8.01s\n",
      "800:\tlearn: 2939.2838412\ttotal: 21.5s\tremaining: 5.35s\n",
      "900:\tlearn: 2825.3078689\ttotal: 24.2s\tremaining: 2.66s\n",
      "999:\tlearn: 2725.8039728\ttotal: 26.9s\tremaining: 0us\n",
      "0:\tlearn: 4600.1087364\ttotal: 28.1ms\tremaining: 28s\n",
      "100:\tlearn: 4296.5174659\ttotal: 2.71s\tremaining: 24.1s\n",
      "200:\tlearn: 4027.0250454\ttotal: 5.42s\tremaining: 21.5s\n",
      "300:\tlearn: 3788.3431320\ttotal: 8.22s\tremaining: 19.1s\n",
      "400:\tlearn: 3577.1439331\ttotal: 10.9s\tremaining: 16.3s\n",
      "500:\tlearn: 3390.6186998\ttotal: 13.6s\tremaining: 13.6s\n",
      "600:\tlearn: 3226.1434702\ttotal: 16.3s\tremaining: 10.8s\n",
      "700:\tlearn: 3080.1926204\ttotal: 19s\tremaining: 8.11s\n",
      "800:\tlearn: 2952.2012425\ttotal: 21.7s\tremaining: 5.39s\n",
      "900:\tlearn: 2839.1528203\ttotal: 24.4s\tremaining: 2.68s\n",
      "999:\tlearn: 2740.1632633\ttotal: 27.1s\tremaining: 0us\n",
      "0:\tlearn: 4587.8881948\ttotal: 28.3ms\tremaining: 28.3s\n",
      "100:\tlearn: 4283.4064930\ttotal: 2.73s\tremaining: 24.3s\n",
      "200:\tlearn: 4013.1391485\ttotal: 5.41s\tremaining: 21.5s\n",
      "300:\tlearn: 3773.4463018\ttotal: 8.1s\tremaining: 18.8s\n",
      "400:\tlearn: 3561.6545046\ttotal: 10.8s\tremaining: 16.1s\n",
      "500:\tlearn: 3374.6492339\ttotal: 13.5s\tremaining: 13.4s\n",
      "600:\tlearn: 3209.3972594\ttotal: 16.2s\tremaining: 10.7s\n",
      "700:\tlearn: 3063.4424953\ttotal: 18.9s\tremaining: 8.05s\n",
      "800:\tlearn: 2934.8276588\ttotal: 21.6s\tremaining: 5.36s\n",
      "900:\tlearn: 2821.3280409\ttotal: 24.3s\tremaining: 2.67s\n",
      "999:\tlearn: 2721.6764296\ttotal: 27s\tremaining: 0us\n",
      "0:\tlearn: 4564.7225211\ttotal: 27.4ms\tremaining: 27.4s\n",
      "100:\tlearn: 2713.1041878\ttotal: 2.73s\tremaining: 24.3s\n",
      "200:\tlearn: 2176.4405405\ttotal: 5.42s\tremaining: 21.6s\n",
      "300:\tlearn: 1984.9477279\ttotal: 8.14s\tremaining: 18.9s\n",
      "400:\tlearn: 1895.5567248\ttotal: 10.9s\tremaining: 16.2s\n"
     ]
    },
    {
     "name": "stdout",
     "output_type": "stream",
     "text": [
      "500:\tlearn: 1846.2794912\ttotal: 13.6s\tremaining: 13.6s\n",
      "600:\tlearn: 1810.8794129\ttotal: 16.3s\tremaining: 10.8s\n",
      "700:\tlearn: 1783.3588872\ttotal: 19.1s\tremaining: 8.14s\n",
      "800:\tlearn: 1760.8326687\ttotal: 21.8s\tremaining: 5.42s\n",
      "900:\tlearn: 1741.3134615\ttotal: 24.5s\tremaining: 2.69s\n",
      "999:\tlearn: 1723.8188732\ttotal: 27.3s\tremaining: 0us\n",
      "0:\tlearn: 4571.2975000\ttotal: 28.2ms\tremaining: 28.1s\n",
      "100:\tlearn: 2727.6196689\ttotal: 3.22s\tremaining: 28.7s\n",
      "200:\tlearn: 2194.5231892\ttotal: 6.04s\tremaining: 24s\n",
      "300:\tlearn: 2005.5801125\ttotal: 8.8s\tremaining: 20.4s\n",
      "400:\tlearn: 1916.7916468\ttotal: 11.6s\tremaining: 17.3s\n",
      "500:\tlearn: 1867.7182738\ttotal: 14.4s\tremaining: 14.3s\n",
      "600:\tlearn: 1831.7279992\ttotal: 17.2s\tremaining: 11.4s\n",
      "700:\tlearn: 1803.3983012\ttotal: 20s\tremaining: 8.51s\n",
      "800:\tlearn: 1780.2826548\ttotal: 22.7s\tremaining: 5.65s\n",
      "900:\tlearn: 1760.0489558\ttotal: 25.7s\tremaining: 2.82s\n",
      "999:\tlearn: 1742.3241263\ttotal: 28.4s\tremaining: 0us\n",
      "0:\tlearn: 4558.6679284\ttotal: 28.7ms\tremaining: 28.7s\n",
      "100:\tlearn: 2708.6121414\ttotal: 2.79s\tremaining: 24.8s\n",
      "200:\tlearn: 2177.6980967\ttotal: 5.58s\tremaining: 22.2s\n",
      "300:\tlearn: 1988.0032028\ttotal: 8.39s\tremaining: 19.5s\n",
      "400:\tlearn: 1899.0812181\ttotal: 11.2s\tremaining: 16.7s\n",
      "500:\tlearn: 1850.5803780\ttotal: 14s\tremaining: 13.9s\n",
      "600:\tlearn: 1814.2954188\ttotal: 16.8s\tremaining: 11.2s\n",
      "700:\tlearn: 1787.1044646\ttotal: 19.6s\tremaining: 8.38s\n",
      "800:\tlearn: 1764.8722530\ttotal: 22.5s\tremaining: 5.58s\n",
      "900:\tlearn: 1745.4220701\ttotal: 25.3s\tremaining: 2.78s\n",
      "999:\tlearn: 1728.0393445\ttotal: 28.1s\tremaining: 0us\n",
      "0:\tlearn: 4280.5681886\ttotal: 28.3ms\tremaining: 28.2s\n",
      "100:\tlearn: 1722.6107952\ttotal: 2.84s\tremaining: 25.3s\n",
      "200:\tlearn: 1615.6950343\ttotal: 5.63s\tremaining: 22.4s\n",
      "300:\tlearn: 1546.1045050\ttotal: 8.44s\tremaining: 19.6s\n",
      "400:\tlearn: 1492.9419768\ttotal: 11.3s\tremaining: 16.8s\n",
      "500:\tlearn: 1450.9532871\ttotal: 14.1s\tremaining: 14s\n",
      "600:\tlearn: 1415.9252162\ttotal: 16.9s\tremaining: 11.2s\n",
      "700:\tlearn: 1382.1465967\ttotal: 19.8s\tremaining: 8.44s\n",
      "800:\tlearn: 1353.8198989\ttotal: 22.6s\tremaining: 5.62s\n",
      "900:\tlearn: 1329.4306989\ttotal: 25.5s\tremaining: 2.8s\n",
      "999:\tlearn: 1309.2316649\ttotal: 28.3s\tremaining: 0us\n",
      "0:\tlearn: 4287.8072269\ttotal: 28.6ms\tremaining: 28.6s\n",
      "100:\tlearn: 1739.7503270\ttotal: 2.83s\tremaining: 25.2s\n",
      "200:\tlearn: 1626.7086435\ttotal: 5.63s\tremaining: 22.4s\n",
      "300:\tlearn: 1550.4921841\ttotal: 8.46s\tremaining: 19.7s\n",
      "400:\tlearn: 1498.1814967\ttotal: 11.3s\tremaining: 16.9s\n",
      "500:\tlearn: 1453.9981808\ttotal: 14.1s\tremaining: 14.1s\n",
      "600:\tlearn: 1418.7145508\ttotal: 16.9s\tremaining: 11.2s\n",
      "700:\tlearn: 1387.8241650\ttotal: 19.7s\tremaining: 8.42s\n",
      "800:\tlearn: 1359.8143893\ttotal: 22.6s\tremaining: 5.61s\n",
      "900:\tlearn: 1334.1196997\ttotal: 25.4s\tremaining: 2.79s\n",
      "999:\tlearn: 1310.9935531\ttotal: 28.2s\tremaining: 0us\n",
      "0:\tlearn: 4270.9942019\ttotal: 28.9ms\tremaining: 28.8s\n",
      "100:\tlearn: 1723.2779048\ttotal: 2.84s\tremaining: 25.3s\n",
      "200:\tlearn: 1620.4584263\ttotal: 5.65s\tremaining: 22.5s\n",
      "300:\tlearn: 1550.3458887\ttotal: 8.46s\tremaining: 19.7s\n",
      "400:\tlearn: 1495.4474529\ttotal: 11.3s\tremaining: 16.9s\n",
      "500:\tlearn: 1451.5940481\ttotal: 14.1s\tremaining: 14.1s\n",
      "600:\tlearn: 1418.0494781\ttotal: 16.9s\tremaining: 11.2s\n",
      "700:\tlearn: 1383.7621728\ttotal: 19.7s\tremaining: 8.4s\n",
      "800:\tlearn: 1354.3782235\ttotal: 22.5s\tremaining: 5.59s\n",
      "900:\tlearn: 1326.2254937\ttotal: 25.3s\tremaining: 2.78s\n",
      "999:\tlearn: 1303.3061876\ttotal: 28.2s\tremaining: 0us\n",
      "0:\tlearn: 3168.0857284\ttotal: 29.1ms\tremaining: 29.1s\n",
      "100:\tlearn: 1471.3144228\ttotal: 2.83s\tremaining: 25.2s\n",
      "200:\tlearn: 1322.8024633\ttotal: 5.66s\tremaining: 22.5s\n",
      "300:\tlearn: 1224.8408497\ttotal: 8.49s\tremaining: 19.7s\n",
      "400:\tlearn: 1151.6113950\ttotal: 11.3s\tremaining: 16.9s\n",
      "500:\tlearn: 1093.5903826\ttotal: 14.2s\tremaining: 14.1s\n",
      "600:\tlearn: 1042.7589126\ttotal: 17s\tremaining: 11.3s\n",
      "700:\tlearn: 1003.5484824\ttotal: 19.8s\tremaining: 8.46s\n",
      "800:\tlearn: 970.2249195\ttotal: 22.7s\tremaining: 5.63s\n",
      "900:\tlearn: 939.7849486\ttotal: 25.5s\tremaining: 2.8s\n",
      "999:\tlearn: 912.2864571\ttotal: 28.3s\tremaining: 0us\n",
      "0:\tlearn: 3178.5644996\ttotal: 28.7ms\tremaining: 28.7s\n",
      "100:\tlearn: 1483.2182976\ttotal: 2.83s\tremaining: 25.2s\n",
      "200:\tlearn: 1335.9865725\ttotal: 5.62s\tremaining: 22.4s\n",
      "300:\tlearn: 1243.9017130\ttotal: 8.44s\tremaining: 19.6s\n",
      "400:\tlearn: 1173.2952360\ttotal: 11.3s\tremaining: 16.8s\n",
      "500:\tlearn: 1117.6067159\ttotal: 14.1s\tremaining: 14s\n",
      "600:\tlearn: 1064.7212297\ttotal: 16.9s\tremaining: 11.2s\n",
      "700:\tlearn: 1023.1501512\ttotal: 19.7s\tremaining: 8.4s\n",
      "800:\tlearn: 986.8926556\ttotal: 22.6s\tremaining: 5.62s\n",
      "900:\tlearn: 954.7255548\ttotal: 25.5s\tremaining: 2.8s\n",
      "999:\tlearn: 925.6477789\ttotal: 28.3s\tremaining: 0us\n",
      "0:\tlearn: 3141.4695724\ttotal: 28.5ms\tremaining: 28.5s\n",
      "100:\tlearn: 1472.2140857\ttotal: 2.83s\tremaining: 25.2s\n",
      "200:\tlearn: 1314.2268126\ttotal: 5.67s\tremaining: 22.5s\n",
      "300:\tlearn: 1217.8776894\ttotal: 8.5s\tremaining: 19.7s\n",
      "400:\tlearn: 1143.3354187\ttotal: 11.3s\tremaining: 16.9s\n",
      "500:\tlearn: 1087.1298345\ttotal: 14.2s\tremaining: 14.1s\n",
      "600:\tlearn: 1038.0895420\ttotal: 17s\tremaining: 11.3s\n",
      "700:\tlearn: 999.3568023\ttotal: 19.8s\tremaining: 8.45s\n",
      "800:\tlearn: 968.7913813\ttotal: 22.6s\tremaining: 5.62s\n",
      "900:\tlearn: 939.4097898\ttotal: 25.5s\tremaining: 2.8s\n",
      "999:\tlearn: 912.5740697\ttotal: 28.3s\tremaining: 0us\n",
      "0:\tlearn: 4278.0443197\ttotal: 36.2ms\tremaining: 36.1s\n",
      "100:\tlearn: 1739.3734087\ttotal: 3.58s\tremaining: 31.9s\n",
      "200:\tlearn: 1634.1269932\ttotal: 7.14s\tremaining: 28.4s\n",
      "300:\tlearn: 1572.6518551\ttotal: 10.7s\tremaining: 24.8s\n",
      "400:\tlearn: 1527.2177273\ttotal: 14.3s\tremaining: 21.3s\n",
      "500:\tlearn: 1488.6434105\ttotal: 17.8s\tremaining: 17.8s\n",
      "600:\tlearn: 1457.7906252\ttotal: 21.4s\tremaining: 14.2s\n",
      "700:\tlearn: 1429.3007185\ttotal: 25s\tremaining: 10.7s\n",
      "800:\tlearn: 1404.7105935\ttotal: 28.6s\tremaining: 7.11s\n",
      "900:\tlearn: 1381.0595126\ttotal: 32.2s\tremaining: 3.54s\n",
      "999:\tlearn: 1359.9301392\ttotal: 35.8s\tremaining: 0us\n"
     ]
    },
    {
     "data": {
      "text/plain": [
       "GridSearchCV(cv=3,\n",
       "             estimator=Pipeline(steps=[('preprocessor',\n",
       "                                        ColumnTransformer(transformers=[('num',\n",
       "                                                                         Pipeline(steps=[('scaler',\n",
       "                                                                                          StandardScaler())]),\n",
       "                                                                         ['RegistrationYear',\n",
       "                                                                          'Power',\n",
       "                                                                          'Kilometer',\n",
       "                                                                          'Days_announcement',\n",
       "                                                                          'Days_last_seen']),\n",
       "                                                                        ('one_hot',\n",
       "                                                                         Pipeline(steps=[('onehot',\n",
       "                                                                                          OneHotEncoder())]),\n",
       "                                                                         ['Gearbox',\n",
       "                                                                          'Repaired']),\n",
       "                                                                        ('ordinal',\n",
       "                                                                         Pipeline(steps=[('ordinal',\n",
       "                                                                                          OrdinalEncoder(handle_unknown='use_encoded_value',\n",
       "                                                                                                         unknown_value=-1))]),\n",
       "                                                                         ['VehicleType',\n",
       "                                                                          'Model',\n",
       "                                                                          'RegistrationMonth',\n",
       "                                                                          'FuelType',\n",
       "                                                                          'Brand'])])),\n",
       "                                       ('catboost',\n",
       "                                        <catboost.core.CatBoostRegressor object at 0x0000029E44670880>)]),\n",
       "             param_grid={'catboost__depth': [1, 5, 10],\n",
       "                         'catboost__learning_rate': [0.001, 0.01, 0.1, 0.5],\n",
       "                         'catboost__verbose': [100]},\n",
       "             scoring='neg_mean_absolute_error')"
      ]
     },
     "execution_count": 78,
     "metadata": {},
     "output_type": "execute_result"
    }
   ],
   "source": [
    "grid_search_catboost = GridSearchCV(pipe_catboost,\n",
    "                                    param_grid=param_grid_catboost,\n",
    "                                    cv=3,\n",
    "                                    scoring='neg_mean_absolute_error'\n",
    "                                   )\n",
    "\n",
    "grid_search_catboost.fit(X_train, y_train)"
   ]
  },
  {
   "cell_type": "code",
   "execution_count": 79,
   "id": "25fbbecf",
   "metadata": {},
   "outputs": [
    {
     "name": "stdout",
     "output_type": "stream",
     "text": [
      "Лучшие параметры CatBoost {'catboost__depth': 10, 'catboost__learning_rate': 0.1, 'catboost__verbose': 100}\n"
     ]
    }
   ],
   "source": [
    "print(f'Лучшие параметры CatBoost {grid_search_catboost.best_params_}')"
   ]
  },
  {
   "cell_type": "code",
   "execution_count": 80,
   "id": "db50f0f7",
   "metadata": {},
   "outputs": [
    {
     "name": "stdout",
     "output_type": "stream",
     "text": [
      "MAE на train для CatBoost = 1003.7\n"
     ]
    }
   ],
   "source": [
    "best_score_catboost = np.abs(grid_search_catboost.best_score_)\n",
    "print(f'MAE на train для CatBoost = {best_score_catboost:.1f}')"
   ]
  },
  {
   "cell_type": "markdown",
   "id": "4a1b00c8",
   "metadata": {},
   "source": [
    "Лучшая модель - CatBoost. Замерим качество на test"
   ]
  },
  {
   "cell_type": "code",
   "execution_count": 104,
   "id": "654a4481",
   "metadata": {},
   "outputs": [
    {
     "name": "stdout",
     "output_type": "stream",
     "text": [
      "MAE CatBoost на test: 980.2\n",
      "RMSE CatBoost на test: 1605.6\n"
     ]
    }
   ],
   "source": [
    "mae_catboost = mean_absolute_error(y_test, best_model.predict(X_test))\n",
    "rmse_catboost = (mean_squared_error(y_test, best_model.predict(X_test))) ** 0.5\n",
    "\n",
    "print(f'MAE CatBoost на test: {mae_catboost:.1f}')\n",
    "print(f'RMSE CatBoost на test: {rmse_catboost:.1f}')"
   ]
  },
  {
   "cell_type": "markdown",
   "id": "74789393",
   "metadata": {},
   "source": [
    "Вывод: в рамках данного проекта был проведен разведочный анализ данных, обработаны признаки и заполнены пропуски. Построены 3 модели Lasso, RandomForest и CatBoost для определения стоимости автомобилей. Лучшая модель оказалась CatBoost с MAE на тестовой выборке 980 евро. "
   ]
  },
  {
   "cell_type": "code",
   "execution_count": null,
   "id": "86885b80",
   "metadata": {},
   "outputs": [],
   "source": []
  }
 ],
 "metadata": {
  "kernelspec": {
   "display_name": "Python 3 (ipykernel)",
   "language": "python",
   "name": "python3"
  },
  "language_info": {
   "codemirror_mode": {
    "name": "ipython",
    "version": 3
   },
   "file_extension": ".py",
   "mimetype": "text/x-python",
   "name": "python",
   "nbconvert_exporter": "python",
   "pygments_lexer": "ipython3",
   "version": "3.9.13"
  }
 },
 "nbformat": 4,
 "nbformat_minor": 5
}
