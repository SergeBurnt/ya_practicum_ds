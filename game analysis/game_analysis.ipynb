{
  "cells": [
    {
      "cell_type": "markdown",
      "id": "b4d99146",
      "metadata": {
        "id": "b4d99146"
      },
      "source": [
        "# Описание проекта\n",
        "\n",
        "Вы работаете в интернет-магазине «Стримчик», который продаёт по всему миру компьютерные игры. Из открытых источников доступны исторические данные о продажах игр, оценки пользователей и экспертов, жанры и платформы (например, Xbox или PlayStation). Вам нужно выявить определяющие успешность игры закономерности. Это позволит сделать ставку на потенциально популярный продукт и спланировать рекламные кампании.\n",
        "\n",
        "Перед вами данные до 2016 года. Представим, что сейчас декабрь 2016 г., и вы планируете кампанию на 2017-й. Нужно отработать принцип работы с данными. Неважно, прогнозируете ли вы продажи на 2017 год по данным 2016-го или же 2027-й — по данным 2026 года.\n",
        "\n",
        "В наборе данных попадается аббревиатура ESRB (Entertainment Software Rating Board) — это ассоциация, определяющая возрастной рейтинг компьютерных игр. ESRB оценивает игровой контент и присваивает ему подходящую возрастную категорию, например, «Для взрослых», «Для детей младшего возраста» или «Для подростков».\n",
        "\n",
        "\n",
        "### Описание данных\n",
        "- `Name` — название игры\n",
        "- `Platform` — платформа\n",
        "- `Year_of_Release` — год выпуска\n",
        "- `Genre` — жанр игры\n",
        "- `NA_sales` — продажи в Северной Америке (миллионы проданных копий)\n",
        "- `EU_sales` — продажи в Европе (миллионы проданных копий)\n",
        "- `JP_sales` — продажи в Японии (миллионы проданных копий)\n",
        "- `Other_sales` — продажи в других странах (миллионы проданных копий)\n",
        "- `Critic_Score` — оценка критиков (максимум 100)\n",
        "- `User_Score` — оценка пользователей (максимум 10)\n",
        "- `Rating` — рейтинг от организации ESRB (англ. Entertainment Software Rating Board). Эта ассоциация определяет рейтинг компьютерных игр и присваивает им подходящую возрастную категорию."
      ]
    },
    {
      "cell_type": "code",
      "execution_count": null,
      "id": "74127344",
      "metadata": {
        "id": "74127344"
      },
      "outputs": [],
      "source": [
        "import pandas as pd\n",
        "import numpy as np\n",
        "import matplotlib.pyplot as plt\n",
        "import seaborn as sns\n",
        "from scipy import stats as st\n",
        "import warnings\n",
        "warnings.simplefilter('ignore')\n",
        "pd.set_option('display.max_columns', None)\n",
        "plt.rcParams['figure.figsize'] = [9, 6]"
      ]
    },
    {
      "cell_type": "code",
      "execution_count": null,
      "id": "ba83b4cd",
      "metadata": {
        "id": "ba83b4cd"
      },
      "outputs": [],
      "source": [
        "try:\n",
        "    df = pd.read_csv('C:\\\\обучение\\\\ЯП\\\\Модуль 1\\\\Итоговый проект\\\\games.csv')\n",
        "except:\n",
        "    df = pd.read_csv('/datasets/games.csv')"
      ]
    },
    {
      "cell_type": "code",
      "execution_count": null,
      "id": "fa28c5cb",
      "metadata": {
        "scrolled": true,
        "id": "fa28c5cb",
        "outputId": "211ce035-acee-4b11-88e2-997c20a60b1e"
      },
      "outputs": [
        {
          "data": {
            "text/html": [
              "<div>\n",
              "<style scoped>\n",
              "    .dataframe tbody tr th:only-of-type {\n",
              "        vertical-align: middle;\n",
              "    }\n",
              "\n",
              "    .dataframe tbody tr th {\n",
              "        vertical-align: top;\n",
              "    }\n",
              "\n",
              "    .dataframe thead th {\n",
              "        text-align: right;\n",
              "    }\n",
              "</style>\n",
              "<table border=\"1\" class=\"dataframe\">\n",
              "  <thead>\n",
              "    <tr style=\"text-align: right;\">\n",
              "      <th></th>\n",
              "      <th>Name</th>\n",
              "      <th>Platform</th>\n",
              "      <th>Year_of_Release</th>\n",
              "      <th>Genre</th>\n",
              "      <th>NA_sales</th>\n",
              "      <th>EU_sales</th>\n",
              "      <th>JP_sales</th>\n",
              "      <th>Other_sales</th>\n",
              "      <th>Critic_Score</th>\n",
              "      <th>User_Score</th>\n",
              "      <th>Rating</th>\n",
              "    </tr>\n",
              "  </thead>\n",
              "  <tbody>\n",
              "    <tr>\n",
              "      <th>0</th>\n",
              "      <td>Wii Sports</td>\n",
              "      <td>Wii</td>\n",
              "      <td>2006.0</td>\n",
              "      <td>Sports</td>\n",
              "      <td>41.36</td>\n",
              "      <td>28.96</td>\n",
              "      <td>3.77</td>\n",
              "      <td>8.45</td>\n",
              "      <td>76.0</td>\n",
              "      <td>8</td>\n",
              "      <td>E</td>\n",
              "    </tr>\n",
              "    <tr>\n",
              "      <th>1</th>\n",
              "      <td>Super Mario Bros.</td>\n",
              "      <td>NES</td>\n",
              "      <td>1985.0</td>\n",
              "      <td>Platform</td>\n",
              "      <td>29.08</td>\n",
              "      <td>3.58</td>\n",
              "      <td>6.81</td>\n",
              "      <td>0.77</td>\n",
              "      <td>NaN</td>\n",
              "      <td>NaN</td>\n",
              "      <td>NaN</td>\n",
              "    </tr>\n",
              "    <tr>\n",
              "      <th>2</th>\n",
              "      <td>Mario Kart Wii</td>\n",
              "      <td>Wii</td>\n",
              "      <td>2008.0</td>\n",
              "      <td>Racing</td>\n",
              "      <td>15.68</td>\n",
              "      <td>12.76</td>\n",
              "      <td>3.79</td>\n",
              "      <td>3.29</td>\n",
              "      <td>82.0</td>\n",
              "      <td>8.3</td>\n",
              "      <td>E</td>\n",
              "    </tr>\n",
              "    <tr>\n",
              "      <th>3</th>\n",
              "      <td>Wii Sports Resort</td>\n",
              "      <td>Wii</td>\n",
              "      <td>2009.0</td>\n",
              "      <td>Sports</td>\n",
              "      <td>15.61</td>\n",
              "      <td>10.93</td>\n",
              "      <td>3.28</td>\n",
              "      <td>2.95</td>\n",
              "      <td>80.0</td>\n",
              "      <td>8</td>\n",
              "      <td>E</td>\n",
              "    </tr>\n",
              "    <tr>\n",
              "      <th>4</th>\n",
              "      <td>Pokemon Red/Pokemon Blue</td>\n",
              "      <td>GB</td>\n",
              "      <td>1996.0</td>\n",
              "      <td>Role-Playing</td>\n",
              "      <td>11.27</td>\n",
              "      <td>8.89</td>\n",
              "      <td>10.22</td>\n",
              "      <td>1.00</td>\n",
              "      <td>NaN</td>\n",
              "      <td>NaN</td>\n",
              "      <td>NaN</td>\n",
              "    </tr>\n",
              "  </tbody>\n",
              "</table>\n",
              "</div>"
            ],
            "text/plain": [
              "                       Name Platform  Year_of_Release         Genre  NA_sales  \\\n",
              "0                Wii Sports      Wii           2006.0        Sports     41.36   \n",
              "1         Super Mario Bros.      NES           1985.0      Platform     29.08   \n",
              "2            Mario Kart Wii      Wii           2008.0        Racing     15.68   \n",
              "3         Wii Sports Resort      Wii           2009.0        Sports     15.61   \n",
              "4  Pokemon Red/Pokemon Blue       GB           1996.0  Role-Playing     11.27   \n",
              "\n",
              "   EU_sales  JP_sales  Other_sales  Critic_Score User_Score Rating  \n",
              "0     28.96      3.77         8.45          76.0          8      E  \n",
              "1      3.58      6.81         0.77           NaN        NaN    NaN  \n",
              "2     12.76      3.79         3.29          82.0        8.3      E  \n",
              "3     10.93      3.28         2.95          80.0          8      E  \n",
              "4      8.89     10.22         1.00           NaN        NaN    NaN  "
            ]
          },
          "execution_count": 3,
          "metadata": {},
          "output_type": "execute_result"
        }
      ],
      "source": [
        "df.head()"
      ]
    },
    {
      "cell_type": "code",
      "execution_count": null,
      "id": "e603cca6",
      "metadata": {
        "scrolled": true,
        "id": "e603cca6",
        "outputId": "e270b899-01fb-4d9d-f61f-1d62a9d896d8"
      },
      "outputs": [
        {
          "name": "stdout",
          "output_type": "stream",
          "text": [
            "<class 'pandas.core.frame.DataFrame'>\n",
            "RangeIndex: 16715 entries, 0 to 16714\n",
            "Data columns (total 11 columns):\n",
            " #   Column           Non-Null Count  Dtype  \n",
            "---  ------           --------------  -----  \n",
            " 0   Name             16713 non-null  object \n",
            " 1   Platform         16715 non-null  object \n",
            " 2   Year_of_Release  16446 non-null  float64\n",
            " 3   Genre            16713 non-null  object \n",
            " 4   NA_sales         16715 non-null  float64\n",
            " 5   EU_sales         16715 non-null  float64\n",
            " 6   JP_sales         16715 non-null  float64\n",
            " 7   Other_sales      16715 non-null  float64\n",
            " 8   Critic_Score     8137 non-null   float64\n",
            " 9   User_Score       10014 non-null  object \n",
            " 10  Rating           9949 non-null   object \n",
            "dtypes: float64(6), object(5)\n",
            "memory usage: 1.4+ MB\n"
          ]
        }
      ],
      "source": [
        "df.info()"
      ]
    },
    {
      "cell_type": "code",
      "execution_count": null,
      "id": "eefc1a7b",
      "metadata": {
        "id": "eefc1a7b",
        "outputId": "068fe205-be3d-48d8-cfbf-6dbb02e13496"
      },
      "outputs": [
        {
          "data": {
            "text/plain": [
              "Name                  2\n",
              "Platform              0\n",
              "Year_of_Release     269\n",
              "Genre                 2\n",
              "NA_sales              0\n",
              "EU_sales              0\n",
              "JP_sales              0\n",
              "Other_sales           0\n",
              "Critic_Score       8578\n",
              "User_Score         6701\n",
              "Rating             6766\n",
              "dtype: int64"
            ]
          },
          "execution_count": 5,
          "metadata": {},
          "output_type": "execute_result"
        }
      ],
      "source": [
        "df.isna().sum()"
      ]
    },
    {
      "cell_type": "code",
      "execution_count": null,
      "id": "b9680cb0",
      "metadata": {
        "id": "b9680cb0"
      },
      "outputs": [],
      "source": [
        "df.columns = df.columns.str.lower()"
      ]
    },
    {
      "cell_type": "code",
      "execution_count": null,
      "id": "fb231ff7",
      "metadata": {
        "scrolled": true,
        "id": "fb231ff7",
        "outputId": "1421a224-e809-4913-9a02-2d18b7f15293"
      },
      "outputs": [
        {
          "data": {
            "text/html": [
              "<div>\n",
              "<style scoped>\n",
              "    .dataframe tbody tr th:only-of-type {\n",
              "        vertical-align: middle;\n",
              "    }\n",
              "\n",
              "    .dataframe tbody tr th {\n",
              "        vertical-align: top;\n",
              "    }\n",
              "\n",
              "    .dataframe thead th {\n",
              "        text-align: right;\n",
              "    }\n",
              "</style>\n",
              "<table border=\"1\" class=\"dataframe\">\n",
              "  <thead>\n",
              "    <tr style=\"text-align: right;\">\n",
              "      <th></th>\n",
              "      <th>name</th>\n",
              "      <th>platform</th>\n",
              "      <th>year_of_release</th>\n",
              "      <th>genre</th>\n",
              "      <th>na_sales</th>\n",
              "      <th>eu_sales</th>\n",
              "      <th>jp_sales</th>\n",
              "      <th>other_sales</th>\n",
              "      <th>critic_score</th>\n",
              "      <th>user_score</th>\n",
              "      <th>rating</th>\n",
              "    </tr>\n",
              "  </thead>\n",
              "  <tbody>\n",
              "    <tr>\n",
              "      <th>0</th>\n",
              "      <td>Wii Sports</td>\n",
              "      <td>Wii</td>\n",
              "      <td>2006.0</td>\n",
              "      <td>Sports</td>\n",
              "      <td>41.36</td>\n",
              "      <td>28.96</td>\n",
              "      <td>3.77</td>\n",
              "      <td>8.45</td>\n",
              "      <td>76.0</td>\n",
              "      <td>8</td>\n",
              "      <td>E</td>\n",
              "    </tr>\n",
              "    <tr>\n",
              "      <th>1</th>\n",
              "      <td>Super Mario Bros.</td>\n",
              "      <td>NES</td>\n",
              "      <td>1985.0</td>\n",
              "      <td>Platform</td>\n",
              "      <td>29.08</td>\n",
              "      <td>3.58</td>\n",
              "      <td>6.81</td>\n",
              "      <td>0.77</td>\n",
              "      <td>NaN</td>\n",
              "      <td>NaN</td>\n",
              "      <td>NaN</td>\n",
              "    </tr>\n",
              "    <tr>\n",
              "      <th>2</th>\n",
              "      <td>Mario Kart Wii</td>\n",
              "      <td>Wii</td>\n",
              "      <td>2008.0</td>\n",
              "      <td>Racing</td>\n",
              "      <td>15.68</td>\n",
              "      <td>12.76</td>\n",
              "      <td>3.79</td>\n",
              "      <td>3.29</td>\n",
              "      <td>82.0</td>\n",
              "      <td>8.3</td>\n",
              "      <td>E</td>\n",
              "    </tr>\n",
              "    <tr>\n",
              "      <th>3</th>\n",
              "      <td>Wii Sports Resort</td>\n",
              "      <td>Wii</td>\n",
              "      <td>2009.0</td>\n",
              "      <td>Sports</td>\n",
              "      <td>15.61</td>\n",
              "      <td>10.93</td>\n",
              "      <td>3.28</td>\n",
              "      <td>2.95</td>\n",
              "      <td>80.0</td>\n",
              "      <td>8</td>\n",
              "      <td>E</td>\n",
              "    </tr>\n",
              "    <tr>\n",
              "      <th>4</th>\n",
              "      <td>Pokemon Red/Pokemon Blue</td>\n",
              "      <td>GB</td>\n",
              "      <td>1996.0</td>\n",
              "      <td>Role-Playing</td>\n",
              "      <td>11.27</td>\n",
              "      <td>8.89</td>\n",
              "      <td>10.22</td>\n",
              "      <td>1.00</td>\n",
              "      <td>NaN</td>\n",
              "      <td>NaN</td>\n",
              "      <td>NaN</td>\n",
              "    </tr>\n",
              "  </tbody>\n",
              "</table>\n",
              "</div>"
            ],
            "text/plain": [
              "                       name platform  year_of_release         genre  na_sales  \\\n",
              "0                Wii Sports      Wii           2006.0        Sports     41.36   \n",
              "1         Super Mario Bros.      NES           1985.0      Platform     29.08   \n",
              "2            Mario Kart Wii      Wii           2008.0        Racing     15.68   \n",
              "3         Wii Sports Resort      Wii           2009.0        Sports     15.61   \n",
              "4  Pokemon Red/Pokemon Blue       GB           1996.0  Role-Playing     11.27   \n",
              "\n",
              "   eu_sales  jp_sales  other_sales  critic_score user_score rating  \n",
              "0     28.96      3.77         8.45          76.0          8      E  \n",
              "1      3.58      6.81         0.77           NaN        NaN    NaN  \n",
              "2     12.76      3.79         3.29          82.0        8.3      E  \n",
              "3     10.93      3.28         2.95          80.0          8      E  \n",
              "4      8.89     10.22         1.00           NaN        NaN    NaN  "
            ]
          },
          "execution_count": 7,
          "metadata": {},
          "output_type": "execute_result"
        }
      ],
      "source": [
        "df.head()"
      ]
    },
    {
      "cell_type": "markdown",
      "id": "8d9d903f",
      "metadata": {
        "id": "8d9d903f"
      },
      "source": [
        "В столбах `name` и `genre` по 2 пропуска, можем безболезненно удалить эти строки"
      ]
    },
    {
      "cell_type": "code",
      "execution_count": null,
      "id": "7b72e82c",
      "metadata": {
        "id": "7b72e82c"
      },
      "outputs": [],
      "source": [
        "df = df.dropna(subset=['name', 'genre'])"
      ]
    },
    {
      "cell_type": "code",
      "execution_count": null,
      "id": "5c71776a",
      "metadata": {
        "id": "5c71776a",
        "outputId": "bdf00f18-d99a-4f4a-e068-666293ae5ef9"
      },
      "outputs": [
        {
          "data": {
            "text/plain": [
              "name                  0\n",
              "platform              0\n",
              "year_of_release     269\n",
              "genre                 0\n",
              "na_sales              0\n",
              "eu_sales              0\n",
              "jp_sales              0\n",
              "other_sales           0\n",
              "critic_score       8576\n",
              "user_score         6699\n",
              "rating             6764\n",
              "dtype: int64"
            ]
          },
          "execution_count": 9,
          "metadata": {},
          "output_type": "execute_result"
        }
      ],
      "source": [
        "df.isna().sum()"
      ]
    },
    {
      "cell_type": "markdown",
      "id": "06f93328",
      "metadata": {
        "id": "06f93328"
      },
      "source": [
        "Количество явных дубликатов"
      ]
    },
    {
      "cell_type": "code",
      "execution_count": null,
      "id": "c76511f4",
      "metadata": {
        "id": "c76511f4",
        "outputId": "4752f3f3-1af9-43dd-9f5d-04ee28e14b24"
      },
      "outputs": [
        {
          "data": {
            "text/plain": [
              "0"
            ]
          },
          "execution_count": 10,
          "metadata": {},
          "output_type": "execute_result"
        }
      ],
      "source": [
        "df.duplicated().sum()"
      ]
    },
    {
      "cell_type": "markdown",
      "id": "67943590",
      "metadata": {
        "id": "67943590"
      },
      "source": [
        "### Рассмотрим `platform`"
      ]
    },
    {
      "cell_type": "code",
      "execution_count": null,
      "id": "97055df3",
      "metadata": {
        "id": "97055df3"
      },
      "outputs": [],
      "source": [
        "df_platform = df.groupby('platform')['platform'].count().sort_values(ascending=False)"
      ]
    },
    {
      "cell_type": "code",
      "execution_count": null,
      "id": "cca489fe",
      "metadata": {
        "id": "cca489fe",
        "outputId": "7fefb440-3200-43e9-dac5-a04c75e9c2f1"
      },
      "outputs": [
        {
          "data": {
            "image/png": "[encoded data removed]",
            "text/plain": [
              "<Figure size 648x432 with 1 Axes>"
            ]
          },
          "metadata": {
            "needs_background": "light"
          },
          "output_type": "display_data"
        }
      ],
      "source": [
        "sns.countplot(x=df['platform'],\n",
        "             data=df,\n",
        "             order = df['platform'].value_counts().index)\n",
        "plt.xlabel('Игровая платформа')\n",
        "plt.ylabel('Количество выпущенных игр')\n",
        "plt.xticks(rotation=90)\n",
        "plt.title('Распределение выпущенных игр по платформам')\n",
        "plt.show()"
      ]
    },
    {
      "cell_type": "markdown",
      "id": "0fb58545",
      "metadata": {
        "id": "0fb58545"
      },
      "source": [
        "### Рассмотрим `year_of_release`"
      ]
    },
    {
      "cell_type": "code",
      "execution_count": null,
      "id": "48031950",
      "metadata": {
        "id": "48031950",
        "outputId": "471ad852-7805-4665-d1e6-e00529abf737"
      },
      "outputs": [
        {
          "data": {
            "text/html": [
              "<div>\n",
              "<style scoped>\n",
              "    .dataframe tbody tr th:only-of-type {\n",
              "        vertical-align: middle;\n",
              "    }\n",
              "\n",
              "    .dataframe tbody tr th {\n",
              "        vertical-align: top;\n",
              "    }\n",
              "\n",
              "    .dataframe thead th {\n",
              "        text-align: right;\n",
              "    }\n",
              "</style>\n",
              "<table border=\"1\" class=\"dataframe\">\n",
              "  <thead>\n",
              "    <tr style=\"text-align: right;\">\n",
              "      <th></th>\n",
              "      <th>name</th>\n",
              "      <th>platform</th>\n",
              "      <th>year_of_release</th>\n",
              "      <th>genre</th>\n",
              "      <th>na_sales</th>\n",
              "      <th>eu_sales</th>\n",
              "      <th>jp_sales</th>\n",
              "      <th>other_sales</th>\n",
              "      <th>critic_score</th>\n",
              "      <th>user_score</th>\n",
              "      <th>rating</th>\n",
              "    </tr>\n",
              "  </thead>\n",
              "  <tbody>\n",
              "    <tr>\n",
              "      <th>183</th>\n",
              "      <td>Madden NFL 2004</td>\n",
              "      <td>PS2</td>\n",
              "      <td>NaN</td>\n",
              "      <td>Sports</td>\n",
              "      <td>4.26</td>\n",
              "      <td>0.26</td>\n",
              "      <td>0.01</td>\n",
              "      <td>0.71</td>\n",
              "      <td>94.0</td>\n",
              "      <td>8.5</td>\n",
              "      <td>E</td>\n",
              "    </tr>\n",
              "    <tr>\n",
              "      <th>377</th>\n",
              "      <td>FIFA Soccer 2004</td>\n",
              "      <td>PS2</td>\n",
              "      <td>NaN</td>\n",
              "      <td>Sports</td>\n",
              "      <td>0.59</td>\n",
              "      <td>2.36</td>\n",
              "      <td>0.04</td>\n",
              "      <td>0.51</td>\n",
              "      <td>84.0</td>\n",
              "      <td>6.4</td>\n",
              "      <td>E</td>\n",
              "    </tr>\n",
              "    <tr>\n",
              "      <th>456</th>\n",
              "      <td>LEGO Batman: The Videogame</td>\n",
              "      <td>Wii</td>\n",
              "      <td>NaN</td>\n",
              "      <td>Action</td>\n",
              "      <td>1.80</td>\n",
              "      <td>0.97</td>\n",
              "      <td>0.00</td>\n",
              "      <td>0.29</td>\n",
              "      <td>74.0</td>\n",
              "      <td>7.9</td>\n",
              "      <td>E10+</td>\n",
              "    </tr>\n",
              "    <tr>\n",
              "      <th>475</th>\n",
              "      <td>wwe Smackdown vs. Raw 2006</td>\n",
              "      <td>PS2</td>\n",
              "      <td>NaN</td>\n",
              "      <td>Fighting</td>\n",
              "      <td>1.57</td>\n",
              "      <td>1.02</td>\n",
              "      <td>0.00</td>\n",
              "      <td>0.41</td>\n",
              "      <td>NaN</td>\n",
              "      <td>NaN</td>\n",
              "      <td>NaN</td>\n",
              "    </tr>\n",
              "    <tr>\n",
              "      <th>609</th>\n",
              "      <td>Space Invaders</td>\n",
              "      <td>2600</td>\n",
              "      <td>NaN</td>\n",
              "      <td>Shooter</td>\n",
              "      <td>2.36</td>\n",
              "      <td>0.14</td>\n",
              "      <td>0.00</td>\n",
              "      <td>0.03</td>\n",
              "      <td>NaN</td>\n",
              "      <td>NaN</td>\n",
              "      <td>NaN</td>\n",
              "    </tr>\n",
              "    <tr>\n",
              "      <th>627</th>\n",
              "      <td>Rock Band</td>\n",
              "      <td>X360</td>\n",
              "      <td>NaN</td>\n",
              "      <td>Misc</td>\n",
              "      <td>1.93</td>\n",
              "      <td>0.33</td>\n",
              "      <td>0.00</td>\n",
              "      <td>0.21</td>\n",
              "      <td>92.0</td>\n",
              "      <td>8.2</td>\n",
              "      <td>T</td>\n",
              "    </tr>\n",
              "    <tr>\n",
              "      <th>657</th>\n",
              "      <td>Frogger's Adventures: Temple of the Frog</td>\n",
              "      <td>GBA</td>\n",
              "      <td>NaN</td>\n",
              "      <td>Adventure</td>\n",
              "      <td>2.15</td>\n",
              "      <td>0.18</td>\n",
              "      <td>0.00</td>\n",
              "      <td>0.07</td>\n",
              "      <td>73.0</td>\n",
              "      <td>tbd</td>\n",
              "      <td>E</td>\n",
              "    </tr>\n",
              "    <tr>\n",
              "      <th>678</th>\n",
              "      <td>LEGO Indiana Jones: The Original Adventures</td>\n",
              "      <td>Wii</td>\n",
              "      <td>NaN</td>\n",
              "      <td>Action</td>\n",
              "      <td>1.51</td>\n",
              "      <td>0.61</td>\n",
              "      <td>0.00</td>\n",
              "      <td>0.21</td>\n",
              "      <td>78.0</td>\n",
              "      <td>6.6</td>\n",
              "      <td>E10+</td>\n",
              "    </tr>\n",
              "    <tr>\n",
              "      <th>719</th>\n",
              "      <td>Call of Duty 3</td>\n",
              "      <td>Wii</td>\n",
              "      <td>NaN</td>\n",
              "      <td>Shooter</td>\n",
              "      <td>1.17</td>\n",
              "      <td>0.84</td>\n",
              "      <td>0.00</td>\n",
              "      <td>0.23</td>\n",
              "      <td>69.0</td>\n",
              "      <td>6.7</td>\n",
              "      <td>T</td>\n",
              "    </tr>\n",
              "    <tr>\n",
              "      <th>805</th>\n",
              "      <td>Rock Band</td>\n",
              "      <td>Wii</td>\n",
              "      <td>NaN</td>\n",
              "      <td>Misc</td>\n",
              "      <td>1.33</td>\n",
              "      <td>0.56</td>\n",
              "      <td>0.00</td>\n",
              "      <td>0.20</td>\n",
              "      <td>80.0</td>\n",
              "      <td>6.3</td>\n",
              "      <td>T</td>\n",
              "    </tr>\n",
              "  </tbody>\n",
              "</table>\n",
              "</div>"
            ],
            "text/plain": [
              "                                            name platform  year_of_release  \\\n",
              "183                              Madden NFL 2004      PS2              NaN   \n",
              "377                             FIFA Soccer 2004      PS2              NaN   \n",
              "456                   LEGO Batman: The Videogame      Wii              NaN   \n",
              "475                   wwe Smackdown vs. Raw 2006      PS2              NaN   \n",
              "609                               Space Invaders     2600              NaN   \n",
              "627                                    Rock Band     X360              NaN   \n",
              "657     Frogger's Adventures: Temple of the Frog      GBA              NaN   \n",
              "678  LEGO Indiana Jones: The Original Adventures      Wii              NaN   \n",
              "719                               Call of Duty 3      Wii              NaN   \n",
              "805                                    Rock Band      Wii              NaN   \n",
              "\n",
              "         genre  na_sales  eu_sales  jp_sales  other_sales  critic_score  \\\n",
              "183     Sports      4.26      0.26      0.01         0.71          94.0   \n",
              "377     Sports      0.59      2.36      0.04         0.51          84.0   \n",
              "456     Action      1.80      0.97      0.00         0.29          74.0   \n",
              "475   Fighting      1.57      1.02      0.00         0.41           NaN   \n",
              "609    Shooter      2.36      0.14      0.00         0.03           NaN   \n",
              "627       Misc      1.93      0.33      0.00         0.21          92.0   \n",
              "657  Adventure      2.15      0.18      0.00         0.07          73.0   \n",
              "678     Action      1.51      0.61      0.00         0.21          78.0   \n",
              "719    Shooter      1.17      0.84      0.00         0.23          69.0   \n",
              "805       Misc      1.33      0.56      0.00         0.20          80.0   \n",
              "\n",
              "    user_score rating  \n",
              "183        8.5      E  \n",
              "377        6.4      E  \n",
              "456        7.9   E10+  \n",
              "475        NaN    NaN  \n",
              "609        NaN    NaN  \n",
              "627        8.2      T  \n",
              "657        tbd      E  \n",
              "678        6.6   E10+  \n",
              "719        6.7      T  \n",
              "805        6.3      T  "
            ]
          },
          "execution_count": 13,
          "metadata": {},
          "output_type": "execute_result"
        }
      ],
      "source": [
        "df[df['year_of_release'].isna()].head(10)"
      ]
    },
    {
      "cell_type": "markdown",
      "id": "c3a0c542",
      "metadata": {
        "id": "c3a0c542"
      },
      "source": [
        "Данные пропущенны по разным играм, игровым платформам и жанрам. Так как многие игры выходят сразу же на нескольких платформах, то заполним пропуски по годам датой релиза на других платформах."
      ]
    },
    {
      "cell_type": "code",
      "execution_count": null,
      "id": "cc9dc9e5",
      "metadata": {
        "id": "cc9dc9e5",
        "outputId": "1c01eed2-5519-428b-9cdc-8a6f9e14ee29"
      },
      "outputs": [
        {
          "data": {
            "text/plain": [
              "1.61"
            ]
          },
          "execution_count": 15,
          "metadata": {},
          "output_type": "execute_result"
        }
      ],
      "source": [
        "round(df['year_of_release'].isna().sum() / len(df) * 100, 2)"
      ]
    },
    {
      "cell_type": "markdown",
      "id": "c7b19d77",
      "metadata": {
        "id": "c7b19d77"
      },
      "source": [
        "Пропуски составляют менее 2%, удалим эти сроки"
      ]
    },
    {
      "cell_type": "code",
      "execution_count": null,
      "id": "6b3d6c56",
      "metadata": {
        "id": "6b3d6c56"
      },
      "outputs": [],
      "source": [
        "df = df.dropna(subset=['year_of_release'])"
      ]
    },
    {
      "cell_type": "markdown",
      "id": "26d641e2",
      "metadata": {
        "id": "26d641e2"
      },
      "source": [
        "Преобразуем `year_of_release` в формат `int`"
      ]
    },
    {
      "cell_type": "code",
      "execution_count": null,
      "id": "75876736",
      "metadata": {
        "id": "75876736"
      },
      "outputs": [],
      "source": [
        "df['year_of_release'] = df['year_of_release'].astype('int16')"
      ]
    },
    {
      "cell_type": "markdown",
      "id": "b85ffbb8",
      "metadata": {
        "id": "b85ffbb8"
      },
      "source": [
        "### Рассмотрим `na_sales` `eu_sales` `jp_sales` `other_sales`"
      ]
    },
    {
      "cell_type": "code",
      "execution_count": null,
      "id": "87e0dfa5",
      "metadata": {
        "id": "87e0dfa5",
        "outputId": "f86544d8-d39e-4868-e5e3-78c8d279f387"
      },
      "outputs": [
        {
          "data": {
            "text/html": [
              "<div>\n",
              "<style scoped>\n",
              "    .dataframe tbody tr th:only-of-type {\n",
              "        vertical-align: middle;\n",
              "    }\n",
              "\n",
              "    .dataframe tbody tr th {\n",
              "        vertical-align: top;\n",
              "    }\n",
              "\n",
              "    .dataframe thead th {\n",
              "        text-align: right;\n",
              "    }\n",
              "</style>\n",
              "<table border=\"1\" class=\"dataframe\">\n",
              "  <thead>\n",
              "    <tr style=\"text-align: right;\">\n",
              "      <th></th>\n",
              "      <th>na_sales</th>\n",
              "      <th>eu_sales</th>\n",
              "      <th>jp_sales</th>\n",
              "      <th>other_sales</th>\n",
              "    </tr>\n",
              "  </thead>\n",
              "  <tbody>\n",
              "    <tr>\n",
              "      <th>count</th>\n",
              "      <td>16444.000000</td>\n",
              "      <td>16444.000000</td>\n",
              "      <td>16444.000000</td>\n",
              "      <td>16444.000000</td>\n",
              "    </tr>\n",
              "    <tr>\n",
              "      <th>mean</th>\n",
              "      <td>0.264012</td>\n",
              "      <td>0.145930</td>\n",
              "      <td>0.078487</td>\n",
              "      <td>0.047594</td>\n",
              "    </tr>\n",
              "    <tr>\n",
              "      <th>std</th>\n",
              "      <td>0.818378</td>\n",
              "      <td>0.506716</td>\n",
              "      <td>0.311100</td>\n",
              "      <td>0.188005</td>\n",
              "    </tr>\n",
              "    <tr>\n",
              "      <th>min</th>\n",
              "      <td>0.000000</td>\n",
              "      <td>0.000000</td>\n",
              "      <td>0.000000</td>\n",
              "      <td>0.000000</td>\n",
              "    </tr>\n",
              "    <tr>\n",
              "      <th>25%</th>\n",
              "      <td>0.000000</td>\n",
              "      <td>0.000000</td>\n",
              "      <td>0.000000</td>\n",
              "      <td>0.000000</td>\n",
              "    </tr>\n",
              "    <tr>\n",
              "      <th>50%</th>\n",
              "      <td>0.080000</td>\n",
              "      <td>0.020000</td>\n",
              "      <td>0.000000</td>\n",
              "      <td>0.010000</td>\n",
              "    </tr>\n",
              "    <tr>\n",
              "      <th>75%</th>\n",
              "      <td>0.240000</td>\n",
              "      <td>0.110000</td>\n",
              "      <td>0.040000</td>\n",
              "      <td>0.030000</td>\n",
              "    </tr>\n",
              "    <tr>\n",
              "      <th>max</th>\n",
              "      <td>41.360000</td>\n",
              "      <td>28.960000</td>\n",
              "      <td>10.220000</td>\n",
              "      <td>10.570000</td>\n",
              "    </tr>\n",
              "  </tbody>\n",
              "</table>\n",
              "</div>"
            ],
            "text/plain": [
              "           na_sales      eu_sales      jp_sales   other_sales\n",
              "count  16444.000000  16444.000000  16444.000000  16444.000000\n",
              "mean       0.264012      0.145930      0.078487      0.047594\n",
              "std        0.818378      0.506716      0.311100      0.188005\n",
              "min        0.000000      0.000000      0.000000      0.000000\n",
              "25%        0.000000      0.000000      0.000000      0.000000\n",
              "50%        0.080000      0.020000      0.000000      0.010000\n",
              "75%        0.240000      0.110000      0.040000      0.030000\n",
              "max       41.360000     28.960000     10.220000     10.570000"
            ]
          },
          "execution_count": 18,
          "metadata": {},
          "output_type": "execute_result"
        }
      ],
      "source": [
        "df[['na_sales', 'eu_sales', 'jp_sales', 'other_sales']].describe()"
      ]
    },
    {
      "cell_type": "markdown",
      "id": "cc22276d",
      "metadata": {
        "id": "cc22276d"
      },
      "source": [
        "Есть выбросы, возможно это культовые игры"
      ]
    },
    {
      "cell_type": "markdown",
      "id": "5cd1a401",
      "metadata": {
        "id": "5cd1a401"
      },
      "source": [
        "### Рассмотрим `critic_score`"
      ]
    },
    {
      "cell_type": "code",
      "execution_count": null,
      "id": "97a32b16",
      "metadata": {
        "scrolled": true,
        "id": "97a32b16",
        "outputId": "61eedf13-b98e-48e2-dfee-9b08827c9808"
      },
      "outputs": [
        {
          "data": {
            "text/plain": [
              "count    7983.000000\n",
              "mean       68.994363\n",
              "std        13.920060\n",
              "min        13.000000\n",
              "25%        60.000000\n",
              "50%        71.000000\n",
              "75%        79.000000\n",
              "max        98.000000\n",
              "Name: critic_score, dtype: float64"
            ]
          },
          "execution_count": 19,
          "metadata": {},
          "output_type": "execute_result"
        }
      ],
      "source": [
        "df['critic_score'].describe()"
      ]
    },
    {
      "cell_type": "markdown",
      "id": "947b4828",
      "metadata": {
        "id": "947b4828"
      },
      "source": [
        "Оценка находится в диапозоне от 13 до 98, что соответствует исходным требованиям"
      ]
    },
    {
      "cell_type": "markdown",
      "id": "8536f8d9",
      "metadata": {
        "id": "8536f8d9"
      },
      "source": [
        "### Рассмотрим `user_score`"
      ]
    },
    {
      "cell_type": "code",
      "execution_count": null,
      "id": "63e03c1e",
      "metadata": {
        "id": "63e03c1e",
        "outputId": "cdb6e89a-d49f-4c36-b4b9-487b72fb4eee"
      },
      "outputs": [
        {
          "data": {
            "text/plain": [
              "count     9839\n",
              "unique      96\n",
              "top        tbd\n",
              "freq      2376\n",
              "Name: user_score, dtype: object"
            ]
          },
          "execution_count": 20,
          "metadata": {},
          "output_type": "execute_result"
        }
      ],
      "source": [
        "df['user_score'].describe()"
      ]
    },
    {
      "cell_type": "markdown",
      "id": "ab448dd5",
      "metadata": {
        "id": "ab448dd5"
      },
      "source": [
        "Оценка находится в диапозоне от 0 до 10, что соответствует исходным требованиям"
      ]
    },
    {
      "cell_type": "markdown",
      "id": "0cb45633",
      "metadata": {
        "id": "0cb45633"
      },
      "source": [
        "### Переведем `user_score` к формату `float`"
      ]
    },
    {
      "cell_type": "code",
      "execution_count": null,
      "id": "6f315cce",
      "metadata": {
        "id": "6f315cce",
        "outputId": "ada98de7-0f01-4ff8-e331-1d44f853a5f2"
      },
      "outputs": [
        {
          "data": {
            "text/plain": [
              "array(['8', nan, '8.3', '8.5', '6.6', '8.4', '8.6', '7.7', '6.3', '7.4',\n",
              "       '8.2', '9', '7.9', '8.1', '8.7', '7.1', '3.4', '5.3', '4.8', '3.2',\n",
              "       '8.9', '6.4', '7.8', '7.5', '2.6', '7.2', '9.2', '7', '7.3', '4.3',\n",
              "       '7.6', '5.7', '5', '9.1', '6.5', 'tbd', '8.8', '6.9', '9.4', '6.8',\n",
              "       '6.1', '6.7', '5.4', '4', '4.9', '4.5', '9.3', '6.2', '4.2', '6',\n",
              "       '3.7', '4.1', '5.8', '5.6', '5.5', '4.4', '4.6', '5.9', '3.9',\n",
              "       '3.1', '2.9', '5.2', '3.3', '4.7', '5.1', '3.5', '2.5', '1.9', '3',\n",
              "       '2.7', '2.2', '2', '9.5', '2.1', '3.6', '2.8', '1.8', '3.8', '0',\n",
              "       '1.6', '9.6', '2.4', '1.7', '1.1', '0.3', '1.5', '0.7', '1.2',\n",
              "       '2.3', '0.5', '1.3', '0.2', '0.6', '1.4', '0.9', '1', '9.7'],\n",
              "      dtype=object)"
            ]
          },
          "execution_count": 21,
          "metadata": {},
          "output_type": "execute_result"
        }
      ],
      "source": [
        "df['user_score'].unique()"
      ]
    },
    {
      "cell_type": "markdown",
      "id": "115ff0d8",
      "metadata": {
        "id": "115ff0d8"
      },
      "source": [
        "`tbd` означает, что рейтинг еще не определен. Заменим на `NaN`"
      ]
    },
    {
      "cell_type": "code",
      "execution_count": null,
      "id": "ed8447cc",
      "metadata": {
        "id": "ed8447cc"
      },
      "outputs": [],
      "source": [
        "df['user_score'] = df['user_score'].replace('tbd', np.nan)"
      ]
    },
    {
      "cell_type": "code",
      "execution_count": null,
      "id": "f1ea77b3",
      "metadata": {
        "id": "f1ea77b3"
      },
      "outputs": [],
      "source": [
        "df['user_score'] = df['user_score'].astype(float)"
      ]
    },
    {
      "cell_type": "code",
      "execution_count": null,
      "id": "1c63a33c",
      "metadata": {
        "id": "1c63a33c",
        "outputId": "b4f3d3da-18af-42f5-f70d-49d2c55d0ecc"
      },
      "outputs": [
        {
          "data": {
            "text/plain": [
              "name                  0\n",
              "platform              0\n",
              "year_of_release       0\n",
              "genre                 0\n",
              "na_sales              0\n",
              "eu_sales              0\n",
              "jp_sales              0\n",
              "other_sales           0\n",
              "critic_score       8461\n",
              "user_score         8981\n",
              "rating             6676\n",
              "dtype: int64"
            ]
          },
          "execution_count": 24,
          "metadata": {},
          "output_type": "execute_result"
        }
      ],
      "source": [
        "df.isna().sum()"
      ]
    },
    {
      "cell_type": "code",
      "execution_count": null,
      "id": "a8ea3fdf",
      "metadata": {
        "id": "a8ea3fdf"
      },
      "outputs": [],
      "source": [
        "df['total_sales'] = df['na_sales'] + df['eu_sales'] + df['jp_sales'] + df['other_sales']"
      ]
    },
    {
      "cell_type": "code",
      "execution_count": null,
      "id": "ab1efe1b",
      "metadata": {
        "id": "ab1efe1b",
        "outputId": "eb66f635-0939-40c8-8aca-4a1b1060d209"
      },
      "outputs": [
        {
          "data": {
            "text/html": [
              "<div>\n",
              "<style scoped>\n",
              "    .dataframe tbody tr th:only-of-type {\n",
              "        vertical-align: middle;\n",
              "    }\n",
              "\n",
              "    .dataframe tbody tr th {\n",
              "        vertical-align: top;\n",
              "    }\n",
              "\n",
              "    .dataframe thead th {\n",
              "        text-align: right;\n",
              "    }\n",
              "</style>\n",
              "<table border=\"1\" class=\"dataframe\">\n",
              "  <thead>\n",
              "    <tr style=\"text-align: right;\">\n",
              "      <th></th>\n",
              "      <th>name</th>\n",
              "      <th>platform</th>\n",
              "      <th>year_of_release</th>\n",
              "      <th>genre</th>\n",
              "      <th>na_sales</th>\n",
              "      <th>eu_sales</th>\n",
              "      <th>jp_sales</th>\n",
              "      <th>other_sales</th>\n",
              "      <th>critic_score</th>\n",
              "      <th>user_score</th>\n",
              "      <th>rating</th>\n",
              "      <th>total_sales</th>\n",
              "    </tr>\n",
              "  </thead>\n",
              "  <tbody>\n",
              "    <tr>\n",
              "      <th>0</th>\n",
              "      <td>Wii Sports</td>\n",
              "      <td>Wii</td>\n",
              "      <td>2006</td>\n",
              "      <td>Sports</td>\n",
              "      <td>41.36</td>\n",
              "      <td>28.96</td>\n",
              "      <td>3.77</td>\n",
              "      <td>8.45</td>\n",
              "      <td>76.0</td>\n",
              "      <td>8.0</td>\n",
              "      <td>E</td>\n",
              "      <td>82.54</td>\n",
              "    </tr>\n",
              "    <tr>\n",
              "      <th>1</th>\n",
              "      <td>Super Mario Bros.</td>\n",
              "      <td>NES</td>\n",
              "      <td>1985</td>\n",
              "      <td>Platform</td>\n",
              "      <td>29.08</td>\n",
              "      <td>3.58</td>\n",
              "      <td>6.81</td>\n",
              "      <td>0.77</td>\n",
              "      <td>NaN</td>\n",
              "      <td>NaN</td>\n",
              "      <td>NaN</td>\n",
              "      <td>40.24</td>\n",
              "    </tr>\n",
              "    <tr>\n",
              "      <th>2</th>\n",
              "      <td>Mario Kart Wii</td>\n",
              "      <td>Wii</td>\n",
              "      <td>2008</td>\n",
              "      <td>Racing</td>\n",
              "      <td>15.68</td>\n",
              "      <td>12.76</td>\n",
              "      <td>3.79</td>\n",
              "      <td>3.29</td>\n",
              "      <td>82.0</td>\n",
              "      <td>8.3</td>\n",
              "      <td>E</td>\n",
              "      <td>35.52</td>\n",
              "    </tr>\n",
              "    <tr>\n",
              "      <th>3</th>\n",
              "      <td>Wii Sports Resort</td>\n",
              "      <td>Wii</td>\n",
              "      <td>2009</td>\n",
              "      <td>Sports</td>\n",
              "      <td>15.61</td>\n",
              "      <td>10.93</td>\n",
              "      <td>3.28</td>\n",
              "      <td>2.95</td>\n",
              "      <td>80.0</td>\n",
              "      <td>8.0</td>\n",
              "      <td>E</td>\n",
              "      <td>32.77</td>\n",
              "    </tr>\n",
              "    <tr>\n",
              "      <th>4</th>\n",
              "      <td>Pokemon Red/Pokemon Blue</td>\n",
              "      <td>GB</td>\n",
              "      <td>1996</td>\n",
              "      <td>Role-Playing</td>\n",
              "      <td>11.27</td>\n",
              "      <td>8.89</td>\n",
              "      <td>10.22</td>\n",
              "      <td>1.00</td>\n",
              "      <td>NaN</td>\n",
              "      <td>NaN</td>\n",
              "      <td>NaN</td>\n",
              "      <td>31.38</td>\n",
              "    </tr>\n",
              "  </tbody>\n",
              "</table>\n",
              "</div>"
            ],
            "text/plain": [
              "                       name platform  year_of_release         genre  na_sales  \\\n",
              "0                Wii Sports      Wii             2006        Sports     41.36   \n",
              "1         Super Mario Bros.      NES             1985      Platform     29.08   \n",
              "2            Mario Kart Wii      Wii             2008        Racing     15.68   \n",
              "3         Wii Sports Resort      Wii             2009        Sports     15.61   \n",
              "4  Pokemon Red/Pokemon Blue       GB             1996  Role-Playing     11.27   \n",
              "\n",
              "   eu_sales  jp_sales  other_sales  critic_score  user_score rating  \\\n",
              "0     28.96      3.77         8.45          76.0         8.0      E   \n",
              "1      3.58      6.81         0.77           NaN         NaN    NaN   \n",
              "2     12.76      3.79         3.29          82.0         8.3      E   \n",
              "3     10.93      3.28         2.95          80.0         8.0      E   \n",
              "4      8.89     10.22         1.00           NaN         NaN    NaN   \n",
              "\n",
              "   total_sales  \n",
              "0        82.54  \n",
              "1        40.24  \n",
              "2        35.52  \n",
              "3        32.77  \n",
              "4        31.38  "
            ]
          },
          "execution_count": 27,
          "metadata": {},
          "output_type": "execute_result"
        }
      ],
      "source": [
        "df.head()"
      ]
    },
    {
      "cell_type": "markdown",
      "id": "76fd0b52",
      "metadata": {
        "id": "76fd0b52"
      },
      "source": [
        "# 3. Исселодовательский анализ данных"
      ]
    },
    {
      "cell_type": "markdown",
      "id": "49545fb6",
      "metadata": {
        "id": "49545fb6"
      },
      "source": [
        "### Распределение выпущенных игр по годам"
      ]
    },
    {
      "cell_type": "code",
      "execution_count": null,
      "id": "7cd2e3f7",
      "metadata": {
        "id": "7cd2e3f7",
        "outputId": "520741ca-8c8f-445a-eda9-1b243232fbba"
      },
      "outputs": [
        {
          "data": {
            "image/png": "[encoded data removed]",
            "text/plain": [
              "<Figure size 648x432 with 1 Axes>"
            ]
          },
          "metadata": {
            "needs_background": "light"
          },
          "output_type": "display_data"
        }
      ],
      "source": [
        "df['year_of_release'].plot(kind='hist', bins=40);\n",
        "plt.title('Распределение выпущенных игр по годам');\n",
        "plt.xlabel('Год издания');\n",
        "plt.ylabel('Количество выпущенных игр');"
      ]
    },
    {
      "cell_type": "markdown",
      "id": "419f3b89",
      "metadata": {
        "id": "419f3b89"
      },
      "source": [
        "Первые игры начали появляться в 80-е, но до начала 00-х выпускались в небольших количествах. В 00-е произошёл бурный рост, думаю это связано с тем, что компьютеры и игровые приставки стали более достпуными и производительными. Сначала 10-х годов наблюдается спад, думаю это связано со сменой тренда. Производители начали выпускать игры на мобильные устройства."
      ]
    },
    {
      "cell_type": "markdown",
      "id": "d870d642",
      "metadata": {
        "id": "d870d642"
      },
      "source": [
        "### Продажи по платформам"
      ]
    },
    {
      "cell_type": "markdown",
      "id": "29cea249",
      "metadata": {
        "id": "29cea249"
      },
      "source": [
        "Топ 20 платформ с наибольшими продажами за все время"
      ]
    },
    {
      "cell_type": "code",
      "execution_count": null,
      "id": "d1a0bb4d",
      "metadata": {
        "id": "d1a0bb4d"
      },
      "outputs": [],
      "source": [
        "top_platform = (df.groupby('platform')['total_sales'].agg('sum') \\\n",
        "               .sort_values(ascending=False) \\\n",
        "               .reset_index() \\\n",
        "               .head(20))"
      ]
    },
    {
      "cell_type": "code",
      "execution_count": null,
      "id": "652fd42f",
      "metadata": {
        "scrolled": true,
        "id": "652fd42f"
      },
      "outputs": [],
      "source": [
        "top_platform_index = top_platform['platform']"
      ]
    },
    {
      "cell_type": "code",
      "execution_count": null,
      "id": "5e949442",
      "metadata": {
        "id": "5e949442"
      },
      "outputs": [],
      "source": [
        "df_top_platform = df.query('platform in @top_platform_index') \\\n",
        "    .groupby(['platform', 'year_of_release'])['total_sales'] \\\n",
        "    .agg('sum') \\\n",
        "    .reset_index()"
      ]
    },
    {
      "cell_type": "code",
      "execution_count": null,
      "id": "b5ecaee3",
      "metadata": {
        "id": "b5ecaee3",
        "outputId": "8cfc43b3-33df-43c3-9198-82c9bc8b428a"
      },
      "outputs": [
        {
          "data": {
            "text/html": [
              "<div>\n",
              "<style scoped>\n",
              "    .dataframe tbody tr th:only-of-type {\n",
              "        vertical-align: middle;\n",
              "    }\n",
              "\n",
              "    .dataframe tbody tr th {\n",
              "        vertical-align: top;\n",
              "    }\n",
              "\n",
              "    .dataframe thead th {\n",
              "        text-align: right;\n",
              "    }\n",
              "</style>\n",
              "<table border=\"1\" class=\"dataframe\">\n",
              "  <thead>\n",
              "    <tr style=\"text-align: right;\">\n",
              "      <th></th>\n",
              "      <th>platform</th>\n",
              "      <th>year_of_release</th>\n",
              "      <th>total_sales</th>\n",
              "    </tr>\n",
              "  </thead>\n",
              "  <tbody>\n",
              "    <tr>\n",
              "      <th>0</th>\n",
              "      <td>2600</td>\n",
              "      <td>1980</td>\n",
              "      <td>11.38</td>\n",
              "    </tr>\n",
              "    <tr>\n",
              "      <th>1</th>\n",
              "      <td>2600</td>\n",
              "      <td>1981</td>\n",
              "      <td>35.68</td>\n",
              "    </tr>\n",
              "    <tr>\n",
              "      <th>2</th>\n",
              "      <td>2600</td>\n",
              "      <td>1982</td>\n",
              "      <td>28.88</td>\n",
              "    </tr>\n",
              "    <tr>\n",
              "      <th>3</th>\n",
              "      <td>2600</td>\n",
              "      <td>1983</td>\n",
              "      <td>5.84</td>\n",
              "    </tr>\n",
              "    <tr>\n",
              "      <th>4</th>\n",
              "      <td>2600</td>\n",
              "      <td>1984</td>\n",
              "      <td>0.27</td>\n",
              "    </tr>\n",
              "  </tbody>\n",
              "</table>\n",
              "</div>"
            ],
            "text/plain": [
              "  platform  year_of_release  total_sales\n",
              "0     2600             1980        11.38\n",
              "1     2600             1981        35.68\n",
              "2     2600             1982        28.88\n",
              "3     2600             1983         5.84\n",
              "4     2600             1984         0.27"
            ]
          },
          "execution_count": 32,
          "metadata": {},
          "output_type": "execute_result"
        }
      ],
      "source": [
        "df_top_platform.head()"
      ]
    },
    {
      "cell_type": "code",
      "execution_count": null,
      "id": "27dfe9e2",
      "metadata": {
        "id": "27dfe9e2",
        "outputId": "ff264da2-79be-4123-ccfc-b6f8c6575a67"
      },
      "outputs": [
        {
          "data": {
            "image/png": "[encoded data removed]",
            "text/plain": [
              "<Figure size 648x432 with 1 Axes>"
            ]
          },
          "metadata": {
            "needs_background": "light"
          },
          "output_type": "display_data"
        }
      ],
      "source": [
        "sns.lineplot(data=df_top_platform, x='year_of_release', y='total_sales', hue='platform');\n",
        "plt.xlabel('Год');\n",
        "plt.ylabel('Суммарные продажи');\n",
        "plt.title('Продажи на популярных игровых платформах');"
      ]
    },
    {
      "cell_type": "markdown",
      "id": "86dcc4b1",
      "metadata": {
        "id": "86dcc4b1"
      },
      "source": [
        "Судя по графику, игровая платформа популярна 5-7 лет. Рассмотрим подробнее интервал после 2010 года."
      ]
    },
    {
      "cell_type": "code",
      "execution_count": null,
      "id": "4147bbd3",
      "metadata": {
        "scrolled": false,
        "id": "4147bbd3"
      },
      "outputs": [],
      "source": [
        "df_top_platform_after_2010 = df_top_platform.query('year_of_release >= 2010')"
      ]
    },
    {
      "cell_type": "code",
      "execution_count": null,
      "id": "6cc3ca56",
      "metadata": {
        "id": "6cc3ca56",
        "outputId": "6707ee4c-eaf4-475c-f369-bf3063ebe6e5"
      },
      "outputs": [
        {
          "data": {
            "image/png": "[encoded data removed]",
            "text/plain": [
              "<Figure size 648x432 with 1 Axes>"
            ]
          },
          "metadata": {
            "needs_background": "light"
          },
          "output_type": "display_data"
        }
      ],
      "source": [
        "sns.lineplot(data=df_top_platform_after_2010, x='year_of_release', y='total_sales', hue='platform');\n",
        "plt.xlabel('Год');\n",
        "plt.ylabel('Суммарные продажи, млн.копий');\n",
        "plt.title('Продажи на популярных игровых платформах');"
      ]
    },
    {
      "cell_type": "markdown",
      "id": "b059c370",
      "metadata": {
        "id": "b059c370"
      },
      "source": [
        "Игровые платформы `DS`, `PS2`, `PS3`, `PSP`, `X360`, `Wii` к 2016 году устарели и им на смену пришли платформы нового поколения: `3DS`, `PS4`, `WiiU`, `XOne`. Для дальнейшего анализа оставим только эти платформы и добавим еще `PC`"
      ]
    },
    {
      "cell_type": "code",
      "execution_count": null,
      "id": "784235b2",
      "metadata": {
        "id": "784235b2"
      },
      "outputs": [],
      "source": [
        "relevant_platforms = ['3DS', 'PS4', 'WiiU', 'XOne', 'PC']"
      ]
    },
    {
      "cell_type": "code",
      "execution_count": null,
      "id": "b33b8b05",
      "metadata": {
        "id": "b33b8b05"
      },
      "outputs": [],
      "source": [
        "df_relevant_platforms = df_top_platform.query('platform in @relevant_platforms and year_of_release >= 2014')"
      ]
    },
    {
      "cell_type": "code",
      "execution_count": null,
      "id": "ee0a81be",
      "metadata": {
        "id": "ee0a81be",
        "outputId": "0661225b-a833-4685-d8d0-dd53cbf23412"
      },
      "outputs": [
        {
          "data": {
            "text/plain": [
              "Text(0, 0.5, 'Общие продажи')"
            ]
          },
          "execution_count": 39,
          "metadata": {},
          "output_type": "execute_result"
        },
        {
          "data": {
            "image/png": "[encoded data removed]",
            "text/plain": [
              "<Figure size 648x432 with 1 Axes>"
            ]
          },
          "metadata": {
            "needs_background": "light"
          },
          "output_type": "display_data"
        }
      ],
      "source": [
        "sns.barplot(x=\"platform\", y=\"total_sales\", hue=\"year_of_release\", data=df_relevant_platforms);\n",
        "plt.title('Распределение общих продаж на платформах по годам')\n",
        "plt.xlabel('Платформы')\n",
        "plt.ylabel('Общие продажи')"
      ]
    },
    {
      "cell_type": "markdown",
      "id": "24e55653",
      "metadata": {
        "id": "24e55653"
      },
      "source": [
        "<b> Выводы:\n",
        "- Спад продаж в 2016 году скорее всего объясняется тем, что информация не полная. Возмодно отображена информация не за весь 2016 год.\n",
        "- `PS4` и `XOne` демонстрируют рост уровня суммарных продаж с 2013 и являются лидерами по продажам.\n",
        "- Суммарные продажи `3DS` и `WiiU` падают.\n",
        "- Суммарные продажи игр на `PC` невысокие (макимум порядка 35 млн копий в 2011 году) и медленно снижаются после 2011г."
      ]
    },
    {
      "cell_type": "code",
      "execution_count": null,
      "id": "8b63a27e",
      "metadata": {
        "id": "8b63a27e",
        "outputId": "ab98c0f0-4d5d-4c9e-b89d-46bacece6a69"
      },
      "outputs": [
        {
          "data": {
            "image/png": "[encoded data removed]",
            "text/plain": [
              "<Figure size 648x432 with 1 Axes>"
            ]
          },
          "metadata": {
            "needs_background": "light"
          },
          "output_type": "display_data"
        }
      ],
      "source": [
        "sns.boxplot(data=df_relevant_platforms, y=\"total_sales\", x='platform');\n",
        "plt.xlabel('Платформа');\n",
        "plt.ylabel('Суммарные продажи, млн.копий');\n",
        "plt.title('Продажи на популярных игровых платформах');"
      ]
    },
    {
      "cell_type": "markdown",
      "id": "ea669d10",
      "metadata": {
        "id": "ea669d10"
      },
      "source": [
        "Самая популярная платформа - `PS4`. На общие продажи сильно влияют выбросы особенно на `PS4`. Наибольшее медианной значение по продажам у `PS4`, а наименьшее у `PC`"
      ]
    },
    {
      "cell_type": "markdown",
      "id": "82f8bb11",
      "metadata": {
        "id": "82f8bb11"
      },
      "source": [
        "### Зависимость продаж от оценок критиков и пользователей"
      ]
    },
    {
      "cell_type": "code",
      "execution_count": null,
      "id": "689a2aad",
      "metadata": {
        "id": "689a2aad"
      },
      "outputs": [],
      "source": [
        "df_PS4 = df.query('platform == \"PS4\"')\n",
        "df_PC = df.query('platform == \"PC\"')\n",
        "df_XOne = df.query('platform == \"XOne\"')\n",
        "df_3DS = df.query('platform == \"3DS\"')\n",
        "df_wiiu = df.query('platform == \"WiiU\"')"
      ]
    },
    {
      "cell_type": "code",
      "execution_count": null,
      "id": "383d6efe",
      "metadata": {
        "id": "383d6efe",
        "outputId": "2b72aa20-e3ff-4f86-afba-20835e39ba76"
      },
      "outputs": [
        {
          "data": {
            "text/plain": [
              "0.41"
            ]
          },
          "execution_count": 42,
          "metadata": {},
          "output_type": "execute_result"
        }
      ],
      "source": [
        "df_PS4['total_sales'].corr(df_PS4['critic_score']).round(2)"
      ]
    },
    {
      "cell_type": "code",
      "execution_count": null,
      "id": "4cd643b8",
      "metadata": {
        "id": "4cd643b8",
        "outputId": "9bd4eddb-0773-4e4d-a265-3c2e386cc225"
      },
      "outputs": [
        {
          "data": {
            "text/plain": [
              "0.26"
            ]
          },
          "execution_count": 43,
          "metadata": {},
          "output_type": "execute_result"
        }
      ],
      "source": [
        "df_PC['total_sales'].corr(df_PC['critic_score']).round(2)"
      ]
    },
    {
      "cell_type": "code",
      "execution_count": null,
      "id": "e7f7b2de",
      "metadata": {
        "id": "e7f7b2de",
        "outputId": "17cefeea-1fc3-4cc5-d14c-344bf5fa9a0a"
      },
      "outputs": [
        {
          "data": {
            "text/plain": [
              "0.42"
            ]
          },
          "execution_count": 44,
          "metadata": {},
          "output_type": "execute_result"
        }
      ],
      "source": [
        "df_XOne['total_sales'].corr(df_XOne['critic_score']).round(2)"
      ]
    },
    {
      "cell_type": "code",
      "execution_count": null,
      "id": "66410c74",
      "metadata": {
        "id": "66410c74",
        "outputId": "6492842e-239c-4276-f43d-3d973dd3fbd9"
      },
      "outputs": [
        {
          "data": {
            "text/plain": [
              "0.35"
            ]
          },
          "execution_count": 45,
          "metadata": {},
          "output_type": "execute_result"
        }
      ],
      "source": [
        "df_3DS['total_sales'].corr(df_3DS['critic_score']).round(2)"
      ]
    },
    {
      "cell_type": "code",
      "execution_count": null,
      "id": "b2a0d523",
      "metadata": {
        "id": "b2a0d523",
        "outputId": "7a95282c-a077-4143-e6fa-4ecd53005b21"
      },
      "outputs": [
        {
          "data": {
            "text/plain": [
              "0.35"
            ]
          },
          "execution_count": 46,
          "metadata": {},
          "output_type": "execute_result"
        }
      ],
      "source": [
        "df_wiiu['total_sales'].corr(df_wiiu['critic_score']).round(2)"
      ]
    },
    {
      "cell_type": "code",
      "execution_count": null,
      "id": "96e476e5",
      "metadata": {
        "id": "96e476e5",
        "outputId": "98583d4a-134a-40f5-e012-a93f33c535f5"
      },
      "outputs": [
        {
          "data": {
            "image/png": "[encoded data removed]",
            "text/plain": [
              "<Figure size 648x432 with 1 Axes>"
            ]
          },
          "metadata": {
            "needs_background": "light"
          },
          "output_type": "display_data"
        }
      ],
      "source": [
        "sns.scatterplot(data=df_PS4, x='critic_score', y='total_sales');\n",
        "sns.scatterplot(data=df_PC, x='critic_score', y='total_sales');\n",
        "sns.scatterplot(data=df_XOne, x='critic_score', y='total_sales');\n",
        "sns.scatterplot(data=df_3DS, x='critic_score', y='total_sales');\n",
        "sns.scatterplot(data=df_wiiu, x='critic_score', y='total_sales');\n",
        "plt.title('Зависимость продаж от оценки критиков');\n",
        "plt.xlabel('Оценка критиков');\n",
        "plt.ylabel('Суммарные продажи');\n",
        "plt.legend(['PS4', 'PC', 'XOne', '3DS', 'WiiU']);"
      ]
    },
    {
      "cell_type": "code",
      "execution_count": null,
      "id": "764fbb76",
      "metadata": {
        "id": "764fbb76",
        "outputId": "4791bbeb-0220-4d95-b257-3674f1db521d"
      },
      "outputs": [
        {
          "data": {
            "image/png": "[encoded data removed]",
            "text/plain": [
              "<Figure size 648x432 with 1 Axes>"
            ]
          },
          "metadata": {
            "needs_background": "light"
          },
          "output_type": "display_data"
        }
      ],
      "source": [
        "sns.scatterplot(data=df_PS4, x='user_score', y='total_sales');\n",
        "sns.scatterplot(data=df_PC, x='user_score', y='total_sales');\n",
        "sns.scatterplot(data=df_XOne, x='user_score', y='total_sales');\n",
        "sns.scatterplot(data=df_3DS, x='user_score', y='total_sales');\n",
        "sns.scatterplot(data=df_wiiu, x='user_score', y='total_sales');\n",
        "plt.title('Зависимость продаж от оценки пользователей');\n",
        "plt.xlabel('Оценка пользователей');\n",
        "plt.ylabel('Суммарные продажи');\n",
        "plt.legend(['PS4', 'PC', 'XOne', '3DS', 'WiiU']);"
      ]
    },
    {
      "cell_type": "code",
      "execution_count": null,
      "id": "f4822c3b",
      "metadata": {
        "id": "f4822c3b",
        "outputId": "db848cfc-3767-4683-d62e-29a44bf544e4"
      },
      "outputs": [
        {
          "data": {
            "text/plain": [
              "-0.03"
            ]
          },
          "execution_count": 49,
          "metadata": {},
          "output_type": "execute_result"
        }
      ],
      "source": [
        "df_PS4['total_sales'].corr(df_PS4['user_score']).round(2)"
      ]
    },
    {
      "cell_type": "code",
      "execution_count": null,
      "id": "419ad885",
      "metadata": {
        "id": "419ad885",
        "outputId": "873bf9c5-89fa-4d08-e2d6-70f5ed895be9"
      },
      "outputs": [
        {
          "data": {
            "text/plain": [
              "0.01"
            ]
          },
          "execution_count": 50,
          "metadata": {},
          "output_type": "execute_result"
        }
      ],
      "source": [
        "df_PC['total_sales'].corr(df_PC['user_score']).round(2)"
      ]
    },
    {
      "cell_type": "code",
      "execution_count": null,
      "id": "85457867",
      "metadata": {
        "id": "85457867",
        "outputId": "b5a144f3-ab77-4053-8987-76c5d61288b8"
      },
      "outputs": [
        {
          "data": {
            "text/plain": [
              "-0.07"
            ]
          },
          "execution_count": 51,
          "metadata": {},
          "output_type": "execute_result"
        }
      ],
      "source": [
        "df_XOne['total_sales'].corr(df_XOne['user_score']).round(2)"
      ]
    },
    {
      "cell_type": "code",
      "execution_count": null,
      "id": "ab0d4623",
      "metadata": {
        "id": "ab0d4623",
        "outputId": "af9e14ca-51e6-4858-c4c7-ef0033764c29"
      },
      "outputs": [
        {
          "data": {
            "text/plain": [
              "0.22"
            ]
          },
          "execution_count": 52,
          "metadata": {},
          "output_type": "execute_result"
        }
      ],
      "source": [
        "df_3DS['total_sales'].corr(df_3DS['user_score']).round(2)"
      ]
    },
    {
      "cell_type": "code",
      "execution_count": null,
      "id": "bcb5ad64",
      "metadata": {
        "id": "bcb5ad64",
        "outputId": "3de7f265-4c85-4599-ec85-bec0e4468e41"
      },
      "outputs": [
        {
          "data": {
            "text/plain": [
              "0.4"
            ]
          },
          "execution_count": 53,
          "metadata": {},
          "output_type": "execute_result"
        }
      ],
      "source": [
        "df_wiiu['total_sales'].corr(df_wiiu['user_score']).round(2)"
      ]
    },
    {
      "cell_type": "markdown",
      "id": "5c34fbf7",
      "metadata": {
        "id": "5c34fbf7"
      },
      "source": [
        "<b>Вывод:\n",
        "\n",
        "Присутствует небольшая зависимость общих продаж от оценки критиков, чем выше оценка, тем больше продаж. Общие продажи в целом не зависят от оценки пользователей, но для платформ `3DS` и `WiiU` наблюдается слабая прямая зависимость."
      ]
    },
    {
      "cell_type": "markdown",
      "id": "5a816eb6",
      "metadata": {
        "id": "5a816eb6"
      },
      "source": [
        "### Общее распределение игр по жанрам"
      ]
    },
    {
      "cell_type": "markdown",
      "id": "d069d982",
      "metadata": {
        "id": "d069d982"
      },
      "source": [
        "Распределение по жанрам"
      ]
    },
    {
      "cell_type": "code",
      "execution_count": null,
      "id": "4d0daf2f",
      "metadata": {
        "id": "4d0daf2f"
      },
      "outputs": [],
      "source": [
        "df_genre = df.groupby('genre')['genre'].count().sort_values(ascending=False)"
      ]
    },
    {
      "cell_type": "code",
      "execution_count": null,
      "id": "eba08a71",
      "metadata": {
        "id": "eba08a71",
        "outputId": "1fcd8766-ae91-4d8a-f1eb-8fa61ca5fb97"
      },
      "outputs": [
        {
          "data": {
            "image/png": "[encoded data removed]",
            "text/plain": [
              "<Figure size 648x432 with 1 Axes>"
            ]
          },
          "metadata": {},
          "output_type": "display_data"
        }
      ],
      "source": [
        "plt.pie(x=df_genre, labels=df_genre.index, autopct='%.1f%%');"
      ]
    },
    {
      "cell_type": "markdown",
      "id": "a56efbe0",
      "metadata": {
        "id": "a56efbe0"
      },
      "source": [
        "Распределение по продажам"
      ]
    },
    {
      "cell_type": "code",
      "execution_count": null,
      "id": "0005fb1a",
      "metadata": {
        "id": "0005fb1a"
      },
      "outputs": [],
      "source": [
        "df_total_sales = df.groupby('genre')['total_sales'].mean().sort_values(ascending=False)"
      ]
    },
    {
      "cell_type": "code",
      "execution_count": null,
      "id": "d5cde852",
      "metadata": {
        "id": "d5cde852",
        "outputId": "91a0625a-76b4-4712-fd9b-64a2f504bffc"
      },
      "outputs": [
        {
          "data": {
            "image/png": "[encoded data removed]",
            "text/plain": [
              "<Figure size 648x432 with 1 Axes>"
            ]
          },
          "metadata": {},
          "output_type": "display_data"
        }
      ],
      "source": [
        "plt.pie(x=df_total_sales, labels=df_genre.index, autopct='%.1f%%');"
      ]
    },
    {
      "cell_type": "code",
      "execution_count": null,
      "id": "8212d933",
      "metadata": {
        "id": "8212d933",
        "outputId": "32c43c97-6621-4d59-c1ab-67cfffdfae5f"
      },
      "outputs": [
        {
          "data": {
            "image/png": "[encoded data removed]",
            "text/plain": [
              "<Figure size 936x576 with 1 Axes>"
            ]
          },
          "metadata": {
            "needs_background": "light"
          },
          "output_type": "display_data"
        }
      ],
      "source": [
        "df = df.query('year_of_release >= 2014')\n",
        "plt.figure(figsize=(13, 8))\n",
        "(sns.boxplot(data = df, y = 'total_sales', x='genre')\n",
        "    .set(title = 'Продажи по жанрам за 2014-2016 гг', xlabel = 'Платформы', ylabel = 'Общие продажи', ylim=(0, 3)))\n",
        "\n",
        "plt.show()"
      ]
    },
    {
      "cell_type": "markdown",
      "id": "f0d9b788",
      "metadata": {
        "id": "f0d9b788"
      },
      "source": [
        "<b>Вывод:\n",
        "    \n",
        "Больше всего выпускается игр в жанре `Action`, они имеют и самые высокие продажи. В целом суммарные продажи пропорциональны количеству выпущенных игр."
      ]
    },
    {
      "cell_type": "markdown",
      "id": "63186141",
      "metadata": {
        "id": "63186141"
      },
      "source": [
        "# Шаг 4. Составьте портрет пользователя каждого региона"
      ]
    },
    {
      "cell_type": "code",
      "execution_count": null,
      "id": "e5da9dbb",
      "metadata": {
        "id": "e5da9dbb"
      },
      "outputs": [],
      "source": [
        "df_top_genre = df.query('year_of_release >= 2010') \\\n",
        "                    .groupby('genre')[['na_sales', 'eu_sales', 'jp_sales']] \\\n",
        "                    .agg('sum') \\\n",
        "                    .apply(lambda x: round((x / x.sum()), 2))"
      ]
    },
    {
      "cell_type": "code",
      "execution_count": null,
      "id": "5d220d88",
      "metadata": {
        "id": "5d220d88"
      },
      "outputs": [],
      "source": [
        "df_top_platform = df.query('year_of_release >= 2010') \\\n",
        "                    .groupby('platform')[['na_sales', 'eu_sales', 'jp_sales']] \\\n",
        "                    .agg('sum') \\\n",
        "                    .apply(lambda x: round((x / x.sum()), 2))"
      ]
    },
    {
      "cell_type": "code",
      "execution_count": null,
      "id": "5cf383e2",
      "metadata": {
        "id": "5cf383e2"
      },
      "outputs": [],
      "source": [
        "df_top_genre_na_sales = pd.DataFrame(df_top_genre['na_sales'].sort_values(ascending=False).head(5))\n",
        "df_top_genre_eu_sales = pd.DataFrame(df_top_genre['eu_sales'].sort_values(ascending=False).head(5))\n",
        "df_top_genre_jp_sales = pd.DataFrame(df_top_genre['jp_sales'].sort_values(ascending=False).head(5))"
      ]
    },
    {
      "cell_type": "code",
      "execution_count": null,
      "id": "a07e1dc1",
      "metadata": {
        "id": "a07e1dc1"
      },
      "outputs": [],
      "source": [
        "df_top_platform_na_sales = pd.DataFrame(df_top_platform['na_sales'].sort_values(ascending=False).head(5))\n",
        "df_top_platform_eu_sales = pd.DataFrame(df_top_platform['eu_sales'].sort_values(ascending=False).head(5))\n",
        "df_top_platform_jp_sales = pd.DataFrame(df_top_platform['jp_sales'].sort_values(ascending=False).head(5))"
      ]
    },
    {
      "cell_type": "code",
      "execution_count": null,
      "id": "0ff19d4e",
      "metadata": {
        "scrolled": false,
        "id": "0ff19d4e",
        "outputId": "02fb20fd-f0d9-4e1a-b6b1-3d15dd6f4082"
      },
      "outputs": [
        {
          "data": {
            "image/png": "[encoded data removed]",
            "text/plain": [
              "<Figure size 648x432 with 1 Axes>"
            ]
          },
          "metadata": {
            "needs_background": "light"
          },
          "output_type": "display_data"
        }
      ],
      "source": [
        "sns.barplot(data=df_top_genre_na_sales, x=df_top_genre_na_sales.index, y=df_top_genre_na_sales['na_sales']);\n",
        "plt.title('Распределение по жанрам в Северной Америке');\n",
        "plt.xlabel('Жанр');\n",
        "plt.ylabel('Доля от общих продаж');"
      ]
    },
    {
      "cell_type": "code",
      "execution_count": null,
      "id": "06a47478",
      "metadata": {
        "id": "06a47478",
        "outputId": "aa26c94b-35f2-44ad-dac8-5bf2fe0ab1cd"
      },
      "outputs": [
        {
          "data": {
            "image/png": "[encoded data removed]",
            "text/plain": [
              "<Figure size 648x432 with 1 Axes>"
            ]
          },
          "metadata": {
            "needs_background": "light"
          },
          "output_type": "display_data"
        }
      ],
      "source": [
        "sns.barplot(data=df_top_genre_eu_sales, x=df_top_genre_eu_sales.index, y=df_top_genre_eu_sales['eu_sales']);\n",
        "plt.title('Распределение по жанрам в Европе');\n",
        "plt.xlabel('Жанр');\n",
        "plt.ylabel('Доля от общих продаж');"
      ]
    },
    {
      "cell_type": "code",
      "execution_count": null,
      "id": "23f3235c",
      "metadata": {
        "id": "23f3235c",
        "outputId": "b0699ae2-3a7a-492d-e649-4f3e71470e87"
      },
      "outputs": [
        {
          "data": {
            "image/png": "[encoded data removed]",
            "text/plain": [
              "<Figure size 648x432 with 1 Axes>"
            ]
          },
          "metadata": {
            "needs_background": "light"
          },
          "output_type": "display_data"
        }
      ],
      "source": [
        "sns.barplot(data=df_top_genre_jp_sales, x=df_top_genre_jp_sales.index, y=df_top_genre_jp_sales['jp_sales']);\n",
        "plt.title('Распределение по жанрам в Японии');\n",
        "plt.xlabel('Жанр');\n",
        "plt.ylabel('Доля от общих продаж');"
      ]
    },
    {
      "cell_type": "code",
      "execution_count": null,
      "id": "df70e3ba",
      "metadata": {
        "id": "df70e3ba",
        "outputId": "f5fd3afb-3a30-4676-9bda-03f387ed3637"
      },
      "outputs": [
        {
          "data": {
            "image/png": "[encoded data removed]",
            "text/plain": [
              "<Figure size 648x432 with 1 Axes>"
            ]
          },
          "metadata": {
            "needs_background": "light"
          },
          "output_type": "display_data"
        }
      ],
      "source": [
        "sns.barplot(data=df_top_platform_na_sales, x=df_top_platform_na_sales.index, y=df_top_platform_na_sales['na_sales']);\n",
        "plt.title('Распределение по платформам в Северной Америке');\n",
        "plt.xlabel('Платформа');\n",
        "plt.ylabel('Доля от общих продаж');"
      ]
    },
    {
      "cell_type": "code",
      "execution_count": null,
      "id": "2fca230b",
      "metadata": {
        "id": "2fca230b",
        "outputId": "afdf1b18-ed9d-4608-f029-4931b95b412f"
      },
      "outputs": [
        {
          "data": {
            "image/png": "[encoded data removed]",
            "text/plain": [
              "<Figure size 648x432 with 1 Axes>"
            ]
          },
          "metadata": {
            "needs_background": "light"
          },
          "output_type": "display_data"
        }
      ],
      "source": [
        "sns.barplot(data=df_top_platform_eu_sales, x=df_top_platform_eu_sales.index, y=df_top_platform_eu_sales['eu_sales']);\n",
        "plt.title('Распределение по платформам в Европе');\n",
        "plt.xlabel('Платформа');\n",
        "plt.ylabel('Доля от общих продаж');"
      ]
    },
    {
      "cell_type": "code",
      "execution_count": null,
      "id": "af7b2924",
      "metadata": {
        "id": "af7b2924",
        "outputId": "f9608ead-0e08-4e27-f263-767547d11a02"
      },
      "outputs": [
        {
          "data": {
            "image/png": "[encoded data removed]",
            "text/plain": [
              "<Figure size 648x432 with 1 Axes>"
            ]
          },
          "metadata": {
            "needs_background": "light"
          },
          "output_type": "display_data"
        }
      ],
      "source": [
        "sns.barplot(data=df_top_platform_jp_sales, x=df_top_platform_jp_sales.index, y=df_top_platform_jp_sales['jp_sales']);\n",
        "plt.title('Распределение по платформам в Японии');\n",
        "plt.xlabel('Платформа');\n",
        "plt.ylabel('Доля от общих продаж');"
      ]
    },
    {
      "cell_type": "markdown",
      "id": "283853fc",
      "metadata": {
        "id": "283853fc"
      },
      "source": [
        "<b>Вывод:\n",
        "    \n",
        "Предпочтения по жанрам игр в Северной Америке и Европе совпадают, самыми популярными являются Action, Shooter и Sports. А вот в Японии популярны игры жанра Role-Playing и Action. Европейский и Северо-Американский рынки отражают глобальную тенденцию касаемо жанров. Отличие японоского рынка может быть обусловлено ментальностью игроков и развитого внутреннего рынка. В разрезе приставок в Северной Америке наиболее популярны XBox и PS3/PS4, в Европе аналогично, но большее предпочтение игроки отдают приставкам PS. В Японии же кроме PS популярны платформы серии DS."
      ]
    },
    {
      "cell_type": "code",
      "execution_count": null,
      "id": "952c8c0a",
      "metadata": {
        "id": "952c8c0a"
      },
      "outputs": [],
      "source": [
        "df_top_rating = df.query('year_of_release >= 2010') \\\n",
        "                    .groupby('rating')[['na_sales', 'eu_sales', 'jp_sales']] \\\n",
        "                    .agg('sum') \\\n",
        "                    .apply(lambda x: round((x / x.sum()), 2))"
      ]
    },
    {
      "cell_type": "code",
      "execution_count": null,
      "id": "50baf3f9",
      "metadata": {
        "scrolled": true,
        "id": "50baf3f9",
        "outputId": "984982ec-0dec-4b82-8621-1905d7e36782"
      },
      "outputs": [
        {
          "data": {
            "image/png": "[encoded data removed]",
            "text/plain": [
              "<Figure size 648x432 with 3 Axes>"
            ]
          },
          "metadata": {},
          "output_type": "display_data"
        }
      ],
      "source": [
        "df_top_rating_na = df_top_rating['na_sales'].sort_values(ascending=False).head(5)\n",
        "ax1 = plt.subplot(131)\n",
        "plt.pie(df_top_rating_na, labels=df_top_rating_na.index)\n",
        "ax1.set_title('Северная Америка', fontsize=15)\n",
        "\n",
        "df_top_rating_eu = df_top_rating['eu_sales'].sort_values(ascending=False).head(5)\n",
        "ax2 = plt.subplot(132)\n",
        "plt.pie(df_top_rating_eu, labels=df_top_rating_eu.index)\n",
        "ax2.set_title('Европа', fontsize=15)\n",
        "\n",
        "df_top_rating_jp = df_top_rating['jp_sales'].sort_values(ascending=False).head(5)\n",
        "ax3 = plt.subplot(133)\n",
        "plt.pie(df_top_rating_jp, labels=df_top_rating_jp.index)\n",
        "ax3.set_title('Япония', fontsize=15)\n",
        "plt.show()"
      ]
    },
    {
      "cell_type": "markdown",
      "id": "d802026c",
      "metadata": {
        "id": "d802026c"
      },
      "source": [
        "<b>Вывод:\n",
        "    \n",
        "В Северной Америке и Европе наиболее популярны возрастные группы М (для лиц старше 17 лет) и Е (для всех возрастов). В Японии же популярны категории Е (для всех возрастов) и Т (для лиц старше 13 лет). Возможно различия связаны с тем, что в СА и Европе более популярны игры жанра Action и Shooter в которых выше ограничения по возрасту, а в Японии популярен жанр RPG, где возрастные ограничения ниже или отсутствуют."
      ]
    },
    {
      "cell_type": "markdown",
      "id": "c8266e31",
      "metadata": {
        "id": "c8266e31"
      },
      "source": [
        "# Проверка гипотез"
      ]
    },
    {
      "cell_type": "markdown",
      "id": "17b0c24e",
      "metadata": {
        "id": "17b0c24e"
      },
      "source": [
        "### Средние пользовательские рейтинги платформ Xbox One и PC одинаковые"
      ]
    },
    {
      "cell_type": "markdown",
      "id": "0c378625",
      "metadata": {
        "id": "0c378625"
      },
      "source": [
        "<b>Проверим гипотезу:</b> \"Средние пользовательские рейтинги платформ Xbox One и PC одинаковые\".\n",
        "\n",
        "<b>Нулевая гипотеза H0:</b> \"Средний пользовательский рейтинг игр на платформе Xbox One равен среднему пользовательскому рейтингу на платформе PC\".\n",
        "\n",
        "<b>Альтернативная гипотеза H1:</b> \"Средний пользовательский рейтинг игр на платформе Xbox One не равна среднему пользовательскому рейтингу на платформе PC\".\n",
        "\n",
        "Определим уровень значимости `alpha` = 0.05\n",
        "\n",
        "Выборки оценок по платформам XOne и PC не связаны друг с другом. Для расчёта статистики разности и `p-value` воспользуемся критерием Стьюдента."
      ]
    },
    {
      "cell_type": "code",
      "execution_count": null,
      "id": "53fe244f",
      "metadata": {
        "id": "53fe244f"
      },
      "outputs": [],
      "source": [
        "df_pc_score = df.loc[(df['platform'] == 'PC') & (~df['user_score'].isna()) & (df['year_of_release'] >= 2014)]['user_score']"
      ]
    },
    {
      "cell_type": "code",
      "execution_count": null,
      "id": "55976585",
      "metadata": {
        "id": "55976585"
      },
      "outputs": [],
      "source": [
        "df_xbox_score = df.loc[(df['platform'] == 'XOne') & (~df['user_score'].isna()) & (df['year_of_release'] >= 2014)]['user_score']"
      ]
    },
    {
      "cell_type": "code",
      "execution_count": null,
      "id": "2aef9bfd",
      "metadata": {
        "id": "2aef9bfd"
      },
      "outputs": [],
      "source": [
        "results_platform = st.ttest_ind(df_pc_score, df_xbox_score)\n",
        "alpha = 0.05"
      ]
    },
    {
      "cell_type": "code",
      "execution_count": null,
      "id": "9da7cce3",
      "metadata": {
        "id": "9da7cce3",
        "outputId": "54d43800-d08a-42f2-d286-31819d6a17df"
      },
      "outputs": [
        {
          "name": "stdout",
          "output_type": "stream",
          "text": [
            "p-значение: 0.10450507919348415\n",
            "Не получилось отвергнуть нулевую гипотезу\n"
          ]
        }
      ],
      "source": [
        "print('p-значение:', results_platform.pvalue)\n",
        "if (results_platform.pvalue < alpha):\n",
        "    print('Отвергаем нулевую гипотезу')\n",
        "else:\n",
        "    print('Не получилось отвергнуть нулевую гипотезу')"
      ]
    },
    {
      "cell_type": "markdown",
      "id": "f8480afe",
      "metadata": {
        "id": "f8480afe"
      },
      "source": [
        "### Средние пользовательские рейтинги жанров Action  и Sports разные"
      ]
    },
    {
      "cell_type": "markdown",
      "id": "13ba1f78",
      "metadata": {
        "id": "13ba1f78"
      },
      "source": [
        "<b>Проверим гипотезу:</b> \"Средние пользовательские рейтинги жанров Action и Sports одинаковые\".\n",
        "\n",
        "<b>Нулевая гипотеза H0:</b> \"Средний пользовательский рейтинг жанра Action равен среднему пользовательскому рейтингу Sports\".\n",
        "\n",
        "<b>Альтернативная гипотеза H1:</b> \"Средний пользовательский рейтинг жанра Action не равна среднему пользовательскому рейтингу Sports\".\n",
        "\n",
        "Определим уровень значимости `alpha` = 0.05\n",
        "\n",
        "Выборки оценок по жанрам Action и Sports не связаны друг с другом. Для расчёта статистики разности и `p-value` воспользуемся критерием Стьюдента."
      ]
    },
    {
      "cell_type": "code",
      "execution_count": null,
      "id": "fca8ef3e",
      "metadata": {
        "id": "fca8ef3e"
      },
      "outputs": [],
      "source": [
        "df_action_score = df.loc[(df['genre'] == 'Action') & (~df['user_score'].isna()) & (df['year_of_release'] >= 2014)]['user_score']"
      ]
    },
    {
      "cell_type": "code",
      "execution_count": null,
      "id": "b0d217bc",
      "metadata": {
        "id": "b0d217bc"
      },
      "outputs": [],
      "source": [
        "df_sports_score = df.loc[(df['genre'] == 'Sports') & (~df['user_score'].isna()) & (df['year_of_release'] >= 2014)]['user_score']"
      ]
    },
    {
      "cell_type": "code",
      "execution_count": null,
      "id": "135effb0",
      "metadata": {
        "id": "135effb0"
      },
      "outputs": [],
      "source": [
        "results_genre = st.ttest_ind(df_action_score, df_sports_score)\n",
        "alpha = 0.05"
      ]
    },
    {
      "cell_type": "code",
      "execution_count": null,
      "id": "8e0136fa",
      "metadata": {
        "id": "8e0136fa",
        "outputId": "309b0abc-c16a-4407-924a-ce12876fa5de"
      },
      "outputs": [
        {
          "name": "stdout",
          "output_type": "stream",
          "text": [
            "p-значение: 2.8711147985105864e-19\n",
            "Отвергаем нулевую гипотезу\n"
          ]
        }
      ],
      "source": [
        "print('p-значение:', results_genre.pvalue)\n",
        "if (results_genre.pvalue < alpha):\n",
        "    print('Отвергаем нулевую гипотезу')\n",
        "else:\n",
        "    print('Не получилось отвергнуть нулевую гипотезу')"
      ]
    },
    {
      "cell_type": "markdown",
      "id": "3e860a35",
      "metadata": {
        "id": "3e860a35"
      },
      "source": [
        "# Вывод"
      ]
    },
    {
      "cell_type": "markdown",
      "id": "628b49ce",
      "metadata": {
        "id": "628b49ce"
      },
      "source": [
        "1. В рамках проекта была проведена предобработка данных. Обработаны и исследованы пропуски, в некоторых столбцах доля пропусков достигает 50% и более, эти столбцы оставлены без изменения. Возможные причины пропусков - отсутствие информации при сборе данных или сбой в системе при выгрузке таблицы из базы данных\n",
        "\n",
        "\n",
        "2. Первые игры начали появляться в 80-е, но до начала 00-х выпускались в небольших количествах. В 00-е произошёл бурный рост продаж, вероятно он связан с тем, что компьютеры и игровые приставки стали более достпуными и производительными. Сначала 10-х годов наблюдается спад, думаю это связано со сменой тренда. Производители переориентировались на мобильные устройства.\n",
        "\n",
        "\n",
        "3. Определен срок \"жизни\" игровых платформ, который составляет 5-8 лет. Выделена основные популярные платформы на 2016 год `PS4`, `3DS`, `XOne`, `WiiU`, `PC`. Выделен актуальный период для исследования игр с 2014 по 2016 год. Лидером по суммарным продажам является PS4.\n",
        "\n",
        "\n",
        "4. Между глобальными продажами и оценками критиков наблюдается небольшая корреляция. С другой стороны корреляции между продажами и оценкой пользователей не такая явная и наблюдается только для платформ `3DS` и `WiiU`.\n",
        "\n",
        "\n",
        "5. Рассмотрено влияние жанра игры на продажи. Самыми популярными и продаваемыми жанроми являются `Action`, `Sports` и `Misc`. Наименее продаваемыми являются жанры `Puzzle`, `Fighting` и `Strategy`.\n",
        "\n",
        "\n",
        "6. Найдены ТОП-5 платформ с максимальными долями продаж для Северной Америки, Европы и Японии. Для Европы и Северной Америки предпочтения в игровых платформах схожи. В ТОП-5 разные поколения `PS`, `Wii` и `Xbox`. В Японии же популярны `PS` и `DS`. Определены ТОП-5 жанров с максимальными долями продаж для Северной Америки, Европы и Японии. Для Европы и Северной Америки данные практически не отличаются `Action`, `Shooter`, `Sports`, `Role-Playing` и `Misc`. В Японии же популярны `Role-Playing`, `Action`, `Misc`, `Fighting` и `Adventure`. Скорре всего это связано с ментальностью игроков и наличие развитого внутреннего рынка.\n",
        "\n",
        "\n",
        "7. Проанализирована зависимость уровня продаж от рейтинга ESRB в каждом регионе. Для Европы и Северной Америки большинство игр покупают с рейтингом 'M' (17+) и 'Е' (без ограничений). Возможно это связано с запросом игроков на взрослый контент в играх и желанием компаний охватывать максимальное количество возрастных групп. В Японии большую часть игр покупают для детей и подростков категории 'E' и 'T'.\n",
        "\n",
        "\n",
        "8. Проверено 2 гипотезы.\n",
        "- Первая гипотеза: \"Средние пользовательские рейтинги платформ Xbox One и PC одинаковые\" подтвердилась.\n",
        "- Вторая гипотеза: \"Средние пользовательские рейтинги жанров Action и Sports одинаковые\" оказалась неверна."
      ]
    }
  ],
  "metadata": {
    "ExecuteTimeLog": [
      {
        "duration": 1589,
        "start_time": "2023-01-21T11:39:09.855Z"
      },
      {
        "duration": 266,
        "start_time": "2023-01-21T11:39:11.455Z"
      },
      {
        "duration": 45,
        "start_time": "2023-01-21T11:39:11.723Z"
      },
      {
        "duration": 19,
        "start_time": "2023-01-21T11:39:11.770Z"
      },
      {
        "duration": 10,
        "start_time": "2023-01-21T11:39:11.792Z"
      },
      {
        "duration": 5,
        "start_time": "2023-01-21T11:39:11.804Z"
      },
      {
        "duration": 16,
        "start_time": "2023-01-21T11:39:11.811Z"
      },
      {
        "duration": 18,
        "start_time": "2023-01-21T11:39:11.850Z"
      },
      {
        "duration": 10,
        "start_time": "2023-01-21T11:39:11.871Z"
      },
      {
        "duration": 19,
        "start_time": "2023-01-21T11:39:11.883Z"
      },
      {
        "duration": 6,
        "start_time": "2023-01-21T11:39:11.904Z"
      },
      {
        "duration": 358,
        "start_time": "2023-01-21T11:39:11.912Z"
      },
      {
        "duration": 21,
        "start_time": "2023-01-21T11:39:12.273Z"
      },
      {
        "duration": 4,
        "start_time": "2023-01-21T11:39:12.297Z"
      },
      {
        "duration": 7,
        "start_time": "2023-01-21T11:39:12.303Z"
      },
      {
        "duration": 43,
        "start_time": "2023-01-21T11:39:12.312Z"
      },
      {
        "duration": 10,
        "start_time": "2023-01-21T11:39:12.363Z"
      },
      {
        "duration": 44,
        "start_time": "2023-01-21T11:39:12.375Z"
      },
      {
        "duration": 10,
        "start_time": "2023-01-21T11:39:12.421Z"
      },
      {
        "duration": 11,
        "start_time": "2023-01-21T11:39:12.433Z"
      },
      {
        "duration": 31,
        "start_time": "2023-01-21T11:39:12.448Z"
      },
      {
        "duration": 6,
        "start_time": "2023-01-21T11:39:12.481Z"
      },
      {
        "duration": 7,
        "start_time": "2023-01-21T11:39:12.489Z"
      },
      {
        "duration": 11,
        "start_time": "2023-01-21T11:39:12.498Z"
      },
      {
        "duration": 3,
        "start_time": "2023-01-21T11:39:12.510Z"
      },
      {
        "duration": 7,
        "start_time": "2023-01-21T11:39:12.515Z"
      },
      {
        "duration": 31,
        "start_time": "2023-01-21T11:39:12.524Z"
      },
      {
        "duration": 252,
        "start_time": "2023-01-21T11:39:12.556Z"
      },
      {
        "duration": 7,
        "start_time": "2023-01-21T11:39:12.810Z"
      },
      {
        "duration": 5,
        "start_time": "2023-01-21T11:39:12.819Z"
      },
      {
        "duration": 42,
        "start_time": "2023-01-21T11:39:12.825Z"
      },
      {
        "duration": 14,
        "start_time": "2023-01-21T11:39:12.870Z"
      },
      {
        "duration": 641,
        "start_time": "2023-01-21T11:39:12.886Z"
      },
      {
        "duration": 6,
        "start_time": "2023-01-21T11:39:13.529Z"
      },
      {
        "duration": 438,
        "start_time": "2023-01-21T11:39:13.538Z"
      },
      {
        "duration": 3,
        "start_time": "2023-01-21T11:39:13.978Z"
      },
      {
        "duration": 17,
        "start_time": "2023-01-21T11:39:13.982Z"
      },
      {
        "duration": 13,
        "start_time": "2023-01-21T11:39:14.001Z"
      },
      {
        "duration": 255,
        "start_time": "2023-01-21T11:39:14.016Z"
      },
      {
        "duration": 293,
        "start_time": "2023-01-21T11:39:14.273Z"
      },
      {
        "duration": 15,
        "start_time": "2023-01-21T11:39:14.571Z"
      },
      {
        "duration": 15,
        "start_time": "2023-01-21T11:39:14.588Z"
      },
      {
        "duration": 26,
        "start_time": "2023-01-21T11:39:14.604Z"
      },
      {
        "duration": 32,
        "start_time": "2023-01-21T11:39:14.631Z"
      },
      {
        "duration": 12,
        "start_time": "2023-01-21T11:39:14.668Z"
      },
      {
        "duration": 20,
        "start_time": "2023-01-21T11:39:14.682Z"
      },
      {
        "duration": 360,
        "start_time": "2023-01-21T11:39:14.703Z"
      },
      {
        "duration": 347,
        "start_time": "2023-01-21T11:39:15.064Z"
      },
      {
        "duration": 5,
        "start_time": "2023-01-21T11:39:15.413Z"
      },
      {
        "duration": 25,
        "start_time": "2023-01-21T11:39:15.420Z"
      },
      {
        "duration": 18,
        "start_time": "2023-01-21T11:39:15.447Z"
      },
      {
        "duration": 8,
        "start_time": "2023-01-21T11:39:15.467Z"
      },
      {
        "duration": 6,
        "start_time": "2023-01-21T11:39:15.477Z"
      },
      {
        "duration": 11,
        "start_time": "2023-01-21T11:39:15.485Z"
      },
      {
        "duration": 190,
        "start_time": "2023-01-21T11:39:15.497Z"
      },
      {
        "duration": 6,
        "start_time": "2023-01-21T11:39:15.689Z"
      },
      {
        "duration": 184,
        "start_time": "2023-01-21T11:39:15.696Z"
      },
      {
        "duration": 12,
        "start_time": "2023-01-21T11:39:15.882Z"
      },
      {
        "duration": 11,
        "start_time": "2023-01-21T11:39:15.895Z"
      },
      {
        "duration": 6,
        "start_time": "2023-01-21T11:39:15.907Z"
      },
      {
        "duration": 44,
        "start_time": "2023-01-21T11:39:15.914Z"
      },
      {
        "duration": 161,
        "start_time": "2023-01-21T11:39:15.964Z"
      },
      {
        "duration": 156,
        "start_time": "2023-01-21T11:39:16.127Z"
      },
      {
        "duration": 179,
        "start_time": "2023-01-21T11:39:16.284Z"
      },
      {
        "duration": 159,
        "start_time": "2023-01-21T11:39:16.465Z"
      },
      {
        "duration": 168,
        "start_time": "2023-01-21T11:39:16.626Z"
      },
      {
        "duration": 183,
        "start_time": "2023-01-21T11:39:16.796Z"
      },
      {
        "duration": 11,
        "start_time": "2023-01-21T11:39:16.980Z"
      },
      {
        "duration": 355,
        "start_time": "2023-01-21T11:39:16.993Z"
      },
      {
        "duration": 9,
        "start_time": "2023-01-21T11:39:17.351Z"
      },
      {
        "duration": 28,
        "start_time": "2023-01-21T11:39:17.362Z"
      },
      {
        "duration": 7,
        "start_time": "2023-01-21T11:39:17.393Z"
      },
      {
        "duration": 7,
        "start_time": "2023-01-21T11:39:17.402Z"
      },
      {
        "duration": 11,
        "start_time": "2023-01-21T11:39:17.411Z"
      },
      {
        "duration": 7,
        "start_time": "2023-01-21T11:39:17.423Z"
      },
      {
        "duration": 10,
        "start_time": "2023-01-21T11:39:17.432Z"
      },
      {
        "duration": 31,
        "start_time": "2023-01-21T11:39:17.448Z"
      },
      {
        "duration": 1059,
        "start_time": "2023-01-21T12:32:29.449Z"
      },
      {
        "duration": 131,
        "start_time": "2023-01-21T12:32:30.509Z"
      },
      {
        "duration": 17,
        "start_time": "2023-01-21T12:32:30.642Z"
      },
      {
        "duration": 24,
        "start_time": "2023-01-21T12:32:30.661Z"
      },
      {
        "duration": 27,
        "start_time": "2023-01-21T12:32:30.686Z"
      },
      {
        "duration": 25,
        "start_time": "2023-01-21T12:32:30.714Z"
      },
      {
        "duration": 28,
        "start_time": "2023-01-21T12:32:30.741Z"
      },
      {
        "duration": 29,
        "start_time": "2023-01-21T12:32:30.771Z"
      },
      {
        "duration": 32,
        "start_time": "2023-01-21T12:32:30.802Z"
      },
      {
        "duration": 23,
        "start_time": "2023-01-21T12:32:30.838Z"
      },
      {
        "duration": 21,
        "start_time": "2023-01-21T12:32:30.862Z"
      },
      {
        "duration": 309,
        "start_time": "2023-01-21T12:32:30.885Z"
      },
      {
        "duration": 15,
        "start_time": "2023-01-21T12:32:31.196Z"
      },
      {
        "duration": 21,
        "start_time": "2023-01-21T12:32:31.213Z"
      },
      {
        "duration": 30,
        "start_time": "2023-01-21T12:32:31.235Z"
      },
      {
        "duration": 49,
        "start_time": "2023-01-21T12:32:31.266Z"
      },
      {
        "duration": 29,
        "start_time": "2023-01-21T12:32:31.317Z"
      },
      {
        "duration": 33,
        "start_time": "2023-01-21T12:32:31.347Z"
      },
      {
        "duration": 10,
        "start_time": "2023-01-21T12:32:31.382Z"
      },
      {
        "duration": 8,
        "start_time": "2023-01-21T12:32:31.393Z"
      },
      {
        "duration": 17,
        "start_time": "2023-01-21T12:32:31.402Z"
      },
      {
        "duration": 12,
        "start_time": "2023-01-21T12:32:31.420Z"
      },
      {
        "duration": 33,
        "start_time": "2023-01-21T12:32:31.433Z"
      },
      {
        "duration": 12,
        "start_time": "2023-01-21T12:32:31.468Z"
      },
      {
        "duration": 12,
        "start_time": "2023-01-21T12:32:31.481Z"
      },
      {
        "duration": 9,
        "start_time": "2023-01-21T12:32:31.495Z"
      },
      {
        "duration": 43,
        "start_time": "2023-01-21T12:32:31.505Z"
      },
      {
        "duration": 208,
        "start_time": "2023-01-21T12:32:31.552Z"
      },
      {
        "duration": 6,
        "start_time": "2023-01-21T12:32:31.762Z"
      },
      {
        "duration": 18,
        "start_time": "2023-01-21T12:32:31.769Z"
      },
      {
        "duration": 27,
        "start_time": "2023-01-21T12:32:31.788Z"
      },
      {
        "duration": 8,
        "start_time": "2023-01-21T12:32:31.817Z"
      },
      {
        "duration": 519,
        "start_time": "2023-01-21T12:32:31.827Z"
      },
      {
        "duration": 5,
        "start_time": "2023-01-21T12:32:32.347Z"
      },
      {
        "duration": 362,
        "start_time": "2023-01-21T12:32:32.353Z"
      },
      {
        "duration": 3,
        "start_time": "2023-01-21T12:32:32.716Z"
      },
      {
        "duration": 10,
        "start_time": "2023-01-21T12:32:32.721Z"
      },
      {
        "duration": 16,
        "start_time": "2023-01-21T12:32:32.732Z"
      },
      {
        "duration": 198,
        "start_time": "2023-01-21T12:32:32.749Z"
      },
      {
        "duration": 230,
        "start_time": "2023-01-21T12:32:32.948Z"
      },
      {
        "duration": 18,
        "start_time": "2023-01-21T12:32:33.179Z"
      },
      {
        "duration": 4,
        "start_time": "2023-01-21T12:32:33.199Z"
      },
      {
        "duration": 10,
        "start_time": "2023-01-21T12:32:33.204Z"
      },
      {
        "duration": 11,
        "start_time": "2023-01-21T12:32:33.215Z"
      },
      {
        "duration": 8,
        "start_time": "2023-01-21T12:32:33.227Z"
      },
      {
        "duration": 5,
        "start_time": "2023-01-21T12:32:33.237Z"
      },
      {
        "duration": 303,
        "start_time": "2023-01-21T12:32:33.243Z"
      },
      {
        "duration": 295,
        "start_time": "2023-01-21T12:32:33.547Z"
      },
      {
        "duration": 4,
        "start_time": "2023-01-21T12:32:33.844Z"
      },
      {
        "duration": 10,
        "start_time": "2023-01-21T12:32:33.849Z"
      },
      {
        "duration": 5,
        "start_time": "2023-01-21T12:32:33.861Z"
      },
      {
        "duration": 5,
        "start_time": "2023-01-21T12:32:33.867Z"
      },
      {
        "duration": 23,
        "start_time": "2023-01-21T12:32:33.874Z"
      },
      {
        "duration": 6,
        "start_time": "2023-01-21T12:32:33.899Z"
      },
      {
        "duration": 182,
        "start_time": "2023-01-21T12:32:33.907Z"
      },
      {
        "duration": 6,
        "start_time": "2023-01-21T12:32:34.093Z"
      },
      {
        "duration": 192,
        "start_time": "2023-01-21T12:32:34.101Z"
      },
      {
        "duration": 11,
        "start_time": "2023-01-21T12:32:34.295Z"
      },
      {
        "duration": 10,
        "start_time": "2023-01-21T12:32:34.307Z"
      },
      {
        "duration": 23,
        "start_time": "2023-01-21T12:32:34.318Z"
      },
      {
        "duration": 10,
        "start_time": "2023-01-21T12:32:34.343Z"
      },
      {
        "duration": 136,
        "start_time": "2023-01-21T12:32:34.355Z"
      },
      {
        "duration": 127,
        "start_time": "2023-01-21T12:32:34.493Z"
      },
      {
        "duration": 151,
        "start_time": "2023-01-21T12:32:34.622Z"
      },
      {
        "duration": 134,
        "start_time": "2023-01-21T12:32:34.775Z"
      },
      {
        "duration": 132,
        "start_time": "2023-01-21T12:32:34.910Z"
      },
      {
        "duration": 145,
        "start_time": "2023-01-21T12:32:35.044Z"
      },
      {
        "duration": 12,
        "start_time": "2023-01-21T12:32:35.190Z"
      },
      {
        "duration": 270,
        "start_time": "2023-01-21T12:32:35.203Z"
      },
      {
        "duration": 6,
        "start_time": "2023-01-21T12:32:35.475Z"
      },
      {
        "duration": 13,
        "start_time": "2023-01-21T12:32:35.482Z"
      },
      {
        "duration": 3,
        "start_time": "2023-01-21T12:32:35.496Z"
      },
      {
        "duration": 9,
        "start_time": "2023-01-21T12:32:35.501Z"
      },
      {
        "duration": 9,
        "start_time": "2023-01-21T12:32:35.511Z"
      },
      {
        "duration": 6,
        "start_time": "2023-01-21T12:32:35.521Z"
      },
      {
        "duration": 15,
        "start_time": "2023-01-21T12:32:35.528Z"
      },
      {
        "duration": 7,
        "start_time": "2023-01-21T12:32:35.545Z"
      },
      {
        "duration": 221,
        "start_time": "2023-01-21T12:37:51.785Z"
      },
      {
        "duration": 448,
        "start_time": "2023-01-21T12:38:39.434Z"
      },
      {
        "duration": 357,
        "start_time": "2023-01-21T12:38:53.841Z"
      },
      {
        "duration": 4,
        "start_time": "2023-01-21T12:40:44.473Z"
      },
      {
        "duration": 153,
        "start_time": "2023-01-21T12:40:46.016Z"
      },
      {
        "duration": 5,
        "start_time": "2023-01-21T12:40:56.648Z"
      },
      {
        "duration": 146,
        "start_time": "2023-01-21T12:40:57.901Z"
      }
    ],
    "kernelspec": {
      "display_name": "Python 3 (ipykernel)",
      "language": "python",
      "name": "python3"
    },
    "language_info": {
      "codemirror_mode": {
        "name": "ipython",
        "version": 3
      },
      "file_extension": ".py",
      "mimetype": "text/x-python",
      "name": "python",
      "nbconvert_exporter": "python",
      "pygments_lexer": "ipython3",
      "version": "3.9.5"
    },
    "toc": {
      "base_numbering": 1,
      "nav_menu": {},
      "number_sections": true,
      "sideBar": true,
      "skip_h1_title": true,
      "title_cell": "Table of Contents",
      "title_sidebar": "Contents",
      "toc_cell": false,
      "toc_position": {},
      "toc_section_display": true,
      "toc_window_display": false
    },
    "colab": {
      "provenance": []
    }
  },
  "nbformat": 4,
  "nbformat_minor": 5
}