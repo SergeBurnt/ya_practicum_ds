{
  "nbformat": 4,
  "nbformat_minor": 0,
  "metadata": {
    "colab": {
      "provenance": [],
      "gpuType": "T4",
      "authorship_tag": "ABX9TyNpmnIE0wTvKGO6DX4zopC3",
      "include_colab_link": true
    },
    "kernelspec": {
      "name": "python3",
      "display_name": "Python 3"
    },
    "language_info": {
      "name": "python"
    },
    "accelerator": "GPU"
  },
  "cells": [
    {
      "cell_type": "markdown",
      "metadata": {
        "id": "view-in-github",
        "colab_type": "text"
      },
      "source": [
        "<a href=\"https://colab.research.google.com/github/SergeBurnt/ya_practicum_ds/blob/main/Lesson_4_CNN/FC%2BCNN_classification_face.ipynb\" target=\"_parent\"><img src=\"https://colab.research.google.com/assets/colab-badge.svg\" alt=\"Open In Colab\"/></a>"
      ]
    },
    {
      "cell_type": "code",
      "execution_count": 1,
      "metadata": {
        "id": "AKuH_XQdYfGs",
        "colab": {
          "base_uri": "https://localhost:8080/"
        },
        "outputId": "04b56d9a-716d-4950-9888-403b49653d85"
      },
      "outputs": [
        {
          "output_type": "stream",
          "name": "stdout",
          "text": [
            "--2024-07-17 06:59:46--  https://data.vision.ee.ethz.ch/cvl/rrothe/imdb-wiki/static/imdb_crop.tar\n",
            "Resolving data.vision.ee.ethz.ch (data.vision.ee.ethz.ch)... 129.132.52.178, 2001:67c:10ec:36c2::178\n",
            "Connecting to data.vision.ee.ethz.ch (data.vision.ee.ethz.ch)|129.132.52.178|:443... connected.\n",
            "HTTP request sent, awaiting response... 200 OK\n",
            "Length: 7012157440 (6.5G) [application/x-tar]\n",
            "Saving to: ‘imdb_crop.tar’\n",
            "\n",
            "imdb_crop.tar       100%[===================>]   6.53G  5.02MB/s    in 12m 20s \n",
            "\n",
            "2024-07-17 07:12:07 (9.04 MB/s) - ‘imdb_crop.tar’ saved [7012157440/7012157440]\n",
            "\n"
          ]
        }
      ],
      "source": [
        "# !wget https://data.vision.ee.ethz.ch/cvl/rrothe/imdb-wiki/static/imdb_crop.tar\n",
        "# !tar xf imdb_crop.tar"
      ]
    },
    {
      "cell_type": "code",
      "source": [
        "import numpy as np\n",
        "import cv2\n",
        "import torch\n",
        "from albumentations.pytorch import ToTensorV2\n",
        "import albumentations as A\n",
        "from scipy.io import loadmat\n",
        "from torch.utils.data import Dataset\n",
        "import random\n",
        "import os\n",
        "from dataclasses import dataclass"
      ],
      "metadata": {
        "id": "BpxUMLiGfeK9"
      },
      "execution_count": 5,
      "outputs": []
    },
    {
      "cell_type": "code",
      "source": [
        "class ImdbWikiDataset(Dataset):\n",
        "    def __init__(self, image_size: int = 128):\n",
        "        imdb_dat = loadmat(\"imdb_crop/imdb.mat\")[\"imdb\"][0][0]\n",
        "        imdb_paths = [f\"imdb_crop/{path[0]}\" for path in imdb_dat[2][0]]\n",
        "        imdb_genders = imdb_dat[3][0]\n",
        "        bad_indices = set(np.where(np.isnan(imdb_genders))[0])\n",
        "        imdb_paths = [x for i, x in enumerate(imdb_paths) if i not in bad_indices]\n",
        "        imdb_genders = [int(x) for i, x in enumerate(imdb_genders) if i not in bad_indices]\n",
        "\n",
        "        self.paths = imdb_paths\n",
        "        self.labels = imdb_genders\n",
        "        self.transforms = A.Compose(\n",
        "            [\n",
        "                A.Resize(image_size,image_size),\n",
        "                A.HorizontalFlip(p=0.5),\n",
        "                A.ToFloat(max_value=255),\n",
        "                ToTensorV2()\n",
        "            ]\n",
        "        )\n",
        "\n",
        "        assert len(self.imdb_paths) == len(self.imdb_genders)\n",
        "\n",
        "    def __getitem__(self, index):\n",
        "        img_numpy = cv2.imread(self.paths[index])\n",
        "        img_tensor = self.transforms(image=img_numpy)[\"image\"]\n",
        "        label = self.labels[index]\n",
        "\n",
        "        return img_tensor, label\n",
        "\n",
        "    def __len__(self):\n",
        "        return len(self.paths)"
      ],
      "metadata": {
        "id": "9xsSnPc1gYKU"
      },
      "execution_count": 27,
      "outputs": []
    },
    {
      "cell_type": "code",
      "source": [
        "@dataclass\n",
        "class Config:\n",
        "    seed: int = 0\n",
        "\n",
        "    batch_size: int = 64\n",
        "    do_shuffle_train: bool = True\n",
        "    img_size: int = 128\n",
        "    ratio_train_val_test: tuple[float, float, float] = (0.8, 0.1, 0.1)\n",
        "\n",
        "    hidden_dim: int = 512\n",
        "    p_dropout: float = 0.3\n",
        "\n",
        "    n_epochs: int = 10\n",
        "    eval_every: int = 2000\n",
        "    lr: float = 1e-5"
      ],
      "metadata": {
        "id": "ljmK0h0bk7eI"
      },
      "execution_count": 29,
      "outputs": []
    },
    {
      "cell_type": "code",
      "source": [
        "def enable_determinism():\n",
        "    os.environ[\"CUBLAS_WORKSPACE_CONFIG\"] = \":4096:8\"\n",
        "    torch.use_deterministic_algorithms(True)\n",
        "\n",
        "def fix_seeds(seed: int):\n",
        "    np.random.seed(seed)\n",
        "    random.seed(seed)\n",
        "    torch.cuda.manual_seed(seed)\n",
        "    torch.manual_seed(seed)"
      ],
      "metadata": {
        "id": "nxkt310Kk8V5"
      },
      "execution_count": 34,
      "outputs": []
    },
    {
      "cell_type": "code",
      "source": [
        "config = Config()\n",
        "enable_determinism()\n",
        "fix_seeds(seed=config.seed)"
      ],
      "metadata": {
        "id": "bA58dfExk8n_"
      },
      "execution_count": 35,
      "outputs": []
    },
    {
      "cell_type": "code",
      "source": [],
      "metadata": {
        "id": "3m61vLjok8w3"
      },
      "execution_count": null,
      "outputs": []
    },
    {
      "cell_type": "code",
      "source": [],
      "metadata": {
        "id": "RQ6vL-eJk82W"
      },
      "execution_count": null,
      "outputs": []
    },
    {
      "cell_type": "code",
      "source": [
        ""
      ],
      "metadata": {
        "id": "PJK4FPmKk861"
      },
      "execution_count": null,
      "outputs": []
    }
  ]
}